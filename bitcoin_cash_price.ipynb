{
 "cells": [
  {
   "cell_type": "markdown",
   "metadata": {},
   "source": [
    "# Task 1 Massive Data Processing"
   ]
  },
  {
   "cell_type": "markdown",
   "metadata": {},
   "source": [
    "# Crypto Currency Price History"
   ]
  },
  {
   "cell_type": "code",
   "execution_count": 2,
   "metadata": {},
   "outputs": [],
   "source": [
    "import csv\n",
    "import pandas as pd\n",
    "import numpy as np"
   ]
  },
  {
   "cell_type": "code",
   "execution_count": 3,
   "metadata": {},
   "outputs": [],
   "source": [
    "df = pd.read_csv('data/raw/bitcoin_cash_price.csv')"
   ]
  },
  {
   "cell_type": "code",
   "execution_count": 4,
   "metadata": {},
   "outputs": [
    {
     "data": {
      "text/html": [
       "<div>\n",
       "<style scoped>\n",
       "    .dataframe tbody tr th:only-of-type {\n",
       "        vertical-align: middle;\n",
       "    }\n",
       "\n",
       "    .dataframe tbody tr th {\n",
       "        vertical-align: top;\n",
       "    }\n",
       "\n",
       "    .dataframe thead th {\n",
       "        text-align: right;\n",
       "    }\n",
       "</style>\n",
       "<table border=\"1\" class=\"dataframe\">\n",
       "  <thead>\n",
       "    <tr style=\"text-align: right;\">\n",
       "      <th></th>\n",
       "      <th>Date</th>\n",
       "      <th>Open</th>\n",
       "      <th>High</th>\n",
       "      <th>Low</th>\n",
       "      <th>Close</th>\n",
       "      <th>Volume</th>\n",
       "      <th>Market Cap</th>\n",
       "    </tr>\n",
       "  </thead>\n",
       "  <tbody>\n",
       "    <tr>\n",
       "      <th>0</th>\n",
       "      <td>Sep 05, 2017</td>\n",
       "      <td>514.90</td>\n",
       "      <td>550.95</td>\n",
       "      <td>458.78</td>\n",
       "      <td>541.71</td>\n",
       "      <td>338,978,000</td>\n",
       "      <td>8,527,100,000</td>\n",
       "    </tr>\n",
       "    <tr>\n",
       "      <th>1</th>\n",
       "      <td>Sep 04, 2017</td>\n",
       "      <td>608.26</td>\n",
       "      <td>608.26</td>\n",
       "      <td>500.75</td>\n",
       "      <td>517.24</td>\n",
       "      <td>328,957,000</td>\n",
       "      <td>10,072,200,000</td>\n",
       "    </tr>\n",
       "    <tr>\n",
       "      <th>2</th>\n",
       "      <td>Sep 03, 2017</td>\n",
       "      <td>578.27</td>\n",
       "      <td>617.41</td>\n",
       "      <td>563.59</td>\n",
       "      <td>607.43</td>\n",
       "      <td>344,862,000</td>\n",
       "      <td>9,574,520,000</td>\n",
       "    </tr>\n",
       "    <tr>\n",
       "      <th>3</th>\n",
       "      <td>Sep 02, 2017</td>\n",
       "      <td>621.96</td>\n",
       "      <td>642.05</td>\n",
       "      <td>560.58</td>\n",
       "      <td>575.90</td>\n",
       "      <td>350,478,000</td>\n",
       "      <td>10,297,000,000</td>\n",
       "    </tr>\n",
       "    <tr>\n",
       "      <th>4</th>\n",
       "      <td>Sep 01, 2017</td>\n",
       "      <td>588.40</td>\n",
       "      <td>645.52</td>\n",
       "      <td>586.73</td>\n",
       "      <td>622.17</td>\n",
       "      <td>393,839,000</td>\n",
       "      <td>9,740,460,000</td>\n",
       "    </tr>\n",
       "  </tbody>\n",
       "</table>\n",
       "</div>"
      ],
      "text/plain": [
       "           Date    Open    High     Low   Close       Volume      Market Cap\n",
       "0  Sep 05, 2017  514.90  550.95  458.78  541.71  338,978,000   8,527,100,000\n",
       "1  Sep 04, 2017  608.26  608.26  500.75  517.24  328,957,000  10,072,200,000\n",
       "2  Sep 03, 2017  578.27  617.41  563.59  607.43  344,862,000   9,574,520,000\n",
       "3  Sep 02, 2017  621.96  642.05  560.58  575.90  350,478,000  10,297,000,000\n",
       "4  Sep 01, 2017  588.40  645.52  586.73  622.17  393,839,000   9,740,460,000"
      ]
     },
     "execution_count": 4,
     "metadata": {},
     "output_type": "execute_result"
    }
   ],
   "source": [
    "df.head()"
   ]
  },
  {
   "cell_type": "code",
   "execution_count": 5,
   "metadata": {},
   "outputs": [
    {
     "data": {
      "text/html": [
       "<div>\n",
       "<style scoped>\n",
       "    .dataframe tbody tr th:only-of-type {\n",
       "        vertical-align: middle;\n",
       "    }\n",
       "\n",
       "    .dataframe tbody tr th {\n",
       "        vertical-align: top;\n",
       "    }\n",
       "\n",
       "    .dataframe thead th {\n",
       "        text-align: right;\n",
       "    }\n",
       "</style>\n",
       "<table border=\"1\" class=\"dataframe\">\n",
       "  <thead>\n",
       "    <tr style=\"text-align: right;\">\n",
       "      <th></th>\n",
       "      <th>Date</th>\n",
       "      <th>Open</th>\n",
       "      <th>High</th>\n",
       "      <th>Low</th>\n",
       "      <th>Close</th>\n",
       "      <th>Volume</th>\n",
       "      <th>Market Cap</th>\n",
       "    </tr>\n",
       "  </thead>\n",
       "  <tbody>\n",
       "    <tr>\n",
       "      <th>40</th>\n",
       "      <td>Jul 27, 2017</td>\n",
       "      <td>417.10</td>\n",
       "      <td>460.97</td>\n",
       "      <td>367.78</td>\n",
       "      <td>385.48</td>\n",
       "      <td>533,207</td>\n",
       "      <td>-</td>\n",
       "    </tr>\n",
       "    <tr>\n",
       "      <th>41</th>\n",
       "      <td>Jul 26, 2017</td>\n",
       "      <td>407.08</td>\n",
       "      <td>486.16</td>\n",
       "      <td>321.79</td>\n",
       "      <td>365.82</td>\n",
       "      <td>1,784,640</td>\n",
       "      <td>-</td>\n",
       "    </tr>\n",
       "    <tr>\n",
       "      <th>42</th>\n",
       "      <td>Jul 25, 2017</td>\n",
       "      <td>441.35</td>\n",
       "      <td>541.66</td>\n",
       "      <td>338.09</td>\n",
       "      <td>406.90</td>\n",
       "      <td>524,908</td>\n",
       "      <td>-</td>\n",
       "    </tr>\n",
       "    <tr>\n",
       "      <th>43</th>\n",
       "      <td>Jul 24, 2017</td>\n",
       "      <td>412.58</td>\n",
       "      <td>578.89</td>\n",
       "      <td>409.21</td>\n",
       "      <td>440.70</td>\n",
       "      <td>190,952</td>\n",
       "      <td>-</td>\n",
       "    </tr>\n",
       "    <tr>\n",
       "      <th>44</th>\n",
       "      <td>Jul 23, 2017</td>\n",
       "      <td>555.89</td>\n",
       "      <td>578.97</td>\n",
       "      <td>411.78</td>\n",
       "      <td>413.06</td>\n",
       "      <td>85,013</td>\n",
       "      <td>-</td>\n",
       "    </tr>\n",
       "  </tbody>\n",
       "</table>\n",
       "</div>"
      ],
      "text/plain": [
       "            Date    Open    High     Low   Close     Volume Market Cap\n",
       "40  Jul 27, 2017  417.10  460.97  367.78  385.48    533,207          -\n",
       "41  Jul 26, 2017  407.08  486.16  321.79  365.82  1,784,640          -\n",
       "42  Jul 25, 2017  441.35  541.66  338.09  406.90    524,908          -\n",
       "43  Jul 24, 2017  412.58  578.89  409.21  440.70    190,952          -\n",
       "44  Jul 23, 2017  555.89  578.97  411.78  413.06     85,013          -"
      ]
     },
     "execution_count": 5,
     "metadata": {},
     "output_type": "execute_result"
    }
   ],
   "source": [
    "df.tail()"
   ]
  },
  {
   "cell_type": "code",
   "execution_count": 6,
   "metadata": {},
   "outputs": [],
   "source": [
    "df['Volume'] = df['Volume'].apply(lambda x: float(str(x).replace(',',''))) \n",
    "df['Market Cap'] = df['Market Cap'].replace('-', 'NaN')\n",
    "df['Market Cap'] = df['Market Cap'].apply(lambda x: float(str(x).replace(',',''))) \n"
   ]
  },
  {
   "cell_type": "code",
   "execution_count": 7,
   "metadata": {},
   "outputs": [
    {
     "data": {
      "text/html": [
       "<div>\n",
       "<style scoped>\n",
       "    .dataframe tbody tr th:only-of-type {\n",
       "        vertical-align: middle;\n",
       "    }\n",
       "\n",
       "    .dataframe tbody tr th {\n",
       "        vertical-align: top;\n",
       "    }\n",
       "\n",
       "    .dataframe thead th {\n",
       "        text-align: right;\n",
       "    }\n",
       "</style>\n",
       "<table border=\"1\" class=\"dataframe\">\n",
       "  <thead>\n",
       "    <tr style=\"text-align: right;\">\n",
       "      <th></th>\n",
       "      <th>Date</th>\n",
       "      <th>Open</th>\n",
       "      <th>High</th>\n",
       "      <th>Low</th>\n",
       "      <th>Close</th>\n",
       "      <th>Volume</th>\n",
       "      <th>Market Cap</th>\n",
       "    </tr>\n",
       "  </thead>\n",
       "  <tbody>\n",
       "    <tr>\n",
       "      <th>40</th>\n",
       "      <td>Jul 27, 2017</td>\n",
       "      <td>417.10</td>\n",
       "      <td>460.97</td>\n",
       "      <td>367.78</td>\n",
       "      <td>385.48</td>\n",
       "      <td>533207.0</td>\n",
       "      <td>NaN</td>\n",
       "    </tr>\n",
       "    <tr>\n",
       "      <th>41</th>\n",
       "      <td>Jul 26, 2017</td>\n",
       "      <td>407.08</td>\n",
       "      <td>486.16</td>\n",
       "      <td>321.79</td>\n",
       "      <td>365.82</td>\n",
       "      <td>1784640.0</td>\n",
       "      <td>NaN</td>\n",
       "    </tr>\n",
       "    <tr>\n",
       "      <th>42</th>\n",
       "      <td>Jul 25, 2017</td>\n",
       "      <td>441.35</td>\n",
       "      <td>541.66</td>\n",
       "      <td>338.09</td>\n",
       "      <td>406.90</td>\n",
       "      <td>524908.0</td>\n",
       "      <td>NaN</td>\n",
       "    </tr>\n",
       "    <tr>\n",
       "      <th>43</th>\n",
       "      <td>Jul 24, 2017</td>\n",
       "      <td>412.58</td>\n",
       "      <td>578.89</td>\n",
       "      <td>409.21</td>\n",
       "      <td>440.70</td>\n",
       "      <td>190952.0</td>\n",
       "      <td>NaN</td>\n",
       "    </tr>\n",
       "    <tr>\n",
       "      <th>44</th>\n",
       "      <td>Jul 23, 2017</td>\n",
       "      <td>555.89</td>\n",
       "      <td>578.97</td>\n",
       "      <td>411.78</td>\n",
       "      <td>413.06</td>\n",
       "      <td>85013.0</td>\n",
       "      <td>NaN</td>\n",
       "    </tr>\n",
       "  </tbody>\n",
       "</table>\n",
       "</div>"
      ],
      "text/plain": [
       "            Date    Open    High     Low   Close     Volume  Market Cap\n",
       "40  Jul 27, 2017  417.10  460.97  367.78  385.48   533207.0         NaN\n",
       "41  Jul 26, 2017  407.08  486.16  321.79  365.82  1784640.0         NaN\n",
       "42  Jul 25, 2017  441.35  541.66  338.09  406.90   524908.0         NaN\n",
       "43  Jul 24, 2017  412.58  578.89  409.21  440.70   190952.0         NaN\n",
       "44  Jul 23, 2017  555.89  578.97  411.78  413.06    85013.0         NaN"
      ]
     },
     "execution_count": 7,
     "metadata": {},
     "output_type": "execute_result"
    }
   ],
   "source": [
    "df.tail()"
   ]
  },
  {
   "cell_type": "code",
   "execution_count": 8,
   "metadata": {},
   "outputs": [
    {
     "data": {
      "text/html": [
       "<div>\n",
       "<style scoped>\n",
       "    .dataframe tbody tr th:only-of-type {\n",
       "        vertical-align: middle;\n",
       "    }\n",
       "\n",
       "    .dataframe tbody tr th {\n",
       "        vertical-align: top;\n",
       "    }\n",
       "\n",
       "    .dataframe thead th {\n",
       "        text-align: right;\n",
       "    }\n",
       "</style>\n",
       "<table border=\"1\" class=\"dataframe\">\n",
       "  <thead>\n",
       "    <tr style=\"text-align: right;\">\n",
       "      <th></th>\n",
       "      <th>Date</th>\n",
       "      <th>Open</th>\n",
       "      <th>High</th>\n",
       "      <th>Low</th>\n",
       "      <th>Close</th>\n",
       "      <th>Volume</th>\n",
       "      <th>Market Cap</th>\n",
       "    </tr>\n",
       "  </thead>\n",
       "  <tbody>\n",
       "    <tr>\n",
       "      <th>0</th>\n",
       "      <td>Sep 05, 2017</td>\n",
       "      <td>514.90</td>\n",
       "      <td>550.95</td>\n",
       "      <td>458.78</td>\n",
       "      <td>541.71</td>\n",
       "      <td>338978000.0</td>\n",
       "      <td>8.527100e+09</td>\n",
       "    </tr>\n",
       "    <tr>\n",
       "      <th>1</th>\n",
       "      <td>Sep 04, 2017</td>\n",
       "      <td>608.26</td>\n",
       "      <td>608.26</td>\n",
       "      <td>500.75</td>\n",
       "      <td>517.24</td>\n",
       "      <td>328957000.0</td>\n",
       "      <td>1.007220e+10</td>\n",
       "    </tr>\n",
       "    <tr>\n",
       "      <th>2</th>\n",
       "      <td>Sep 03, 2017</td>\n",
       "      <td>578.27</td>\n",
       "      <td>617.41</td>\n",
       "      <td>563.59</td>\n",
       "      <td>607.43</td>\n",
       "      <td>344862000.0</td>\n",
       "      <td>9.574520e+09</td>\n",
       "    </tr>\n",
       "    <tr>\n",
       "      <th>3</th>\n",
       "      <td>Sep 02, 2017</td>\n",
       "      <td>621.96</td>\n",
       "      <td>642.05</td>\n",
       "      <td>560.58</td>\n",
       "      <td>575.90</td>\n",
       "      <td>350478000.0</td>\n",
       "      <td>1.029700e+10</td>\n",
       "    </tr>\n",
       "    <tr>\n",
       "      <th>4</th>\n",
       "      <td>Sep 01, 2017</td>\n",
       "      <td>588.40</td>\n",
       "      <td>645.52</td>\n",
       "      <td>586.73</td>\n",
       "      <td>622.17</td>\n",
       "      <td>393839000.0</td>\n",
       "      <td>9.740460e+09</td>\n",
       "    </tr>\n",
       "  </tbody>\n",
       "</table>\n",
       "</div>"
      ],
      "text/plain": [
       "           Date    Open    High     Low   Close       Volume    Market Cap\n",
       "0  Sep 05, 2017  514.90  550.95  458.78  541.71  338978000.0  8.527100e+09\n",
       "1  Sep 04, 2017  608.26  608.26  500.75  517.24  328957000.0  1.007220e+10\n",
       "2  Sep 03, 2017  578.27  617.41  563.59  607.43  344862000.0  9.574520e+09\n",
       "3  Sep 02, 2017  621.96  642.05  560.58  575.90  350478000.0  1.029700e+10\n",
       "4  Sep 01, 2017  588.40  645.52  586.73  622.17  393839000.0  9.740460e+09"
      ]
     },
     "execution_count": 8,
     "metadata": {},
     "output_type": "execute_result"
    }
   ],
   "source": [
    "df.head()"
   ]
  },
  {
   "cell_type": "code",
   "execution_count": 9,
   "metadata": {},
   "outputs": [
    {
     "data": {
      "text/plain": [
       "Date           object\n",
       "Open          float64\n",
       "High          float64\n",
       "Low           float64\n",
       "Close         float64\n",
       "Volume        float64\n",
       "Market Cap    float64\n",
       "dtype: object"
      ]
     },
     "execution_count": 9,
     "metadata": {},
     "output_type": "execute_result"
    }
   ],
   "source": [
    "df.dtypes"
   ]
  },
  {
   "cell_type": "code",
   "execution_count": 10,
   "metadata": {},
   "outputs": [
    {
     "data": {
      "text/plain": [
       "Date           0\n",
       "Open           0\n",
       "High           0\n",
       "Low            0\n",
       "Close          0\n",
       "Volume         0\n",
       "Market Cap    10\n",
       "dtype: int64"
      ]
     },
     "execution_count": 10,
     "metadata": {},
     "output_type": "execute_result"
    }
   ],
   "source": [
    "df.isnull().sum()"
   ]
  },
  {
   "cell_type": "markdown",
   "metadata": {},
   "source": [
    "There are some missing value in Market Cap coulumn, so here I try to interpolate the data, using data statistical for example median and mean"
   ]
  },
  {
   "cell_type": "code",
   "execution_count": 69,
   "metadata": {},
   "outputs": [],
   "source": [
    "# Replace using median \n",
    "median = df['Market Cap'].median()\n",
    "df['Market Cap'].fillna(median, inplace=True)"
   ]
  },
  {
   "cell_type": "code",
   "execution_count": 70,
   "metadata": {},
   "outputs": [
    {
     "data": {
      "text/html": [
       "<div>\n",
       "<style scoped>\n",
       "    .dataframe tbody tr th:only-of-type {\n",
       "        vertical-align: middle;\n",
       "    }\n",
       "\n",
       "    .dataframe tbody tr th {\n",
       "        vertical-align: top;\n",
       "    }\n",
       "\n",
       "    .dataframe thead th {\n",
       "        text-align: right;\n",
       "    }\n",
       "</style>\n",
       "<table border=\"1\" class=\"dataframe\">\n",
       "  <thead>\n",
       "    <tr style=\"text-align: right;\">\n",
       "      <th></th>\n",
       "      <th>Date</th>\n",
       "      <th>Open</th>\n",
       "      <th>High</th>\n",
       "      <th>Low</th>\n",
       "      <th>Close</th>\n",
       "      <th>Volume</th>\n",
       "      <th>Market Cap</th>\n",
       "    </tr>\n",
       "  </thead>\n",
       "  <tbody>\n",
       "    <tr>\n",
       "      <th>40</th>\n",
       "      <td>Jul 27, 2017</td>\n",
       "      <td>417.10</td>\n",
       "      <td>460.97</td>\n",
       "      <td>367.78</td>\n",
       "      <td>385.48</td>\n",
       "      <td>533207.0</td>\n",
       "      <td>8.527100e+09</td>\n",
       "    </tr>\n",
       "    <tr>\n",
       "      <th>41</th>\n",
       "      <td>Jul 26, 2017</td>\n",
       "      <td>407.08</td>\n",
       "      <td>486.16</td>\n",
       "      <td>321.79</td>\n",
       "      <td>365.82</td>\n",
       "      <td>1784640.0</td>\n",
       "      <td>8.527100e+09</td>\n",
       "    </tr>\n",
       "    <tr>\n",
       "      <th>42</th>\n",
       "      <td>Jul 25, 2017</td>\n",
       "      <td>441.35</td>\n",
       "      <td>541.66</td>\n",
       "      <td>338.09</td>\n",
       "      <td>406.90</td>\n",
       "      <td>524908.0</td>\n",
       "      <td>8.527100e+09</td>\n",
       "    </tr>\n",
       "    <tr>\n",
       "      <th>43</th>\n",
       "      <td>Jul 24, 2017</td>\n",
       "      <td>412.58</td>\n",
       "      <td>578.89</td>\n",
       "      <td>409.21</td>\n",
       "      <td>440.70</td>\n",
       "      <td>190952.0</td>\n",
       "      <td>8.527100e+09</td>\n",
       "    </tr>\n",
       "    <tr>\n",
       "      <th>44</th>\n",
       "      <td>Jul 23, 2017</td>\n",
       "      <td>555.89</td>\n",
       "      <td>578.97</td>\n",
       "      <td>411.78</td>\n",
       "      <td>413.06</td>\n",
       "      <td>85013.0</td>\n",
       "      <td>8.527100e+09</td>\n",
       "    </tr>\n",
       "  </tbody>\n",
       "</table>\n",
       "</div>"
      ],
      "text/plain": [
       "            Date    Open    High     Low   Close     Volume    Market Cap\n",
       "40  Jul 27, 2017  417.10  460.97  367.78  385.48   533207.0  8.527100e+09\n",
       "41  Jul 26, 2017  407.08  486.16  321.79  365.82  1784640.0  8.527100e+09\n",
       "42  Jul 25, 2017  441.35  541.66  338.09  406.90   524908.0  8.527100e+09\n",
       "43  Jul 24, 2017  412.58  578.89  409.21  440.70   190952.0  8.527100e+09\n",
       "44  Jul 23, 2017  555.89  578.97  411.78  413.06    85013.0  8.527100e+09"
      ]
     },
     "execution_count": 70,
     "metadata": {},
     "output_type": "execute_result"
    }
   ],
   "source": [
    "df.tail()"
   ]
  },
  {
   "cell_type": "code",
   "execution_count": 71,
   "metadata": {},
   "outputs": [],
   "source": [
    "# Replace using mean\n",
    "mean = df['Market Cap'].mean()\n",
    "df['Market Cap'].fillna(mean, inplace=True)"
   ]
  },
  {
   "cell_type": "code",
   "execution_count": 72,
   "metadata": {},
   "outputs": [
    {
     "data": {
      "text/html": [
       "<div>\n",
       "<style scoped>\n",
       "    .dataframe tbody tr th:only-of-type {\n",
       "        vertical-align: middle;\n",
       "    }\n",
       "\n",
       "    .dataframe tbody tr th {\n",
       "        vertical-align: top;\n",
       "    }\n",
       "\n",
       "    .dataframe thead th {\n",
       "        text-align: right;\n",
       "    }\n",
       "</style>\n",
       "<table border=\"1\" class=\"dataframe\">\n",
       "  <thead>\n",
       "    <tr style=\"text-align: right;\">\n",
       "      <th></th>\n",
       "      <th>Date</th>\n",
       "      <th>Open</th>\n",
       "      <th>High</th>\n",
       "      <th>Low</th>\n",
       "      <th>Close</th>\n",
       "      <th>Volume</th>\n",
       "      <th>Market Cap</th>\n",
       "    </tr>\n",
       "  </thead>\n",
       "  <tbody>\n",
       "    <tr>\n",
       "      <th>40</th>\n",
       "      <td>Jul 27, 2017</td>\n",
       "      <td>417.10</td>\n",
       "      <td>460.97</td>\n",
       "      <td>367.78</td>\n",
       "      <td>385.48</td>\n",
       "      <td>533207.0</td>\n",
       "      <td>8.527100e+09</td>\n",
       "    </tr>\n",
       "    <tr>\n",
       "      <th>41</th>\n",
       "      <td>Jul 26, 2017</td>\n",
       "      <td>407.08</td>\n",
       "      <td>486.16</td>\n",
       "      <td>321.79</td>\n",
       "      <td>365.82</td>\n",
       "      <td>1784640.0</td>\n",
       "      <td>8.527100e+09</td>\n",
       "    </tr>\n",
       "    <tr>\n",
       "      <th>42</th>\n",
       "      <td>Jul 25, 2017</td>\n",
       "      <td>441.35</td>\n",
       "      <td>541.66</td>\n",
       "      <td>338.09</td>\n",
       "      <td>406.90</td>\n",
       "      <td>524908.0</td>\n",
       "      <td>8.527100e+09</td>\n",
       "    </tr>\n",
       "    <tr>\n",
       "      <th>43</th>\n",
       "      <td>Jul 24, 2017</td>\n",
       "      <td>412.58</td>\n",
       "      <td>578.89</td>\n",
       "      <td>409.21</td>\n",
       "      <td>440.70</td>\n",
       "      <td>190952.0</td>\n",
       "      <td>8.527100e+09</td>\n",
       "    </tr>\n",
       "    <tr>\n",
       "      <th>44</th>\n",
       "      <td>Jul 23, 2017</td>\n",
       "      <td>555.89</td>\n",
       "      <td>578.97</td>\n",
       "      <td>411.78</td>\n",
       "      <td>413.06</td>\n",
       "      <td>85013.0</td>\n",
       "      <td>8.527100e+09</td>\n",
       "    </tr>\n",
       "  </tbody>\n",
       "</table>\n",
       "</div>"
      ],
      "text/plain": [
       "            Date    Open    High     Low   Close     Volume    Market Cap\n",
       "40  Jul 27, 2017  417.10  460.97  367.78  385.48   533207.0  8.527100e+09\n",
       "41  Jul 26, 2017  407.08  486.16  321.79  365.82  1784640.0  8.527100e+09\n",
       "42  Jul 25, 2017  441.35  541.66  338.09  406.90   524908.0  8.527100e+09\n",
       "43  Jul 24, 2017  412.58  578.89  409.21  440.70   190952.0  8.527100e+09\n",
       "44  Jul 23, 2017  555.89  578.97  411.78  413.06    85013.0  8.527100e+09"
      ]
     },
     "execution_count": 72,
     "metadata": {},
     "output_type": "execute_result"
    }
   ],
   "source": [
    "df.tail()"
   ]
  },
  {
   "cell_type": "markdown",
   "metadata": {},
   "source": [
    "But in fact after fill the null value using mean and median, it does not make sense if the missing value of Market Cap will have same value. So I try to use another method to interpolate the data"
   ]
  },
  {
   "cell_type": "code",
   "execution_count": 38,
   "metadata": {},
   "outputs": [
    {
     "data": {
      "text/plain": [
       "<function matplotlib.pyplot.show(*args, **kw)>"
      ]
     },
     "execution_count": 38,
     "metadata": {},
     "output_type": "execute_result"
    },
    {
     "data": {
      "image/png": "[encoded data removed]",
      "text/plain": [
       "<Figure size 1440x1440 with 5 Axes>"
      ]
     },
     "metadata": {},
     "output_type": "display_data"
    }
   ],
   "source": [
    "#Plot data\n",
    "import matplotlib.pyplot as plt\n",
    "plt.figure(figsize=(20, 20))\n",
    "O = df['Open']\n",
    "H = df['High']\n",
    "L = df['Low']\n",
    "C = df['Close']\n",
    "V = df['Volume']\n",
    "MC = df['Market Cap']\n",
    "\n",
    "plt.subplot(5,5,1)\n",
    "plt.scatter(O, MC)\n",
    "plt.title('Open vs Market Cap')\n",
    "\n",
    "plt.subplot(5,5,2)\n",
    "plt.scatter(H, MC)\n",
    "plt.title('High vs Market Cap')\n",
    "\n",
    "plt.subplot(5,5,3)\n",
    "plt.scatter(L, MC)\n",
    "plt.title('Low vs Market Cap')\n",
    "\n",
    "plt.subplot(5,5,4)\n",
    "plt.scatter(C, MC)\n",
    "plt.title('Close vs Market Cap')\n",
    "\n",
    "plt.subplot(5,5,5)\n",
    "plt.scatter(V, MC)\n",
    "plt.title('Volume vs Market Cap')\n",
    "\n",
    "plt.show"
   ]
  },
  {
   "cell_type": "markdown",
   "metadata": {},
   "source": [
    "From data plot above that can be seen Market Cap has linear value with Open. So then, I try interpolate the value of Market Cap with Open value."
   ]
  },
  {
   "cell_type": "code",
   "execution_count": 73,
   "metadata": {},
   "outputs": [
    {
     "ename": "SyntaxError",
     "evalue": "invalid character in identifier (<ipython-input-73-05423ba77625>, line 3)",
     "output_type": "error",
     "traceback": [
      "\u001b[0;36m  File \u001b[0;32m\"<ipython-input-73-05423ba77625>\"\u001b[0;36m, line \u001b[0;32m3\u001b[0m\n\u001b[0;31m    imputer = Imputer(missing_values=’NaN’, strategy=’mean’)\u001b[0m\n\u001b[0m                                         ^\u001b[0m\n\u001b[0;31mSyntaxError\u001b[0m\u001b[0;31m:\u001b[0m invalid character in identifier\n"
     ]
    }
   ],
   "source": []
  },
  {
   "cell_type": "code",
   "execution_count": null,
   "metadata": {},
   "outputs": [],
   "source": []
  }
 ],
 "metadata": {
  "kernelspec": {
   "display_name": "Python 3",
   "language": "python",
   "name": "python3"
  },
  "language_info": {
   "codemirror_mode": {
    "name": "ipython",
    "version": 3
   },
   "file_extension": ".py",
   "mimetype": "text/x-python",
   "name": "python",
   "nbconvert_exporter": "python",
   "pygments_lexer": "ipython3",
   "version": "3.6.5"
  }
 },
 "nbformat": 4,
 "nbformat_minor": 2
}
