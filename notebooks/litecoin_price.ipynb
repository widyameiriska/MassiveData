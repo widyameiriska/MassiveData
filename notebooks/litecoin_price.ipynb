{
 "cells": [
  {
   "cell_type": "markdown",
   "metadata": {},
   "source": [
    "# Litecoin Price"
   ]
  },
  {
   "cell_type": "code",
   "execution_count": 2,
   "metadata": {},
   "outputs": [],
   "source": [
    "import csv\n",
    "import pandas as pd\n",
    "import numpy as np"
   ]
  },
  {
   "cell_type": "code",
   "execution_count": 3,
   "metadata": {},
   "outputs": [],
   "source": [
    "df = pd.read_csv('../data/raw/bitcoin/litecoin_price.csv')"
   ]
  },
  {
   "cell_type": "code",
   "execution_count": 4,
   "metadata": {},
   "outputs": [
    {
     "data": {
      "text/html": [
       "<div>\n",
       "<style scoped>\n",
       "    .dataframe tbody tr th:only-of-type {\n",
       "        vertical-align: middle;\n",
       "    }\n",
       "\n",
       "    .dataframe tbody tr th {\n",
       "        vertical-align: top;\n",
       "    }\n",
       "\n",
       "    .dataframe thead th {\n",
       "        text-align: right;\n",
       "    }\n",
       "</style>\n",
       "<table border=\"1\" class=\"dataframe\">\n",
       "  <thead>\n",
       "    <tr style=\"text-align: right;\">\n",
       "      <th></th>\n",
       "      <th>Date</th>\n",
       "      <th>Open</th>\n",
       "      <th>High</th>\n",
       "      <th>Low</th>\n",
       "      <th>Close</th>\n",
       "      <th>Volume</th>\n",
       "      <th>Market Cap</th>\n",
       "    </tr>\n",
       "  </thead>\n",
       "  <tbody>\n",
       "    <tr>\n",
       "      <th>1587</th>\n",
       "      <td>May 02, 2013</td>\n",
       "      <td>3.78</td>\n",
       "      <td>4.04</td>\n",
       "      <td>3.01</td>\n",
       "      <td>3.37</td>\n",
       "      <td>-</td>\n",
       "      <td>65242700</td>\n",
       "    </tr>\n",
       "    <tr>\n",
       "      <th>1588</th>\n",
       "      <td>May 01, 2013</td>\n",
       "      <td>4.29</td>\n",
       "      <td>4.36</td>\n",
       "      <td>3.52</td>\n",
       "      <td>3.80</td>\n",
       "      <td>-</td>\n",
       "      <td>73901200</td>\n",
       "    </tr>\n",
       "    <tr>\n",
       "      <th>1589</th>\n",
       "      <td>Apr 30, 2013</td>\n",
       "      <td>4.40</td>\n",
       "      <td>4.57</td>\n",
       "      <td>4.17</td>\n",
       "      <td>4.30</td>\n",
       "      <td>-</td>\n",
       "      <td>75726800</td>\n",
       "    </tr>\n",
       "    <tr>\n",
       "      <th>1590</th>\n",
       "      <td>Apr 29, 2013</td>\n",
       "      <td>4.37</td>\n",
       "      <td>4.57</td>\n",
       "      <td>4.23</td>\n",
       "      <td>4.38</td>\n",
       "      <td>-</td>\n",
       "      <td>74952700</td>\n",
       "    </tr>\n",
       "    <tr>\n",
       "      <th>1591</th>\n",
       "      <td>Apr 28, 2013</td>\n",
       "      <td>4.30</td>\n",
       "      <td>4.40</td>\n",
       "      <td>4.18</td>\n",
       "      <td>4.35</td>\n",
       "      <td>-</td>\n",
       "      <td>73773400</td>\n",
       "    </tr>\n",
       "  </tbody>\n",
       "</table>\n",
       "</div>"
      ],
      "text/plain": [
       "              Date  Open  High   Low  Close Volume  Market Cap\n",
       "1587  May 02, 2013  3.78  4.04  3.01   3.37      -    65242700\n",
       "1588  May 01, 2013  4.29  4.36  3.52   3.80      -    73901200\n",
       "1589  Apr 30, 2013  4.40  4.57  4.17   4.30      -    75726800\n",
       "1590  Apr 29, 2013  4.37  4.57  4.23   4.38      -    74952700\n",
       "1591  Apr 28, 2013  4.30  4.40  4.18   4.35      -    73773400"
      ]
     },
     "execution_count": 4,
     "metadata": {},
     "output_type": "execute_result"
    }
   ],
   "source": [
    "df.tail()"
   ]
  },
  {
   "cell_type": "code",
   "execution_count": 8,
   "metadata": {},
   "outputs": [
    {
     "data": {
      "text/html": [
       "<div>\n",
       "<style scoped>\n",
       "    .dataframe tbody tr th:only-of-type {\n",
       "        vertical-align: middle;\n",
       "    }\n",
       "\n",
       "    .dataframe tbody tr th {\n",
       "        vertical-align: top;\n",
       "    }\n",
       "\n",
       "    .dataframe thead th {\n",
       "        text-align: right;\n",
       "    }\n",
       "</style>\n",
       "<table border=\"1\" class=\"dataframe\">\n",
       "  <thead>\n",
       "    <tr style=\"text-align: right;\">\n",
       "      <th></th>\n",
       "      <th>Date</th>\n",
       "      <th>Open</th>\n",
       "      <th>High</th>\n",
       "      <th>Low</th>\n",
       "      <th>Close</th>\n",
       "      <th>Volume</th>\n",
       "      <th>Market Cap</th>\n",
       "    </tr>\n",
       "  </thead>\n",
       "  <tbody>\n",
       "    <tr>\n",
       "      <th>0</th>\n",
       "      <td>Sep 05, 2017</td>\n",
       "      <td>65.25</td>\n",
       "      <td>72.44</td>\n",
       "      <td>59.05</td>\n",
       "      <td>71.29</td>\n",
       "      <td>1016090000</td>\n",
       "      <td>3444150000</td>\n",
       "    </tr>\n",
       "    <tr>\n",
       "      <th>1</th>\n",
       "      <td>Sep 04, 2017</td>\n",
       "      <td>76.73</td>\n",
       "      <td>76.73</td>\n",
       "      <td>61.24</td>\n",
       "      <td>65.21</td>\n",
       "      <td>922041000</td>\n",
       "      <td>4049140000</td>\n",
       "    </tr>\n",
       "    <tr>\n",
       "      <th>2</th>\n",
       "      <td>Sep 03, 2017</td>\n",
       "      <td>78.98</td>\n",
       "      <td>82.83</td>\n",
       "      <td>73.61</td>\n",
       "      <td>76.84</td>\n",
       "      <td>675462000</td>\n",
       "      <td>4166600000</td>\n",
       "    </tr>\n",
       "    <tr>\n",
       "      <th>3</th>\n",
       "      <td>Sep 02, 2017</td>\n",
       "      <td>85.83</td>\n",
       "      <td>92.07</td>\n",
       "      <td>72.23</td>\n",
       "      <td>79.02</td>\n",
       "      <td>1363990000</td>\n",
       "      <td>4526680000</td>\n",
       "    </tr>\n",
       "    <tr>\n",
       "      <th>4</th>\n",
       "      <td>Sep 01, 2017</td>\n",
       "      <td>70.86</td>\n",
       "      <td>87.41</td>\n",
       "      <td>70.01</td>\n",
       "      <td>86.04</td>\n",
       "      <td>1551740000</td>\n",
       "      <td>3735870000</td>\n",
       "    </tr>\n",
       "  </tbody>\n",
       "</table>\n",
       "</div>"
      ],
      "text/plain": [
       "           Date   Open   High    Low  Close      Volume  Market Cap\n",
       "0  Sep 05, 2017  65.25  72.44  59.05  71.29  1016090000  3444150000\n",
       "1  Sep 04, 2017  76.73  76.73  61.24  65.21   922041000  4049140000\n",
       "2  Sep 03, 2017  78.98  82.83  73.61  76.84   675462000  4166600000\n",
       "3  Sep 02, 2017  85.83  92.07  72.23  79.02  1363990000  4526680000\n",
       "4  Sep 01, 2017  70.86  87.41  70.01  86.04  1551740000  3735870000"
      ]
     },
     "execution_count": 8,
     "metadata": {},
     "output_type": "execute_result"
    }
   ],
   "source": [
    "df.head()"
   ]
  },
  {
   "cell_type": "code",
   "execution_count": 5,
   "metadata": {},
   "outputs": [
    {
     "data": {
      "text/plain": [
       "Index(['Date', 'Open', 'High', 'Low', 'Close', 'Volume', 'Market Cap'], dtype='object')"
      ]
     },
     "execution_count": 5,
     "metadata": {},
     "output_type": "execute_result"
    }
   ],
   "source": [
    "df.columns"
   ]
  },
  {
   "cell_type": "markdown",
   "metadata": {},
   "source": [
    "There are missing data here and there are several data which have different format. Some of the data do not use number format"
   ]
  },
  {
   "cell_type": "code",
   "execution_count": 14,
   "metadata": {},
   "outputs": [],
   "source": [
    "df['Volume'] = df['Volume'].replace('-', 'NaN')\n",
    "df['Volume'] = df['Volume'].apply(lambda x: float(str(x).replace(',',''))) "
   ]
  },
  {
   "cell_type": "code",
   "execution_count": 15,
   "metadata": {},
   "outputs": [
    {
     "data": {
      "text/plain": [
       "Date          1592\n",
       "Open          1592\n",
       "High          1592\n",
       "Low           1592\n",
       "Close         1592\n",
       "Volume        1349\n",
       "Market Cap    1592\n",
       "dtype: int64"
      ]
     },
     "execution_count": 15,
     "metadata": {},
     "output_type": "execute_result"
    }
   ],
   "source": [
    "df.count()"
   ]
  },
  {
   "cell_type": "markdown",
   "metadata": {},
   "source": [
    "Convert time column into date time format"
   ]
  },
  {
   "cell_type": "code",
   "execution_count": 18,
   "metadata": {},
   "outputs": [],
   "source": [
    "df['Date'] = pd.to_datetime(df['Date'])"
   ]
  },
  {
   "cell_type": "code",
   "execution_count": 19,
   "metadata": {},
   "outputs": [
    {
     "data": {
      "text/html": [
       "<div>\n",
       "<style scoped>\n",
       "    .dataframe tbody tr th:only-of-type {\n",
       "        vertical-align: middle;\n",
       "    }\n",
       "\n",
       "    .dataframe tbody tr th {\n",
       "        vertical-align: top;\n",
       "    }\n",
       "\n",
       "    .dataframe thead th {\n",
       "        text-align: right;\n",
       "    }\n",
       "</style>\n",
       "<table border=\"1\" class=\"dataframe\">\n",
       "  <thead>\n",
       "    <tr style=\"text-align: right;\">\n",
       "      <th></th>\n",
       "      <th>Date</th>\n",
       "      <th>Open</th>\n",
       "      <th>High</th>\n",
       "      <th>Low</th>\n",
       "      <th>Close</th>\n",
       "      <th>Volume</th>\n",
       "      <th>Market Cap</th>\n",
       "    </tr>\n",
       "  </thead>\n",
       "  <tbody>\n",
       "    <tr>\n",
       "      <th>1587</th>\n",
       "      <td>2013-05-02</td>\n",
       "      <td>3.78</td>\n",
       "      <td>4.04</td>\n",
       "      <td>3.01</td>\n",
       "      <td>3.37</td>\n",
       "      <td>NaN</td>\n",
       "      <td>65242700</td>\n",
       "    </tr>\n",
       "    <tr>\n",
       "      <th>1588</th>\n",
       "      <td>2013-05-01</td>\n",
       "      <td>4.29</td>\n",
       "      <td>4.36</td>\n",
       "      <td>3.52</td>\n",
       "      <td>3.80</td>\n",
       "      <td>NaN</td>\n",
       "      <td>73901200</td>\n",
       "    </tr>\n",
       "    <tr>\n",
       "      <th>1589</th>\n",
       "      <td>2013-04-30</td>\n",
       "      <td>4.40</td>\n",
       "      <td>4.57</td>\n",
       "      <td>4.17</td>\n",
       "      <td>4.30</td>\n",
       "      <td>NaN</td>\n",
       "      <td>75726800</td>\n",
       "    </tr>\n",
       "    <tr>\n",
       "      <th>1590</th>\n",
       "      <td>2013-04-29</td>\n",
       "      <td>4.37</td>\n",
       "      <td>4.57</td>\n",
       "      <td>4.23</td>\n",
       "      <td>4.38</td>\n",
       "      <td>NaN</td>\n",
       "      <td>74952700</td>\n",
       "    </tr>\n",
       "    <tr>\n",
       "      <th>1591</th>\n",
       "      <td>2013-04-28</td>\n",
       "      <td>4.30</td>\n",
       "      <td>4.40</td>\n",
       "      <td>4.18</td>\n",
       "      <td>4.35</td>\n",
       "      <td>NaN</td>\n",
       "      <td>73773400</td>\n",
       "    </tr>\n",
       "  </tbody>\n",
       "</table>\n",
       "</div>"
      ],
      "text/plain": [
       "           Date  Open  High   Low  Close  Volume  Market Cap\n",
       "1587 2013-05-02  3.78  4.04  3.01   3.37     NaN    65242700\n",
       "1588 2013-05-01  4.29  4.36  3.52   3.80     NaN    73901200\n",
       "1589 2013-04-30  4.40  4.57  4.17   4.30     NaN    75726800\n",
       "1590 2013-04-29  4.37  4.57  4.23   4.38     NaN    74952700\n",
       "1591 2013-04-28  4.30  4.40  4.18   4.35     NaN    73773400"
      ]
     },
     "execution_count": 19,
     "metadata": {},
     "output_type": "execute_result"
    }
   ],
   "source": [
    "df.tail()"
   ]
  },
  {
   "cell_type": "code",
   "execution_count": 20,
   "metadata": {},
   "outputs": [
    {
     "data": {
      "text/plain": [
       "Date          datetime64[ns]\n",
       "Open                 float64\n",
       "High                 float64\n",
       "Low                  float64\n",
       "Close                float64\n",
       "Volume               float64\n",
       "Market Cap             int64\n",
       "dtype: object"
      ]
     },
     "execution_count": 20,
     "metadata": {},
     "output_type": "execute_result"
    }
   ],
   "source": [
    "df.dtypes"
   ]
  },
  {
   "cell_type": "code",
   "execution_count": 21,
   "metadata": {},
   "outputs": [
    {
     "name": "stdout",
     "output_type": "stream",
     "text": [
      "<class 'pandas.core.frame.DataFrame'>\n",
      "RangeIndex: 1592 entries, 0 to 1591\n",
      "Data columns (total 7 columns):\n",
      "Date          1592 non-null datetime64[ns]\n",
      "Open          1592 non-null float64\n",
      "High          1592 non-null float64\n",
      "Low           1592 non-null float64\n",
      "Close         1592 non-null float64\n",
      "Volume        1349 non-null float64\n",
      "Market Cap    1592 non-null int64\n",
      "dtypes: datetime64[ns](1), float64(5), int64(1)\n",
      "memory usage: 87.1 KB\n"
     ]
    }
   ],
   "source": [
    "df.info()"
   ]
  },
  {
   "cell_type": "code",
   "execution_count": 22,
   "metadata": {},
   "outputs": [
    {
     "data": {
      "text/html": [
       "<div>\n",
       "<style scoped>\n",
       "    .dataframe tbody tr th:only-of-type {\n",
       "        vertical-align: middle;\n",
       "    }\n",
       "\n",
       "    .dataframe tbody tr th {\n",
       "        vertical-align: top;\n",
       "    }\n",
       "\n",
       "    .dataframe thead th {\n",
       "        text-align: right;\n",
       "    }\n",
       "</style>\n",
       "<table border=\"1\" class=\"dataframe\">\n",
       "  <thead>\n",
       "    <tr style=\"text-align: right;\">\n",
       "      <th></th>\n",
       "      <th>total</th>\n",
       "      <th>percent</th>\n",
       "    </tr>\n",
       "  </thead>\n",
       "  <tbody>\n",
       "    <tr>\n",
       "      <th>Date</th>\n",
       "      <td>0</td>\n",
       "      <td>0.000000</td>\n",
       "    </tr>\n",
       "    <tr>\n",
       "      <th>Open</th>\n",
       "      <td>0</td>\n",
       "      <td>0.000000</td>\n",
       "    </tr>\n",
       "    <tr>\n",
       "      <th>High</th>\n",
       "      <td>0</td>\n",
       "      <td>0.000000</td>\n",
       "    </tr>\n",
       "    <tr>\n",
       "      <th>Low</th>\n",
       "      <td>0</td>\n",
       "      <td>0.000000</td>\n",
       "    </tr>\n",
       "    <tr>\n",
       "      <th>Close</th>\n",
       "      <td>0</td>\n",
       "      <td>0.000000</td>\n",
       "    </tr>\n",
       "    <tr>\n",
       "      <th>Volume</th>\n",
       "      <td>243</td>\n",
       "      <td>0.152638</td>\n",
       "    </tr>\n",
       "    <tr>\n",
       "      <th>Market Cap</th>\n",
       "      <td>0</td>\n",
       "      <td>0.000000</td>\n",
       "    </tr>\n",
       "  </tbody>\n",
       "</table>\n",
       "</div>"
      ],
      "text/plain": [
       "            total   percent\n",
       "Date            0  0.000000\n",
       "Open            0  0.000000\n",
       "High            0  0.000000\n",
       "Low             0  0.000000\n",
       "Close           0  0.000000\n",
       "Volume        243  0.152638\n",
       "Market Cap      0  0.000000"
      ]
     },
     "execution_count": 22,
     "metadata": {},
     "output_type": "execute_result"
    }
   ],
   "source": [
    "missingdf = pd.DataFrame(df.isna().sum()).rename(columns = {0: 'total'})\n",
    "missingdf['percent'] = missingdf['total'] / len(df)\n",
    "missingdf"
   ]
  },
  {
   "cell_type": "code",
   "execution_count": 24,
   "metadata": {},
   "outputs": [
    {
     "data": {
      "text/plain": [
       "<function matplotlib.pyplot.show(*args, **kw)>"
      ]
     },
     "execution_count": 24,
     "metadata": {},
     "output_type": "execute_result"
    },
    {
     "data": {
      "image/png": "[encoded data removed]",
      "text/plain": [
       "<Figure size 1800x1800 with 5 Axes>"
      ]
     },
     "metadata": {},
     "output_type": "display_data"
    }
   ],
   "source": [
    "#Plot data to see the relation between each column\n",
    "import matplotlib.pyplot as plt\n",
    "plt.figure(figsize=(25, 25))\n",
    "O = df['Open']\n",
    "H = df['High']\n",
    "L = df['Low']\n",
    "C = df['Close']\n",
    "V = df['Volume']\n",
    "MC = df['Market Cap']\n",
    "\n",
    "plt.subplot(5,5,1)\n",
    "plt.scatter(O, V)\n",
    "plt.title('Open vs Volume')\n",
    "\n",
    "plt.subplot(5,5,2)\n",
    "plt.scatter(H, V)\n",
    "plt.title('High vs Volume')\n",
    "\n",
    "plt.subplot(5,5,3)\n",
    "plt.scatter(L, V)\n",
    "plt.title('Low vs Volume')\n",
    "\n",
    "plt.subplot(5,5,4)\n",
    "plt.scatter(C, V)\n",
    "plt.title('Close vs Volume')\n",
    "\n",
    "plt.subplot(5,5,5)\n",
    "plt.scatter(MC, V)\n",
    "plt.title('Market Cap vs Volume')\n",
    "\n",
    "plt.show"
   ]
  },
  {
   "cell_type": "markdown",
   "metadata": {},
   "source": [
    "To fill the NaN value I try to interpolate the data using linear method using value from Open column. Because from the figure above we can see that Volume almost has same condition with other column"
   ]
  },
  {
   "cell_type": "code",
   "execution_count": 25,
   "metadata": {},
   "outputs": [],
   "source": [
    "from sklearn import linear_model\n",
    "\n",
    "model = linear_model.LinearRegression()\n",
    "Open  = df[['Open']].iloc[0:1348]\n",
    "Volume = df['Volume'].iloc[0:1348]"
   ]
  },
  {
   "cell_type": "code",
   "execution_count": 26,
   "metadata": {},
   "outputs": [
    {
     "data": {
      "text/plain": [
       "LinearRegression(copy_X=True, fit_intercept=True, n_jobs=1, normalize=False)"
      ]
     },
     "execution_count": 26,
     "metadata": {},
     "output_type": "execute_result"
    }
   ],
   "source": [
    "#Train model \n",
    "model.fit(Open, Volume)"
   ]
  },
  {
   "cell_type": "code",
   "execution_count": 27,
   "metadata": {},
   "outputs": [
    {
     "data": {
      "text/plain": [
       "0.5488524945545914"
      ]
     },
     "execution_count": 27,
     "metadata": {},
     "output_type": "execute_result"
    }
   ],
   "source": [
    "#The model score almost 1 so that indicate the model is near to the truth\n",
    "model.score(Open, Volume)"
   ]
  },
  {
   "cell_type": "code",
   "execution_count": 30,
   "metadata": {},
   "outputs": [
    {
     "data": {
      "text/html": [
       "<div>\n",
       "<style scoped>\n",
       "    .dataframe tbody tr th:only-of-type {\n",
       "        vertical-align: middle;\n",
       "    }\n",
       "\n",
       "    .dataframe tbody tr th {\n",
       "        vertical-align: top;\n",
       "    }\n",
       "\n",
       "    .dataframe thead th {\n",
       "        text-align: right;\n",
       "    }\n",
       "</style>\n",
       "<table border=\"1\" class=\"dataframe\">\n",
       "  <thead>\n",
       "    <tr style=\"text-align: right;\">\n",
       "      <th></th>\n",
       "      <th>Date</th>\n",
       "      <th>Open</th>\n",
       "      <th>High</th>\n",
       "      <th>Low</th>\n",
       "      <th>Close</th>\n",
       "      <th>Volume</th>\n",
       "      <th>Market Cap</th>\n",
       "      <th>Volume Predict</th>\n",
       "    </tr>\n",
       "  </thead>\n",
       "  <tbody>\n",
       "    <tr>\n",
       "      <th>1587</th>\n",
       "      <td>2013-05-02</td>\n",
       "      <td>3.78</td>\n",
       "      <td>4.04</td>\n",
       "      <td>3.01</td>\n",
       "      <td>3.37</td>\n",
       "      <td>NaN</td>\n",
       "      <td>65242700</td>\n",
       "      <td>-6.642012e+06</td>\n",
       "    </tr>\n",
       "    <tr>\n",
       "      <th>1588</th>\n",
       "      <td>2013-05-01</td>\n",
       "      <td>4.29</td>\n",
       "      <td>4.36</td>\n",
       "      <td>3.52</td>\n",
       "      <td>3.80</td>\n",
       "      <td>NaN</td>\n",
       "      <td>73901200</td>\n",
       "      <td>-2.416477e+06</td>\n",
       "    </tr>\n",
       "    <tr>\n",
       "      <th>1589</th>\n",
       "      <td>2013-04-30</td>\n",
       "      <td>4.40</td>\n",
       "      <td>4.57</td>\n",
       "      <td>4.17</td>\n",
       "      <td>4.30</td>\n",
       "      <td>NaN</td>\n",
       "      <td>75726800</td>\n",
       "      <td>-1.505087e+06</td>\n",
       "    </tr>\n",
       "    <tr>\n",
       "      <th>1590</th>\n",
       "      <td>2013-04-29</td>\n",
       "      <td>4.37</td>\n",
       "      <td>4.57</td>\n",
       "      <td>4.23</td>\n",
       "      <td>4.38</td>\n",
       "      <td>NaN</td>\n",
       "      <td>74952700</td>\n",
       "      <td>-1.753648e+06</td>\n",
       "    </tr>\n",
       "    <tr>\n",
       "      <th>1591</th>\n",
       "      <td>2013-04-28</td>\n",
       "      <td>4.30</td>\n",
       "      <td>4.40</td>\n",
       "      <td>4.18</td>\n",
       "      <td>4.35</td>\n",
       "      <td>NaN</td>\n",
       "      <td>73773400</td>\n",
       "      <td>-2.333623e+06</td>\n",
       "    </tr>\n",
       "  </tbody>\n",
       "</table>\n",
       "</div>"
      ],
      "text/plain": [
       "           Date  Open  High   Low  Close  Volume  Market Cap  Volume Predict\n",
       "1587 2013-05-02  3.78  4.04  3.01   3.37     NaN    65242700   -6.642012e+06\n",
       "1588 2013-05-01  4.29  4.36  3.52   3.80     NaN    73901200   -2.416477e+06\n",
       "1589 2013-04-30  4.40  4.57  4.17   4.30     NaN    75726800   -1.505087e+06\n",
       "1590 2013-04-29  4.37  4.57  4.23   4.38     NaN    74952700   -1.753648e+06\n",
       "1591 2013-04-28  4.30  4.40  4.18   4.35     NaN    73773400   -2.333623e+06"
      ]
     },
     "execution_count": 30,
     "metadata": {},
     "output_type": "execute_result"
    }
   ],
   "source": [
    "#Add a new column which is filled the missing data from model fit\n",
    "open = df[['Open']]\n",
    "Volume_Predict = model.predict(open)\n",
    "df['Volume Predict'] = Volume_Predict\n",
    "df.tail()"
   ]
  },
  {
   "cell_type": "markdown",
   "metadata": {},
   "source": [
    "Here I make a new column Volume Predict which contains Volume with no NaN value"
   ]
  },
  {
   "cell_type": "code",
   "execution_count": 33,
   "metadata": {},
   "outputs": [
    {
     "data": {
      "text/plain": [
       "Date              1592\n",
       "Open              1592\n",
       "High              1592\n",
       "Low               1592\n",
       "Close             1592\n",
       "Volume            1349\n",
       "Market Cap        1592\n",
       "Volume Predict    1592\n",
       "dtype: int64"
      ]
     },
     "execution_count": 33,
     "metadata": {},
     "output_type": "execute_result"
    }
   ],
   "source": [
    "df.count()"
   ]
  },
  {
   "cell_type": "markdown",
   "metadata": {},
   "source": [
    "The data is clean, no null value and has same format"
   ]
  },
  {
   "cell_type": "code",
   "execution_count": null,
   "metadata": {},
   "outputs": [],
   "source": []
  }
 ],
 "metadata": {
  "kernelspec": {
   "display_name": "Python 3",
   "language": "python",
   "name": "python3"
  },
  "language_info": {
   "codemirror_mode": {
    "name": "ipython",
    "version": 3
   },
   "file_extension": ".py",
   "mimetype": "text/x-python",
   "name": "python",
   "nbconvert_exporter": "python",
   "pygments_lexer": "ipython3",
   "version": "3.6.5"
  }
 },
 "nbformat": 4,
 "nbformat_minor": 2
}
