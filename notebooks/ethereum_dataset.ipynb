{
 "cells": [
  {
   "cell_type": "markdown",
   "metadata": {},
   "source": [
    "# Ethereum Dataset"
   ]
  },
  {
   "cell_type": "code",
   "execution_count": 1,
   "metadata": {},
   "outputs": [],
   "source": [
    "import csv\n",
    "import pandas as pd\n",
    "import numpy as np"
   ]
  },
  {
   "cell_type": "code",
   "execution_count": 2,
   "metadata": {},
   "outputs": [],
   "source": [
    "df = pd.read_csv('../data/raw/bitcoin/ethereum_dataset.csv')"
   ]
  },
  {
   "cell_type": "code",
   "execution_count": 3,
   "metadata": {},
   "outputs": [
    {
     "data": {
      "text/html": [
       "<div>\n",
       "<style scoped>\n",
       "    .dataframe tbody tr th:only-of-type {\n",
       "        vertical-align: middle;\n",
       "    }\n",
       "\n",
       "    .dataframe tbody tr th {\n",
       "        vertical-align: top;\n",
       "    }\n",
       "\n",
       "    .dataframe thead th {\n",
       "        text-align: right;\n",
       "    }\n",
       "</style>\n",
       "<table border=\"1\" class=\"dataframe\">\n",
       "  <thead>\n",
       "    <tr style=\"text-align: right;\">\n",
       "      <th></th>\n",
       "      <th>Date(UTC)</th>\n",
       "      <th>UnixTimeStamp</th>\n",
       "      <th>eth_etherprice</th>\n",
       "      <th>eth_tx</th>\n",
       "      <th>eth_address</th>\n",
       "      <th>eth_supply</th>\n",
       "      <th>eth_marketcap</th>\n",
       "      <th>eth_hashrate</th>\n",
       "      <th>eth_difficulty</th>\n",
       "      <th>eth_blocks</th>\n",
       "      <th>eth_uncles</th>\n",
       "      <th>eth_blocksize</th>\n",
       "      <th>eth_blocktime</th>\n",
       "      <th>eth_gasprice</th>\n",
       "      <th>eth_gaslimit</th>\n",
       "      <th>eth_gasused</th>\n",
       "      <th>eth_ethersupply</th>\n",
       "      <th>eth_chaindatasize</th>\n",
       "      <th>eth_ens_register</th>\n",
       "    </tr>\n",
       "  </thead>\n",
       "  <tbody>\n",
       "    <tr>\n",
       "      <th>764</th>\n",
       "      <td>9/1/2017</td>\n",
       "      <td>1504224000</td>\n",
       "      <td>0.0</td>\n",
       "      <td>390997</td>\n",
       "      <td>6837885</td>\n",
       "      <td>9.437595e+07</td>\n",
       "      <td>0.0</td>\n",
       "      <td>92728.0146</td>\n",
       "      <td>2233.569</td>\n",
       "      <td>3521</td>\n",
       "      <td>308</td>\n",
       "      <td>18436</td>\n",
       "      <td>24.43</td>\n",
       "      <td>29038234385</td>\n",
       "      <td>6718999</td>\n",
       "      <td>19038356374</td>\n",
       "      <td>18829.37500</td>\n",
       "      <td>NaN</td>\n",
       "      <td>371.0</td>\n",
       "    </tr>\n",
       "    <tr>\n",
       "      <th>765</th>\n",
       "      <td>9/2/2017</td>\n",
       "      <td>1504310400</td>\n",
       "      <td>0.0</td>\n",
       "      <td>331797</td>\n",
       "      <td>6892287</td>\n",
       "      <td>9.439480e+07</td>\n",
       "      <td>0.0</td>\n",
       "      <td>93720.5494</td>\n",
       "      <td>2231.260</td>\n",
       "      <td>3541</td>\n",
       "      <td>288</td>\n",
       "      <td>15334</td>\n",
       "      <td>24.20</td>\n",
       "      <td>62682734227</td>\n",
       "      <td>6716871</td>\n",
       "      <td>15951133510</td>\n",
       "      <td>18848.12500</td>\n",
       "      <td>NaN</td>\n",
       "      <td>420.0</td>\n",
       "    </tr>\n",
       "    <tr>\n",
       "      <th>766</th>\n",
       "      <td>9/3/2017</td>\n",
       "      <td>1504396800</td>\n",
       "      <td>0.0</td>\n",
       "      <td>302525</td>\n",
       "      <td>6941689</td>\n",
       "      <td>9.441344e+07</td>\n",
       "      <td>0.0</td>\n",
       "      <td>95055.9858</td>\n",
       "      <td>2250.289</td>\n",
       "      <td>3539</td>\n",
       "      <td>241</td>\n",
       "      <td>13871</td>\n",
       "      <td>24.24</td>\n",
       "      <td>24625907338</td>\n",
       "      <td>6713503</td>\n",
       "      <td>14093399641</td>\n",
       "      <td>18642.03125</td>\n",
       "      <td>NaN</td>\n",
       "      <td>479.0</td>\n",
       "    </tr>\n",
       "    <tr>\n",
       "      <th>767</th>\n",
       "      <td>9/4/2017</td>\n",
       "      <td>1504483200</td>\n",
       "      <td>0.0</td>\n",
       "      <td>442592</td>\n",
       "      <td>7004719</td>\n",
       "      <td>9.443236e+07</td>\n",
       "      <td>0.0</td>\n",
       "      <td>93647.0268</td>\n",
       "      <td>2243.963</td>\n",
       "      <td>3527</td>\n",
       "      <td>323</td>\n",
       "      <td>19760</td>\n",
       "      <td>24.33</td>\n",
       "      <td>27792328086</td>\n",
       "      <td>6717796</td>\n",
       "      <td>18669548895</td>\n",
       "      <td>18921.09375</td>\n",
       "      <td>NaN</td>\n",
       "      <td>535.0</td>\n",
       "    </tr>\n",
       "    <tr>\n",
       "      <th>768</th>\n",
       "      <td>9/5/2017</td>\n",
       "      <td>1504569600</td>\n",
       "      <td>0.0</td>\n",
       "      <td>444413</td>\n",
       "      <td>7067860</td>\n",
       "      <td>9.445146e+07</td>\n",
       "      <td>0.0</td>\n",
       "      <td>93751.8522</td>\n",
       "      <td>2231.020</td>\n",
       "      <td>3558</td>\n",
       "      <td>332</td>\n",
       "      <td>19702</td>\n",
       "      <td>24.08</td>\n",
       "      <td>30147288563</td>\n",
       "      <td>6718964</td>\n",
       "      <td>20581069297</td>\n",
       "      <td>19096.25000</td>\n",
       "      <td>NaN</td>\n",
       "      <td>227.0</td>\n",
       "    </tr>\n",
       "  </tbody>\n",
       "</table>\n",
       "</div>"
      ],
      "text/plain": [
       "    Date(UTC)  UnixTimeStamp  eth_etherprice  eth_tx  eth_address  \\\n",
       "764  9/1/2017     1504224000             0.0  390997      6837885   \n",
       "765  9/2/2017     1504310400             0.0  331797      6892287   \n",
       "766  9/3/2017     1504396800             0.0  302525      6941689   \n",
       "767  9/4/2017     1504483200             0.0  442592      7004719   \n",
       "768  9/5/2017     1504569600             0.0  444413      7067860   \n",
       "\n",
       "       eth_supply  eth_marketcap  eth_hashrate  eth_difficulty  eth_blocks  \\\n",
       "764  9.437595e+07            0.0    92728.0146        2233.569        3521   \n",
       "765  9.439480e+07            0.0    93720.5494        2231.260        3541   \n",
       "766  9.441344e+07            0.0    95055.9858        2250.289        3539   \n",
       "767  9.443236e+07            0.0    93647.0268        2243.963        3527   \n",
       "768  9.445146e+07            0.0    93751.8522        2231.020        3558   \n",
       "\n",
       "     eth_uncles  eth_blocksize  eth_blocktime  eth_gasprice  eth_gaslimit  \\\n",
       "764         308          18436          24.43   29038234385       6718999   \n",
       "765         288          15334          24.20   62682734227       6716871   \n",
       "766         241          13871          24.24   24625907338       6713503   \n",
       "767         323          19760          24.33   27792328086       6717796   \n",
       "768         332          19702          24.08   30147288563       6718964   \n",
       "\n",
       "     eth_gasused  eth_ethersupply  eth_chaindatasize  eth_ens_register  \n",
       "764  19038356374      18829.37500                NaN             371.0  \n",
       "765  15951133510      18848.12500                NaN             420.0  \n",
       "766  14093399641      18642.03125                NaN             479.0  \n",
       "767  18669548895      18921.09375                NaN             535.0  \n",
       "768  20581069297      19096.25000                NaN             227.0  "
      ]
     },
     "execution_count": 3,
     "metadata": {},
     "output_type": "execute_result"
    }
   ],
   "source": [
    "df.tail()"
   ]
  },
  {
   "cell_type": "code",
   "execution_count": 4,
   "metadata": {},
   "outputs": [
    {
     "data": {
      "text/plain": [
       "Index(['Date(UTC)', 'UnixTimeStamp', 'eth_etherprice', 'eth_tx', 'eth_address',\n",
       "       'eth_supply', 'eth_marketcap', 'eth_hashrate', 'eth_difficulty',\n",
       "       'eth_blocks', 'eth_uncles', 'eth_blocksize', 'eth_blocktime',\n",
       "       'eth_gasprice', 'eth_gaslimit', 'eth_gasused', 'eth_ethersupply',\n",
       "       'eth_chaindatasize', 'eth_ens_register'],\n",
       "      dtype='object')"
      ]
     },
     "execution_count": 4,
     "metadata": {},
     "output_type": "execute_result"
    }
   ],
   "source": [
    "df.columns"
   ]
  },
  {
   "cell_type": "code",
   "execution_count": 5,
   "metadata": {},
   "outputs": [
    {
     "data": {
      "text/plain": [
       "Date(UTC)            769\n",
       "UnixTimeStamp        769\n",
       "eth_etherprice       769\n",
       "eth_tx               769\n",
       "eth_address          769\n",
       "eth_supply           769\n",
       "eth_marketcap        769\n",
       "eth_hashrate         769\n",
       "eth_difficulty       769\n",
       "eth_blocks           769\n",
       "eth_uncles           769\n",
       "eth_blocksize        769\n",
       "eth_blocktime        769\n",
       "eth_gasprice         769\n",
       "eth_gaslimit         769\n",
       "eth_gasused          769\n",
       "eth_ethersupply      769\n",
       "eth_chaindatasize      0\n",
       "eth_ens_register     125\n",
       "dtype: int64"
      ]
     },
     "execution_count": 5,
     "metadata": {},
     "output_type": "execute_result"
    }
   ],
   "source": [
    "df.count()"
   ]
  },
  {
   "cell_type": "code",
   "execution_count": 6,
   "metadata": {},
   "outputs": [
    {
     "data": {
      "text/plain": [
       "Date(UTC)             object\n",
       "UnixTimeStamp          int64\n",
       "eth_etherprice       float64\n",
       "eth_tx                 int64\n",
       "eth_address            int64\n",
       "eth_supply           float64\n",
       "eth_marketcap        float64\n",
       "eth_hashrate         float64\n",
       "eth_difficulty       float64\n",
       "eth_blocks             int64\n",
       "eth_uncles             int64\n",
       "eth_blocksize          int64\n",
       "eth_blocktime        float64\n",
       "eth_gasprice           int64\n",
       "eth_gaslimit           int64\n",
       "eth_gasused            int64\n",
       "eth_ethersupply      float64\n",
       "eth_chaindatasize    float64\n",
       "eth_ens_register     float64\n",
       "dtype: object"
      ]
     },
     "execution_count": 6,
     "metadata": {},
     "output_type": "execute_result"
    }
   ],
   "source": [
    "df.dtypes"
   ]
  },
  {
   "cell_type": "code",
   "execution_count": null,
   "metadata": {},
   "outputs": [],
   "source": []
  }
 ],
 "metadata": {
  "kernelspec": {
   "display_name": "Python 3",
   "language": "python",
   "name": "python3"
  },
  "language_info": {
   "codemirror_mode": {
    "name": "ipython",
    "version": 3
   },
   "file_extension": ".py",
   "mimetype": "text/x-python",
   "name": "python",
   "nbconvert_exporter": "python",
   "pygments_lexer": "ipython3",
   "version": "3.6.5"
  }
 },
 "nbformat": 4,
 "nbformat_minor": 2
}
