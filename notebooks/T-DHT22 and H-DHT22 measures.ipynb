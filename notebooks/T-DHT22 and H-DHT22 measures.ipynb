{
 "cells": [
  {
   "cell_type": "markdown",
   "metadata": {},
   "source": [
    "# H-DHT22 and T-DHT22 measures "
   ]
  },
  {
   "cell_type": "markdown",
   "metadata": {},
   "source": [
    "First I will try to read the data from sensor H-DHT22 and T-DHT22 measures separately"
   ]
  },
  {
   "cell_type": "code",
   "execution_count": 2,
   "metadata": {},
   "outputs": [],
   "source": [
    "import csv\n",
    "import pandas as pd\n",
    "import numpy as np\n",
    "import json"
   ]
  },
  {
   "cell_type": "code",
   "execution_count": 3,
   "metadata": {},
   "outputs": [],
   "source": [
    "df = pd.read_csv('../data/raw/measures/T-DHT22-measures.csv')"
   ]
  },
  {
   "cell_type": "code",
   "execution_count": 4,
   "metadata": {},
   "outputs": [],
   "source": [
    "df1 = pd.read_csv('../data/raw/measures/H-DHT22-measures.csv')"
   ]
  },
  {
   "cell_type": "code",
   "execution_count": 6,
   "metadata": {},
   "outputs": [
    {
     "data": {
      "text/html": [
       "<div>\n",
       "<style scoped>\n",
       "    .dataframe tbody tr th:only-of-type {\n",
       "        vertical-align: middle;\n",
       "    }\n",
       "\n",
       "    .dataframe tbody tr th {\n",
       "        vertical-align: top;\n",
       "    }\n",
       "\n",
       "    .dataframe thead th {\n",
       "        text-align: right;\n",
       "    }\n",
       "</style>\n",
       "<table border=\"1\" class=\"dataframe\">\n",
       "  <thead>\n",
       "    <tr style=\"text-align: right;\">\n",
       "      <th></th>\n",
       "      <th>sensor</th>\n",
       "      <th>value</th>\n",
       "      <th>time</th>\n",
       "    </tr>\n",
       "  </thead>\n",
       "  <tbody>\n",
       "    <tr>\n",
       "      <th>1440145</th>\n",
       "      <td>T-DHT22</td>\n",
       "      <td>27.4</td>\n",
       "      <td>2018-03-13T11:41:54Z</td>\n",
       "    </tr>\n",
       "    <tr>\n",
       "      <th>1440146</th>\n",
       "      <td>T-DHT22</td>\n",
       "      <td>27.4</td>\n",
       "      <td>2018-03-13T11:41:58Z</td>\n",
       "    </tr>\n",
       "    <tr>\n",
       "      <th>1440147</th>\n",
       "      <td>T-DHT22</td>\n",
       "      <td>27.5</td>\n",
       "      <td>2018-03-13T11:42:02Z</td>\n",
       "    </tr>\n",
       "    <tr>\n",
       "      <th>1440148</th>\n",
       "      <td>T-DHT22</td>\n",
       "      <td>27.4</td>\n",
       "      <td>2018-03-13T11:42:06Z</td>\n",
       "    </tr>\n",
       "    <tr>\n",
       "      <th>1440149</th>\n",
       "      <td>T-DHT22</td>\n",
       "      <td>27.4</td>\n",
       "      <td>2018-03-13T11:42:10Z</td>\n",
       "    </tr>\n",
       "  </tbody>\n",
       "</table>\n",
       "</div>"
      ],
      "text/plain": [
       "          sensor  value                  time\n",
       "1440145  T-DHT22   27.4  2018-03-13T11:41:54Z\n",
       "1440146  T-DHT22   27.4  2018-03-13T11:41:58Z\n",
       "1440147  T-DHT22   27.5  2018-03-13T11:42:02Z\n",
       "1440148  T-DHT22   27.4  2018-03-13T11:42:06Z\n",
       "1440149  T-DHT22   27.4  2018-03-13T11:42:10Z"
      ]
     },
     "execution_count": 6,
     "metadata": {},
     "output_type": "execute_result"
    }
   ],
   "source": [
    "df.tail()"
   ]
  },
  {
   "cell_type": "code",
   "execution_count": 7,
   "metadata": {},
   "outputs": [
    {
     "data": {
      "text/html": [
       "<div>\n",
       "<style scoped>\n",
       "    .dataframe tbody tr th:only-of-type {\n",
       "        vertical-align: middle;\n",
       "    }\n",
       "\n",
       "    .dataframe tbody tr th {\n",
       "        vertical-align: top;\n",
       "    }\n",
       "\n",
       "    .dataframe thead th {\n",
       "        text-align: right;\n",
       "    }\n",
       "</style>\n",
       "<table border=\"1\" class=\"dataframe\">\n",
       "  <thead>\n",
       "    <tr style=\"text-align: right;\">\n",
       "      <th></th>\n",
       "      <th>sensor</th>\n",
       "      <th>value</th>\n",
       "      <th>time</th>\n",
       "    </tr>\n",
       "  </thead>\n",
       "  <tbody>\n",
       "    <tr>\n",
       "      <th>1440155</th>\n",
       "      <td>H-DHT22</td>\n",
       "      <td>1.0</td>\n",
       "      <td>2018-03-13T11:41:54Z</td>\n",
       "    </tr>\n",
       "    <tr>\n",
       "      <th>1440156</th>\n",
       "      <td>H-DHT22</td>\n",
       "      <td>1.0</td>\n",
       "      <td>2018-03-13T11:41:58Z</td>\n",
       "    </tr>\n",
       "    <tr>\n",
       "      <th>1440157</th>\n",
       "      <td>H-DHT22</td>\n",
       "      <td>1.0</td>\n",
       "      <td>2018-03-13T11:42:02Z</td>\n",
       "    </tr>\n",
       "    <tr>\n",
       "      <th>1440158</th>\n",
       "      <td>H-DHT22</td>\n",
       "      <td>1.0</td>\n",
       "      <td>2018-03-13T11:42:06Z</td>\n",
       "    </tr>\n",
       "    <tr>\n",
       "      <th>1440159</th>\n",
       "      <td>H-DHT22</td>\n",
       "      <td>1.0</td>\n",
       "      <td>2018-03-13T11:42:10Z</td>\n",
       "    </tr>\n",
       "  </tbody>\n",
       "</table>\n",
       "</div>"
      ],
      "text/plain": [
       "          sensor  value                  time\n",
       "1440155  H-DHT22    1.0  2018-03-13T11:41:54Z\n",
       "1440156  H-DHT22    1.0  2018-03-13T11:41:58Z\n",
       "1440157  H-DHT22    1.0  2018-03-13T11:42:02Z\n",
       "1440158  H-DHT22    1.0  2018-03-13T11:42:06Z\n",
       "1440159  H-DHT22    1.0  2018-03-13T11:42:10Z"
      ]
     },
     "execution_count": 7,
     "metadata": {},
     "output_type": "execute_result"
    }
   ],
   "source": [
    "df1.tail()"
   ]
  },
  {
   "cell_type": "code",
   "execution_count": 8,
   "metadata": {},
   "outputs": [
    {
     "data": {
      "text/plain": [
       "sensor    1440150\n",
       "value     1440150\n",
       "time      1440150\n",
       "dtype: int64"
      ]
     },
     "execution_count": 8,
     "metadata": {},
     "output_type": "execute_result"
    }
   ],
   "source": [
    "df.count()"
   ]
  },
  {
   "cell_type": "code",
   "execution_count": 9,
   "metadata": {},
   "outputs": [
    {
     "data": {
      "text/plain": [
       "sensor    1440160\n",
       "value     1440160\n",
       "time      1440160\n",
       "dtype: int64"
      ]
     },
     "execution_count": 9,
     "metadata": {},
     "output_type": "execute_result"
    }
   ],
   "source": [
    "df1.count()"
   ]
  },
  {
   "cell_type": "code",
   "execution_count": 10,
   "metadata": {},
   "outputs": [
    {
     "data": {
      "text/plain": [
       "sensor    0\n",
       "value     0\n",
       "time      0\n",
       "dtype: int64"
      ]
     },
     "execution_count": 10,
     "metadata": {},
     "output_type": "execute_result"
    }
   ],
   "source": [
    "df.isnull().sum()"
   ]
  },
  {
   "cell_type": "code",
   "execution_count": 11,
   "metadata": {},
   "outputs": [
    {
     "data": {
      "text/plain": [
       "sensor    0\n",
       "value     0\n",
       "time      0\n",
       "dtype: int64"
      ]
     },
     "execution_count": 11,
     "metadata": {},
     "output_type": "execute_result"
    }
   ],
   "source": [
    "df1.isnull().sum()"
   ]
  },
  {
   "cell_type": "markdown",
   "metadata": {},
   "source": [
    "Convert time column into date time format"
   ]
  },
  {
   "cell_type": "code",
   "execution_count": 12,
   "metadata": {},
   "outputs": [],
   "source": [
    "df['time'] = pd.to_datetime(df['time'])\n",
    "df1['time'] = pd.to_datetime(df1['time'])"
   ]
  },
  {
   "cell_type": "code",
   "execution_count": 13,
   "metadata": {},
   "outputs": [
    {
     "name": "stdout",
     "output_type": "stream",
     "text": [
      "<class 'pandas.core.frame.DataFrame'>\n",
      "RangeIndex: 1440150 entries, 0 to 1440149\n",
      "Data columns (total 3 columns):\n",
      "sensor    1440150 non-null object\n",
      "value     1440150 non-null float64\n",
      "time      1440150 non-null datetime64[ns]\n",
      "dtypes: datetime64[ns](1), float64(1), object(1)\n",
      "memory usage: 33.0+ MB\n"
     ]
    }
   ],
   "source": [
    "df.info()"
   ]
  },
  {
   "cell_type": "code",
   "execution_count": 14,
   "metadata": {},
   "outputs": [
    {
     "name": "stdout",
     "output_type": "stream",
     "text": [
      "<class 'pandas.core.frame.DataFrame'>\n",
      "RangeIndex: 1440160 entries, 0 to 1440159\n",
      "Data columns (total 3 columns):\n",
      "sensor    1440160 non-null object\n",
      "value     1440160 non-null float64\n",
      "time      1440160 non-null datetime64[ns]\n",
      "dtypes: datetime64[ns](1), float64(1), object(1)\n",
      "memory usage: 33.0+ MB\n"
     ]
    }
   ],
   "source": [
    "df1.info()"
   ]
  },
  {
   "cell_type": "code",
   "execution_count": 15,
   "metadata": {},
   "outputs": [],
   "source": [
    "assert df.notna().all().all()\n",
    "assert df1.notna().all().all() "
   ]
  },
  {
   "cell_type": "code",
   "execution_count": 16,
   "metadata": {},
   "outputs": [
    {
     "data": {
      "text/html": [
       "<div>\n",
       "<style scoped>\n",
       "    .dataframe tbody tr th:only-of-type {\n",
       "        vertical-align: middle;\n",
       "    }\n",
       "\n",
       "    .dataframe tbody tr th {\n",
       "        vertical-align: top;\n",
       "    }\n",
       "\n",
       "    .dataframe thead th {\n",
       "        text-align: right;\n",
       "    }\n",
       "</style>\n",
       "<table border=\"1\" class=\"dataframe\">\n",
       "  <thead>\n",
       "    <tr style=\"text-align: right;\">\n",
       "      <th></th>\n",
       "      <th>total</th>\n",
       "      <th>percent</th>\n",
       "    </tr>\n",
       "  </thead>\n",
       "  <tbody>\n",
       "    <tr>\n",
       "      <th>sensor</th>\n",
       "      <td>0</td>\n",
       "      <td>0.0</td>\n",
       "    </tr>\n",
       "    <tr>\n",
       "      <th>value</th>\n",
       "      <td>0</td>\n",
       "      <td>0.0</td>\n",
       "    </tr>\n",
       "    <tr>\n",
       "      <th>time</th>\n",
       "      <td>0</td>\n",
       "      <td>0.0</td>\n",
       "    </tr>\n",
       "  </tbody>\n",
       "</table>\n",
       "</div>"
      ],
      "text/plain": [
       "        total  percent\n",
       "sensor      0      0.0\n",
       "value       0      0.0\n",
       "time        0      0.0"
      ]
     },
     "execution_count": 16,
     "metadata": {},
     "output_type": "execute_result"
    }
   ],
   "source": [
    "missingdf = pd.DataFrame(df.isna().sum()).rename(columns = {0: 'total'})\n",
    "missingdf['percent'] = missingdf['total'] / len(df)\n",
    "missingdf"
   ]
  },
  {
   "cell_type": "code",
   "execution_count": 17,
   "metadata": {},
   "outputs": [
    {
     "data": {
      "text/html": [
       "<div>\n",
       "<style scoped>\n",
       "    .dataframe tbody tr th:only-of-type {\n",
       "        vertical-align: middle;\n",
       "    }\n",
       "\n",
       "    .dataframe tbody tr th {\n",
       "        vertical-align: top;\n",
       "    }\n",
       "\n",
       "    .dataframe thead th {\n",
       "        text-align: right;\n",
       "    }\n",
       "</style>\n",
       "<table border=\"1\" class=\"dataframe\">\n",
       "  <thead>\n",
       "    <tr style=\"text-align: right;\">\n",
       "      <th></th>\n",
       "      <th>total</th>\n",
       "      <th>percent</th>\n",
       "    </tr>\n",
       "  </thead>\n",
       "  <tbody>\n",
       "    <tr>\n",
       "      <th>sensor</th>\n",
       "      <td>0</td>\n",
       "      <td>0.0</td>\n",
       "    </tr>\n",
       "    <tr>\n",
       "      <th>value</th>\n",
       "      <td>0</td>\n",
       "      <td>0.0</td>\n",
       "    </tr>\n",
       "    <tr>\n",
       "      <th>time</th>\n",
       "      <td>0</td>\n",
       "      <td>0.0</td>\n",
       "    </tr>\n",
       "  </tbody>\n",
       "</table>\n",
       "</div>"
      ],
      "text/plain": [
       "        total  percent\n",
       "sensor      0      0.0\n",
       "value       0      0.0\n",
       "time        0      0.0"
      ]
     },
     "execution_count": 17,
     "metadata": {},
     "output_type": "execute_result"
    }
   ],
   "source": [
    "missingdf1 = pd.DataFrame(df.isna().sum()).rename(columns = {0: 'total'})\n",
    "missingdf1['percent'] = missingdf1['total'] / len(df1)\n",
    "missingdf1"
   ]
  },
  {
   "cell_type": "markdown",
   "metadata": {},
   "source": [
    "No missing data and different format between data sensor T-DHT22-measures and H-DHT22-measures"
   ]
  },
  {
   "cell_type": "markdown",
   "metadata": {},
   "source": [
    "T-DHT22 measures the temperature and H-DHT22 measures the humidity. Here I try to merge the data T-DHT22-measures and H-DHT22-measures, because the measurement time is almost the same"
   ]
  },
  {
   "cell_type": "code",
   "execution_count": 19,
   "metadata": {},
   "outputs": [],
   "source": [
    "df.rename(columns={'sensor': 'temperature sensor','value' : 'temperature value'},inplace=True)\n",
    "df1.rename(columns={'sensor': 'humidity sensor','value' : 'humidity value'},inplace=True)"
   ]
  },
  {
   "cell_type": "code",
   "execution_count": 21,
   "metadata": {},
   "outputs": [
    {
     "data": {
      "text/html": [
       "<div>\n",
       "<style scoped>\n",
       "    .dataframe tbody tr th:only-of-type {\n",
       "        vertical-align: middle;\n",
       "    }\n",
       "\n",
       "    .dataframe tbody tr th {\n",
       "        vertical-align: top;\n",
       "    }\n",
       "\n",
       "    .dataframe thead th {\n",
       "        text-align: right;\n",
       "    }\n",
       "</style>\n",
       "<table border=\"1\" class=\"dataframe\">\n",
       "  <thead>\n",
       "    <tr style=\"text-align: right;\">\n",
       "      <th></th>\n",
       "      <th>temperature sensor</th>\n",
       "      <th>temperature value</th>\n",
       "      <th>time</th>\n",
       "    </tr>\n",
       "  </thead>\n",
       "  <tbody>\n",
       "    <tr>\n",
       "      <th>1440145</th>\n",
       "      <td>T-DHT22</td>\n",
       "      <td>27.4</td>\n",
       "      <td>2018-03-13 11:41:54</td>\n",
       "    </tr>\n",
       "    <tr>\n",
       "      <th>1440146</th>\n",
       "      <td>T-DHT22</td>\n",
       "      <td>27.4</td>\n",
       "      <td>2018-03-13 11:41:58</td>\n",
       "    </tr>\n",
       "    <tr>\n",
       "      <th>1440147</th>\n",
       "      <td>T-DHT22</td>\n",
       "      <td>27.5</td>\n",
       "      <td>2018-03-13 11:42:02</td>\n",
       "    </tr>\n",
       "    <tr>\n",
       "      <th>1440148</th>\n",
       "      <td>T-DHT22</td>\n",
       "      <td>27.4</td>\n",
       "      <td>2018-03-13 11:42:06</td>\n",
       "    </tr>\n",
       "    <tr>\n",
       "      <th>1440149</th>\n",
       "      <td>T-DHT22</td>\n",
       "      <td>27.4</td>\n",
       "      <td>2018-03-13 11:42:10</td>\n",
       "    </tr>\n",
       "  </tbody>\n",
       "</table>\n",
       "</div>"
      ],
      "text/plain": [
       "        temperature sensor  temperature value                time\n",
       "1440145            T-DHT22               27.4 2018-03-13 11:41:54\n",
       "1440146            T-DHT22               27.4 2018-03-13 11:41:58\n",
       "1440147            T-DHT22               27.5 2018-03-13 11:42:02\n",
       "1440148            T-DHT22               27.4 2018-03-13 11:42:06\n",
       "1440149            T-DHT22               27.4 2018-03-13 11:42:10"
      ]
     },
     "execution_count": 21,
     "metadata": {},
     "output_type": "execute_result"
    }
   ],
   "source": [
    "df.tail()"
   ]
  },
  {
   "cell_type": "code",
   "execution_count": 22,
   "metadata": {},
   "outputs": [
    {
     "data": {
      "text/html": [
       "<div>\n",
       "<style scoped>\n",
       "    .dataframe tbody tr th:only-of-type {\n",
       "        vertical-align: middle;\n",
       "    }\n",
       "\n",
       "    .dataframe tbody tr th {\n",
       "        vertical-align: top;\n",
       "    }\n",
       "\n",
       "    .dataframe thead th {\n",
       "        text-align: right;\n",
       "    }\n",
       "</style>\n",
       "<table border=\"1\" class=\"dataframe\">\n",
       "  <thead>\n",
       "    <tr style=\"text-align: right;\">\n",
       "      <th></th>\n",
       "      <th>humidity sensor</th>\n",
       "      <th>humidity value</th>\n",
       "      <th>time</th>\n",
       "    </tr>\n",
       "  </thead>\n",
       "  <tbody>\n",
       "    <tr>\n",
       "      <th>1440155</th>\n",
       "      <td>H-DHT22</td>\n",
       "      <td>1.0</td>\n",
       "      <td>2018-03-13 11:41:54</td>\n",
       "    </tr>\n",
       "    <tr>\n",
       "      <th>1440156</th>\n",
       "      <td>H-DHT22</td>\n",
       "      <td>1.0</td>\n",
       "      <td>2018-03-13 11:41:58</td>\n",
       "    </tr>\n",
       "    <tr>\n",
       "      <th>1440157</th>\n",
       "      <td>H-DHT22</td>\n",
       "      <td>1.0</td>\n",
       "      <td>2018-03-13 11:42:02</td>\n",
       "    </tr>\n",
       "    <tr>\n",
       "      <th>1440158</th>\n",
       "      <td>H-DHT22</td>\n",
       "      <td>1.0</td>\n",
       "      <td>2018-03-13 11:42:06</td>\n",
       "    </tr>\n",
       "    <tr>\n",
       "      <th>1440159</th>\n",
       "      <td>H-DHT22</td>\n",
       "      <td>1.0</td>\n",
       "      <td>2018-03-13 11:42:10</td>\n",
       "    </tr>\n",
       "  </tbody>\n",
       "</table>\n",
       "</div>"
      ],
      "text/plain": [
       "        humidity sensor  humidity value                time\n",
       "1440155         H-DHT22             1.0 2018-03-13 11:41:54\n",
       "1440156         H-DHT22             1.0 2018-03-13 11:41:58\n",
       "1440157         H-DHT22             1.0 2018-03-13 11:42:02\n",
       "1440158         H-DHT22             1.0 2018-03-13 11:42:06\n",
       "1440159         H-DHT22             1.0 2018-03-13 11:42:10"
      ]
     },
     "execution_count": 22,
     "metadata": {},
     "output_type": "execute_result"
    }
   ],
   "source": [
    "df1.tail()"
   ]
  },
  {
   "cell_type": "code",
   "execution_count": 23,
   "metadata": {},
   "outputs": [],
   "source": [
    "newdf =  pd.merge(df, df1, on='time', how='outer')"
   ]
  },
  {
   "cell_type": "code",
   "execution_count": 24,
   "metadata": {},
   "outputs": [
    {
     "data": {
      "text/html": [
       "<div>\n",
       "<style scoped>\n",
       "    .dataframe tbody tr th:only-of-type {\n",
       "        vertical-align: middle;\n",
       "    }\n",
       "\n",
       "    .dataframe tbody tr th {\n",
       "        vertical-align: top;\n",
       "    }\n",
       "\n",
       "    .dataframe thead th {\n",
       "        text-align: right;\n",
       "    }\n",
       "</style>\n",
       "<table border=\"1\" class=\"dataframe\">\n",
       "  <thead>\n",
       "    <tr style=\"text-align: right;\">\n",
       "      <th></th>\n",
       "      <th>temperature sensor</th>\n",
       "      <th>temperature value</th>\n",
       "      <th>time</th>\n",
       "      <th>humidity sensor</th>\n",
       "      <th>humidity value</th>\n",
       "    </tr>\n",
       "  </thead>\n",
       "  <tbody>\n",
       "    <tr>\n",
       "      <th>1522248</th>\n",
       "      <td>NaN</td>\n",
       "      <td>NaN</td>\n",
       "      <td>2018-03-13 11:31:12</td>\n",
       "      <td>H-DHT22</td>\n",
       "      <td>1.0</td>\n",
       "    </tr>\n",
       "    <tr>\n",
       "      <th>1522249</th>\n",
       "      <td>NaN</td>\n",
       "      <td>NaN</td>\n",
       "      <td>2018-03-13 11:31:33</td>\n",
       "      <td>H-DHT22</td>\n",
       "      <td>1.0</td>\n",
       "    </tr>\n",
       "    <tr>\n",
       "      <th>1522250</th>\n",
       "      <td>NaN</td>\n",
       "      <td>NaN</td>\n",
       "      <td>2018-03-13 11:32:57</td>\n",
       "      <td>H-DHT22</td>\n",
       "      <td>1.0</td>\n",
       "    </tr>\n",
       "    <tr>\n",
       "      <th>1522251</th>\n",
       "      <td>NaN</td>\n",
       "      <td>NaN</td>\n",
       "      <td>2018-03-13 11:37:38</td>\n",
       "      <td>H-DHT22</td>\n",
       "      <td>1.0</td>\n",
       "    </tr>\n",
       "    <tr>\n",
       "      <th>1522252</th>\n",
       "      <td>NaN</td>\n",
       "      <td>NaN</td>\n",
       "      <td>2018-03-13 11:38:20</td>\n",
       "      <td>H-DHT22</td>\n",
       "      <td>1.0</td>\n",
       "    </tr>\n",
       "  </tbody>\n",
       "</table>\n",
       "</div>"
      ],
      "text/plain": [
       "        temperature sensor  temperature value                time  \\\n",
       "1522248                NaN                NaN 2018-03-13 11:31:12   \n",
       "1522249                NaN                NaN 2018-03-13 11:31:33   \n",
       "1522250                NaN                NaN 2018-03-13 11:32:57   \n",
       "1522251                NaN                NaN 2018-03-13 11:37:38   \n",
       "1522252                NaN                NaN 2018-03-13 11:38:20   \n",
       "\n",
       "        humidity sensor  humidity value  \n",
       "1522248         H-DHT22             1.0  \n",
       "1522249         H-DHT22             1.0  \n",
       "1522250         H-DHT22             1.0  \n",
       "1522251         H-DHT22             1.0  \n",
       "1522252         H-DHT22             1.0  "
      ]
     },
     "execution_count": 24,
     "metadata": {},
     "output_type": "execute_result"
    }
   ],
   "source": [
    "newdf.tail()"
   ]
  },
  {
   "cell_type": "code",
   "execution_count": 26,
   "metadata": {},
   "outputs": [
    {
     "data": {
      "text/html": [
       "<div>\n",
       "<style scoped>\n",
       "    .dataframe tbody tr th:only-of-type {\n",
       "        vertical-align: middle;\n",
       "    }\n",
       "\n",
       "    .dataframe tbody tr th {\n",
       "        vertical-align: top;\n",
       "    }\n",
       "\n",
       "    .dataframe thead th {\n",
       "        text-align: right;\n",
       "    }\n",
       "</style>\n",
       "<table border=\"1\" class=\"dataframe\">\n",
       "  <thead>\n",
       "    <tr style=\"text-align: right;\">\n",
       "      <th></th>\n",
       "      <th>time</th>\n",
       "      <th>temperature sensor</th>\n",
       "      <th>temperature value</th>\n",
       "      <th>humidity sensor</th>\n",
       "      <th>humidity value</th>\n",
       "    </tr>\n",
       "  </thead>\n",
       "  <tbody>\n",
       "    <tr>\n",
       "      <th>1522248</th>\n",
       "      <td>2018-03-13 11:31:12</td>\n",
       "      <td>NaN</td>\n",
       "      <td>NaN</td>\n",
       "      <td>H-DHT22</td>\n",
       "      <td>1.0</td>\n",
       "    </tr>\n",
       "    <tr>\n",
       "      <th>1522249</th>\n",
       "      <td>2018-03-13 11:31:33</td>\n",
       "      <td>NaN</td>\n",
       "      <td>NaN</td>\n",
       "      <td>H-DHT22</td>\n",
       "      <td>1.0</td>\n",
       "    </tr>\n",
       "    <tr>\n",
       "      <th>1522250</th>\n",
       "      <td>2018-03-13 11:32:57</td>\n",
       "      <td>NaN</td>\n",
       "      <td>NaN</td>\n",
       "      <td>H-DHT22</td>\n",
       "      <td>1.0</td>\n",
       "    </tr>\n",
       "    <tr>\n",
       "      <th>1522251</th>\n",
       "      <td>2018-03-13 11:37:38</td>\n",
       "      <td>NaN</td>\n",
       "      <td>NaN</td>\n",
       "      <td>H-DHT22</td>\n",
       "      <td>1.0</td>\n",
       "    </tr>\n",
       "    <tr>\n",
       "      <th>1522252</th>\n",
       "      <td>2018-03-13 11:38:20</td>\n",
       "      <td>NaN</td>\n",
       "      <td>NaN</td>\n",
       "      <td>H-DHT22</td>\n",
       "      <td>1.0</td>\n",
       "    </tr>\n",
       "  </tbody>\n",
       "</table>\n",
       "</div>"
      ],
      "text/plain": [
       "                       time temperature sensor  temperature value  \\\n",
       "1522248 2018-03-13 11:31:12                NaN                NaN   \n",
       "1522249 2018-03-13 11:31:33                NaN                NaN   \n",
       "1522250 2018-03-13 11:32:57                NaN                NaN   \n",
       "1522251 2018-03-13 11:37:38                NaN                NaN   \n",
       "1522252 2018-03-13 11:38:20                NaN                NaN   \n",
       "\n",
       "        humidity sensor  humidity value  \n",
       "1522248         H-DHT22             1.0  \n",
       "1522249         H-DHT22             1.0  \n",
       "1522250         H-DHT22             1.0  \n",
       "1522251         H-DHT22             1.0  \n",
       "1522252         H-DHT22             1.0  "
      ]
     },
     "execution_count": 26,
     "metadata": {},
     "output_type": "execute_result"
    }
   ],
   "source": [
    "newdf = newdf.reindex(columns=['time','temperature sensor','temperature value','humidity sensor','humidity value'])\n",
    "newdf = newdf[['time','temperature sensor','temperature value','humidity sensor','humidity value']]\n",
    "newdf.tail()"
   ]
  },
  {
   "cell_type": "code",
   "execution_count": 27,
   "metadata": {},
   "outputs": [
    {
     "data": {
      "text/plain": [
       "time                  1522253\n",
       "temperature sensor    1440150\n",
       "temperature value     1440150\n",
       "humidity sensor       1440160\n",
       "humidity value        1440160\n",
       "dtype: int64"
      ]
     },
     "execution_count": 27,
     "metadata": {},
     "output_type": "execute_result"
    }
   ],
   "source": [
    "newdf.count()"
   ]
  },
  {
   "cell_type": "code",
   "execution_count": 28,
   "metadata": {},
   "outputs": [
    {
     "data": {
      "text/html": [
       "<div>\n",
       "<style scoped>\n",
       "    .dataframe tbody tr th:only-of-type {\n",
       "        vertical-align: middle;\n",
       "    }\n",
       "\n",
       "    .dataframe tbody tr th {\n",
       "        vertical-align: top;\n",
       "    }\n",
       "\n",
       "    .dataframe thead th {\n",
       "        text-align: right;\n",
       "    }\n",
       "</style>\n",
       "<table border=\"1\" class=\"dataframe\">\n",
       "  <thead>\n",
       "    <tr style=\"text-align: right;\">\n",
       "      <th></th>\n",
       "      <th>total</th>\n",
       "      <th>percent</th>\n",
       "    </tr>\n",
       "  </thead>\n",
       "  <tbody>\n",
       "    <tr>\n",
       "      <th>time</th>\n",
       "      <td>0</td>\n",
       "      <td>0.000000</td>\n",
       "    </tr>\n",
       "    <tr>\n",
       "      <th>temperature sensor</th>\n",
       "      <td>82103</td>\n",
       "      <td>0.053935</td>\n",
       "    </tr>\n",
       "    <tr>\n",
       "      <th>temperature value</th>\n",
       "      <td>82103</td>\n",
       "      <td>0.053935</td>\n",
       "    </tr>\n",
       "    <tr>\n",
       "      <th>humidity sensor</th>\n",
       "      <td>82093</td>\n",
       "      <td>0.053929</td>\n",
       "    </tr>\n",
       "    <tr>\n",
       "      <th>humidity value</th>\n",
       "      <td>82093</td>\n",
       "      <td>0.053929</td>\n",
       "    </tr>\n",
       "  </tbody>\n",
       "</table>\n",
       "</div>"
      ],
      "text/plain": [
       "                    total   percent\n",
       "time                    0  0.000000\n",
       "temperature sensor  82103  0.053935\n",
       "temperature value   82103  0.053935\n",
       "humidity sensor     82093  0.053929\n",
       "humidity value      82093  0.053929"
      ]
     },
     "execution_count": 28,
     "metadata": {},
     "output_type": "execute_result"
    }
   ],
   "source": [
    "missingnewdf = pd.DataFrame(newdf.isna().sum()).rename(columns = {0: 'total'})\n",
    "missingnewdf['percent'] = missingnewdf['total'] / len(newdf)\n",
    "missingnewdf"
   ]
  },
  {
   "cell_type": "markdown",
   "metadata": {},
   "source": [
    "After merging the data from H-DHT22 and T-DHT22 sensor there are many missing data founded. This is maybe because the difference measurement time, so here I will try to interpolate the missing data."
   ]
  },
  {
   "cell_type": "markdown",
   "metadata": {},
   "source": [
    "Fill the NaN value on humidity value with intepolate data using time"
   ]
  },
  {
   "cell_type": "code",
   "execution_count": 29,
   "metadata": {},
   "outputs": [],
   "source": [
    "newdf.set_index('time',inplace=True)\n",
    "new_df = newdf.interpolate(method=\"time\") "
   ]
  },
  {
   "cell_type": "code",
   "execution_count": 30,
   "metadata": {},
   "outputs": [
    {
     "data": {
      "text/html": [
       "<div>\n",
       "<style scoped>\n",
       "    .dataframe tbody tr th:only-of-type {\n",
       "        vertical-align: middle;\n",
       "    }\n",
       "\n",
       "    .dataframe tbody tr th {\n",
       "        vertical-align: top;\n",
       "    }\n",
       "\n",
       "    .dataframe thead th {\n",
       "        text-align: right;\n",
       "    }\n",
       "</style>\n",
       "<table border=\"1\" class=\"dataframe\">\n",
       "  <thead>\n",
       "    <tr style=\"text-align: right;\">\n",
       "      <th></th>\n",
       "      <th>temperature sensor</th>\n",
       "      <th>temperature value</th>\n",
       "      <th>humidity sensor</th>\n",
       "      <th>humidity value</th>\n",
       "    </tr>\n",
       "    <tr>\n",
       "      <th>time</th>\n",
       "      <th></th>\n",
       "      <th></th>\n",
       "      <th></th>\n",
       "      <th></th>\n",
       "    </tr>\n",
       "  </thead>\n",
       "  <tbody>\n",
       "    <tr>\n",
       "      <th>2018-03-13 11:31:12</th>\n",
       "      <td>NaN</td>\n",
       "      <td>27.4</td>\n",
       "      <td>H-DHT22</td>\n",
       "      <td>1.0</td>\n",
       "    </tr>\n",
       "    <tr>\n",
       "      <th>2018-03-13 11:31:33</th>\n",
       "      <td>NaN</td>\n",
       "      <td>27.4</td>\n",
       "      <td>H-DHT22</td>\n",
       "      <td>1.0</td>\n",
       "    </tr>\n",
       "    <tr>\n",
       "      <th>2018-03-13 11:32:57</th>\n",
       "      <td>NaN</td>\n",
       "      <td>27.4</td>\n",
       "      <td>H-DHT22</td>\n",
       "      <td>1.0</td>\n",
       "    </tr>\n",
       "    <tr>\n",
       "      <th>2018-03-13 11:37:38</th>\n",
       "      <td>NaN</td>\n",
       "      <td>27.5</td>\n",
       "      <td>H-DHT22</td>\n",
       "      <td>1.0</td>\n",
       "    </tr>\n",
       "    <tr>\n",
       "      <th>2018-03-13 11:38:20</th>\n",
       "      <td>NaN</td>\n",
       "      <td>27.5</td>\n",
       "      <td>H-DHT22</td>\n",
       "      <td>1.0</td>\n",
       "    </tr>\n",
       "  </tbody>\n",
       "</table>\n",
       "</div>"
      ],
      "text/plain": [
       "                    temperature sensor  temperature value humidity sensor  \\\n",
       "time                                                                        \n",
       "2018-03-13 11:31:12                NaN               27.4         H-DHT22   \n",
       "2018-03-13 11:31:33                NaN               27.4         H-DHT22   \n",
       "2018-03-13 11:32:57                NaN               27.4         H-DHT22   \n",
       "2018-03-13 11:37:38                NaN               27.5         H-DHT22   \n",
       "2018-03-13 11:38:20                NaN               27.5         H-DHT22   \n",
       "\n",
       "                     humidity value  \n",
       "time                                 \n",
       "2018-03-13 11:31:12             1.0  \n",
       "2018-03-13 11:31:33             1.0  \n",
       "2018-03-13 11:32:57             1.0  \n",
       "2018-03-13 11:37:38             1.0  \n",
       "2018-03-13 11:38:20             1.0  "
      ]
     },
     "execution_count": 30,
     "metadata": {},
     "output_type": "execute_result"
    }
   ],
   "source": [
    "new_df.tail()"
   ]
  },
  {
   "cell_type": "markdown",
   "metadata": {},
   "source": [
    "Temperature sensor still have NaN value and we will try to use another method to fill in the NaN data"
   ]
  },
  {
   "cell_type": "code",
   "execution_count": 32,
   "metadata": {},
   "outputs": [
    {
     "data": {
      "text/html": [
       "<div>\n",
       "<style scoped>\n",
       "    .dataframe tbody tr th:only-of-type {\n",
       "        vertical-align: middle;\n",
       "    }\n",
       "\n",
       "    .dataframe tbody tr th {\n",
       "        vertical-align: top;\n",
       "    }\n",
       "\n",
       "    .dataframe thead th {\n",
       "        text-align: right;\n",
       "    }\n",
       "</style>\n",
       "<table border=\"1\" class=\"dataframe\">\n",
       "  <thead>\n",
       "    <tr style=\"text-align: right;\">\n",
       "      <th></th>\n",
       "      <th>temperature sensor</th>\n",
       "      <th>temperature value</th>\n",
       "      <th>humidity sensor</th>\n",
       "      <th>humidity value</th>\n",
       "    </tr>\n",
       "    <tr>\n",
       "      <th>time</th>\n",
       "      <th></th>\n",
       "      <th></th>\n",
       "      <th></th>\n",
       "      <th></th>\n",
       "    </tr>\n",
       "  </thead>\n",
       "  <tbody>\n",
       "    <tr>\n",
       "      <th>2018-03-13 11:31:12</th>\n",
       "      <td>T-DHT22</td>\n",
       "      <td>27.4</td>\n",
       "      <td>H-DHT22</td>\n",
       "      <td>1.0</td>\n",
       "    </tr>\n",
       "    <tr>\n",
       "      <th>2018-03-13 11:31:33</th>\n",
       "      <td>T-DHT22</td>\n",
       "      <td>27.4</td>\n",
       "      <td>H-DHT22</td>\n",
       "      <td>1.0</td>\n",
       "    </tr>\n",
       "    <tr>\n",
       "      <th>2018-03-13 11:32:57</th>\n",
       "      <td>T-DHT22</td>\n",
       "      <td>27.4</td>\n",
       "      <td>H-DHT22</td>\n",
       "      <td>1.0</td>\n",
       "    </tr>\n",
       "    <tr>\n",
       "      <th>2018-03-13 11:37:38</th>\n",
       "      <td>T-DHT22</td>\n",
       "      <td>27.5</td>\n",
       "      <td>H-DHT22</td>\n",
       "      <td>1.0</td>\n",
       "    </tr>\n",
       "    <tr>\n",
       "      <th>2018-03-13 11:38:20</th>\n",
       "      <td>T-DHT22</td>\n",
       "      <td>27.5</td>\n",
       "      <td>H-DHT22</td>\n",
       "      <td>1.0</td>\n",
       "    </tr>\n",
       "  </tbody>\n",
       "</table>\n",
       "</div>"
      ],
      "text/plain": [
       "                    temperature sensor  temperature value humidity sensor  \\\n",
       "time                                                                        \n",
       "2018-03-13 11:31:12            T-DHT22               27.4         H-DHT22   \n",
       "2018-03-13 11:31:33            T-DHT22               27.4         H-DHT22   \n",
       "2018-03-13 11:32:57            T-DHT22               27.4         H-DHT22   \n",
       "2018-03-13 11:37:38            T-DHT22               27.5         H-DHT22   \n",
       "2018-03-13 11:38:20            T-DHT22               27.5         H-DHT22   \n",
       "\n",
       "                     humidity value  \n",
       "time                                 \n",
       "2018-03-13 11:31:12             1.0  \n",
       "2018-03-13 11:31:33             1.0  \n",
       "2018-03-13 11:32:57             1.0  \n",
       "2018-03-13 11:37:38             1.0  \n",
       "2018-03-13 11:38:20             1.0  "
      ]
     },
     "execution_count": 32,
     "metadata": {},
     "output_type": "execute_result"
    }
   ],
   "source": [
    "new_df1 = new_df.fillna(method=\"ffill\")\n",
    "new_df1.tail()"
   ]
  },
  {
   "cell_type": "code",
   "execution_count": 33,
   "metadata": {},
   "outputs": [
    {
     "data": {
      "text/html": [
       "<div>\n",
       "<style scoped>\n",
       "    .dataframe tbody tr th:only-of-type {\n",
       "        vertical-align: middle;\n",
       "    }\n",
       "\n",
       "    .dataframe tbody tr th {\n",
       "        vertical-align: top;\n",
       "    }\n",
       "\n",
       "    .dataframe thead th {\n",
       "        text-align: right;\n",
       "    }\n",
       "</style>\n",
       "<table border=\"1\" class=\"dataframe\">\n",
       "  <thead>\n",
       "    <tr style=\"text-align: right;\">\n",
       "      <th></th>\n",
       "      <th>total</th>\n",
       "      <th>percent</th>\n",
       "    </tr>\n",
       "  </thead>\n",
       "  <tbody>\n",
       "    <tr>\n",
       "      <th>temperature sensor</th>\n",
       "      <td>0</td>\n",
       "      <td>0.0</td>\n",
       "    </tr>\n",
       "    <tr>\n",
       "      <th>temperature value</th>\n",
       "      <td>0</td>\n",
       "      <td>0.0</td>\n",
       "    </tr>\n",
       "    <tr>\n",
       "      <th>humidity sensor</th>\n",
       "      <td>0</td>\n",
       "      <td>0.0</td>\n",
       "    </tr>\n",
       "    <tr>\n",
       "      <th>humidity value</th>\n",
       "      <td>0</td>\n",
       "      <td>0.0</td>\n",
       "    </tr>\n",
       "  </tbody>\n",
       "</table>\n",
       "</div>"
      ],
      "text/plain": [
       "                    total  percent\n",
       "temperature sensor      0      0.0\n",
       "temperature value       0      0.0\n",
       "humidity sensor         0      0.0\n",
       "humidity value          0      0.0"
      ]
     },
     "execution_count": 33,
     "metadata": {},
     "output_type": "execute_result"
    }
   ],
   "source": [
    "missingnewdf1 = pd.DataFrame(new_df1.isna().sum()).rename(columns = {0: 'total'})\n",
    "missingnewdf1['percent'] = missingnewdf1['total'] / len(new_df1)\n",
    "missingnewdf1"
   ]
  },
  {
   "cell_type": "code",
   "execution_count": 34,
   "metadata": {},
   "outputs": [
    {
     "data": {
      "text/plain": [
       "temperature sensor    1522253\n",
       "temperature value     1522253\n",
       "humidity sensor       1522253\n",
       "humidity value        1522253\n",
       "dtype: int64"
      ]
     },
     "execution_count": 34,
     "metadata": {},
     "output_type": "execute_result"
    }
   ],
   "source": [
    "new_df1.count()"
   ]
  },
  {
   "cell_type": "markdown",
   "metadata": {},
   "source": [
    "After interpolate and fill the data, no more missing value and I assume the data is clean"
   ]
  }
 ],
 "metadata": {
  "kernelspec": {
   "display_name": "Python 3",
   "language": "python",
   "name": "python3"
  },
  "language_info": {
   "codemirror_mode": {
    "name": "ipython",
    "version": 3
   },
   "file_extension": ".py",
   "mimetype": "text/x-python",
   "name": "python",
   "nbconvert_exporter": "python",
   "pygments_lexer": "ipython3",
   "version": "3.6.5"
  }
 },
 "nbformat": 4,
 "nbformat_minor": 2
}
