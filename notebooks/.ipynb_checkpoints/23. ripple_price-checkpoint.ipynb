{
 "cells": [
  {
   "cell_type": "markdown",
   "metadata": {},
   "source": [
    "# Ripple Price"
   ]
  },
  {
   "cell_type": "markdown",
   "metadata": {},
   "source": [
    "by: Widya Meiriska"
   ]
  },
  {
   "cell_type": "markdown",
   "metadata": {},
   "source": [
    "### 1. Read Dataset"
   ]
  },
  {
   "cell_type": "code",
   "execution_count": 1,
   "metadata": {},
   "outputs": [],
   "source": [
    "import csv\n",
    "import pandas as pd\n",
    "import numpy as np\n",
    "import matplotlib.pyplot as plt"
   ]
  },
  {
   "cell_type": "code",
   "execution_count": 2,
   "metadata": {},
   "outputs": [],
   "source": [
    "df = pd.read_csv('../data/raw/bitcoin/ripple_price.csv',parse_dates = ['Date'])"
   ]
  },
  {
   "cell_type": "code",
   "execution_count": 3,
   "metadata": {},
   "outputs": [
    {
     "data": {
      "text/html": [
       "<div>\n",
       "<style scoped>\n",
       "    .dataframe tbody tr th:only-of-type {\n",
       "        vertical-align: middle;\n",
       "    }\n",
       "\n",
       "    .dataframe tbody tr th {\n",
       "        vertical-align: top;\n",
       "    }\n",
       "\n",
       "    .dataframe thead th {\n",
       "        text-align: right;\n",
       "    }\n",
       "</style>\n",
       "<table border=\"1\" class=\"dataframe\">\n",
       "  <thead>\n",
       "    <tr style=\"text-align: right;\">\n",
       "      <th></th>\n",
       "      <th>Date</th>\n",
       "      <th>Open</th>\n",
       "      <th>High</th>\n",
       "      <th>Low</th>\n",
       "      <th>Close</th>\n",
       "      <th>Volume</th>\n",
       "      <th>Market Cap</th>\n",
       "    </tr>\n",
       "  </thead>\n",
       "  <tbody>\n",
       "    <tr>\n",
       "      <th>1489</th>\n",
       "      <td>2013-08-08</td>\n",
       "      <td>0.004397</td>\n",
       "      <td>0.004424</td>\n",
       "      <td>0.004175</td>\n",
       "      <td>0.004254</td>\n",
       "      <td>-</td>\n",
       "      <td>34,372,500</td>\n",
       "    </tr>\n",
       "    <tr>\n",
       "      <th>1490</th>\n",
       "      <td>2013-08-07</td>\n",
       "      <td>0.004669</td>\n",
       "      <td>0.004682</td>\n",
       "      <td>0.004333</td>\n",
       "      <td>0.004417</td>\n",
       "      <td>-</td>\n",
       "      <td>36,503,500</td>\n",
       "    </tr>\n",
       "    <tr>\n",
       "      <th>1491</th>\n",
       "      <td>2013-08-06</td>\n",
       "      <td>0.005637</td>\n",
       "      <td>0.005661</td>\n",
       "      <td>0.004629</td>\n",
       "      <td>0.004680</td>\n",
       "      <td>-</td>\n",
       "      <td>44,067,600</td>\n",
       "    </tr>\n",
       "    <tr>\n",
       "      <th>1492</th>\n",
       "      <td>2013-08-05</td>\n",
       "      <td>0.005875</td>\n",
       "      <td>0.005980</td>\n",
       "      <td>0.005613</td>\n",
       "      <td>0.005613</td>\n",
       "      <td>-</td>\n",
       "      <td>45,928,400</td>\n",
       "    </tr>\n",
       "    <tr>\n",
       "      <th>1493</th>\n",
       "      <td>2013-08-04</td>\n",
       "      <td>0.005874</td>\n",
       "      <td>0.005927</td>\n",
       "      <td>0.005874</td>\n",
       "      <td>0.005882</td>\n",
       "      <td>-</td>\n",
       "      <td>45,921,000</td>\n",
       "    </tr>\n",
       "  </tbody>\n",
       "</table>\n",
       "</div>"
      ],
      "text/plain": [
       "           Date      Open      High       Low     Close Volume  Market Cap\n",
       "1489 2013-08-08  0.004397  0.004424  0.004175  0.004254      -  34,372,500\n",
       "1490 2013-08-07  0.004669  0.004682  0.004333  0.004417      -  36,503,500\n",
       "1491 2013-08-06  0.005637  0.005661  0.004629  0.004680      -  44,067,600\n",
       "1492 2013-08-05  0.005875  0.005980  0.005613  0.005613      -  45,928,400\n",
       "1493 2013-08-04  0.005874  0.005927  0.005874  0.005882      -  45,921,000"
      ]
     },
     "execution_count": 3,
     "metadata": {},
     "output_type": "execute_result"
    }
   ],
   "source": [
    "df.tail()"
   ]
  },
  {
   "cell_type": "markdown",
   "metadata": {},
   "source": [
    "### 2. Data Investigation"
   ]
  },
  {
   "cell_type": "code",
   "execution_count": 4,
   "metadata": {},
   "outputs": [
    {
     "data": {
      "text/plain": [
       "Index(['Date', 'Open', 'High', 'Low', 'Close', 'Volume', 'Market Cap'], dtype='object')"
      ]
     },
     "execution_count": 4,
     "metadata": {},
     "output_type": "execute_result"
    }
   ],
   "source": [
    "df.columns"
   ]
  },
  {
   "cell_type": "code",
   "execution_count": 5,
   "metadata": {},
   "outputs": [
    {
     "data": {
      "text/plain": [
       "Date          1494\n",
       "Open          1494\n",
       "High          1494\n",
       "Low           1494\n",
       "Close         1494\n",
       "Volume        1494\n",
       "Market Cap    1494\n",
       "dtype: int64"
      ]
     },
     "execution_count": 5,
     "metadata": {},
     "output_type": "execute_result"
    }
   ],
   "source": [
    "df.count()"
   ]
  },
  {
   "cell_type": "code",
   "execution_count": 6,
   "metadata": {},
   "outputs": [
    {
     "data": {
      "text/plain": [
       "Date          datetime64[ns]\n",
       "Open                 float64\n",
       "High                 float64\n",
       "Low                  float64\n",
       "Close                float64\n",
       "Volume                object\n",
       "Market Cap            object\n",
       "dtype: object"
      ]
     },
     "execution_count": 6,
     "metadata": {},
     "output_type": "execute_result"
    }
   ],
   "source": [
    "df.dtypes"
   ]
  },
  {
   "cell_type": "markdown",
   "metadata": {},
   "source": [
    "#### There are missing data on Volume column and we can see the format data is not same. Some of the data do not use number format."
   ]
  },
  {
   "cell_type": "code",
   "execution_count": 7,
   "metadata": {},
   "outputs": [],
   "source": [
    "df['Volume'] = df['Volume'].replace('-', 'NaN')\n",
    "df['Volume'] = df['Volume'].apply(lambda x: float(str(x).replace(',','')))\n",
    "df['Market Cap'] = df['Market Cap'].apply(lambda x: float(str(x).replace(',',''))) "
   ]
  },
  {
   "cell_type": "code",
   "execution_count": 9,
   "metadata": {},
   "outputs": [
    {
     "data": {
      "text/html": [
       "<div>\n",
       "<style scoped>\n",
       "    .dataframe tbody tr th:only-of-type {\n",
       "        vertical-align: middle;\n",
       "    }\n",
       "\n",
       "    .dataframe tbody tr th {\n",
       "        vertical-align: top;\n",
       "    }\n",
       "\n",
       "    .dataframe thead th {\n",
       "        text-align: right;\n",
       "    }\n",
       "</style>\n",
       "<table border=\"1\" class=\"dataframe\">\n",
       "  <thead>\n",
       "    <tr style=\"text-align: right;\">\n",
       "      <th></th>\n",
       "      <th>Date</th>\n",
       "      <th>Open</th>\n",
       "      <th>High</th>\n",
       "      <th>Low</th>\n",
       "      <th>Close</th>\n",
       "      <th>Volume</th>\n",
       "      <th>Market Cap</th>\n",
       "    </tr>\n",
       "  </thead>\n",
       "  <tbody>\n",
       "    <tr>\n",
       "      <th>1489</th>\n",
       "      <td>2013-08-08</td>\n",
       "      <td>0.004397</td>\n",
       "      <td>0.004424</td>\n",
       "      <td>0.004175</td>\n",
       "      <td>0.004254</td>\n",
       "      <td>NaN</td>\n",
       "      <td>34372500.0</td>\n",
       "    </tr>\n",
       "    <tr>\n",
       "      <th>1490</th>\n",
       "      <td>2013-08-07</td>\n",
       "      <td>0.004669</td>\n",
       "      <td>0.004682</td>\n",
       "      <td>0.004333</td>\n",
       "      <td>0.004417</td>\n",
       "      <td>NaN</td>\n",
       "      <td>36503500.0</td>\n",
       "    </tr>\n",
       "    <tr>\n",
       "      <th>1491</th>\n",
       "      <td>2013-08-06</td>\n",
       "      <td>0.005637</td>\n",
       "      <td>0.005661</td>\n",
       "      <td>0.004629</td>\n",
       "      <td>0.004680</td>\n",
       "      <td>NaN</td>\n",
       "      <td>44067600.0</td>\n",
       "    </tr>\n",
       "    <tr>\n",
       "      <th>1492</th>\n",
       "      <td>2013-08-05</td>\n",
       "      <td>0.005875</td>\n",
       "      <td>0.005980</td>\n",
       "      <td>0.005613</td>\n",
       "      <td>0.005613</td>\n",
       "      <td>NaN</td>\n",
       "      <td>45928400.0</td>\n",
       "    </tr>\n",
       "    <tr>\n",
       "      <th>1493</th>\n",
       "      <td>2013-08-04</td>\n",
       "      <td>0.005874</td>\n",
       "      <td>0.005927</td>\n",
       "      <td>0.005874</td>\n",
       "      <td>0.005882</td>\n",
       "      <td>NaN</td>\n",
       "      <td>45921000.0</td>\n",
       "    </tr>\n",
       "  </tbody>\n",
       "</table>\n",
       "</div>"
      ],
      "text/plain": [
       "           Date      Open      High       Low     Close  Volume  Market Cap\n",
       "1489 2013-08-08  0.004397  0.004424  0.004175  0.004254     NaN  34372500.0\n",
       "1490 2013-08-07  0.004669  0.004682  0.004333  0.004417     NaN  36503500.0\n",
       "1491 2013-08-06  0.005637  0.005661  0.004629  0.004680     NaN  44067600.0\n",
       "1492 2013-08-05  0.005875  0.005980  0.005613  0.005613     NaN  45928400.0\n",
       "1493 2013-08-04  0.005874  0.005927  0.005874  0.005882     NaN  45921000.0"
      ]
     },
     "execution_count": 9,
     "metadata": {},
     "output_type": "execute_result"
    }
   ],
   "source": [
    "df.tail()"
   ]
  },
  {
   "cell_type": "code",
   "execution_count": 10,
   "metadata": {},
   "outputs": [
    {
     "data": {
      "text/plain": [
       "Date          1494\n",
       "Open          1494\n",
       "High          1494\n",
       "Low           1494\n",
       "Close         1494\n",
       "Volume        1349\n",
       "Market Cap    1494\n",
       "dtype: int64"
      ]
     },
     "execution_count": 10,
     "metadata": {},
     "output_type": "execute_result"
    }
   ],
   "source": [
    "df.count()"
   ]
  },
  {
   "cell_type": "code",
   "execution_count": 11,
   "metadata": {},
   "outputs": [
    {
     "name": "stdout",
     "output_type": "stream",
     "text": [
      "<class 'pandas.core.frame.DataFrame'>\n",
      "RangeIndex: 1494 entries, 0 to 1493\n",
      "Data columns (total 7 columns):\n",
      "Date          1494 non-null datetime64[ns]\n",
      "Open          1494 non-null float64\n",
      "High          1494 non-null float64\n",
      "Low           1494 non-null float64\n",
      "Close         1494 non-null float64\n",
      "Volume        1349 non-null float64\n",
      "Market Cap    1494 non-null float64\n",
      "dtypes: datetime64[ns](1), float64(6)\n",
      "memory usage: 81.8 KB\n"
     ]
    }
   ],
   "source": [
    "df.info()"
   ]
  },
  {
   "cell_type": "code",
   "execution_count": 12,
   "metadata": {},
   "outputs": [
    {
     "data": {
      "text/html": [
       "<div>\n",
       "<style scoped>\n",
       "    .dataframe tbody tr th:only-of-type {\n",
       "        vertical-align: middle;\n",
       "    }\n",
       "\n",
       "    .dataframe tbody tr th {\n",
       "        vertical-align: top;\n",
       "    }\n",
       "\n",
       "    .dataframe thead th {\n",
       "        text-align: right;\n",
       "    }\n",
       "</style>\n",
       "<table border=\"1\" class=\"dataframe\">\n",
       "  <thead>\n",
       "    <tr style=\"text-align: right;\">\n",
       "      <th></th>\n",
       "      <th>total</th>\n",
       "      <th>percent</th>\n",
       "    </tr>\n",
       "  </thead>\n",
       "  <tbody>\n",
       "    <tr>\n",
       "      <th>Date</th>\n",
       "      <td>0</td>\n",
       "      <td>0.000000</td>\n",
       "    </tr>\n",
       "    <tr>\n",
       "      <th>Open</th>\n",
       "      <td>0</td>\n",
       "      <td>0.000000</td>\n",
       "    </tr>\n",
       "    <tr>\n",
       "      <th>High</th>\n",
       "      <td>0</td>\n",
       "      <td>0.000000</td>\n",
       "    </tr>\n",
       "    <tr>\n",
       "      <th>Low</th>\n",
       "      <td>0</td>\n",
       "      <td>0.000000</td>\n",
       "    </tr>\n",
       "    <tr>\n",
       "      <th>Close</th>\n",
       "      <td>0</td>\n",
       "      <td>0.000000</td>\n",
       "    </tr>\n",
       "    <tr>\n",
       "      <th>Volume</th>\n",
       "      <td>145</td>\n",
       "      <td>0.097055</td>\n",
       "    </tr>\n",
       "    <tr>\n",
       "      <th>Market Cap</th>\n",
       "      <td>0</td>\n",
       "      <td>0.000000</td>\n",
       "    </tr>\n",
       "  </tbody>\n",
       "</table>\n",
       "</div>"
      ],
      "text/plain": [
       "            total   percent\n",
       "Date            0  0.000000\n",
       "Open            0  0.000000\n",
       "High            0  0.000000\n",
       "Low             0  0.000000\n",
       "Close           0  0.000000\n",
       "Volume        145  0.097055\n",
       "Market Cap      0  0.000000"
      ]
     },
     "execution_count": 12,
     "metadata": {},
     "output_type": "execute_result"
    }
   ],
   "source": [
    "missingdf = pd.DataFrame(df.isna().sum()).rename(columns = {0: 'total'})\n",
    "missingdf['percent'] = missingdf['total'] / len(df)\n",
    "missingdf"
   ]
  },
  {
   "cell_type": "markdown",
   "metadata": {},
   "source": [
    "I try to fill in the missing value by interpolated the data"
   ]
  },
  {
   "cell_type": "code",
   "execution_count": 13,
   "metadata": {},
   "outputs": [
    {
     "data": {
      "text/plain": [
       "Open          0.628818\n",
       "High          0.665021\n",
       "Low           0.618890\n",
       "Close         0.647339\n",
       "Volume        1.000000\n",
       "Market Cap    0.629679\n",
       "Name: Volume, dtype: float64"
      ]
     },
     "execution_count": 13,
     "metadata": {},
     "output_type": "execute_result"
    }
   ],
   "source": [
    "# Lets see the correlation between each column\n",
    "correlation = df.corr(method=\"pearson\")\n",
    "correlation['Volume']"
   ]
  },
  {
   "cell_type": "code",
   "execution_count": 14,
   "metadata": {},
   "outputs": [
    {
     "data": {
      "text/plain": [
       "<function matplotlib.pyplot.show(*args, **kw)>"
      ]
     },
     "execution_count": 14,
     "metadata": {},
     "output_type": "execute_result"
    },
    {
     "data": {
      "image/png": "[encoded data removed]",
      "text/plain": [
       "<Figure size 1800x1800 with 1 Axes>"
      ]
     },
     "metadata": {},
     "output_type": "display_data"
    }
   ],
   "source": [
    "#Plot data to see the relation between each column\n",
    "import matplotlib.pyplot as plt\n",
    "plt.figure(figsize=(25, 25))\n",
    "V = df['Volume']\n",
    "MC = df['High']\n",
    "plt.subplot(5,5,5)\n",
    "plt.scatter(MC, V)\n",
    "plt.title('High vs Volume')\n",
    "\n",
    "plt.show"
   ]
  },
  {
   "cell_type": "markdown",
   "metadata": {},
   "source": [
    "To fill the NaN value I try to interpolate the data using linear method using value from High column. Because from the information above we can see that Volume has the closest correlation with High column."
   ]
  },
  {
   "cell_type": "code",
   "execution_count": 15,
   "metadata": {},
   "outputs": [],
   "source": [
    "from sklearn import linear_model\n",
    "\n",
    "model = linear_model.LinearRegression()\n",
    "High  = df[['High']].iloc[0:1000]\n",
    "Volume = df['Volume'].iloc[0:1000]"
   ]
  },
  {
   "cell_type": "code",
   "execution_count": 16,
   "metadata": {},
   "outputs": [
    {
     "data": {
      "text/plain": [
       "LinearRegression(copy_X=True, fit_intercept=True, n_jobs=1, normalize=False)"
      ]
     },
     "execution_count": 16,
     "metadata": {},
     "output_type": "execute_result"
    }
   ],
   "source": [
    "#Train model \n",
    "model.fit(High, Volume)"
   ]
  },
  {
   "cell_type": "code",
   "execution_count": 17,
   "metadata": {},
   "outputs": [
    {
     "data": {
      "text/plain": [
       "0.4339681229787455"
      ]
     },
     "execution_count": 17,
     "metadata": {},
     "output_type": "execute_result"
    }
   ],
   "source": [
    "#The model score almost 1 so that indicate the model is near to the truth\n",
    "model.score(High, Volume)"
   ]
  },
  {
   "cell_type": "markdown",
   "metadata": {},
   "source": [
    "Here I make a new column Volume Predict which contains Volume with no NaN value"
   ]
  },
  {
   "cell_type": "code",
   "execution_count": 18,
   "metadata": {},
   "outputs": [
    {
     "data": {
      "text/html": [
       "<div>\n",
       "<style scoped>\n",
       "    .dataframe tbody tr th:only-of-type {\n",
       "        vertical-align: middle;\n",
       "    }\n",
       "\n",
       "    .dataframe tbody tr th {\n",
       "        vertical-align: top;\n",
       "    }\n",
       "\n",
       "    .dataframe thead th {\n",
       "        text-align: right;\n",
       "    }\n",
       "</style>\n",
       "<table border=\"1\" class=\"dataframe\">\n",
       "  <thead>\n",
       "    <tr style=\"text-align: right;\">\n",
       "      <th></th>\n",
       "      <th>Date</th>\n",
       "      <th>Open</th>\n",
       "      <th>High</th>\n",
       "      <th>Low</th>\n",
       "      <th>Close</th>\n",
       "      <th>Volume</th>\n",
       "      <th>Market Cap</th>\n",
       "      <th>Volume Predict</th>\n",
       "    </tr>\n",
       "  </thead>\n",
       "  <tbody>\n",
       "    <tr>\n",
       "      <th>1489</th>\n",
       "      <td>2013-08-08</td>\n",
       "      <td>0.004397</td>\n",
       "      <td>0.004424</td>\n",
       "      <td>0.004175</td>\n",
       "      <td>0.004254</td>\n",
       "      <td>NaN</td>\n",
       "      <td>34372500.0</td>\n",
       "      <td>-2.393297e+06</td>\n",
       "    </tr>\n",
       "    <tr>\n",
       "      <th>1490</th>\n",
       "      <td>2013-08-07</td>\n",
       "      <td>0.004669</td>\n",
       "      <td>0.004682</td>\n",
       "      <td>0.004333</td>\n",
       "      <td>0.004417</td>\n",
       "      <td>NaN</td>\n",
       "      <td>36503500.0</td>\n",
       "      <td>-2.161729e+06</td>\n",
       "    </tr>\n",
       "    <tr>\n",
       "      <th>1491</th>\n",
       "      <td>2013-08-06</td>\n",
       "      <td>0.005637</td>\n",
       "      <td>0.005661</td>\n",
       "      <td>0.004629</td>\n",
       "      <td>0.004680</td>\n",
       "      <td>NaN</td>\n",
       "      <td>44067600.0</td>\n",
       "      <td>-1.283028e+06</td>\n",
       "    </tr>\n",
       "    <tr>\n",
       "      <th>1492</th>\n",
       "      <td>2013-08-05</td>\n",
       "      <td>0.005875</td>\n",
       "      <td>0.005980</td>\n",
       "      <td>0.005613</td>\n",
       "      <td>0.005613</td>\n",
       "      <td>NaN</td>\n",
       "      <td>45928400.0</td>\n",
       "      <td>-9.967095e+05</td>\n",
       "    </tr>\n",
       "    <tr>\n",
       "      <th>1493</th>\n",
       "      <td>2013-08-04</td>\n",
       "      <td>0.005874</td>\n",
       "      <td>0.005927</td>\n",
       "      <td>0.005874</td>\n",
       "      <td>0.005882</td>\n",
       "      <td>NaN</td>\n",
       "      <td>45921000.0</td>\n",
       "      <td>-1.044280e+06</td>\n",
       "    </tr>\n",
       "  </tbody>\n",
       "</table>\n",
       "</div>"
      ],
      "text/plain": [
       "           Date      Open      High       Low     Close  Volume  Market Cap  \\\n",
       "1489 2013-08-08  0.004397  0.004424  0.004175  0.004254     NaN  34372500.0   \n",
       "1490 2013-08-07  0.004669  0.004682  0.004333  0.004417     NaN  36503500.0   \n",
       "1491 2013-08-06  0.005637  0.005661  0.004629  0.004680     NaN  44067600.0   \n",
       "1492 2013-08-05  0.005875  0.005980  0.005613  0.005613     NaN  45928400.0   \n",
       "1493 2013-08-04  0.005874  0.005927  0.005874  0.005882     NaN  45921000.0   \n",
       "\n",
       "      Volume Predict  \n",
       "1489   -2.393297e+06  \n",
       "1490   -2.161729e+06  \n",
       "1491   -1.283028e+06  \n",
       "1492   -9.967095e+05  \n",
       "1493   -1.044280e+06  "
      ]
     },
     "execution_count": 18,
     "metadata": {},
     "output_type": "execute_result"
    }
   ],
   "source": [
    "#Add a new column which is filled the missing data from model fit\n",
    "open = df[['High']]\n",
    "Volume_Predict = model.predict(open)\n",
    "df['Volume Predict'] = Volume_Predict\n",
    "df.tail()"
   ]
  },
  {
   "cell_type": "code",
   "execution_count": 19,
   "metadata": {},
   "outputs": [
    {
     "data": {
      "text/html": [
       "<div>\n",
       "<style scoped>\n",
       "    .dataframe tbody tr th:only-of-type {\n",
       "        vertical-align: middle;\n",
       "    }\n",
       "\n",
       "    .dataframe tbody tr th {\n",
       "        vertical-align: top;\n",
       "    }\n",
       "\n",
       "    .dataframe thead th {\n",
       "        text-align: right;\n",
       "    }\n",
       "</style>\n",
       "<table border=\"1\" class=\"dataframe\">\n",
       "  <thead>\n",
       "    <tr style=\"text-align: right;\">\n",
       "      <th></th>\n",
       "      <th>Date</th>\n",
       "      <th>Open</th>\n",
       "      <th>High</th>\n",
       "      <th>Low</th>\n",
       "      <th>Close</th>\n",
       "      <th>Volume</th>\n",
       "      <th>Market Cap</th>\n",
       "      <th>Volume Predict</th>\n",
       "    </tr>\n",
       "  </thead>\n",
       "  <tbody>\n",
       "    <tr>\n",
       "      <th>0</th>\n",
       "      <td>2017-09-05</td>\n",
       "      <td>0.205110</td>\n",
       "      <td>0.218674</td>\n",
       "      <td>0.190232</td>\n",
       "      <td>0.215189</td>\n",
       "      <td>242636000.0</td>\n",
       "      <td>7.864700e+09</td>\n",
       "      <td>1.899068e+08</td>\n",
       "    </tr>\n",
       "    <tr>\n",
       "      <th>1</th>\n",
       "      <td>2017-09-04</td>\n",
       "      <td>0.228781</td>\n",
       "      <td>0.228781</td>\n",
       "      <td>0.195960</td>\n",
       "      <td>0.204968</td>\n",
       "      <td>239613000.0</td>\n",
       "      <td>8.772340e+09</td>\n",
       "      <td>1.989783e+08</td>\n",
       "    </tr>\n",
       "    <tr>\n",
       "      <th>2</th>\n",
       "      <td>2017-09-03</td>\n",
       "      <td>0.227229</td>\n",
       "      <td>0.236443</td>\n",
       "      <td>0.218662</td>\n",
       "      <td>0.228811</td>\n",
       "      <td>186526000.0</td>\n",
       "      <td>8.712840e+09</td>\n",
       "      <td>2.058553e+08</td>\n",
       "    </tr>\n",
       "    <tr>\n",
       "      <th>3</th>\n",
       "      <td>2017-09-02</td>\n",
       "      <td>0.249348</td>\n",
       "      <td>0.249680</td>\n",
       "      <td>0.217774</td>\n",
       "      <td>0.226669</td>\n",
       "      <td>329928000.0</td>\n",
       "      <td>9.560940e+09</td>\n",
       "      <td>2.177362e+08</td>\n",
       "    </tr>\n",
       "    <tr>\n",
       "      <th>4</th>\n",
       "      <td>2017-09-01</td>\n",
       "      <td>0.255803</td>\n",
       "      <td>0.256162</td>\n",
       "      <td>0.243833</td>\n",
       "      <td>0.248479</td>\n",
       "      <td>283576000.0</td>\n",
       "      <td>9.808460e+09</td>\n",
       "      <td>2.235541e+08</td>\n",
       "    </tr>\n",
       "  </tbody>\n",
       "</table>\n",
       "</div>"
      ],
      "text/plain": [
       "        Date      Open      High       Low     Close       Volume  \\\n",
       "0 2017-09-05  0.205110  0.218674  0.190232  0.215189  242636000.0   \n",
       "1 2017-09-04  0.228781  0.228781  0.195960  0.204968  239613000.0   \n",
       "2 2017-09-03  0.227229  0.236443  0.218662  0.228811  186526000.0   \n",
       "3 2017-09-02  0.249348  0.249680  0.217774  0.226669  329928000.0   \n",
       "4 2017-09-01  0.255803  0.256162  0.243833  0.248479  283576000.0   \n",
       "\n",
       "     Market Cap  Volume Predict  \n",
       "0  7.864700e+09    1.899068e+08  \n",
       "1  8.772340e+09    1.989783e+08  \n",
       "2  8.712840e+09    2.058553e+08  \n",
       "3  9.560940e+09    2.177362e+08  \n",
       "4  9.808460e+09    2.235541e+08  "
      ]
     },
     "execution_count": 19,
     "metadata": {},
     "output_type": "execute_result"
    }
   ],
   "source": [
    "df.head()"
   ]
  },
  {
   "cell_type": "code",
   "execution_count": 20,
   "metadata": {},
   "outputs": [
    {
     "data": {
      "text/plain": [
       "Date              1494\n",
       "Open              1494\n",
       "High              1494\n",
       "Low               1494\n",
       "Close             1494\n",
       "Volume            1349\n",
       "Market Cap        1494\n",
       "Volume Predict    1494\n",
       "dtype: int64"
      ]
     },
     "execution_count": 20,
     "metadata": {},
     "output_type": "execute_result"
    }
   ],
   "source": [
    "df.count()"
   ]
  },
  {
   "cell_type": "code",
   "execution_count": 21,
   "metadata": {},
   "outputs": [
    {
     "data": {
      "text/html": [
       "<div>\n",
       "<style scoped>\n",
       "    .dataframe tbody tr th:only-of-type {\n",
       "        vertical-align: middle;\n",
       "    }\n",
       "\n",
       "    .dataframe tbody tr th {\n",
       "        vertical-align: top;\n",
       "    }\n",
       "\n",
       "    .dataframe thead th {\n",
       "        text-align: right;\n",
       "    }\n",
       "</style>\n",
       "<table border=\"1\" class=\"dataframe\">\n",
       "  <thead>\n",
       "    <tr style=\"text-align: right;\">\n",
       "      <th></th>\n",
       "      <th>Open</th>\n",
       "      <th>High</th>\n",
       "      <th>Low</th>\n",
       "      <th>Close</th>\n",
       "      <th>Volume</th>\n",
       "      <th>Market Cap</th>\n",
       "      <th>Volume Predict</th>\n",
       "    </tr>\n",
       "  </thead>\n",
       "  <tbody>\n",
       "    <tr>\n",
       "      <th>count</th>\n",
       "      <td>1494.000000</td>\n",
       "      <td>1494.000000</td>\n",
       "      <td>1494.000000</td>\n",
       "      <td>1494.000000</td>\n",
       "      <td>1.349000e+03</td>\n",
       "      <td>1.494000e+03</td>\n",
       "      <td>1.494000e+03</td>\n",
       "    </tr>\n",
       "    <tr>\n",
       "      <th>mean</th>\n",
       "      <td>0.027803</td>\n",
       "      <td>0.029456</td>\n",
       "      <td>0.026254</td>\n",
       "      <td>0.027934</td>\n",
       "      <td>2.111592e+07</td>\n",
       "      <td>9.496100e+08</td>\n",
       "      <td>2.007399e+07</td>\n",
       "    </tr>\n",
       "    <tr>\n",
       "      <th>std</th>\n",
       "      <td>0.063325</td>\n",
       "      <td>0.067624</td>\n",
       "      <td>0.059060</td>\n",
       "      <td>0.063490</td>\n",
       "      <td>9.559944e+07</td>\n",
       "      <td>2.456712e+09</td>\n",
       "      <td>6.069565e+07</td>\n",
       "    </tr>\n",
       "    <tr>\n",
       "      <th>min</th>\n",
       "      <td>0.002809</td>\n",
       "      <td>0.003082</td>\n",
       "      <td>0.002802</td>\n",
       "      <td>0.002810</td>\n",
       "      <td>8.316000e+03</td>\n",
       "      <td>2.196030e+07</td>\n",
       "      <td>-3.597809e+06</td>\n",
       "    </tr>\n",
       "    <tr>\n",
       "      <th>25%</th>\n",
       "      <td>0.005974</td>\n",
       "      <td>0.006084</td>\n",
       "      <td>0.005894</td>\n",
       "      <td>0.005982</td>\n",
       "      <td>2.725070e+05</td>\n",
       "      <td>1.413848e+08</td>\n",
       "      <td>-9.031399e+05</td>\n",
       "    </tr>\n",
       "    <tr>\n",
       "      <th>50%</th>\n",
       "      <td>0.007478</td>\n",
       "      <td>0.007698</td>\n",
       "      <td>0.007296</td>\n",
       "      <td>0.007484</td>\n",
       "      <td>6.042140e+05</td>\n",
       "      <td>2.292110e+08</td>\n",
       "      <td>5.452811e+05</td>\n",
       "    </tr>\n",
       "    <tr>\n",
       "      <th>75%</th>\n",
       "      <td>0.012785</td>\n",
       "      <td>0.013157</td>\n",
       "      <td>0.011890</td>\n",
       "      <td>0.012859</td>\n",
       "      <td>1.642070e+06</td>\n",
       "      <td>2.852108e+08</td>\n",
       "      <td>5.445454e+06</td>\n",
       "    </tr>\n",
       "    <tr>\n",
       "      <th>max</th>\n",
       "      <td>0.394931</td>\n",
       "      <td>0.435170</td>\n",
       "      <td>0.332222</td>\n",
       "      <td>0.394132</td>\n",
       "      <td>1.770400e+09</td>\n",
       "      <td>1.512820e+10</td>\n",
       "      <td>3.842227e+08</td>\n",
       "    </tr>\n",
       "  </tbody>\n",
       "</table>\n",
       "</div>"
      ],
      "text/plain": [
       "              Open         High          Low        Close        Volume  \\\n",
       "count  1494.000000  1494.000000  1494.000000  1494.000000  1.349000e+03   \n",
       "mean      0.027803     0.029456     0.026254     0.027934  2.111592e+07   \n",
       "std       0.063325     0.067624     0.059060     0.063490  9.559944e+07   \n",
       "min       0.002809     0.003082     0.002802     0.002810  8.316000e+03   \n",
       "25%       0.005974     0.006084     0.005894     0.005982  2.725070e+05   \n",
       "50%       0.007478     0.007698     0.007296     0.007484  6.042140e+05   \n",
       "75%       0.012785     0.013157     0.011890     0.012859  1.642070e+06   \n",
       "max       0.394931     0.435170     0.332222     0.394132  1.770400e+09   \n",
       "\n",
       "         Market Cap  Volume Predict  \n",
       "count  1.494000e+03    1.494000e+03  \n",
       "mean   9.496100e+08    2.007399e+07  \n",
       "std    2.456712e+09    6.069565e+07  \n",
       "min    2.196030e+07   -3.597809e+06  \n",
       "25%    1.413848e+08   -9.031399e+05  \n",
       "50%    2.292110e+08    5.452811e+05  \n",
       "75%    2.852108e+08    5.445454e+06  \n",
       "max    1.512820e+10    3.842227e+08  "
      ]
     },
     "execution_count": 21,
     "metadata": {},
     "output_type": "execute_result"
    }
   ],
   "source": [
    "df.describe()"
   ]
  },
  {
   "cell_type": "markdown",
   "metadata": {},
   "source": [
    "#### Now the data is clean, no null value and has same format"
   ]
  },
  {
   "cell_type": "markdown",
   "metadata": {},
   "source": [
    "### 3. Data Visualization"
   ]
  },
  {
   "cell_type": "code",
   "execution_count": 22,
   "metadata": {},
   "outputs": [],
   "source": [
    "# Set Date as it's index\n",
    "df.set_index('Date', inplace = True )"
   ]
  },
  {
   "cell_type": "code",
   "execution_count": 23,
   "metadata": {},
   "outputs": [
    {
     "data": {
      "text/plain": [
       "Text(0.5,1,'Date vs Volume Predict')"
      ]
     },
     "execution_count": 23,
     "metadata": {},
     "output_type": "execute_result"
    },
    {
     "data": {
      "image/png": "[encoded data removed]",
      "text/plain": [
       "<Figure size 1800x1800 with 6 Axes>"
      ]
     },
     "metadata": {},
     "output_type": "display_data"
    }
   ],
   "source": [
    "# Visualization the average of Open based on time (Week)\n",
    "%matplotlib inline\n",
    "plt.figure(figsize=(25, 25))\n",
    "\n",
    "plt.subplot(3,3,1)\n",
    "plt.ylabel('Open')\n",
    "df.Open.plot()\n",
    "plt.title('Date vs Open')\n",
    "\n",
    "plt.subplot(3,3,2)\n",
    "plt.ylabel('Low')\n",
    "df.Low.plot()\n",
    "plt.title('Date vs Low')\n",
    "\n",
    "plt.subplot(3,3,3)\n",
    "plt.ylabel('High')\n",
    "df.High.plot()\n",
    "plt.title('Date vs High')\n",
    "\n",
    "plt.subplot(3,3,4)\n",
    "plt.ylabel('Close')\n",
    "df.Close.plot()\n",
    "plt.title('Date vs Close')\n",
    "\n",
    "plt.subplot(3,3,5)\n",
    "plt.ylabel('Market Cap')\n",
    "df['Market Cap'].plot()\n",
    "plt.title('Date vs Market Cap')\n",
    "\n",
    "plt.subplot(3,3,6)\n",
    "plt.ylabel('Volume Predict')\n",
    "df['Volume Predict'].plot()\n",
    "plt.title('Date vs Volume Predict')"
   ]
  },
  {
   "cell_type": "code",
   "execution_count": null,
   "metadata": {},
   "outputs": [],
   "source": []
  }
 ],
 "metadata": {
  "kernelspec": {
   "display_name": "Python 3",
   "language": "python",
   "name": "python3"
  },
  "language_info": {
   "codemirror_mode": {
    "name": "ipython",
    "version": 3
   },
   "file_extension": ".py",
   "mimetype": "text/x-python",
   "name": "python",
   "nbconvert_exporter": "python",
   "pygments_lexer": "ipython3",
   "version": "3.6.5"
  }
 },
 "nbformat": 4,
 "nbformat_minor": 2
}
