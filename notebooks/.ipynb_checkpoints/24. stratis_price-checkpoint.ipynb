{
 "cells": [
  {
   "cell_type": "markdown",
   "metadata": {},
   "source": [
    "# Stratis Price"
   ]
  },
  {
   "cell_type": "markdown",
   "metadata": {},
   "source": [
    "by: Widya Meiriska"
   ]
  },
  {
   "cell_type": "markdown",
   "metadata": {},
   "source": [
    "### 1. Read Dataset"
   ]
  },
  {
   "cell_type": "code",
   "execution_count": 1,
   "metadata": {},
   "outputs": [],
   "source": [
    "import csv\n",
    "import pandas as pd\n",
    "import numpy as np\n",
    "import matplotlib.pyplot as plt"
   ]
  },
  {
   "cell_type": "code",
   "execution_count": 2,
   "metadata": {},
   "outputs": [],
   "source": [
    "df = pd.read_csv('../data/raw/bitcoin/stratis_price.csv',parse_dates = ['Date'])"
   ]
  },
  {
   "cell_type": "code",
   "execution_count": 3,
   "metadata": {},
   "outputs": [
    {
     "data": {
      "text/html": [
       "<div>\n",
       "<style scoped>\n",
       "    .dataframe tbody tr th:only-of-type {\n",
       "        vertical-align: middle;\n",
       "    }\n",
       "\n",
       "    .dataframe tbody tr th {\n",
       "        vertical-align: top;\n",
       "    }\n",
       "\n",
       "    .dataframe thead th {\n",
       "        text-align: right;\n",
       "    }\n",
       "</style>\n",
       "<table border=\"1\" class=\"dataframe\">\n",
       "  <thead>\n",
       "    <tr style=\"text-align: right;\">\n",
       "      <th></th>\n",
       "      <th>Date</th>\n",
       "      <th>Open</th>\n",
       "      <th>High</th>\n",
       "      <th>Low</th>\n",
       "      <th>Close</th>\n",
       "      <th>Volume</th>\n",
       "      <th>Market Cap</th>\n",
       "    </tr>\n",
       "  </thead>\n",
       "  <tbody>\n",
       "    <tr>\n",
       "      <th>385</th>\n",
       "      <td>2016-08-16</td>\n",
       "      <td>0.023893</td>\n",
       "      <td>0.031045</td>\n",
       "      <td>0.022763</td>\n",
       "      <td>0.028699</td>\n",
       "      <td>218,752</td>\n",
       "      <td>2,342,370</td>\n",
       "    </tr>\n",
       "    <tr>\n",
       "      <th>386</th>\n",
       "      <td>2016-08-15</td>\n",
       "      <td>0.024023</td>\n",
       "      <td>0.027224</td>\n",
       "      <td>0.019404</td>\n",
       "      <td>0.024511</td>\n",
       "      <td>221,564</td>\n",
       "      <td>2,355,090</td>\n",
       "    </tr>\n",
       "    <tr>\n",
       "      <th>387</th>\n",
       "      <td>2016-08-14</td>\n",
       "      <td>0.014405</td>\n",
       "      <td>0.033588</td>\n",
       "      <td>0.013431</td>\n",
       "      <td>0.023960</td>\n",
       "      <td>603,562</td>\n",
       "      <td>1,412,140</td>\n",
       "    </tr>\n",
       "    <tr>\n",
       "      <th>388</th>\n",
       "      <td>2016-08-13</td>\n",
       "      <td>0.011171</td>\n",
       "      <td>0.016318</td>\n",
       "      <td>0.008483</td>\n",
       "      <td>0.014405</td>\n",
       "      <td>156,217</td>\n",
       "      <td>1,095,050</td>\n",
       "    </tr>\n",
       "    <tr>\n",
       "      <th>389</th>\n",
       "      <td>2016-08-12</td>\n",
       "      <td>0.013826</td>\n",
       "      <td>0.013897</td>\n",
       "      <td>0.009226</td>\n",
       "      <td>0.011175</td>\n",
       "      <td>48,504</td>\n",
       "      <td>-</td>\n",
       "    </tr>\n",
       "  </tbody>\n",
       "</table>\n",
       "</div>"
      ],
      "text/plain": [
       "          Date      Open      High       Low     Close   Volume Market Cap\n",
       "385 2016-08-16  0.023893  0.031045  0.022763  0.028699  218,752  2,342,370\n",
       "386 2016-08-15  0.024023  0.027224  0.019404  0.024511  221,564  2,355,090\n",
       "387 2016-08-14  0.014405  0.033588  0.013431  0.023960  603,562  1,412,140\n",
       "388 2016-08-13  0.011171  0.016318  0.008483  0.014405  156,217  1,095,050\n",
       "389 2016-08-12  0.013826  0.013897  0.009226  0.011175   48,504          -"
      ]
     },
     "execution_count": 3,
     "metadata": {},
     "output_type": "execute_result"
    }
   ],
   "source": [
    "df.tail()"
   ]
  },
  {
   "cell_type": "markdown",
   "metadata": {},
   "source": [
    "### 2. Data Investigation"
   ]
  },
  {
   "cell_type": "code",
   "execution_count": 4,
   "metadata": {},
   "outputs": [
    {
     "data": {
      "text/plain": [
       "Index(['Date', 'Open', 'High', 'Low', 'Close', 'Volume', 'Market Cap'], dtype='object')"
      ]
     },
     "execution_count": 4,
     "metadata": {},
     "output_type": "execute_result"
    }
   ],
   "source": [
    "df.columns"
   ]
  },
  {
   "cell_type": "code",
   "execution_count": 5,
   "metadata": {},
   "outputs": [
    {
     "data": {
      "text/plain": [
       "Date          390\n",
       "Open          390\n",
       "High          390\n",
       "Low           390\n",
       "Close         390\n",
       "Volume        390\n",
       "Market Cap    390\n",
       "dtype: int64"
      ]
     },
     "execution_count": 5,
     "metadata": {},
     "output_type": "execute_result"
    }
   ],
   "source": [
    "df.count()"
   ]
  },
  {
   "cell_type": "code",
   "execution_count": 6,
   "metadata": {},
   "outputs": [
    {
     "data": {
      "text/plain": [
       "Date          datetime64[ns]\n",
       "Open                 float64\n",
       "High                 float64\n",
       "Low                  float64\n",
       "Close                float64\n",
       "Volume                object\n",
       "Market Cap            object\n",
       "dtype: object"
      ]
     },
     "execution_count": 6,
     "metadata": {},
     "output_type": "execute_result"
    }
   ],
   "source": [
    "df.dtypes"
   ]
  },
  {
   "cell_type": "markdown",
   "metadata": {},
   "source": [
    "#### There is a missing data here and there are several data which have different format. Some of the data do not use number format"
   ]
  },
  {
   "cell_type": "code",
   "execution_count": 7,
   "metadata": {},
   "outputs": [],
   "source": [
    "df['Volume'] = df['Volume'].apply(lambda x: float(str(x).replace(',',''))) \n",
    "df['Market Cap'] = df['Market Cap'].replace('-', 'NaN')\n",
    "df['Market Cap'] = df['Market Cap'].apply(lambda x: float(str(x).replace(',',''))) "
   ]
  },
  {
   "cell_type": "code",
   "execution_count": 8,
   "metadata": {},
   "outputs": [
    {
     "data": {
      "text/html": [
       "<div>\n",
       "<style scoped>\n",
       "    .dataframe tbody tr th:only-of-type {\n",
       "        vertical-align: middle;\n",
       "    }\n",
       "\n",
       "    .dataframe tbody tr th {\n",
       "        vertical-align: top;\n",
       "    }\n",
       "\n",
       "    .dataframe thead th {\n",
       "        text-align: right;\n",
       "    }\n",
       "</style>\n",
       "<table border=\"1\" class=\"dataframe\">\n",
       "  <thead>\n",
       "    <tr style=\"text-align: right;\">\n",
       "      <th></th>\n",
       "      <th>Date</th>\n",
       "      <th>Open</th>\n",
       "      <th>High</th>\n",
       "      <th>Low</th>\n",
       "      <th>Close</th>\n",
       "      <th>Volume</th>\n",
       "      <th>Market Cap</th>\n",
       "    </tr>\n",
       "  </thead>\n",
       "  <tbody>\n",
       "    <tr>\n",
       "      <th>385</th>\n",
       "      <td>2016-08-16</td>\n",
       "      <td>0.023893</td>\n",
       "      <td>0.031045</td>\n",
       "      <td>0.022763</td>\n",
       "      <td>0.028699</td>\n",
       "      <td>218752.0</td>\n",
       "      <td>2342370.0</td>\n",
       "    </tr>\n",
       "    <tr>\n",
       "      <th>386</th>\n",
       "      <td>2016-08-15</td>\n",
       "      <td>0.024023</td>\n",
       "      <td>0.027224</td>\n",
       "      <td>0.019404</td>\n",
       "      <td>0.024511</td>\n",
       "      <td>221564.0</td>\n",
       "      <td>2355090.0</td>\n",
       "    </tr>\n",
       "    <tr>\n",
       "      <th>387</th>\n",
       "      <td>2016-08-14</td>\n",
       "      <td>0.014405</td>\n",
       "      <td>0.033588</td>\n",
       "      <td>0.013431</td>\n",
       "      <td>0.023960</td>\n",
       "      <td>603562.0</td>\n",
       "      <td>1412140.0</td>\n",
       "    </tr>\n",
       "    <tr>\n",
       "      <th>388</th>\n",
       "      <td>2016-08-13</td>\n",
       "      <td>0.011171</td>\n",
       "      <td>0.016318</td>\n",
       "      <td>0.008483</td>\n",
       "      <td>0.014405</td>\n",
       "      <td>156217.0</td>\n",
       "      <td>1095050.0</td>\n",
       "    </tr>\n",
       "    <tr>\n",
       "      <th>389</th>\n",
       "      <td>2016-08-12</td>\n",
       "      <td>0.013826</td>\n",
       "      <td>0.013897</td>\n",
       "      <td>0.009226</td>\n",
       "      <td>0.011175</td>\n",
       "      <td>48504.0</td>\n",
       "      <td>NaN</td>\n",
       "    </tr>\n",
       "  </tbody>\n",
       "</table>\n",
       "</div>"
      ],
      "text/plain": [
       "          Date      Open      High       Low     Close    Volume  Market Cap\n",
       "385 2016-08-16  0.023893  0.031045  0.022763  0.028699  218752.0   2342370.0\n",
       "386 2016-08-15  0.024023  0.027224  0.019404  0.024511  221564.0   2355090.0\n",
       "387 2016-08-14  0.014405  0.033588  0.013431  0.023960  603562.0   1412140.0\n",
       "388 2016-08-13  0.011171  0.016318  0.008483  0.014405  156217.0   1095050.0\n",
       "389 2016-08-12  0.013826  0.013897  0.009226  0.011175   48504.0         NaN"
      ]
     },
     "execution_count": 8,
     "metadata": {},
     "output_type": "execute_result"
    }
   ],
   "source": [
    "df.tail()"
   ]
  },
  {
   "cell_type": "code",
   "execution_count": 9,
   "metadata": {},
   "outputs": [
    {
     "data": {
      "text/plain": [
       "Date          390\n",
       "Open          390\n",
       "High          390\n",
       "Low           390\n",
       "Close         390\n",
       "Volume        390\n",
       "Market Cap    389\n",
       "dtype: int64"
      ]
     },
     "execution_count": 9,
     "metadata": {},
     "output_type": "execute_result"
    }
   ],
   "source": [
    "df.count()"
   ]
  },
  {
   "cell_type": "code",
   "execution_count": 10,
   "metadata": {},
   "outputs": [
    {
     "name": "stdout",
     "output_type": "stream",
     "text": [
      "<class 'pandas.core.frame.DataFrame'>\n",
      "RangeIndex: 390 entries, 0 to 389\n",
      "Data columns (total 7 columns):\n",
      "Date          390 non-null datetime64[ns]\n",
      "Open          390 non-null float64\n",
      "High          390 non-null float64\n",
      "Low           390 non-null float64\n",
      "Close         390 non-null float64\n",
      "Volume        390 non-null float64\n",
      "Market Cap    389 non-null float64\n",
      "dtypes: datetime64[ns](1), float64(6)\n",
      "memory usage: 21.4 KB\n"
     ]
    }
   ],
   "source": [
    "df.info()"
   ]
  },
  {
   "cell_type": "code",
   "execution_count": 11,
   "metadata": {},
   "outputs": [
    {
     "data": {
      "text/html": [
       "<div>\n",
       "<style scoped>\n",
       "    .dataframe tbody tr th:only-of-type {\n",
       "        vertical-align: middle;\n",
       "    }\n",
       "\n",
       "    .dataframe tbody tr th {\n",
       "        vertical-align: top;\n",
       "    }\n",
       "\n",
       "    .dataframe thead th {\n",
       "        text-align: right;\n",
       "    }\n",
       "</style>\n",
       "<table border=\"1\" class=\"dataframe\">\n",
       "  <thead>\n",
       "    <tr style=\"text-align: right;\">\n",
       "      <th></th>\n",
       "      <th>total</th>\n",
       "      <th>percent</th>\n",
       "    </tr>\n",
       "  </thead>\n",
       "  <tbody>\n",
       "    <tr>\n",
       "      <th>Date</th>\n",
       "      <td>0</td>\n",
       "      <td>0.000000</td>\n",
       "    </tr>\n",
       "    <tr>\n",
       "      <th>Open</th>\n",
       "      <td>0</td>\n",
       "      <td>0.000000</td>\n",
       "    </tr>\n",
       "    <tr>\n",
       "      <th>High</th>\n",
       "      <td>0</td>\n",
       "      <td>0.000000</td>\n",
       "    </tr>\n",
       "    <tr>\n",
       "      <th>Low</th>\n",
       "      <td>0</td>\n",
       "      <td>0.000000</td>\n",
       "    </tr>\n",
       "    <tr>\n",
       "      <th>Close</th>\n",
       "      <td>0</td>\n",
       "      <td>0.000000</td>\n",
       "    </tr>\n",
       "    <tr>\n",
       "      <th>Volume</th>\n",
       "      <td>0</td>\n",
       "      <td>0.000000</td>\n",
       "    </tr>\n",
       "    <tr>\n",
       "      <th>Market Cap</th>\n",
       "      <td>1</td>\n",
       "      <td>0.002564</td>\n",
       "    </tr>\n",
       "  </tbody>\n",
       "</table>\n",
       "</div>"
      ],
      "text/plain": [
       "            total   percent\n",
       "Date            0  0.000000\n",
       "Open            0  0.000000\n",
       "High            0  0.000000\n",
       "Low             0  0.000000\n",
       "Close           0  0.000000\n",
       "Volume          0  0.000000\n",
       "Market Cap      1  0.002564"
      ]
     },
     "execution_count": 11,
     "metadata": {},
     "output_type": "execute_result"
    }
   ],
   "source": [
    "missingdf = pd.DataFrame(df.isna().sum()).rename(columns = {0: 'total'})\n",
    "missingdf['percent'] = missingdf['total'] / len(df)\n",
    "missingdf"
   ]
  },
  {
   "cell_type": "markdown",
   "metadata": {},
   "source": [
    "I try to fill in the missing value by interpolated the data"
   ]
  },
  {
   "cell_type": "code",
   "execution_count": 12,
   "metadata": {},
   "outputs": [
    {
     "data": {
      "text/plain": [
       "Open          1.000000\n",
       "High          0.994204\n",
       "Low           0.996365\n",
       "Close         0.990867\n",
       "Volume        0.793602\n",
       "Market Cap    1.000000\n",
       "Name: Market Cap, dtype: float64"
      ]
     },
     "execution_count": 12,
     "metadata": {},
     "output_type": "execute_result"
    }
   ],
   "source": [
    "# Lets see the correlation between each column\n",
    "correlation = df.corr(method=\"pearson\")\n",
    "correlation['Market Cap']"
   ]
  },
  {
   "cell_type": "code",
   "execution_count": 13,
   "metadata": {},
   "outputs": [
    {
     "data": {
      "text/plain": [
       "<function matplotlib.pyplot.show(*args, **kw)>"
      ]
     },
     "execution_count": 13,
     "metadata": {},
     "output_type": "execute_result"
    },
    {
     "data": {
      "image/png": "[encoded data removed]",
      "text/plain": [
       "<Figure size 1800x1800 with 1 Axes>"
      ]
     },
     "metadata": {},
     "output_type": "display_data"
    }
   ],
   "source": [
    "#Plot data to see the relation between each column\n",
    "import matplotlib.pyplot as plt\n",
    "plt.figure(figsize=(25, 25))\n",
    "O = df['Open']\n",
    "MC = df['Market Cap']\n",
    "plt.subplot(5,5,5)\n",
    "plt.scatter(MC, O)\n",
    "plt.title('Open vs Market Cap')\n",
    "\n",
    "plt.show"
   ]
  },
  {
   "cell_type": "markdown",
   "metadata": {},
   "source": [
    "To fill the NaN value I try to interpolate the data using linear method using value from Open column. Because from the information above we can see that Market Cap has the closest correlation with Open."
   ]
  },
  {
   "cell_type": "code",
   "execution_count": 14,
   "metadata": {},
   "outputs": [],
   "source": [
    "from sklearn import linear_model\n",
    "\n",
    "model = linear_model.LinearRegression()\n",
    "Open  = df[['Open']].iloc[0:389]\n",
    "Market_Cap = df['Market Cap'].iloc[0:389]"
   ]
  },
  {
   "cell_type": "code",
   "execution_count": 15,
   "metadata": {},
   "outputs": [
    {
     "data": {
      "text/plain": [
       "LinearRegression(copy_X=True, fit_intercept=True, n_jobs=1, normalize=False)"
      ]
     },
     "execution_count": 15,
     "metadata": {},
     "output_type": "execute_result"
    }
   ],
   "source": [
    "#Train model \n",
    "model.fit(Open, Market_Cap)"
   ]
  },
  {
   "cell_type": "code",
   "execution_count": 16,
   "metadata": {},
   "outputs": [
    {
     "data": {
      "text/plain": [
       "0.9999993479730721"
      ]
     },
     "execution_count": 16,
     "metadata": {},
     "output_type": "execute_result"
    }
   ],
   "source": [
    "#The model score almost 1 so that indicate the model is near to the truth\n",
    "model.score(Open, Market_Cap)"
   ]
  },
  {
   "cell_type": "markdown",
   "metadata": {},
   "source": [
    "Here I make a new column Market Cap Predict which contains Market Cap with no NaN value"
   ]
  },
  {
   "cell_type": "code",
   "execution_count": 18,
   "metadata": {},
   "outputs": [
    {
     "data": {
      "text/html": [
       "<div>\n",
       "<style scoped>\n",
       "    .dataframe tbody tr th:only-of-type {\n",
       "        vertical-align: middle;\n",
       "    }\n",
       "\n",
       "    .dataframe tbody tr th {\n",
       "        vertical-align: top;\n",
       "    }\n",
       "\n",
       "    .dataframe thead th {\n",
       "        text-align: right;\n",
       "    }\n",
       "</style>\n",
       "<table border=\"1\" class=\"dataframe\">\n",
       "  <thead>\n",
       "    <tr style=\"text-align: right;\">\n",
       "      <th></th>\n",
       "      <th>Date</th>\n",
       "      <th>Open</th>\n",
       "      <th>High</th>\n",
       "      <th>Low</th>\n",
       "      <th>Close</th>\n",
       "      <th>Volume</th>\n",
       "      <th>Market Cap</th>\n",
       "      <th>Market Cap Predict</th>\n",
       "    </tr>\n",
       "  </thead>\n",
       "  <tbody>\n",
       "    <tr>\n",
       "      <th>385</th>\n",
       "      <td>2016-08-16</td>\n",
       "      <td>0.023893</td>\n",
       "      <td>0.031045</td>\n",
       "      <td>0.022763</td>\n",
       "      <td>0.028699</td>\n",
       "      <td>218752.0</td>\n",
       "      <td>2342370.0</td>\n",
       "      <td>2.329660e+06</td>\n",
       "    </tr>\n",
       "    <tr>\n",
       "      <th>386</th>\n",
       "      <td>2016-08-15</td>\n",
       "      <td>0.024023</td>\n",
       "      <td>0.027224</td>\n",
       "      <td>0.019404</td>\n",
       "      <td>0.024511</td>\n",
       "      <td>221564.0</td>\n",
       "      <td>2355090.0</td>\n",
       "      <td>2.342460e+06</td>\n",
       "    </tr>\n",
       "    <tr>\n",
       "      <th>387</th>\n",
       "      <td>2016-08-14</td>\n",
       "      <td>0.014405</td>\n",
       "      <td>0.033588</td>\n",
       "      <td>0.013431</td>\n",
       "      <td>0.023960</td>\n",
       "      <td>603562.0</td>\n",
       "      <td>1412140.0</td>\n",
       "      <td>1.395507e+06</td>\n",
       "    </tr>\n",
       "    <tr>\n",
       "      <th>388</th>\n",
       "      <td>2016-08-13</td>\n",
       "      <td>0.011171</td>\n",
       "      <td>0.016318</td>\n",
       "      <td>0.008483</td>\n",
       "      <td>0.014405</td>\n",
       "      <td>156217.0</td>\n",
       "      <td>1095050.0</td>\n",
       "      <td>1.077100e+06</td>\n",
       "    </tr>\n",
       "    <tr>\n",
       "      <th>389</th>\n",
       "      <td>2016-08-12</td>\n",
       "      <td>0.013826</td>\n",
       "      <td>0.013897</td>\n",
       "      <td>0.009226</td>\n",
       "      <td>0.011175</td>\n",
       "      <td>48504.0</td>\n",
       "      <td>NaN</td>\n",
       "      <td>1.338501e+06</td>\n",
       "    </tr>\n",
       "  </tbody>\n",
       "</table>\n",
       "</div>"
      ],
      "text/plain": [
       "          Date      Open      High       Low     Close    Volume  Market Cap  \\\n",
       "385 2016-08-16  0.023893  0.031045  0.022763  0.028699  218752.0   2342370.0   \n",
       "386 2016-08-15  0.024023  0.027224  0.019404  0.024511  221564.0   2355090.0   \n",
       "387 2016-08-14  0.014405  0.033588  0.013431  0.023960  603562.0   1412140.0   \n",
       "388 2016-08-13  0.011171  0.016318  0.008483  0.014405  156217.0   1095050.0   \n",
       "389 2016-08-12  0.013826  0.013897  0.009226  0.011175   48504.0         NaN   \n",
       "\n",
       "     Market Cap Predict  \n",
       "385        2.329660e+06  \n",
       "386        2.342460e+06  \n",
       "387        1.395507e+06  \n",
       "388        1.077100e+06  \n",
       "389        1.338501e+06  "
      ]
     },
     "execution_count": 18,
     "metadata": {},
     "output_type": "execute_result"
    }
   ],
   "source": [
    "#Add a new column which is filled the missing data from model fit\n",
    "open = df[['Open']]\n",
    "Market_Cap_Predict = model.predict(open)\n",
    "df['Market Cap Predict'] = Market_Cap_Predict\n",
    "df.tail()"
   ]
  },
  {
   "cell_type": "code",
   "execution_count": 19,
   "metadata": {},
   "outputs": [
    {
     "data": {
      "text/plain": [
       "Date                  390\n",
       "Open                  390\n",
       "High                  390\n",
       "Low                   390\n",
       "Close                 390\n",
       "Volume                390\n",
       "Market Cap            389\n",
       "Market Cap Predict    390\n",
       "dtype: int64"
      ]
     },
     "execution_count": 19,
     "metadata": {},
     "output_type": "execute_result"
    }
   ],
   "source": [
    "df.count()"
   ]
  },
  {
   "cell_type": "code",
   "execution_count": 19,
   "metadata": {},
   "outputs": [
    {
     "data": {
      "text/html": [
       "<div>\n",
       "<style scoped>\n",
       "    .dataframe tbody tr th:only-of-type {\n",
       "        vertical-align: middle;\n",
       "    }\n",
       "\n",
       "    .dataframe tbody tr th {\n",
       "        vertical-align: top;\n",
       "    }\n",
       "\n",
       "    .dataframe thead th {\n",
       "        text-align: right;\n",
       "    }\n",
       "</style>\n",
       "<table border=\"1\" class=\"dataframe\">\n",
       "  <thead>\n",
       "    <tr style=\"text-align: right;\">\n",
       "      <th></th>\n",
       "      <th>Open</th>\n",
       "      <th>High</th>\n",
       "      <th>Low</th>\n",
       "      <th>Close</th>\n",
       "      <th>Volume</th>\n",
       "      <th>Market Cap</th>\n",
       "      <th>Market Cap Predict</th>\n",
       "    </tr>\n",
       "  </thead>\n",
       "  <tbody>\n",
       "    <tr>\n",
       "      <th>count</th>\n",
       "      <td>390.000000</td>\n",
       "      <td>390.000000</td>\n",
       "      <td>390.000000</td>\n",
       "      <td>390.000000</td>\n",
       "      <td>3.900000e+02</td>\n",
       "      <td>3.890000e+02</td>\n",
       "      <td>3.900000e+02</td>\n",
       "    </tr>\n",
       "    <tr>\n",
       "      <th>mean</th>\n",
       "      <td>1.823314</td>\n",
       "      <td>1.990140</td>\n",
       "      <td>1.671701</td>\n",
       "      <td>1.837540</td>\n",
       "      <td>4.782751e+06</td>\n",
       "      <td>1.799519e+08</td>\n",
       "      <td>1.794939e+08</td>\n",
       "    </tr>\n",
       "    <tr>\n",
       "      <th>std</th>\n",
       "      <td>2.830232</td>\n",
       "      <td>3.082738</td>\n",
       "      <td>2.596490</td>\n",
       "      <td>2.837244</td>\n",
       "      <td>9.211456e+06</td>\n",
       "      <td>2.788660e+08</td>\n",
       "      <td>2.786540e+08</td>\n",
       "    </tr>\n",
       "    <tr>\n",
       "      <th>min</th>\n",
       "      <td>0.011171</td>\n",
       "      <td>0.013897</td>\n",
       "      <td>0.008483</td>\n",
       "      <td>0.011175</td>\n",
       "      <td>6.461000e+03</td>\n",
       "      <td>1.095050e+06</td>\n",
       "      <td>1.077100e+06</td>\n",
       "    </tr>\n",
       "    <tr>\n",
       "      <th>25%</th>\n",
       "      <td>0.055957</td>\n",
       "      <td>0.060666</td>\n",
       "      <td>0.052541</td>\n",
       "      <td>0.056644</td>\n",
       "      <td>4.569400e+04</td>\n",
       "      <td>5.542380e+06</td>\n",
       "      <td>5.486561e+06</td>\n",
       "    </tr>\n",
       "    <tr>\n",
       "      <th>50%</th>\n",
       "      <td>0.090728</td>\n",
       "      <td>0.097877</td>\n",
       "      <td>0.085325</td>\n",
       "      <td>0.091032</td>\n",
       "      <td>1.889225e+05</td>\n",
       "      <td>8.935720e+06</td>\n",
       "      <td>8.909983e+06</td>\n",
       "    </tr>\n",
       "    <tr>\n",
       "      <th>75%</th>\n",
       "      <td>3.060000</td>\n",
       "      <td>3.522500</td>\n",
       "      <td>2.667500</td>\n",
       "      <td>3.100000</td>\n",
       "      <td>5.725200e+06</td>\n",
       "      <td>3.013810e+08</td>\n",
       "      <td>3.012533e+08</td>\n",
       "    </tr>\n",
       "    <tr>\n",
       "      <th>max</th>\n",
       "      <td>10.560000</td>\n",
       "      <td>11.680000</td>\n",
       "      <td>10.030000</td>\n",
       "      <td>10.620000</td>\n",
       "      <td>7.668770e+07</td>\n",
       "      <td>1.039320e+09</td>\n",
       "      <td>1.039675e+09</td>\n",
       "    </tr>\n",
       "  </tbody>\n",
       "</table>\n",
       "</div>"
      ],
      "text/plain": [
       "             Open        High         Low       Close        Volume  \\\n",
       "count  390.000000  390.000000  390.000000  390.000000  3.900000e+02   \n",
       "mean     1.823314    1.990140    1.671701    1.837540  4.782751e+06   \n",
       "std      2.830232    3.082738    2.596490    2.837244  9.211456e+06   \n",
       "min      0.011171    0.013897    0.008483    0.011175  6.461000e+03   \n",
       "25%      0.055957    0.060666    0.052541    0.056644  4.569400e+04   \n",
       "50%      0.090728    0.097877    0.085325    0.091032  1.889225e+05   \n",
       "75%      3.060000    3.522500    2.667500    3.100000  5.725200e+06   \n",
       "max     10.560000   11.680000   10.030000   10.620000  7.668770e+07   \n",
       "\n",
       "         Market Cap  Market Cap Predict  \n",
       "count  3.890000e+02        3.900000e+02  \n",
       "mean   1.799519e+08        1.794939e+08  \n",
       "std    2.788660e+08        2.786540e+08  \n",
       "min    1.095050e+06        1.077100e+06  \n",
       "25%    5.542380e+06        5.486561e+06  \n",
       "50%    8.935720e+06        8.909983e+06  \n",
       "75%    3.013810e+08        3.012533e+08  \n",
       "max    1.039320e+09        1.039675e+09  "
      ]
     },
     "execution_count": 19,
     "metadata": {},
     "output_type": "execute_result"
    }
   ],
   "source": [
    "# Get the statistical information\n",
    "df.describe()"
   ]
  },
  {
   "cell_type": "markdown",
   "metadata": {},
   "source": [
    "#### Now the data is clean, no null value and has same format"
   ]
  },
  {
   "cell_type": "markdown",
   "metadata": {},
   "source": [
    "### 3. Data Visualization"
   ]
  },
  {
   "cell_type": "code",
   "execution_count": 20,
   "metadata": {},
   "outputs": [],
   "source": [
    "# Set Date as it's index\n",
    "df.set_index('Date', inplace = True )"
   ]
  },
  {
   "cell_type": "code",
   "execution_count": 21,
   "metadata": {},
   "outputs": [
    {
     "data": {
      "text/plain": [
       "Text(0.5,1,'Date vs Market Cap Predict')"
      ]
     },
     "execution_count": 21,
     "metadata": {},
     "output_type": "execute_result"
    },
    {
     "data": {
      "image/png": "[encoded data removed]",
      "text/plain": [
       "<Figure size 1800x1800 with 6 Axes>"
      ]
     },
     "metadata": {},
     "output_type": "display_data"
    }
   ],
   "source": [
    "# Visualization the average of Open based on time (Week)\n",
    "%matplotlib inline\n",
    "plt.figure(figsize=(25, 25))\n",
    "\n",
    "plt.subplot(3,3,1)\n",
    "plt.ylabel('Open')\n",
    "df.Open.plot()\n",
    "plt.title('Date vs Open')\n",
    "\n",
    "plt.subplot(3,3,2)\n",
    "plt.ylabel('Low')\n",
    "df.Low.plot()\n",
    "plt.title('Date vs Low')\n",
    "\n",
    "plt.subplot(3,3,3)\n",
    "plt.ylabel('High')\n",
    "df.High.plot()\n",
    "plt.title('Date vs High')\n",
    "\n",
    "plt.subplot(3,3,4)\n",
    "plt.ylabel('Close')\n",
    "df.Close.plot()\n",
    "plt.title('Date vs Close')\n",
    "\n",
    "plt.subplot(3,3,5)\n",
    "plt.ylabel('Volume')\n",
    "df.Volume.plot()\n",
    "plt.title('Date vs Volume')\n",
    "\n",
    "plt.subplot(3,3,6)\n",
    "plt.ylabel('Market Cap Predict')\n",
    "df['Market Cap Predict'].plot()\n",
    "plt.title('Date vs Market Cap Predict')"
   ]
  },
  {
   "cell_type": "code",
   "execution_count": null,
   "metadata": {},
   "outputs": [],
   "source": []
  }
 ],
 "metadata": {
  "kernelspec": {
   "display_name": "Python 3",
   "language": "python",
   "name": "python3"
  },
  "language_info": {
   "codemirror_mode": {
    "name": "ipython",
    "version": 3
   },
   "file_extension": ".py",
   "mimetype": "text/x-python",
   "name": "python",
   "nbconvert_exporter": "python",
   "pygments_lexer": "ipython3",
   "version": "3.6.5"
  }
 },
 "nbformat": 4,
 "nbformat_minor": 2
}
