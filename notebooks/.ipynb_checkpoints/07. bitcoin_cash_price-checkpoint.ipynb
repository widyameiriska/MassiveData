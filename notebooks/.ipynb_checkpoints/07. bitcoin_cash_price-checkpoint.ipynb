{
 "cells": [
  {
   "cell_type": "markdown",
   "metadata": {},
   "source": [
    "# Bitcoin Cash Price"
   ]
  },
  {
   "cell_type": "markdown",
   "metadata": {},
   "source": [
    "by: Widya Meiriska"
   ]
  },
  {
   "cell_type": "markdown",
   "metadata": {},
   "source": [
    "### 1. Read Dataset"
   ]
  },
  {
   "cell_type": "code",
   "execution_count": 77,
   "metadata": {},
   "outputs": [],
   "source": [
    "import csv\n",
    "import pandas as pd\n",
    "import numpy as np"
   ]
  },
  {
   "cell_type": "code",
   "execution_count": 78,
   "metadata": {},
   "outputs": [],
   "source": [
    "df = pd.read_csv('../data/raw/bitcoin/bitcoin_cash_price.csv', parse_dates = ['Date'])"
   ]
  },
  {
   "cell_type": "code",
   "execution_count": 79,
   "metadata": {},
   "outputs": [
    {
     "data": {
      "text/html": [
       "<div>\n",
       "<style scoped>\n",
       "    .dataframe tbody tr th:only-of-type {\n",
       "        vertical-align: middle;\n",
       "    }\n",
       "\n",
       "    .dataframe tbody tr th {\n",
       "        vertical-align: top;\n",
       "    }\n",
       "\n",
       "    .dataframe thead th {\n",
       "        text-align: right;\n",
       "    }\n",
       "</style>\n",
       "<table border=\"1\" class=\"dataframe\">\n",
       "  <thead>\n",
       "    <tr style=\"text-align: right;\">\n",
       "      <th></th>\n",
       "      <th>Date</th>\n",
       "      <th>Open</th>\n",
       "      <th>High</th>\n",
       "      <th>Low</th>\n",
       "      <th>Close</th>\n",
       "      <th>Volume</th>\n",
       "      <th>Market Cap</th>\n",
       "    </tr>\n",
       "  </thead>\n",
       "  <tbody>\n",
       "    <tr>\n",
       "      <th>40</th>\n",
       "      <td>2017-07-27</td>\n",
       "      <td>417.10</td>\n",
       "      <td>460.97</td>\n",
       "      <td>367.78</td>\n",
       "      <td>385.48</td>\n",
       "      <td>533,207</td>\n",
       "      <td>-</td>\n",
       "    </tr>\n",
       "    <tr>\n",
       "      <th>41</th>\n",
       "      <td>2017-07-26</td>\n",
       "      <td>407.08</td>\n",
       "      <td>486.16</td>\n",
       "      <td>321.79</td>\n",
       "      <td>365.82</td>\n",
       "      <td>1,784,640</td>\n",
       "      <td>-</td>\n",
       "    </tr>\n",
       "    <tr>\n",
       "      <th>42</th>\n",
       "      <td>2017-07-25</td>\n",
       "      <td>441.35</td>\n",
       "      <td>541.66</td>\n",
       "      <td>338.09</td>\n",
       "      <td>406.90</td>\n",
       "      <td>524,908</td>\n",
       "      <td>-</td>\n",
       "    </tr>\n",
       "    <tr>\n",
       "      <th>43</th>\n",
       "      <td>2017-07-24</td>\n",
       "      <td>412.58</td>\n",
       "      <td>578.89</td>\n",
       "      <td>409.21</td>\n",
       "      <td>440.70</td>\n",
       "      <td>190,952</td>\n",
       "      <td>-</td>\n",
       "    </tr>\n",
       "    <tr>\n",
       "      <th>44</th>\n",
       "      <td>2017-07-23</td>\n",
       "      <td>555.89</td>\n",
       "      <td>578.97</td>\n",
       "      <td>411.78</td>\n",
       "      <td>413.06</td>\n",
       "      <td>85,013</td>\n",
       "      <td>-</td>\n",
       "    </tr>\n",
       "  </tbody>\n",
       "</table>\n",
       "</div>"
      ],
      "text/plain": [
       "         Date    Open    High     Low   Close     Volume Market Cap\n",
       "40 2017-07-27  417.10  460.97  367.78  385.48    533,207          -\n",
       "41 2017-07-26  407.08  486.16  321.79  365.82  1,784,640          -\n",
       "42 2017-07-25  441.35  541.66  338.09  406.90    524,908          -\n",
       "43 2017-07-24  412.58  578.89  409.21  440.70    190,952          -\n",
       "44 2017-07-23  555.89  578.97  411.78  413.06     85,013          -"
      ]
     },
     "execution_count": 79,
     "metadata": {},
     "output_type": "execute_result"
    }
   ],
   "source": [
    "df.tail()"
   ]
  },
  {
   "cell_type": "markdown",
   "metadata": {},
   "source": [
    "### 2. Data Investigation"
   ]
  },
  {
   "cell_type": "code",
   "execution_count": 80,
   "metadata": {},
   "outputs": [
    {
     "data": {
      "text/plain": [
       "Index(['Date', 'Open', 'High', 'Low', 'Close', 'Volume', 'Market Cap'], dtype='object')"
      ]
     },
     "execution_count": 80,
     "metadata": {},
     "output_type": "execute_result"
    }
   ],
   "source": [
    "df.columns"
   ]
  },
  {
   "cell_type": "code",
   "execution_count": 81,
   "metadata": {},
   "outputs": [
    {
     "data": {
      "text/plain": [
       "Date          45\n",
       "Open          45\n",
       "High          45\n",
       "Low           45\n",
       "Close         45\n",
       "Volume        45\n",
       "Market Cap    45\n",
       "dtype: int64"
      ]
     },
     "execution_count": 81,
     "metadata": {},
     "output_type": "execute_result"
    }
   ],
   "source": [
    "df.count()"
   ]
  },
  {
   "cell_type": "code",
   "execution_count": 82,
   "metadata": {},
   "outputs": [
    {
     "data": {
      "text/plain": [
       "Date          datetime64[ns]\n",
       "Open                 float64\n",
       "High                 float64\n",
       "Low                  float64\n",
       "Close                float64\n",
       "Volume                object\n",
       "Market Cap            object\n",
       "dtype: object"
      ]
     },
     "execution_count": 82,
     "metadata": {},
     "output_type": "execute_result"
    }
   ],
   "source": [
    "df.dtypes"
   ]
  },
  {
   "cell_type": "code",
   "execution_count": 83,
   "metadata": {},
   "outputs": [
    {
     "data": {
      "text/html": [
       "<div>\n",
       "<style scoped>\n",
       "    .dataframe tbody tr th:only-of-type {\n",
       "        vertical-align: middle;\n",
       "    }\n",
       "\n",
       "    .dataframe tbody tr th {\n",
       "        vertical-align: top;\n",
       "    }\n",
       "\n",
       "    .dataframe thead th {\n",
       "        text-align: right;\n",
       "    }\n",
       "</style>\n",
       "<table border=\"1\" class=\"dataframe\">\n",
       "  <thead>\n",
       "    <tr style=\"text-align: right;\">\n",
       "      <th></th>\n",
       "      <th>Open</th>\n",
       "      <th>High</th>\n",
       "      <th>Low</th>\n",
       "      <th>Close</th>\n",
       "    </tr>\n",
       "  </thead>\n",
       "  <tbody>\n",
       "    <tr>\n",
       "      <th>count</th>\n",
       "      <td>45.000000</td>\n",
       "      <td>45.000000</td>\n",
       "      <td>45.000000</td>\n",
       "      <td>45.000000</td>\n",
       "    </tr>\n",
       "    <tr>\n",
       "      <th>mean</th>\n",
       "      <td>461.323333</td>\n",
       "      <td>528.302889</td>\n",
       "      <td>412.777556</td>\n",
       "      <td>459.134667</td>\n",
       "    </tr>\n",
       "    <tr>\n",
       "      <th>std</th>\n",
       "      <td>155.461942</td>\n",
       "      <td>181.817928</td>\n",
       "      <td>151.387218</td>\n",
       "      <td>154.506075</td>\n",
       "    </tr>\n",
       "    <tr>\n",
       "      <th>min</th>\n",
       "      <td>212.180000</td>\n",
       "      <td>223.700000</td>\n",
       "      <td>200.980000</td>\n",
       "      <td>213.150000</td>\n",
       "    </tr>\n",
       "    <tr>\n",
       "      <th>25%</th>\n",
       "      <td>321.350000</td>\n",
       "      <td>373.870000</td>\n",
       "      <td>293.100000</td>\n",
       "      <td>319.690000</td>\n",
       "    </tr>\n",
       "    <tr>\n",
       "      <th>50%</th>\n",
       "      <td>417.100000</td>\n",
       "      <td>541.660000</td>\n",
       "      <td>364.050000</td>\n",
       "      <td>413.060000</td>\n",
       "    </tr>\n",
       "    <tr>\n",
       "      <th>75%</th>\n",
       "      <td>596.190000</td>\n",
       "      <td>645.520000</td>\n",
       "      <td>570.270000</td>\n",
       "      <td>599.630000</td>\n",
       "    </tr>\n",
       "    <tr>\n",
       "      <th>max</th>\n",
       "      <td>772.420000</td>\n",
       "      <td>1091.970000</td>\n",
       "      <td>683.940000</td>\n",
       "      <td>754.560000</td>\n",
       "    </tr>\n",
       "  </tbody>\n",
       "</table>\n",
       "</div>"
      ],
      "text/plain": [
       "             Open         High         Low       Close\n",
       "count   45.000000    45.000000   45.000000   45.000000\n",
       "mean   461.323333   528.302889  412.777556  459.134667\n",
       "std    155.461942   181.817928  151.387218  154.506075\n",
       "min    212.180000   223.700000  200.980000  213.150000\n",
       "25%    321.350000   373.870000  293.100000  319.690000\n",
       "50%    417.100000   541.660000  364.050000  413.060000\n",
       "75%    596.190000   645.520000  570.270000  599.630000\n",
       "max    772.420000  1091.970000  683.940000  754.560000"
      ]
     },
     "execution_count": 83,
     "metadata": {},
     "output_type": "execute_result"
    }
   ],
   "source": [
    "df.describe()"
   ]
  },
  {
   "cell_type": "markdown",
   "metadata": {},
   "source": [
    "#### There are missing data on Market Cap column and we can see the format data is not same. Some of the data do not use format number"
   ]
  },
  {
   "cell_type": "code",
   "execution_count": 84,
   "metadata": {},
   "outputs": [],
   "source": [
    "# Change object to format number, and replace '-' to 'NaN'\n",
    "df['Volume'] = df['Volume'].apply(lambda x: float(str(x).replace(',',''))) \n",
    "df['Market Cap'] = df['Market Cap'].replace('-', 'NaN')\n",
    "df['Market Cap'] = df['Market Cap'].apply(lambda x: float(str(x).replace(',',''))) "
   ]
  },
  {
   "cell_type": "code",
   "execution_count": 85,
   "metadata": {},
   "outputs": [
    {
     "data": {
      "text/html": [
       "<div>\n",
       "<style scoped>\n",
       "    .dataframe tbody tr th:only-of-type {\n",
       "        vertical-align: middle;\n",
       "    }\n",
       "\n",
       "    .dataframe tbody tr th {\n",
       "        vertical-align: top;\n",
       "    }\n",
       "\n",
       "    .dataframe thead th {\n",
       "        text-align: right;\n",
       "    }\n",
       "</style>\n",
       "<table border=\"1\" class=\"dataframe\">\n",
       "  <thead>\n",
       "    <tr style=\"text-align: right;\">\n",
       "      <th></th>\n",
       "      <th>Date</th>\n",
       "      <th>Open</th>\n",
       "      <th>High</th>\n",
       "      <th>Low</th>\n",
       "      <th>Close</th>\n",
       "      <th>Volume</th>\n",
       "      <th>Market Cap</th>\n",
       "    </tr>\n",
       "  </thead>\n",
       "  <tbody>\n",
       "    <tr>\n",
       "      <th>40</th>\n",
       "      <td>2017-07-27</td>\n",
       "      <td>417.10</td>\n",
       "      <td>460.97</td>\n",
       "      <td>367.78</td>\n",
       "      <td>385.48</td>\n",
       "      <td>533207.0</td>\n",
       "      <td>NaN</td>\n",
       "    </tr>\n",
       "    <tr>\n",
       "      <th>41</th>\n",
       "      <td>2017-07-26</td>\n",
       "      <td>407.08</td>\n",
       "      <td>486.16</td>\n",
       "      <td>321.79</td>\n",
       "      <td>365.82</td>\n",
       "      <td>1784640.0</td>\n",
       "      <td>NaN</td>\n",
       "    </tr>\n",
       "    <tr>\n",
       "      <th>42</th>\n",
       "      <td>2017-07-25</td>\n",
       "      <td>441.35</td>\n",
       "      <td>541.66</td>\n",
       "      <td>338.09</td>\n",
       "      <td>406.90</td>\n",
       "      <td>524908.0</td>\n",
       "      <td>NaN</td>\n",
       "    </tr>\n",
       "    <tr>\n",
       "      <th>43</th>\n",
       "      <td>2017-07-24</td>\n",
       "      <td>412.58</td>\n",
       "      <td>578.89</td>\n",
       "      <td>409.21</td>\n",
       "      <td>440.70</td>\n",
       "      <td>190952.0</td>\n",
       "      <td>NaN</td>\n",
       "    </tr>\n",
       "    <tr>\n",
       "      <th>44</th>\n",
       "      <td>2017-07-23</td>\n",
       "      <td>555.89</td>\n",
       "      <td>578.97</td>\n",
       "      <td>411.78</td>\n",
       "      <td>413.06</td>\n",
       "      <td>85013.0</td>\n",
       "      <td>NaN</td>\n",
       "    </tr>\n",
       "  </tbody>\n",
       "</table>\n",
       "</div>"
      ],
      "text/plain": [
       "         Date    Open    High     Low   Close     Volume  Market Cap\n",
       "40 2017-07-27  417.10  460.97  367.78  385.48   533207.0         NaN\n",
       "41 2017-07-26  407.08  486.16  321.79  365.82  1784640.0         NaN\n",
       "42 2017-07-25  441.35  541.66  338.09  406.90   524908.0         NaN\n",
       "43 2017-07-24  412.58  578.89  409.21  440.70   190952.0         NaN\n",
       "44 2017-07-23  555.89  578.97  411.78  413.06    85013.0         NaN"
      ]
     },
     "execution_count": 85,
     "metadata": {},
     "output_type": "execute_result"
    }
   ],
   "source": [
    "df.tail()"
   ]
  },
  {
   "cell_type": "code",
   "execution_count": 86,
   "metadata": {},
   "outputs": [
    {
     "data": {
      "text/html": [
       "<div>\n",
       "<style scoped>\n",
       "    .dataframe tbody tr th:only-of-type {\n",
       "        vertical-align: middle;\n",
       "    }\n",
       "\n",
       "    .dataframe tbody tr th {\n",
       "        vertical-align: top;\n",
       "    }\n",
       "\n",
       "    .dataframe thead th {\n",
       "        text-align: right;\n",
       "    }\n",
       "</style>\n",
       "<table border=\"1\" class=\"dataframe\">\n",
       "  <thead>\n",
       "    <tr style=\"text-align: right;\">\n",
       "      <th></th>\n",
       "      <th>Date</th>\n",
       "      <th>Open</th>\n",
       "      <th>High</th>\n",
       "      <th>Low</th>\n",
       "      <th>Close</th>\n",
       "      <th>Volume</th>\n",
       "      <th>Market Cap</th>\n",
       "    </tr>\n",
       "  </thead>\n",
       "  <tbody>\n",
       "    <tr>\n",
       "      <th>0</th>\n",
       "      <td>2017-09-05</td>\n",
       "      <td>514.90</td>\n",
       "      <td>550.95</td>\n",
       "      <td>458.78</td>\n",
       "      <td>541.71</td>\n",
       "      <td>338978000.0</td>\n",
       "      <td>8.527100e+09</td>\n",
       "    </tr>\n",
       "    <tr>\n",
       "      <th>1</th>\n",
       "      <td>2017-09-04</td>\n",
       "      <td>608.26</td>\n",
       "      <td>608.26</td>\n",
       "      <td>500.75</td>\n",
       "      <td>517.24</td>\n",
       "      <td>328957000.0</td>\n",
       "      <td>1.007220e+10</td>\n",
       "    </tr>\n",
       "    <tr>\n",
       "      <th>2</th>\n",
       "      <td>2017-09-03</td>\n",
       "      <td>578.27</td>\n",
       "      <td>617.41</td>\n",
       "      <td>563.59</td>\n",
       "      <td>607.43</td>\n",
       "      <td>344862000.0</td>\n",
       "      <td>9.574520e+09</td>\n",
       "    </tr>\n",
       "    <tr>\n",
       "      <th>3</th>\n",
       "      <td>2017-09-02</td>\n",
       "      <td>621.96</td>\n",
       "      <td>642.05</td>\n",
       "      <td>560.58</td>\n",
       "      <td>575.90</td>\n",
       "      <td>350478000.0</td>\n",
       "      <td>1.029700e+10</td>\n",
       "    </tr>\n",
       "    <tr>\n",
       "      <th>4</th>\n",
       "      <td>2017-09-01</td>\n",
       "      <td>588.40</td>\n",
       "      <td>645.52</td>\n",
       "      <td>586.73</td>\n",
       "      <td>622.17</td>\n",
       "      <td>393839000.0</td>\n",
       "      <td>9.740460e+09</td>\n",
       "    </tr>\n",
       "  </tbody>\n",
       "</table>\n",
       "</div>"
      ],
      "text/plain": [
       "        Date    Open    High     Low   Close       Volume    Market Cap\n",
       "0 2017-09-05  514.90  550.95  458.78  541.71  338978000.0  8.527100e+09\n",
       "1 2017-09-04  608.26  608.26  500.75  517.24  328957000.0  1.007220e+10\n",
       "2 2017-09-03  578.27  617.41  563.59  607.43  344862000.0  9.574520e+09\n",
       "3 2017-09-02  621.96  642.05  560.58  575.90  350478000.0  1.029700e+10\n",
       "4 2017-09-01  588.40  645.52  586.73  622.17  393839000.0  9.740460e+09"
      ]
     },
     "execution_count": 86,
     "metadata": {},
     "output_type": "execute_result"
    }
   ],
   "source": [
    "df.head()"
   ]
  },
  {
   "cell_type": "code",
   "execution_count": 87,
   "metadata": {},
   "outputs": [
    {
     "data": {
      "text/plain": [
       "Date          datetime64[ns]\n",
       "Open                 float64\n",
       "High                 float64\n",
       "Low                  float64\n",
       "Close                float64\n",
       "Volume               float64\n",
       "Market Cap           float64\n",
       "dtype: object"
      ]
     },
     "execution_count": 87,
     "metadata": {},
     "output_type": "execute_result"
    }
   ],
   "source": [
    "df.dtypes"
   ]
  },
  {
   "cell_type": "code",
   "execution_count": 88,
   "metadata": {},
   "outputs": [
    {
     "data": {
      "text/plain": [
       "Date           0\n",
       "Open           0\n",
       "High           0\n",
       "Low            0\n",
       "Close          0\n",
       "Volume         0\n",
       "Market Cap    10\n",
       "dtype: int64"
      ]
     },
     "execution_count": 88,
     "metadata": {},
     "output_type": "execute_result"
    }
   ],
   "source": [
    "df.isnull().sum()"
   ]
  },
  {
   "cell_type": "code",
   "execution_count": 98,
   "metadata": {},
   "outputs": [
    {
     "data": {
      "text/html": [
       "<div>\n",
       "<style scoped>\n",
       "    .dataframe tbody tr th:only-of-type {\n",
       "        vertical-align: middle;\n",
       "    }\n",
       "\n",
       "    .dataframe tbody tr th {\n",
       "        vertical-align: top;\n",
       "    }\n",
       "\n",
       "    .dataframe thead th {\n",
       "        text-align: right;\n",
       "    }\n",
       "</style>\n",
       "<table border=\"1\" class=\"dataframe\">\n",
       "  <thead>\n",
       "    <tr style=\"text-align: right;\">\n",
       "      <th></th>\n",
       "      <th>total</th>\n",
       "      <th>percent</th>\n",
       "    </tr>\n",
       "  </thead>\n",
       "  <tbody>\n",
       "    <tr>\n",
       "      <th>Open</th>\n",
       "      <td>0</td>\n",
       "      <td>0.000000</td>\n",
       "    </tr>\n",
       "    <tr>\n",
       "      <th>High</th>\n",
       "      <td>0</td>\n",
       "      <td>0.000000</td>\n",
       "    </tr>\n",
       "    <tr>\n",
       "      <th>Low</th>\n",
       "      <td>0</td>\n",
       "      <td>0.000000</td>\n",
       "    </tr>\n",
       "    <tr>\n",
       "      <th>Close</th>\n",
       "      <td>0</td>\n",
       "      <td>0.000000</td>\n",
       "    </tr>\n",
       "    <tr>\n",
       "      <th>Volume</th>\n",
       "      <td>0</td>\n",
       "      <td>0.000000</td>\n",
       "    </tr>\n",
       "    <tr>\n",
       "      <th>Market Cap</th>\n",
       "      <td>10</td>\n",
       "      <td>0.222222</td>\n",
       "    </tr>\n",
       "    <tr>\n",
       "      <th>Market Cap Predict</th>\n",
       "      <td>0</td>\n",
       "      <td>0.000000</td>\n",
       "    </tr>\n",
       "  </tbody>\n",
       "</table>\n",
       "</div>"
      ],
      "text/plain": [
       "                    total   percent\n",
       "Open                    0  0.000000\n",
       "High                    0  0.000000\n",
       "Low                     0  0.000000\n",
       "Close                   0  0.000000\n",
       "Volume                  0  0.000000\n",
       "Market Cap             10  0.222222\n",
       "Market Cap Predict      0  0.000000"
      ]
     },
     "execution_count": 98,
     "metadata": {},
     "output_type": "execute_result"
    }
   ],
   "source": [
    "# Cek missing data\n",
    "missingdf = pd.DataFrame(df.isna().sum()).rename(columns = {0: 'total'})\n",
    "missingdf['percent'] = missingdf['total'] / len(df)\n",
    "missingdf"
   ]
  },
  {
   "cell_type": "markdown",
   "metadata": {},
   "source": [
    "I try to fill in the missing value by interpolated the data"
   ]
  },
  {
   "cell_type": "code",
   "execution_count": 90,
   "metadata": {},
   "outputs": [
    {
     "data": {
      "text/plain": [
       "Open          0.999990\n",
       "High          0.865942\n",
       "Low           0.974910\n",
       "Close         0.910789\n",
       "Volume        0.373185\n",
       "Market Cap    1.000000\n",
       "Name: Market Cap, dtype: float64"
      ]
     },
     "execution_count": 90,
     "metadata": {},
     "output_type": "execute_result"
    }
   ],
   "source": [
    "# Lets see the correlation between each column\n",
    "correlation = df.corr(method=\"pearson\")\n",
    "correlation['Market Cap']"
   ]
  },
  {
   "cell_type": "code",
   "execution_count": 100,
   "metadata": {},
   "outputs": [
    {
     "data": {
      "text/plain": [
       "<function matplotlib.pyplot.show(*args, **kw)>"
      ]
     },
     "execution_count": 100,
     "metadata": {},
     "output_type": "execute_result"
    },
    {
     "data": {
      "image/png": "[encoded data removed]",
      "text/plain": [
       "<Figure size 1800x1800 with 1 Axes>"
      ]
     },
     "metadata": {},
     "output_type": "display_data"
    }
   ],
   "source": [
    "#Plot data to see the relation between each column\n",
    "import matplotlib.pyplot as plt\n",
    "plt.figure(figsize=(25, 25))\n",
    "O = df['Open']\n",
    "MC = df['Market Cap']\n",
    "plt.subplot(5,5,5)\n",
    "plt.scatter(MC, O)\n",
    "plt.title('Open vs Market Cap')\n",
    "\n",
    "plt.show"
   ]
  },
  {
   "cell_type": "markdown",
   "metadata": {},
   "source": [
    "To fill the NaN value I try to interpolate the data using linear method using value from Open column. Because from the information above we can see that Market Cap has the closest correlation with Open."
   ]
  },
  {
   "cell_type": "code",
   "execution_count": 91,
   "metadata": {},
   "outputs": [],
   "source": [
    "from sklearn import linear_model\n",
    "\n",
    "model = linear_model.LinearRegression()\n",
    "Open  = df[['Open']].iloc[0:35]\n",
    "Market_Cap = df['Market Cap'].iloc[0:35]"
   ]
  },
  {
   "cell_type": "code",
   "execution_count": 92,
   "metadata": {},
   "outputs": [
    {
     "data": {
      "text/plain": [
       "LinearRegression(copy_X=True, fit_intercept=True, n_jobs=1, normalize=False)"
      ]
     },
     "execution_count": 92,
     "metadata": {},
     "output_type": "execute_result"
    }
   ],
   "source": [
    "#Train model \n",
    "model.fit(Open, Market_Cap)"
   ]
  },
  {
   "cell_type": "code",
   "execution_count": 93,
   "metadata": {},
   "outputs": [
    {
     "data": {
      "text/plain": [
       "0.9999801609861945"
      ]
     },
     "execution_count": 93,
     "metadata": {},
     "output_type": "execute_result"
    }
   ],
   "source": [
    "#The model score almost 1 so that indicate the model is near to the truth\n",
    "model.score(Open, Market_Cap)"
   ]
  },
  {
   "cell_type": "markdown",
   "metadata": {},
   "source": [
    "Here I make a new column Market Cap Predict which contains Market Cap with no NaN value"
   ]
  },
  {
   "cell_type": "code",
   "execution_count": 94,
   "metadata": {},
   "outputs": [
    {
     "data": {
      "text/html": [
       "<div>\n",
       "<style scoped>\n",
       "    .dataframe tbody tr th:only-of-type {\n",
       "        vertical-align: middle;\n",
       "    }\n",
       "\n",
       "    .dataframe tbody tr th {\n",
       "        vertical-align: top;\n",
       "    }\n",
       "\n",
       "    .dataframe thead th {\n",
       "        text-align: right;\n",
       "    }\n",
       "</style>\n",
       "<table border=\"1\" class=\"dataframe\">\n",
       "  <thead>\n",
       "    <tr style=\"text-align: right;\">\n",
       "      <th></th>\n",
       "      <th>Date</th>\n",
       "      <th>Open</th>\n",
       "      <th>High</th>\n",
       "      <th>Low</th>\n",
       "      <th>Close</th>\n",
       "      <th>Volume</th>\n",
       "      <th>Market Cap</th>\n",
       "      <th>Market Cap Predict</th>\n",
       "    </tr>\n",
       "  </thead>\n",
       "  <tbody>\n",
       "    <tr>\n",
       "      <th>40</th>\n",
       "      <td>2017-07-27</td>\n",
       "      <td>417.10</td>\n",
       "      <td>460.97</td>\n",
       "      <td>367.78</td>\n",
       "      <td>385.48</td>\n",
       "      <td>533207.0</td>\n",
       "      <td>NaN</td>\n",
       "      <td>6.887863e+09</td>\n",
       "    </tr>\n",
       "    <tr>\n",
       "      <th>41</th>\n",
       "      <td>2017-07-26</td>\n",
       "      <td>407.08</td>\n",
       "      <td>486.16</td>\n",
       "      <td>321.79</td>\n",
       "      <td>365.82</td>\n",
       "      <td>1784640.0</td>\n",
       "      <td>NaN</td>\n",
       "      <td>6.721934e+09</td>\n",
       "    </tr>\n",
       "    <tr>\n",
       "      <th>42</th>\n",
       "      <td>2017-07-25</td>\n",
       "      <td>441.35</td>\n",
       "      <td>541.66</td>\n",
       "      <td>338.09</td>\n",
       "      <td>406.90</td>\n",
       "      <td>524908.0</td>\n",
       "      <td>NaN</td>\n",
       "      <td>7.289438e+09</td>\n",
       "    </tr>\n",
       "    <tr>\n",
       "      <th>43</th>\n",
       "      <td>2017-07-24</td>\n",
       "      <td>412.58</td>\n",
       "      <td>578.89</td>\n",
       "      <td>409.21</td>\n",
       "      <td>440.70</td>\n",
       "      <td>190952.0</td>\n",
       "      <td>NaN</td>\n",
       "      <td>6.813013e+09</td>\n",
       "    </tr>\n",
       "    <tr>\n",
       "      <th>44</th>\n",
       "      <td>2017-07-23</td>\n",
       "      <td>555.89</td>\n",
       "      <td>578.97</td>\n",
       "      <td>411.78</td>\n",
       "      <td>413.06</td>\n",
       "      <td>85013.0</td>\n",
       "      <td>NaN</td>\n",
       "      <td>9.186199e+09</td>\n",
       "    </tr>\n",
       "  </tbody>\n",
       "</table>\n",
       "</div>"
      ],
      "text/plain": [
       "         Date    Open    High     Low   Close     Volume  Market Cap  \\\n",
       "40 2017-07-27  417.10  460.97  367.78  385.48   533207.0         NaN   \n",
       "41 2017-07-26  407.08  486.16  321.79  365.82  1784640.0         NaN   \n",
       "42 2017-07-25  441.35  541.66  338.09  406.90   524908.0         NaN   \n",
       "43 2017-07-24  412.58  578.89  409.21  440.70   190952.0         NaN   \n",
       "44 2017-07-23  555.89  578.97  411.78  413.06    85013.0         NaN   \n",
       "\n",
       "    Market Cap Predict  \n",
       "40        6.887863e+09  \n",
       "41        6.721934e+09  \n",
       "42        7.289438e+09  \n",
       "43        6.813013e+09  \n",
       "44        9.186199e+09  "
      ]
     },
     "execution_count": 94,
     "metadata": {},
     "output_type": "execute_result"
    }
   ],
   "source": [
    "#Add a new column which is filled the missing data from model fit\n",
    "open = df[['Open']]\n",
    "Market_Cap_Predict = model.predict(open)\n",
    "df['Market Cap Predict'] = Market_Cap_Predict\n",
    "df.tail()"
   ]
  },
  {
   "cell_type": "code",
   "execution_count": 101,
   "metadata": {},
   "outputs": [
    {
     "data": {
      "text/html": [
       "<div>\n",
       "<style scoped>\n",
       "    .dataframe tbody tr th:only-of-type {\n",
       "        vertical-align: middle;\n",
       "    }\n",
       "\n",
       "    .dataframe tbody tr th {\n",
       "        vertical-align: top;\n",
       "    }\n",
       "\n",
       "    .dataframe thead th {\n",
       "        text-align: right;\n",
       "    }\n",
       "</style>\n",
       "<table border=\"1\" class=\"dataframe\">\n",
       "  <thead>\n",
       "    <tr style=\"text-align: right;\">\n",
       "      <th></th>\n",
       "      <th>Open</th>\n",
       "      <th>High</th>\n",
       "      <th>Low</th>\n",
       "      <th>Close</th>\n",
       "      <th>Volume</th>\n",
       "      <th>Market Cap</th>\n",
       "      <th>Market Cap Predict</th>\n",
       "    </tr>\n",
       "  </thead>\n",
       "  <tbody>\n",
       "    <tr>\n",
       "      <th>count</th>\n",
       "      <td>45.000000</td>\n",
       "      <td>45.000000</td>\n",
       "      <td>45.000000</td>\n",
       "      <td>45.000000</td>\n",
       "      <td>4.500000e+01</td>\n",
       "      <td>3.500000e+01</td>\n",
       "      <td>4.500000e+01</td>\n",
       "    </tr>\n",
       "    <tr>\n",
       "      <th>mean</th>\n",
       "      <td>461.323333</td>\n",
       "      <td>528.302889</td>\n",
       "      <td>412.777556</td>\n",
       "      <td>459.134667</td>\n",
       "      <td>4.196584e+08</td>\n",
       "      <td>7.883221e+09</td>\n",
       "      <td>7.620193e+09</td>\n",
       "    </tr>\n",
       "    <tr>\n",
       "      <th>std</th>\n",
       "      <td>155.461942</td>\n",
       "      <td>181.817928</td>\n",
       "      <td>151.387218</td>\n",
       "      <td>154.506075</td>\n",
       "      <td>6.792123e+08</td>\n",
       "      <td>2.815761e+09</td>\n",
       "      <td>2.574421e+09</td>\n",
       "    </tr>\n",
       "    <tr>\n",
       "      <th>min</th>\n",
       "      <td>212.180000</td>\n",
       "      <td>223.700000</td>\n",
       "      <td>200.980000</td>\n",
       "      <td>213.150000</td>\n",
       "      <td>8.501300e+04</td>\n",
       "      <td>3.497290e+09</td>\n",
       "      <td>3.494426e+09</td>\n",
       "    </tr>\n",
       "    <tr>\n",
       "      <th>25%</th>\n",
       "      <td>321.350000</td>\n",
       "      <td>373.870000</td>\n",
       "      <td>293.100000</td>\n",
       "      <td>319.690000</td>\n",
       "      <td>1.076060e+08</td>\n",
       "      <td>5.123560e+09</td>\n",
       "      <td>5.302261e+09</td>\n",
       "    </tr>\n",
       "    <tr>\n",
       "      <th>50%</th>\n",
       "      <td>417.100000</td>\n",
       "      <td>541.660000</td>\n",
       "      <td>364.050000</td>\n",
       "      <td>413.060000</td>\n",
       "      <td>2.162730e+08</td>\n",
       "      <td>8.527100e+09</td>\n",
       "      <td>6.887863e+09</td>\n",
       "    </tr>\n",
       "    <tr>\n",
       "      <th>75%</th>\n",
       "      <td>596.190000</td>\n",
       "      <td>645.520000</td>\n",
       "      <td>570.270000</td>\n",
       "      <td>599.630000</td>\n",
       "      <td>3.938390e+08</td>\n",
       "      <td>1.027590e+10</td>\n",
       "      <td>9.853560e+09</td>\n",
       "    </tr>\n",
       "    <tr>\n",
       "      <th>max</th>\n",
       "      <td>772.420000</td>\n",
       "      <td>1091.970000</td>\n",
       "      <td>683.940000</td>\n",
       "      <td>754.560000</td>\n",
       "      <td>3.196230e+09</td>\n",
       "      <td>1.274260e+10</td>\n",
       "      <td>1.277190e+10</td>\n",
       "    </tr>\n",
       "  </tbody>\n",
       "</table>\n",
       "</div>"
      ],
      "text/plain": [
       "             Open         High         Low       Close        Volume  \\\n",
       "count   45.000000    45.000000   45.000000   45.000000  4.500000e+01   \n",
       "mean   461.323333   528.302889  412.777556  459.134667  4.196584e+08   \n",
       "std    155.461942   181.817928  151.387218  154.506075  6.792123e+08   \n",
       "min    212.180000   223.700000  200.980000  213.150000  8.501300e+04   \n",
       "25%    321.350000   373.870000  293.100000  319.690000  1.076060e+08   \n",
       "50%    417.100000   541.660000  364.050000  413.060000  2.162730e+08   \n",
       "75%    596.190000   645.520000  570.270000  599.630000  3.938390e+08   \n",
       "max    772.420000  1091.970000  683.940000  754.560000  3.196230e+09   \n",
       "\n",
       "         Market Cap  Market Cap Predict  \n",
       "count  3.500000e+01        4.500000e+01  \n",
       "mean   7.883221e+09        7.620193e+09  \n",
       "std    2.815761e+09        2.574421e+09  \n",
       "min    3.497290e+09        3.494426e+09  \n",
       "25%    5.123560e+09        5.302261e+09  \n",
       "50%    8.527100e+09        6.887863e+09  \n",
       "75%    1.027590e+10        9.853560e+09  \n",
       "max    1.274260e+10        1.277190e+10  "
      ]
     },
     "execution_count": 101,
     "metadata": {},
     "output_type": "execute_result"
    }
   ],
   "source": [
    "# Get the statistical information\n",
    "df.describe()"
   ]
  },
  {
   "cell_type": "code",
   "execution_count": 102,
   "metadata": {},
   "outputs": [
    {
     "data": {
      "text/plain": [
       "Open                  45\n",
       "High                  45\n",
       "Low                   45\n",
       "Close                 45\n",
       "Volume                45\n",
       "Market Cap            35\n",
       "Market Cap Predict    45\n",
       "dtype: int64"
      ]
     },
     "execution_count": 102,
     "metadata": {},
     "output_type": "execute_result"
    }
   ],
   "source": [
    "df.count()"
   ]
  },
  {
   "cell_type": "markdown",
   "metadata": {},
   "source": [
    "#### Now the data is clean, no null value and has same format"
   ]
  },
  {
   "cell_type": "markdown",
   "metadata": {},
   "source": [
    "### 3. Data Visualization"
   ]
  },
  {
   "cell_type": "code",
   "execution_count": 96,
   "metadata": {},
   "outputs": [],
   "source": [
    "# Set Date as it's index\n",
    "df.set_index('Date', inplace = True )"
   ]
  },
  {
   "cell_type": "code",
   "execution_count": 97,
   "metadata": {},
   "outputs": [
    {
     "data": {
      "text/plain": [
       "Text(0.5,1,'Date vs Market Cap Predict')"
      ]
     },
     "execution_count": 97,
     "metadata": {},
     "output_type": "execute_result"
    },
    {
     "data": {
      "image/png": "[encoded data removed]",
      "text/plain": [
       "<Figure size 1800x1800 with 6 Axes>"
      ]
     },
     "metadata": {},
     "output_type": "display_data"
    }
   ],
   "source": [
    "# Visualization the average of Open based on time (Week)\n",
    "%matplotlib inline\n",
    "plt.figure(figsize=(25, 25))\n",
    "\n",
    "plt.subplot(3,3,1)\n",
    "plt.ylabel('Open')\n",
    "df.Open.plot()\n",
    "plt.title('Date vs Open')\n",
    "\n",
    "plt.subplot(3,3,2)\n",
    "plt.ylabel('Low')\n",
    "df.Low.plot()\n",
    "plt.title('Date vs Low')\n",
    "\n",
    "plt.subplot(3,3,3)\n",
    "plt.ylabel('High')\n",
    "df.High.plot()\n",
    "plt.title('Date vs High')\n",
    "\n",
    "plt.subplot(3,3,4)\n",
    "plt.ylabel('Close')\n",
    "df.Close.plot()\n",
    "plt.title('Date vs Close')\n",
    "\n",
    "plt.subplot(3,3,5)\n",
    "plt.ylabel('Volume')\n",
    "df.Volume.plot()\n",
    "plt.title('Date vs Volume')\n",
    "\n",
    "plt.subplot(3,3,6)\n",
    "plt.ylabel('Market Cap Predict')\n",
    "df['Market Cap Predict'].plot()\n",
    "plt.title('Date vs Market Cap Predict')"
   ]
  },
  {
   "cell_type": "code",
   "execution_count": null,
   "metadata": {},
   "outputs": [],
   "source": []
  }
 ],
 "metadata": {
  "kernelspec": {
   "display_name": "Python 3",
   "language": "python",
   "name": "python3"
  },
  "language_info": {
   "codemirror_mode": {
    "name": "ipython",
    "version": 3
   },
   "file_extension": ".py",
   "mimetype": "text/x-python",
   "name": "python",
   "nbconvert_exporter": "python",
   "pygments_lexer": "ipython3",
   "version": "3.6.5"
  }
 },
 "nbformat": 4,
 "nbformat_minor": 2
}
