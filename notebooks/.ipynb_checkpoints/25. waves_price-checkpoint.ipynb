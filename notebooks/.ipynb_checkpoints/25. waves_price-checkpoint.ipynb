{
 "cells": [
  {
   "cell_type": "markdown",
   "metadata": {},
   "source": [
    "# Waves Price"
   ]
  },
  {
   "cell_type": "markdown",
   "metadata": {},
   "source": [
    "by: Widya Meiriska"
   ]
  },
  {
   "cell_type": "markdown",
   "metadata": {},
   "source": [
    "### 1. Read Dataset"
   ]
  },
  {
   "cell_type": "code",
   "execution_count": 4,
   "metadata": {},
   "outputs": [],
   "source": [
    "import csv\n",
    "import pandas as pd\n",
    "import numpy as np"
   ]
  },
  {
   "cell_type": "code",
   "execution_count": 5,
   "metadata": {},
   "outputs": [],
   "source": [
    "df = pd.read_csv('../data/raw/bitcoin/waves_price.csv',parse_dates = ['Date'])"
   ]
  },
  {
   "cell_type": "code",
   "execution_count": 6,
   "metadata": {},
   "outputs": [
    {
     "data": {
      "text/html": [
       "<div>\n",
       "<style scoped>\n",
       "    .dataframe tbody tr th:only-of-type {\n",
       "        vertical-align: middle;\n",
       "    }\n",
       "\n",
       "    .dataframe tbody tr th {\n",
       "        vertical-align: top;\n",
       "    }\n",
       "\n",
       "    .dataframe thead th {\n",
       "        text-align: right;\n",
       "    }\n",
       "</style>\n",
       "<table border=\"1\" class=\"dataframe\">\n",
       "  <thead>\n",
       "    <tr style=\"text-align: right;\">\n",
       "      <th></th>\n",
       "      <th>Date</th>\n",
       "      <th>Open</th>\n",
       "      <th>High</th>\n",
       "      <th>Low</th>\n",
       "      <th>Close</th>\n",
       "      <th>Volume</th>\n",
       "      <th>Market Cap</th>\n",
       "    </tr>\n",
       "  </thead>\n",
       "  <tbody>\n",
       "    <tr>\n",
       "      <th>456</th>\n",
       "      <td>2016-06-06</td>\n",
       "      <td>0.712541</td>\n",
       "      <td>1.17</td>\n",
       "      <td>0.712541</td>\n",
       "      <td>0.768672</td>\n",
       "      <td>95,573</td>\n",
       "      <td>-</td>\n",
       "    </tr>\n",
       "    <tr>\n",
       "      <th>457</th>\n",
       "      <td>2016-06-05</td>\n",
       "      <td>0.587588</td>\n",
       "      <td>1.11</td>\n",
       "      <td>0.580745</td>\n",
       "      <td>0.713006</td>\n",
       "      <td>41,700</td>\n",
       "      <td>-</td>\n",
       "    </tr>\n",
       "    <tr>\n",
       "      <th>458</th>\n",
       "      <td>2016-06-04</td>\n",
       "      <td>1.090000</td>\n",
       "      <td>1.29</td>\n",
       "      <td>0.575898</td>\n",
       "      <td>0.586993</td>\n",
       "      <td>4,912</td>\n",
       "      <td>-</td>\n",
       "    </tr>\n",
       "    <tr>\n",
       "      <th>459</th>\n",
       "      <td>2016-06-03</td>\n",
       "      <td>1.290000</td>\n",
       "      <td>1.66</td>\n",
       "      <td>0.727579</td>\n",
       "      <td>1.090000</td>\n",
       "      <td>57,721</td>\n",
       "      <td>-</td>\n",
       "    </tr>\n",
       "    <tr>\n",
       "      <th>460</th>\n",
       "      <td>2016-06-02</td>\n",
       "      <td>1.330000</td>\n",
       "      <td>1.39</td>\n",
       "      <td>1.150000</td>\n",
       "      <td>1.210000</td>\n",
       "      <td>83,734</td>\n",
       "      <td>-</td>\n",
       "    </tr>\n",
       "  </tbody>\n",
       "</table>\n",
       "</div>"
      ],
      "text/plain": [
       "          Date      Open  High       Low     Close  Volume Market Cap\n",
       "456 2016-06-06  0.712541  1.17  0.712541  0.768672  95,573          -\n",
       "457 2016-06-05  0.587588  1.11  0.580745  0.713006  41,700          -\n",
       "458 2016-06-04  1.090000  1.29  0.575898  0.586993   4,912          -\n",
       "459 2016-06-03  1.290000  1.66  0.727579  1.090000  57,721          -\n",
       "460 2016-06-02  1.330000  1.39  1.150000  1.210000  83,734          -"
      ]
     },
     "execution_count": 6,
     "metadata": {},
     "output_type": "execute_result"
    }
   ],
   "source": [
    "df.tail()"
   ]
  },
  {
   "cell_type": "markdown",
   "metadata": {},
   "source": [
    "### 2. Data Investigation"
   ]
  },
  {
   "cell_type": "code",
   "execution_count": 7,
   "metadata": {},
   "outputs": [
    {
     "data": {
      "text/plain": [
       "Date          461\n",
       "Open          461\n",
       "High          461\n",
       "Low           461\n",
       "Close         461\n",
       "Volume        461\n",
       "Market Cap    461\n",
       "dtype: int64"
      ]
     },
     "execution_count": 7,
     "metadata": {},
     "output_type": "execute_result"
    }
   ],
   "source": [
    "df.count()"
   ]
  },
  {
   "cell_type": "code",
   "execution_count": 8,
   "metadata": {},
   "outputs": [
    {
     "data": {
      "text/plain": [
       "Date          datetime64[ns]\n",
       "Open                 float64\n",
       "High                 float64\n",
       "Low                  float64\n",
       "Close                float64\n",
       "Volume                object\n",
       "Market Cap            object\n",
       "dtype: object"
      ]
     },
     "execution_count": 8,
     "metadata": {},
     "output_type": "execute_result"
    }
   ],
   "source": [
    "df.dtypes"
   ]
  },
  {
   "cell_type": "markdown",
   "metadata": {},
   "source": [
    "#### There are missing data here and there are several data which have different format. Some of the data do not use number format"
   ]
  },
  {
   "cell_type": "code",
   "execution_count": 9,
   "metadata": {},
   "outputs": [],
   "source": [
    "df['Volume'] = df['Volume'].apply(lambda x: float(str(x).replace(',',''))) \n",
    "df['Market Cap'] = df['Market Cap'].replace('-', 'NaN')\n",
    "df['Market Cap'] = df['Market Cap'].apply(lambda x: float(str(x).replace(',',''))) "
   ]
  },
  {
   "cell_type": "code",
   "execution_count": 10,
   "metadata": {},
   "outputs": [
    {
     "data": {
      "text/html": [
       "<div>\n",
       "<style scoped>\n",
       "    .dataframe tbody tr th:only-of-type {\n",
       "        vertical-align: middle;\n",
       "    }\n",
       "\n",
       "    .dataframe tbody tr th {\n",
       "        vertical-align: top;\n",
       "    }\n",
       "\n",
       "    .dataframe thead th {\n",
       "        text-align: right;\n",
       "    }\n",
       "</style>\n",
       "<table border=\"1\" class=\"dataframe\">\n",
       "  <thead>\n",
       "    <tr style=\"text-align: right;\">\n",
       "      <th></th>\n",
       "      <th>Date</th>\n",
       "      <th>Open</th>\n",
       "      <th>High</th>\n",
       "      <th>Low</th>\n",
       "      <th>Close</th>\n",
       "      <th>Volume</th>\n",
       "      <th>Market Cap</th>\n",
       "    </tr>\n",
       "  </thead>\n",
       "  <tbody>\n",
       "    <tr>\n",
       "      <th>456</th>\n",
       "      <td>2016-06-06</td>\n",
       "      <td>0.712541</td>\n",
       "      <td>1.17</td>\n",
       "      <td>0.712541</td>\n",
       "      <td>0.768672</td>\n",
       "      <td>95573.0</td>\n",
       "      <td>NaN</td>\n",
       "    </tr>\n",
       "    <tr>\n",
       "      <th>457</th>\n",
       "      <td>2016-06-05</td>\n",
       "      <td>0.587588</td>\n",
       "      <td>1.11</td>\n",
       "      <td>0.580745</td>\n",
       "      <td>0.713006</td>\n",
       "      <td>41700.0</td>\n",
       "      <td>NaN</td>\n",
       "    </tr>\n",
       "    <tr>\n",
       "      <th>458</th>\n",
       "      <td>2016-06-04</td>\n",
       "      <td>1.090000</td>\n",
       "      <td>1.29</td>\n",
       "      <td>0.575898</td>\n",
       "      <td>0.586993</td>\n",
       "      <td>4912.0</td>\n",
       "      <td>NaN</td>\n",
       "    </tr>\n",
       "    <tr>\n",
       "      <th>459</th>\n",
       "      <td>2016-06-03</td>\n",
       "      <td>1.290000</td>\n",
       "      <td>1.66</td>\n",
       "      <td>0.727579</td>\n",
       "      <td>1.090000</td>\n",
       "      <td>57721.0</td>\n",
       "      <td>NaN</td>\n",
       "    </tr>\n",
       "    <tr>\n",
       "      <th>460</th>\n",
       "      <td>2016-06-02</td>\n",
       "      <td>1.330000</td>\n",
       "      <td>1.39</td>\n",
       "      <td>1.150000</td>\n",
       "      <td>1.210000</td>\n",
       "      <td>83734.0</td>\n",
       "      <td>NaN</td>\n",
       "    </tr>\n",
       "  </tbody>\n",
       "</table>\n",
       "</div>"
      ],
      "text/plain": [
       "          Date      Open  High       Low     Close   Volume  Market Cap\n",
       "456 2016-06-06  0.712541  1.17  0.712541  0.768672  95573.0         NaN\n",
       "457 2016-06-05  0.587588  1.11  0.580745  0.713006  41700.0         NaN\n",
       "458 2016-06-04  1.090000  1.29  0.575898  0.586993   4912.0         NaN\n",
       "459 2016-06-03  1.290000  1.66  0.727579  1.090000  57721.0         NaN\n",
       "460 2016-06-02  1.330000  1.39  1.150000  1.210000  83734.0         NaN"
      ]
     },
     "execution_count": 10,
     "metadata": {},
     "output_type": "execute_result"
    }
   ],
   "source": [
    "df.tail()"
   ]
  },
  {
   "cell_type": "code",
   "execution_count": 11,
   "metadata": {},
   "outputs": [
    {
     "data": {
      "text/plain": [
       "Date          461\n",
       "Open          461\n",
       "High          461\n",
       "Low           461\n",
       "Close         461\n",
       "Volume        461\n",
       "Market Cap    442\n",
       "dtype: int64"
      ]
     },
     "execution_count": 11,
     "metadata": {},
     "output_type": "execute_result"
    }
   ],
   "source": [
    "df.count()"
   ]
  },
  {
   "cell_type": "code",
   "execution_count": 12,
   "metadata": {},
   "outputs": [
    {
     "name": "stdout",
     "output_type": "stream",
     "text": [
      "<class 'pandas.core.frame.DataFrame'>\n",
      "RangeIndex: 461 entries, 0 to 460\n",
      "Data columns (total 7 columns):\n",
      "Date          461 non-null datetime64[ns]\n",
      "Open          461 non-null float64\n",
      "High          461 non-null float64\n",
      "Low           461 non-null float64\n",
      "Close         461 non-null float64\n",
      "Volume        461 non-null float64\n",
      "Market Cap    442 non-null float64\n",
      "dtypes: datetime64[ns](1), float64(6)\n",
      "memory usage: 25.3 KB\n"
     ]
    }
   ],
   "source": [
    "df.info()"
   ]
  },
  {
   "cell_type": "code",
   "execution_count": 13,
   "metadata": {},
   "outputs": [
    {
     "data": {
      "text/html": [
       "<div>\n",
       "<style scoped>\n",
       "    .dataframe tbody tr th:only-of-type {\n",
       "        vertical-align: middle;\n",
       "    }\n",
       "\n",
       "    .dataframe tbody tr th {\n",
       "        vertical-align: top;\n",
       "    }\n",
       "\n",
       "    .dataframe thead th {\n",
       "        text-align: right;\n",
       "    }\n",
       "</style>\n",
       "<table border=\"1\" class=\"dataframe\">\n",
       "  <thead>\n",
       "    <tr style=\"text-align: right;\">\n",
       "      <th></th>\n",
       "      <th>total</th>\n",
       "      <th>percent</th>\n",
       "    </tr>\n",
       "  </thead>\n",
       "  <tbody>\n",
       "    <tr>\n",
       "      <th>Date</th>\n",
       "      <td>0</td>\n",
       "      <td>0.000000</td>\n",
       "    </tr>\n",
       "    <tr>\n",
       "      <th>Open</th>\n",
       "      <td>0</td>\n",
       "      <td>0.000000</td>\n",
       "    </tr>\n",
       "    <tr>\n",
       "      <th>High</th>\n",
       "      <td>0</td>\n",
       "      <td>0.000000</td>\n",
       "    </tr>\n",
       "    <tr>\n",
       "      <th>Low</th>\n",
       "      <td>0</td>\n",
       "      <td>0.000000</td>\n",
       "    </tr>\n",
       "    <tr>\n",
       "      <th>Close</th>\n",
       "      <td>0</td>\n",
       "      <td>0.000000</td>\n",
       "    </tr>\n",
       "    <tr>\n",
       "      <th>Volume</th>\n",
       "      <td>0</td>\n",
       "      <td>0.000000</td>\n",
       "    </tr>\n",
       "    <tr>\n",
       "      <th>Market Cap</th>\n",
       "      <td>19</td>\n",
       "      <td>0.041215</td>\n",
       "    </tr>\n",
       "  </tbody>\n",
       "</table>\n",
       "</div>"
      ],
      "text/plain": [
       "            total   percent\n",
       "Date            0  0.000000\n",
       "Open            0  0.000000\n",
       "High            0  0.000000\n",
       "Low             0  0.000000\n",
       "Close           0  0.000000\n",
       "Volume          0  0.000000\n",
       "Market Cap     19  0.041215"
      ]
     },
     "execution_count": 13,
     "metadata": {},
     "output_type": "execute_result"
    }
   ],
   "source": [
    "missingdf = pd.DataFrame(df.isna().sum()).rename(columns = {0: 'total'})\n",
    "missingdf['percent'] = missingdf['total'] / len(df)\n",
    "missingdf"
   ]
  },
  {
   "cell_type": "markdown",
   "metadata": {},
   "source": [
    "I try to fill in the missing value by interpolated the data"
   ]
  },
  {
   "cell_type": "code",
   "execution_count": 15,
   "metadata": {},
   "outputs": [
    {
     "data": {
      "text/plain": [
       "Open          1.000000\n",
       "High          0.996380\n",
       "Low           0.997012\n",
       "Close         0.994182\n",
       "Volume        0.872833\n",
       "Market Cap    1.000000\n",
       "Name: Market Cap, dtype: float64"
      ]
     },
     "execution_count": 15,
     "metadata": {},
     "output_type": "execute_result"
    }
   ],
   "source": [
    "# Lets see the correlation between each column\n",
    "correlation = df.corr(method=\"pearson\")\n",
    "correlation['Market Cap']"
   ]
  },
  {
   "cell_type": "code",
   "execution_count": 16,
   "metadata": {},
   "outputs": [
    {
     "data": {
      "text/plain": [
       "<function matplotlib.pyplot.show(*args, **kw)>"
      ]
     },
     "execution_count": 16,
     "metadata": {},
     "output_type": "execute_result"
    },
    {
     "data": {
      "image/png": "[encoded data removed]",
      "text/plain": [
       "<Figure size 1800x1800 with 1 Axes>"
      ]
     },
     "metadata": {},
     "output_type": "display_data"
    }
   ],
   "source": [
    "#Plot data to see the relation between each column\n",
    "import matplotlib.pyplot as plt\n",
    "plt.figure(figsize=(25, 25))\n",
    "O = df['Open']\n",
    "MC = df['Market Cap']\n",
    "plt.subplot(5,5,5)\n",
    "plt.scatter(MC, O)\n",
    "plt.title('Open vs Market Cap')\n",
    "\n",
    "plt.show"
   ]
  },
  {
   "cell_type": "markdown",
   "metadata": {},
   "source": [
    "To fill the NaN value I try to interpolate the data using linear method using value from Open column. Because from the information above we can see that Market Cap has the closest correlation with Open."
   ]
  },
  {
   "cell_type": "code",
   "execution_count": 17,
   "metadata": {},
   "outputs": [],
   "source": [
    "from sklearn import linear_model\n",
    "\n",
    "model = linear_model.LinearRegression()\n",
    "Open  = df[['Open']].iloc[0:442]\n",
    "Market_Cap = df['Market Cap'].iloc[0:442]"
   ]
  },
  {
   "cell_type": "code",
   "execution_count": 18,
   "metadata": {},
   "outputs": [
    {
     "data": {
      "text/plain": [
       "LinearRegression(copy_X=True, fit_intercept=True, n_jobs=1, normalize=False)"
      ]
     },
     "execution_count": 18,
     "metadata": {},
     "output_type": "execute_result"
    }
   ],
   "source": [
    "#Train model \n",
    "model.fit(Open, Market_Cap)"
   ]
  },
  {
   "cell_type": "code",
   "execution_count": 19,
   "metadata": {},
   "outputs": [
    {
     "data": {
      "text/plain": [
       "0.9999992512939394"
      ]
     },
     "execution_count": 19,
     "metadata": {},
     "output_type": "execute_result"
    }
   ],
   "source": [
    "#The model score almost 1 so that indicate the model is near to the truth\n",
    "model.score(Open, Market_Cap)"
   ]
  },
  {
   "cell_type": "markdown",
   "metadata": {},
   "source": [
    "Here I make a new column Market Cap Predict which contains Market Cap with no NaN value"
   ]
  },
  {
   "cell_type": "code",
   "execution_count": 20,
   "metadata": {},
   "outputs": [
    {
     "data": {
      "text/html": [
       "<div>\n",
       "<style scoped>\n",
       "    .dataframe tbody tr th:only-of-type {\n",
       "        vertical-align: middle;\n",
       "    }\n",
       "\n",
       "    .dataframe tbody tr th {\n",
       "        vertical-align: top;\n",
       "    }\n",
       "\n",
       "    .dataframe thead th {\n",
       "        text-align: right;\n",
       "    }\n",
       "</style>\n",
       "<table border=\"1\" class=\"dataframe\">\n",
       "  <thead>\n",
       "    <tr style=\"text-align: right;\">\n",
       "      <th></th>\n",
       "      <th>Date</th>\n",
       "      <th>Open</th>\n",
       "      <th>High</th>\n",
       "      <th>Low</th>\n",
       "      <th>Close</th>\n",
       "      <th>Volume</th>\n",
       "      <th>Market Cap</th>\n",
       "      <th>Market Cap Predict</th>\n",
       "    </tr>\n",
       "  </thead>\n",
       "  <tbody>\n",
       "    <tr>\n",
       "      <th>456</th>\n",
       "      <td>2016-06-06</td>\n",
       "      <td>0.712541</td>\n",
       "      <td>1.17</td>\n",
       "      <td>0.712541</td>\n",
       "      <td>0.768672</td>\n",
       "      <td>95573.0</td>\n",
       "      <td>NaN</td>\n",
       "      <td>7.125777e+07</td>\n",
       "    </tr>\n",
       "    <tr>\n",
       "      <th>457</th>\n",
       "      <td>2016-06-05</td>\n",
       "      <td>0.587588</td>\n",
       "      <td>1.11</td>\n",
       "      <td>0.580745</td>\n",
       "      <td>0.713006</td>\n",
       "      <td>41700.0</td>\n",
       "      <td>NaN</td>\n",
       "      <td>5.876124e+07</td>\n",
       "    </tr>\n",
       "    <tr>\n",
       "      <th>458</th>\n",
       "      <td>2016-06-04</td>\n",
       "      <td>1.090000</td>\n",
       "      <td>1.29</td>\n",
       "      <td>0.575898</td>\n",
       "      <td>0.586993</td>\n",
       "      <td>4912.0</td>\n",
       "      <td>NaN</td>\n",
       "      <td>1.090074e+08</td>\n",
       "    </tr>\n",
       "    <tr>\n",
       "      <th>459</th>\n",
       "      <td>2016-06-03</td>\n",
       "      <td>1.290000</td>\n",
       "      <td>1.66</td>\n",
       "      <td>0.727579</td>\n",
       "      <td>1.090000</td>\n",
       "      <td>57721.0</td>\n",
       "      <td>NaN</td>\n",
       "      <td>1.290094e+08</td>\n",
       "    </tr>\n",
       "    <tr>\n",
       "      <th>460</th>\n",
       "      <td>2016-06-02</td>\n",
       "      <td>1.330000</td>\n",
       "      <td>1.39</td>\n",
       "      <td>1.150000</td>\n",
       "      <td>1.210000</td>\n",
       "      <td>83734.0</td>\n",
       "      <td>NaN</td>\n",
       "      <td>1.330097e+08</td>\n",
       "    </tr>\n",
       "  </tbody>\n",
       "</table>\n",
       "</div>"
      ],
      "text/plain": [
       "          Date      Open  High       Low     Close   Volume  Market Cap  \\\n",
       "456 2016-06-06  0.712541  1.17  0.712541  0.768672  95573.0         NaN   \n",
       "457 2016-06-05  0.587588  1.11  0.580745  0.713006  41700.0         NaN   \n",
       "458 2016-06-04  1.090000  1.29  0.575898  0.586993   4912.0         NaN   \n",
       "459 2016-06-03  1.290000  1.66  0.727579  1.090000  57721.0         NaN   \n",
       "460 2016-06-02  1.330000  1.39  1.150000  1.210000  83734.0         NaN   \n",
       "\n",
       "     Market Cap Predict  \n",
       "456        7.125777e+07  \n",
       "457        5.876124e+07  \n",
       "458        1.090074e+08  \n",
       "459        1.290094e+08  \n",
       "460        1.330097e+08  "
      ]
     },
     "execution_count": 20,
     "metadata": {},
     "output_type": "execute_result"
    }
   ],
   "source": [
    "#Add a new column which is filled the missing data from model fit\n",
    "open = df[['Open']]\n",
    "Market_Cap_Predict = model.predict(open)\n",
    "df['Market Cap Predict'] = Market_Cap_Predict\n",
    "df.tail()"
   ]
  },
  {
   "cell_type": "code",
   "execution_count": 21,
   "metadata": {},
   "outputs": [
    {
     "data": {
      "text/plain": [
       "Date                  461\n",
       "Open                  461\n",
       "High                  461\n",
       "Low                   461\n",
       "Close                 461\n",
       "Volume                461\n",
       "Market Cap            442\n",
       "Market Cap Predict    461\n",
       "dtype: int64"
      ]
     },
     "execution_count": 21,
     "metadata": {},
     "output_type": "execute_result"
    }
   ],
   "source": [
    "df.count()"
   ]
  },
  {
   "cell_type": "code",
   "execution_count": 22,
   "metadata": {},
   "outputs": [
    {
     "data": {
      "text/html": [
       "<div>\n",
       "<style scoped>\n",
       "    .dataframe tbody tr th:only-of-type {\n",
       "        vertical-align: middle;\n",
       "    }\n",
       "\n",
       "    .dataframe tbody tr th {\n",
       "        vertical-align: top;\n",
       "    }\n",
       "\n",
       "    .dataframe thead th {\n",
       "        text-align: right;\n",
       "    }\n",
       "</style>\n",
       "<table border=\"1\" class=\"dataframe\">\n",
       "  <thead>\n",
       "    <tr style=\"text-align: right;\">\n",
       "      <th></th>\n",
       "      <th>Open</th>\n",
       "      <th>High</th>\n",
       "      <th>Low</th>\n",
       "      <th>Close</th>\n",
       "      <th>Volume</th>\n",
       "      <th>Market Cap</th>\n",
       "      <th>Market Cap Predict</th>\n",
       "    </tr>\n",
       "  </thead>\n",
       "  <tbody>\n",
       "    <tr>\n",
       "      <th>count</th>\n",
       "      <td>461.000000</td>\n",
       "      <td>461.000000</td>\n",
       "      <td>461.000000</td>\n",
       "      <td>461.000000</td>\n",
       "      <td>4.610000e+02</td>\n",
       "      <td>4.420000e+02</td>\n",
       "      <td>4.610000e+02</td>\n",
       "    </tr>\n",
       "    <tr>\n",
       "      <th>mean</th>\n",
       "      <td>1.230215</td>\n",
       "      <td>1.325607</td>\n",
       "      <td>1.139349</td>\n",
       "      <td>1.236654</td>\n",
       "      <td>1.029869e+06</td>\n",
       "      <td>1.239107e+08</td>\n",
       "      <td>1.230302e+08</td>\n",
       "    </tr>\n",
       "    <tr>\n",
       "      <th>std</th>\n",
       "      <td>1.736739</td>\n",
       "      <td>1.855163</td>\n",
       "      <td>1.612736</td>\n",
       "      <td>1.743821</td>\n",
       "      <td>1.865055e+06</td>\n",
       "      <td>1.772387e+08</td>\n",
       "      <td>1.736910e+08</td>\n",
       "    </tr>\n",
       "    <tr>\n",
       "      <th>min</th>\n",
       "      <td>0.127527</td>\n",
       "      <td>0.151516</td>\n",
       "      <td>0.122684</td>\n",
       "      <td>0.127242</td>\n",
       "      <td>4.912000e+03</td>\n",
       "      <td>1.275270e+07</td>\n",
       "      <td>1.275061e+07</td>\n",
       "    </tr>\n",
       "    <tr>\n",
       "      <th>25%</th>\n",
       "      <td>0.209567</td>\n",
       "      <td>0.218997</td>\n",
       "      <td>0.195051</td>\n",
       "      <td>0.209126</td>\n",
       "      <td>5.223200e+04</td>\n",
       "      <td>2.059290e+07</td>\n",
       "      <td>2.095542e+07</td>\n",
       "    </tr>\n",
       "    <tr>\n",
       "      <th>50%</th>\n",
       "      <td>0.263923</td>\n",
       "      <td>0.282579</td>\n",
       "      <td>0.245773</td>\n",
       "      <td>0.262370</td>\n",
       "      <td>1.543750e+05</td>\n",
       "      <td>2.517550e+07</td>\n",
       "      <td>2.639155e+07</td>\n",
       "    </tr>\n",
       "    <tr>\n",
       "      <th>75%</th>\n",
       "      <td>1.330000</td>\n",
       "      <td>1.600000</td>\n",
       "      <td>1.190000</td>\n",
       "      <td>1.370000</td>\n",
       "      <td>1.225380e+06</td>\n",
       "      <td>1.386978e+08</td>\n",
       "      <td>1.330097e+08</td>\n",
       "    </tr>\n",
       "    <tr>\n",
       "      <th>max</th>\n",
       "      <td>6.340000</td>\n",
       "      <td>7.010000</td>\n",
       "      <td>5.740000</td>\n",
       "      <td>6.340000</td>\n",
       "      <td>1.012410e+07</td>\n",
       "      <td>6.344690e+08</td>\n",
       "      <td>6.340590e+08</td>\n",
       "    </tr>\n",
       "  </tbody>\n",
       "</table>\n",
       "</div>"
      ],
      "text/plain": [
       "             Open        High         Low       Close        Volume  \\\n",
       "count  461.000000  461.000000  461.000000  461.000000  4.610000e+02   \n",
       "mean     1.230215    1.325607    1.139349    1.236654  1.029869e+06   \n",
       "std      1.736739    1.855163    1.612736    1.743821  1.865055e+06   \n",
       "min      0.127527    0.151516    0.122684    0.127242  4.912000e+03   \n",
       "25%      0.209567    0.218997    0.195051    0.209126  5.223200e+04   \n",
       "50%      0.263923    0.282579    0.245773    0.262370  1.543750e+05   \n",
       "75%      1.330000    1.600000    1.190000    1.370000  1.225380e+06   \n",
       "max      6.340000    7.010000    5.740000    6.340000  1.012410e+07   \n",
       "\n",
       "         Market Cap  Market Cap Predict  \n",
       "count  4.420000e+02        4.610000e+02  \n",
       "mean   1.239107e+08        1.230302e+08  \n",
       "std    1.772387e+08        1.736910e+08  \n",
       "min    1.275270e+07        1.275061e+07  \n",
       "25%    2.059290e+07        2.095542e+07  \n",
       "50%    2.517550e+07        2.639155e+07  \n",
       "75%    1.386978e+08        1.330097e+08  \n",
       "max    6.344690e+08        6.340590e+08  "
      ]
     },
     "execution_count": 22,
     "metadata": {},
     "output_type": "execute_result"
    }
   ],
   "source": [
    "df.describe()"
   ]
  },
  {
   "cell_type": "markdown",
   "metadata": {},
   "source": [
    "#### Now the data is clean, no null value and has same format"
   ]
  },
  {
   "cell_type": "markdown",
   "metadata": {},
   "source": [
    "### 3. Data Visualization"
   ]
  },
  {
   "cell_type": "code",
   "execution_count": 23,
   "metadata": {},
   "outputs": [],
   "source": [
    "# Set Date as it's index\n",
    "df.set_index('Date', inplace = True )"
   ]
  },
  {
   "cell_type": "code",
   "execution_count": 24,
   "metadata": {},
   "outputs": [
    {
     "data": {
      "text/plain": [
       "Text(0.5,1,'Date vs Market Cap Predict')"
      ]
     },
     "execution_count": 24,
     "metadata": {},
     "output_type": "execute_result"
    },
    {
     "data": {
      "image/png": "[encoded data removed]",
      "text/plain": [
       "<Figure size 1800x1800 with 6 Axes>"
      ]
     },
     "metadata": {},
     "output_type": "display_data"
    }
   ],
   "source": [
    "# Visualization the average of Open based on time (Week)\n",
    "%matplotlib inline\n",
    "plt.figure(figsize=(25, 25))\n",
    "\n",
    "plt.subplot(3,3,1)\n",
    "plt.ylabel('Open')\n",
    "df.Open.plot()\n",
    "plt.title('Date vs Open')\n",
    "\n",
    "plt.subplot(3,3,2)\n",
    "plt.ylabel('Low')\n",
    "df.Low.plot()\n",
    "plt.title('Date vs Low')\n",
    "\n",
    "plt.subplot(3,3,3)\n",
    "plt.ylabel('High')\n",
    "df.High.plot()\n",
    "plt.title('Date vs High')\n",
    "\n",
    "plt.subplot(3,3,4)\n",
    "plt.ylabel('Close')\n",
    "df.Close.plot()\n",
    "plt.title('Date vs Close')\n",
    "\n",
    "plt.subplot(3,3,5)\n",
    "plt.ylabel('Volume')\n",
    "df.Volume.plot()\n",
    "plt.title('Date vs Volume')\n",
    "\n",
    "plt.subplot(3,3,6)\n",
    "plt.ylabel('Market Cap Predict')\n",
    "df['Market Cap Predict'].plot()\n",
    "plt.title('Date vs Market Cap Predict')"
   ]
  },
  {
   "cell_type": "code",
   "execution_count": null,
   "metadata": {},
   "outputs": [],
   "source": []
  }
 ],
 "metadata": {
  "kernelspec": {
   "display_name": "Python 3",
   "language": "python",
   "name": "python3"
  },
  "language_info": {
   "codemirror_mode": {
    "name": "ipython",
    "version": 3
   },
   "file_extension": ".py",
   "mimetype": "text/x-python",
   "name": "python",
   "nbconvert_exporter": "python",
   "pygments_lexer": "ipython3",
   "version": "3.6.5"
  }
 },
 "nbformat": 4,
 "nbformat_minor": 2
}
