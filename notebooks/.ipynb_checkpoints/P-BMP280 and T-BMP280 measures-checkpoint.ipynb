{
 "cells": [
  {
   "cell_type": "markdown",
   "metadata": {},
   "source": [
    "# P-BMP280 and T-BMP280 measures "
   ]
  },
  {
   "cell_type": "code",
   "execution_count": 1,
   "metadata": {},
   "outputs": [],
   "source": [
    "import csv\n",
    "import pandas as pd\n",
    "import numpy as np\n",
    "import json\n",
    "import matplotlib.pyplot as plt\n",
    "%matplotlib inline"
   ]
  },
  {
   "cell_type": "markdown",
   "metadata": {},
   "source": [
    "# Read Dataset"
   ]
  },
  {
   "cell_type": "code",
   "execution_count": 2,
   "metadata": {},
   "outputs": [],
   "source": [
    "df = pd.read_csv('../data/raw/measures/P-BMP280-measures.csv')"
   ]
  },
  {
   "cell_type": "code",
   "execution_count": 3,
   "metadata": {},
   "outputs": [],
   "source": [
    "df1 = pd.read_csv('../data/raw/measures/T-BMP280-measures.csv')"
   ]
  },
  {
   "cell_type": "code",
   "execution_count": 4,
   "metadata": {},
   "outputs": [
    {
     "data": {
      "text/html": [
       "<div>\n",
       "<style scoped>\n",
       "    .dataframe tbody tr th:only-of-type {\n",
       "        vertical-align: middle;\n",
       "    }\n",
       "\n",
       "    .dataframe tbody tr th {\n",
       "        vertical-align: top;\n",
       "    }\n",
       "\n",
       "    .dataframe thead th {\n",
       "        text-align: right;\n",
       "    }\n",
       "</style>\n",
       "<table border=\"1\" class=\"dataframe\">\n",
       "  <thead>\n",
       "    <tr style=\"text-align: right;\">\n",
       "      <th></th>\n",
       "      <th>sensor</th>\n",
       "      <th>value</th>\n",
       "      <th>time</th>\n",
       "    </tr>\n",
       "  </thead>\n",
       "  <tbody>\n",
       "    <tr>\n",
       "      <th>0</th>\n",
       "      <td>P-BMP280</td>\n",
       "      <td>1035.56</td>\n",
       "      <td>2017-12-22T10:52:59Z</td>\n",
       "    </tr>\n",
       "    <tr>\n",
       "      <th>1</th>\n",
       "      <td>P-BMP280</td>\n",
       "      <td>1035.55</td>\n",
       "      <td>2017-12-22T10:53:02Z</td>\n",
       "    </tr>\n",
       "    <tr>\n",
       "      <th>2</th>\n",
       "      <td>P-BMP280</td>\n",
       "      <td>1035.54</td>\n",
       "      <td>2017-12-22T10:53:05Z</td>\n",
       "    </tr>\n",
       "    <tr>\n",
       "      <th>3</th>\n",
       "      <td>P-BMP280</td>\n",
       "      <td>1035.54</td>\n",
       "      <td>2017-12-22T10:53:08Z</td>\n",
       "    </tr>\n",
       "    <tr>\n",
       "      <th>4</th>\n",
       "      <td>P-BMP280</td>\n",
       "      <td>1035.53</td>\n",
       "      <td>2017-12-22T10:53:11Z</td>\n",
       "    </tr>\n",
       "  </tbody>\n",
       "</table>\n",
       "</div>"
      ],
      "text/plain": [
       "     sensor    value                  time\n",
       "0  P-BMP280  1035.56  2017-12-22T10:52:59Z\n",
       "1  P-BMP280  1035.55  2017-12-22T10:53:02Z\n",
       "2  P-BMP280  1035.54  2017-12-22T10:53:05Z\n",
       "3  P-BMP280  1035.54  2017-12-22T10:53:08Z\n",
       "4  P-BMP280  1035.53  2017-12-22T10:53:11Z"
      ]
     },
     "execution_count": 4,
     "metadata": {},
     "output_type": "execute_result"
    }
   ],
   "source": [
    "df.head()"
   ]
  },
  {
   "cell_type": "code",
   "execution_count": 5,
   "metadata": {},
   "outputs": [
    {
     "data": {
      "text/html": [
       "<div>\n",
       "<style scoped>\n",
       "    .dataframe tbody tr th:only-of-type {\n",
       "        vertical-align: middle;\n",
       "    }\n",
       "\n",
       "    .dataframe tbody tr th {\n",
       "        vertical-align: top;\n",
       "    }\n",
       "\n",
       "    .dataframe thead th {\n",
       "        text-align: right;\n",
       "    }\n",
       "</style>\n",
       "<table border=\"1\" class=\"dataframe\">\n",
       "  <thead>\n",
       "    <tr style=\"text-align: right;\">\n",
       "      <th></th>\n",
       "      <th>sensor</th>\n",
       "      <th>value</th>\n",
       "      <th>time</th>\n",
       "    </tr>\n",
       "  </thead>\n",
       "  <tbody>\n",
       "    <tr>\n",
       "      <th>1422783</th>\n",
       "      <td>P-BMP280</td>\n",
       "      <td>1015.95</td>\n",
       "      <td>2018-03-13T11:41:52Z</td>\n",
       "    </tr>\n",
       "    <tr>\n",
       "      <th>1422784</th>\n",
       "      <td>P-BMP280</td>\n",
       "      <td>1015.94</td>\n",
       "      <td>2018-03-13T11:41:56Z</td>\n",
       "    </tr>\n",
       "    <tr>\n",
       "      <th>1422785</th>\n",
       "      <td>P-BMP280</td>\n",
       "      <td>1015.91</td>\n",
       "      <td>2018-03-13T11:42:00Z</td>\n",
       "    </tr>\n",
       "    <tr>\n",
       "      <th>1422786</th>\n",
       "      <td>P-BMP280</td>\n",
       "      <td>1015.93</td>\n",
       "      <td>2018-03-13T11:42:04Z</td>\n",
       "    </tr>\n",
       "    <tr>\n",
       "      <th>1422787</th>\n",
       "      <td>P-BMP280</td>\n",
       "      <td>1015.93</td>\n",
       "      <td>2018-03-13T11:42:08Z</td>\n",
       "    </tr>\n",
       "  </tbody>\n",
       "</table>\n",
       "</div>"
      ],
      "text/plain": [
       "           sensor    value                  time\n",
       "1422783  P-BMP280  1015.95  2018-03-13T11:41:52Z\n",
       "1422784  P-BMP280  1015.94  2018-03-13T11:41:56Z\n",
       "1422785  P-BMP280  1015.91  2018-03-13T11:42:00Z\n",
       "1422786  P-BMP280  1015.93  2018-03-13T11:42:04Z\n",
       "1422787  P-BMP280  1015.93  2018-03-13T11:42:08Z"
      ]
     },
     "execution_count": 5,
     "metadata": {},
     "output_type": "execute_result"
    }
   ],
   "source": [
    "df.tail()"
   ]
  },
  {
   "cell_type": "code",
   "execution_count": 6,
   "metadata": {},
   "outputs": [
    {
     "data": {
      "text/html": [
       "<div>\n",
       "<style scoped>\n",
       "    .dataframe tbody tr th:only-of-type {\n",
       "        vertical-align: middle;\n",
       "    }\n",
       "\n",
       "    .dataframe tbody tr th {\n",
       "        vertical-align: top;\n",
       "    }\n",
       "\n",
       "    .dataframe thead th {\n",
       "        text-align: right;\n",
       "    }\n",
       "</style>\n",
       "<table border=\"1\" class=\"dataframe\">\n",
       "  <thead>\n",
       "    <tr style=\"text-align: right;\">\n",
       "      <th></th>\n",
       "      <th>sensor</th>\n",
       "      <th>value</th>\n",
       "      <th>time</th>\n",
       "    </tr>\n",
       "  </thead>\n",
       "  <tbody>\n",
       "    <tr>\n",
       "      <th>0</th>\n",
       "      <td>T-BMP280</td>\n",
       "      <td>26.43</td>\n",
       "      <td>2017-12-22T10:52:59Z</td>\n",
       "    </tr>\n",
       "    <tr>\n",
       "      <th>1</th>\n",
       "      <td>T-BMP280</td>\n",
       "      <td>26.43</td>\n",
       "      <td>2017-12-22T10:53:02Z</td>\n",
       "    </tr>\n",
       "    <tr>\n",
       "      <th>2</th>\n",
       "      <td>T-BMP280</td>\n",
       "      <td>26.44</td>\n",
       "      <td>2017-12-22T10:53:05Z</td>\n",
       "    </tr>\n",
       "    <tr>\n",
       "      <th>3</th>\n",
       "      <td>T-BMP280</td>\n",
       "      <td>26.44</td>\n",
       "      <td>2017-12-22T10:53:08Z</td>\n",
       "    </tr>\n",
       "    <tr>\n",
       "      <th>4</th>\n",
       "      <td>T-BMP280</td>\n",
       "      <td>26.42</td>\n",
       "      <td>2017-12-22T10:53:11Z</td>\n",
       "    </tr>\n",
       "  </tbody>\n",
       "</table>\n",
       "</div>"
      ],
      "text/plain": [
       "     sensor  value                  time\n",
       "0  T-BMP280  26.43  2017-12-22T10:52:59Z\n",
       "1  T-BMP280  26.43  2017-12-22T10:53:02Z\n",
       "2  T-BMP280  26.44  2017-12-22T10:53:05Z\n",
       "3  T-BMP280  26.44  2017-12-22T10:53:08Z\n",
       "4  T-BMP280  26.42  2017-12-22T10:53:11Z"
      ]
     },
     "execution_count": 6,
     "metadata": {},
     "output_type": "execute_result"
    }
   ],
   "source": [
    "df1.head()"
   ]
  },
  {
   "cell_type": "code",
   "execution_count": 7,
   "metadata": {},
   "outputs": [
    {
     "data": {
      "text/html": [
       "<div>\n",
       "<style scoped>\n",
       "    .dataframe tbody tr th:only-of-type {\n",
       "        vertical-align: middle;\n",
       "    }\n",
       "\n",
       "    .dataframe tbody tr th {\n",
       "        vertical-align: top;\n",
       "    }\n",
       "\n",
       "    .dataframe thead th {\n",
       "        text-align: right;\n",
       "    }\n",
       "</style>\n",
       "<table border=\"1\" class=\"dataframe\">\n",
       "  <thead>\n",
       "    <tr style=\"text-align: right;\">\n",
       "      <th></th>\n",
       "      <th>sensor</th>\n",
       "      <th>value</th>\n",
       "      <th>time</th>\n",
       "    </tr>\n",
       "  </thead>\n",
       "  <tbody>\n",
       "    <tr>\n",
       "      <th>1422790</th>\n",
       "      <td>T-BMP280</td>\n",
       "      <td>27.34</td>\n",
       "      <td>2018-03-13T11:41:52Z</td>\n",
       "    </tr>\n",
       "    <tr>\n",
       "      <th>1422791</th>\n",
       "      <td>T-BMP280</td>\n",
       "      <td>27.34</td>\n",
       "      <td>2018-03-13T11:41:56Z</td>\n",
       "    </tr>\n",
       "    <tr>\n",
       "      <th>1422792</th>\n",
       "      <td>T-BMP280</td>\n",
       "      <td>27.33</td>\n",
       "      <td>2018-03-13T11:42:00Z</td>\n",
       "    </tr>\n",
       "    <tr>\n",
       "      <th>1422793</th>\n",
       "      <td>T-BMP280</td>\n",
       "      <td>27.33</td>\n",
       "      <td>2018-03-13T11:42:04Z</td>\n",
       "    </tr>\n",
       "    <tr>\n",
       "      <th>1422794</th>\n",
       "      <td>T-BMP280</td>\n",
       "      <td>27.34</td>\n",
       "      <td>2018-03-13T11:42:08Z</td>\n",
       "    </tr>\n",
       "  </tbody>\n",
       "</table>\n",
       "</div>"
      ],
      "text/plain": [
       "           sensor  value                  time\n",
       "1422790  T-BMP280  27.34  2018-03-13T11:41:52Z\n",
       "1422791  T-BMP280  27.34  2018-03-13T11:41:56Z\n",
       "1422792  T-BMP280  27.33  2018-03-13T11:42:00Z\n",
       "1422793  T-BMP280  27.33  2018-03-13T11:42:04Z\n",
       "1422794  T-BMP280  27.34  2018-03-13T11:42:08Z"
      ]
     },
     "execution_count": 7,
     "metadata": {},
     "output_type": "execute_result"
    }
   ],
   "source": [
    "df1.tail()"
   ]
  },
  {
   "cell_type": "markdown",
   "metadata": {},
   "source": [
    "# Investigating the data"
   ]
  },
  {
   "cell_type": "code",
   "execution_count": 8,
   "metadata": {},
   "outputs": [
    {
     "data": {
      "text/plain": [
       "Index(['sensor', 'value', 'time'], dtype='object')"
      ]
     },
     "execution_count": 8,
     "metadata": {},
     "output_type": "execute_result"
    }
   ],
   "source": [
    "df.columns"
   ]
  },
  {
   "cell_type": "code",
   "execution_count": 9,
   "metadata": {},
   "outputs": [
    {
     "data": {
      "text/plain": [
       "sensor    1422788\n",
       "value     1422788\n",
       "time      1422788\n",
       "dtype: int64"
      ]
     },
     "execution_count": 9,
     "metadata": {},
     "output_type": "execute_result"
    }
   ],
   "source": [
    "df.count()"
   ]
  },
  {
   "cell_type": "code",
   "execution_count": 10,
   "metadata": {},
   "outputs": [
    {
     "data": {
      "text/plain": [
       "Index(['sensor', 'value', 'time'], dtype='object')"
      ]
     },
     "execution_count": 10,
     "metadata": {},
     "output_type": "execute_result"
    }
   ],
   "source": [
    "df1.columns"
   ]
  },
  {
   "cell_type": "code",
   "execution_count": 11,
   "metadata": {},
   "outputs": [
    {
     "data": {
      "text/plain": [
       "sensor    1422795\n",
       "value     1422795\n",
       "time      1422795\n",
       "dtype: int64"
      ]
     },
     "execution_count": 11,
     "metadata": {},
     "output_type": "execute_result"
    }
   ],
   "source": [
    "df1.count()"
   ]
  },
  {
   "cell_type": "code",
   "execution_count": 12,
   "metadata": {},
   "outputs": [
    {
     "data": {
      "text/plain": [
       "sensor    0\n",
       "value     0\n",
       "time      0\n",
       "dtype: int64"
      ]
     },
     "execution_count": 12,
     "metadata": {},
     "output_type": "execute_result"
    }
   ],
   "source": [
    "df.isnull().sum()"
   ]
  },
  {
   "cell_type": "code",
   "execution_count": 13,
   "metadata": {},
   "outputs": [
    {
     "data": {
      "text/plain": [
       "sensor    0\n",
       "value     0\n",
       "time      0\n",
       "dtype: int64"
      ]
     },
     "execution_count": 13,
     "metadata": {},
     "output_type": "execute_result"
    }
   ],
   "source": [
    "df1.isnull().sum()"
   ]
  },
  {
   "cell_type": "code",
   "execution_count": 14,
   "metadata": {},
   "outputs": [
    {
     "data": {
      "text/plain": [
       "sensor     object\n",
       "value     float64\n",
       "time       object\n",
       "dtype: object"
      ]
     },
     "execution_count": 14,
     "metadata": {},
     "output_type": "execute_result"
    }
   ],
   "source": [
    "df.dtypes"
   ]
  },
  {
   "cell_type": "code",
   "execution_count": 15,
   "metadata": {},
   "outputs": [
    {
     "data": {
      "text/plain": [
       "sensor     object\n",
       "value     float64\n",
       "time       object\n",
       "dtype: object"
      ]
     },
     "execution_count": 15,
     "metadata": {},
     "output_type": "execute_result"
    }
   ],
   "source": [
    "df1.dtypes"
   ]
  },
  {
   "cell_type": "markdown",
   "metadata": {},
   "source": [
    "Convert time column into date time format"
   ]
  },
  {
   "cell_type": "code",
   "execution_count": 16,
   "metadata": {},
   "outputs": [],
   "source": [
    "df['time'] = pd.to_datetime(df['time'])\n",
    "df1['time'] = pd.to_datetime(df1['time'])"
   ]
  },
  {
   "cell_type": "code",
   "execution_count": 17,
   "metadata": {},
   "outputs": [
    {
     "name": "stdout",
     "output_type": "stream",
     "text": [
      "<class 'pandas.core.frame.DataFrame'>\n",
      "RangeIndex: 1422788 entries, 0 to 1422787\n",
      "Data columns (total 3 columns):\n",
      "sensor    1422788 non-null object\n",
      "value     1422788 non-null float64\n",
      "time      1422788 non-null datetime64[ns]\n",
      "dtypes: datetime64[ns](1), float64(1), object(1)\n",
      "memory usage: 32.6+ MB\n"
     ]
    }
   ],
   "source": [
    "df.info()"
   ]
  },
  {
   "cell_type": "code",
   "execution_count": 18,
   "metadata": {},
   "outputs": [
    {
     "name": "stdout",
     "output_type": "stream",
     "text": [
      "<class 'pandas.core.frame.DataFrame'>\n",
      "RangeIndex: 1422795 entries, 0 to 1422794\n",
      "Data columns (total 3 columns):\n",
      "sensor    1422795 non-null object\n",
      "value     1422795 non-null float64\n",
      "time      1422795 non-null datetime64[ns]\n",
      "dtypes: datetime64[ns](1), float64(1), object(1)\n",
      "memory usage: 32.6+ MB\n"
     ]
    }
   ],
   "source": [
    "df1.info()"
   ]
  },
  {
   "cell_type": "code",
   "execution_count": 19,
   "metadata": {},
   "outputs": [],
   "source": [
    "assert df.notna().all().all()\n",
    "assert df1.notna().all().all() "
   ]
  },
  {
   "cell_type": "code",
   "execution_count": 20,
   "metadata": {},
   "outputs": [
    {
     "data": {
      "text/html": [
       "<div>\n",
       "<style scoped>\n",
       "    .dataframe tbody tr th:only-of-type {\n",
       "        vertical-align: middle;\n",
       "    }\n",
       "\n",
       "    .dataframe tbody tr th {\n",
       "        vertical-align: top;\n",
       "    }\n",
       "\n",
       "    .dataframe thead th {\n",
       "        text-align: right;\n",
       "    }\n",
       "</style>\n",
       "<table border=\"1\" class=\"dataframe\">\n",
       "  <thead>\n",
       "    <tr style=\"text-align: right;\">\n",
       "      <th></th>\n",
       "      <th>total</th>\n",
       "      <th>percent</th>\n",
       "    </tr>\n",
       "  </thead>\n",
       "  <tbody>\n",
       "    <tr>\n",
       "      <th>sensor</th>\n",
       "      <td>0</td>\n",
       "      <td>0.0</td>\n",
       "    </tr>\n",
       "    <tr>\n",
       "      <th>value</th>\n",
       "      <td>0</td>\n",
       "      <td>0.0</td>\n",
       "    </tr>\n",
       "    <tr>\n",
       "      <th>time</th>\n",
       "      <td>0</td>\n",
       "      <td>0.0</td>\n",
       "    </tr>\n",
       "  </tbody>\n",
       "</table>\n",
       "</div>"
      ],
      "text/plain": [
       "        total  percent\n",
       "sensor      0      0.0\n",
       "value       0      0.0\n",
       "time        0      0.0"
      ]
     },
     "execution_count": 20,
     "metadata": {},
     "output_type": "execute_result"
    }
   ],
   "source": [
    "missingdf = pd.DataFrame(df.isna().sum()).rename(columns = {0: 'total'})\n",
    "missingdf['percent'] = missingdf['total'] / len(df)\n",
    "missingdf"
   ]
  },
  {
   "cell_type": "markdown",
   "metadata": {},
   "source": [
    "No missing data and different format between data sensor P-BMP280 and T-BMP280 measures"
   ]
  },
  {
   "cell_type": "markdown",
   "metadata": {},
   "source": [
    "P-BMP280 measures the pressure and T-BMP280 measures the temperature. Here I try to merge the data P-BMP280 and T-BMP280 measures, because the measurement time is almost the same"
   ]
  },
  {
   "cell_type": "code",
   "execution_count": 21,
   "metadata": {},
   "outputs": [],
   "source": [
    "df.rename(columns={'sensor': 'pressure sensor','value' : 'P-BMP280'},inplace=True)\n",
    "df1.rename(columns={'sensor': 'temperature sensor','value' : 'T-BMP280'},inplace=True)"
   ]
  },
  {
   "cell_type": "code",
   "execution_count": 22,
   "metadata": {},
   "outputs": [
    {
     "data": {
      "text/html": [
       "<div>\n",
       "<style scoped>\n",
       "    .dataframe tbody tr th:only-of-type {\n",
       "        vertical-align: middle;\n",
       "    }\n",
       "\n",
       "    .dataframe tbody tr th {\n",
       "        vertical-align: top;\n",
       "    }\n",
       "\n",
       "    .dataframe thead th {\n",
       "        text-align: right;\n",
       "    }\n",
       "</style>\n",
       "<table border=\"1\" class=\"dataframe\">\n",
       "  <thead>\n",
       "    <tr style=\"text-align: right;\">\n",
       "      <th></th>\n",
       "      <th>pressure sensor</th>\n",
       "      <th>P-BMP280</th>\n",
       "      <th>time</th>\n",
       "    </tr>\n",
       "  </thead>\n",
       "  <tbody>\n",
       "    <tr>\n",
       "      <th>0</th>\n",
       "      <td>P-BMP280</td>\n",
       "      <td>1035.56</td>\n",
       "      <td>2017-12-22 10:52:59</td>\n",
       "    </tr>\n",
       "    <tr>\n",
       "      <th>1</th>\n",
       "      <td>P-BMP280</td>\n",
       "      <td>1035.55</td>\n",
       "      <td>2017-12-22 10:53:02</td>\n",
       "    </tr>\n",
       "    <tr>\n",
       "      <th>2</th>\n",
       "      <td>P-BMP280</td>\n",
       "      <td>1035.54</td>\n",
       "      <td>2017-12-22 10:53:05</td>\n",
       "    </tr>\n",
       "    <tr>\n",
       "      <th>3</th>\n",
       "      <td>P-BMP280</td>\n",
       "      <td>1035.54</td>\n",
       "      <td>2017-12-22 10:53:08</td>\n",
       "    </tr>\n",
       "    <tr>\n",
       "      <th>4</th>\n",
       "      <td>P-BMP280</td>\n",
       "      <td>1035.53</td>\n",
       "      <td>2017-12-22 10:53:11</td>\n",
       "    </tr>\n",
       "  </tbody>\n",
       "</table>\n",
       "</div>"
      ],
      "text/plain": [
       "  pressure sensor  P-BMP280                time\n",
       "0        P-BMP280   1035.56 2017-12-22 10:52:59\n",
       "1        P-BMP280   1035.55 2017-12-22 10:53:02\n",
       "2        P-BMP280   1035.54 2017-12-22 10:53:05\n",
       "3        P-BMP280   1035.54 2017-12-22 10:53:08\n",
       "4        P-BMP280   1035.53 2017-12-22 10:53:11"
      ]
     },
     "execution_count": 22,
     "metadata": {},
     "output_type": "execute_result"
    }
   ],
   "source": [
    "df.head()"
   ]
  },
  {
   "cell_type": "code",
   "execution_count": 23,
   "metadata": {},
   "outputs": [
    {
     "data": {
      "text/html": [
       "<div>\n",
       "<style scoped>\n",
       "    .dataframe tbody tr th:only-of-type {\n",
       "        vertical-align: middle;\n",
       "    }\n",
       "\n",
       "    .dataframe tbody tr th {\n",
       "        vertical-align: top;\n",
       "    }\n",
       "\n",
       "    .dataframe thead th {\n",
       "        text-align: right;\n",
       "    }\n",
       "</style>\n",
       "<table border=\"1\" class=\"dataframe\">\n",
       "  <thead>\n",
       "    <tr style=\"text-align: right;\">\n",
       "      <th></th>\n",
       "      <th>temperature sensor</th>\n",
       "      <th>T-BMP280</th>\n",
       "      <th>time</th>\n",
       "    </tr>\n",
       "  </thead>\n",
       "  <tbody>\n",
       "    <tr>\n",
       "      <th>0</th>\n",
       "      <td>T-BMP280</td>\n",
       "      <td>26.43</td>\n",
       "      <td>2017-12-22 10:52:59</td>\n",
       "    </tr>\n",
       "    <tr>\n",
       "      <th>1</th>\n",
       "      <td>T-BMP280</td>\n",
       "      <td>26.43</td>\n",
       "      <td>2017-12-22 10:53:02</td>\n",
       "    </tr>\n",
       "    <tr>\n",
       "      <th>2</th>\n",
       "      <td>T-BMP280</td>\n",
       "      <td>26.44</td>\n",
       "      <td>2017-12-22 10:53:05</td>\n",
       "    </tr>\n",
       "    <tr>\n",
       "      <th>3</th>\n",
       "      <td>T-BMP280</td>\n",
       "      <td>26.44</td>\n",
       "      <td>2017-12-22 10:53:08</td>\n",
       "    </tr>\n",
       "    <tr>\n",
       "      <th>4</th>\n",
       "      <td>T-BMP280</td>\n",
       "      <td>26.42</td>\n",
       "      <td>2017-12-22 10:53:11</td>\n",
       "    </tr>\n",
       "  </tbody>\n",
       "</table>\n",
       "</div>"
      ],
      "text/plain": [
       "  temperature sensor  T-BMP280                time\n",
       "0           T-BMP280     26.43 2017-12-22 10:52:59\n",
       "1           T-BMP280     26.43 2017-12-22 10:53:02\n",
       "2           T-BMP280     26.44 2017-12-22 10:53:05\n",
       "3           T-BMP280     26.44 2017-12-22 10:53:08\n",
       "4           T-BMP280     26.42 2017-12-22 10:53:11"
      ]
     },
     "execution_count": 23,
     "metadata": {},
     "output_type": "execute_result"
    }
   ],
   "source": [
    "df1.head()"
   ]
  },
  {
   "cell_type": "code",
   "execution_count": 24,
   "metadata": {},
   "outputs": [],
   "source": [
    "newdf =  pd.merge(df, df1, on='time', how='outer')"
   ]
  },
  {
   "cell_type": "code",
   "execution_count": 25,
   "metadata": {},
   "outputs": [
    {
     "data": {
      "text/html": [
       "<div>\n",
       "<style scoped>\n",
       "    .dataframe tbody tr th:only-of-type {\n",
       "        vertical-align: middle;\n",
       "    }\n",
       "\n",
       "    .dataframe tbody tr th {\n",
       "        vertical-align: top;\n",
       "    }\n",
       "\n",
       "    .dataframe thead th {\n",
       "        text-align: right;\n",
       "    }\n",
       "</style>\n",
       "<table border=\"1\" class=\"dataframe\">\n",
       "  <thead>\n",
       "    <tr style=\"text-align: right;\">\n",
       "      <th></th>\n",
       "      <th>pressure sensor</th>\n",
       "      <th>P-BMP280</th>\n",
       "      <th>time</th>\n",
       "      <th>temperature sensor</th>\n",
       "      <th>T-BMP280</th>\n",
       "    </tr>\n",
       "  </thead>\n",
       "  <tbody>\n",
       "    <tr>\n",
       "      <th>0</th>\n",
       "      <td>P-BMP280</td>\n",
       "      <td>1035.56</td>\n",
       "      <td>2017-12-22 10:52:59</td>\n",
       "      <td>T-BMP280</td>\n",
       "      <td>26.43</td>\n",
       "    </tr>\n",
       "    <tr>\n",
       "      <th>1</th>\n",
       "      <td>P-BMP280</td>\n",
       "      <td>1035.55</td>\n",
       "      <td>2017-12-22 10:53:02</td>\n",
       "      <td>T-BMP280</td>\n",
       "      <td>26.43</td>\n",
       "    </tr>\n",
       "    <tr>\n",
       "      <th>2</th>\n",
       "      <td>P-BMP280</td>\n",
       "      <td>1035.54</td>\n",
       "      <td>2017-12-22 10:53:05</td>\n",
       "      <td>T-BMP280</td>\n",
       "      <td>26.44</td>\n",
       "    </tr>\n",
       "    <tr>\n",
       "      <th>3</th>\n",
       "      <td>P-BMP280</td>\n",
       "      <td>1035.54</td>\n",
       "      <td>2017-12-22 10:53:08</td>\n",
       "      <td>T-BMP280</td>\n",
       "      <td>26.44</td>\n",
       "    </tr>\n",
       "    <tr>\n",
       "      <th>4</th>\n",
       "      <td>P-BMP280</td>\n",
       "      <td>1035.53</td>\n",
       "      <td>2017-12-22 10:53:11</td>\n",
       "      <td>T-BMP280</td>\n",
       "      <td>26.42</td>\n",
       "    </tr>\n",
       "  </tbody>\n",
       "</table>\n",
       "</div>"
      ],
      "text/plain": [
       "  pressure sensor  P-BMP280                time temperature sensor  T-BMP280\n",
       "0        P-BMP280   1035.56 2017-12-22 10:52:59           T-BMP280     26.43\n",
       "1        P-BMP280   1035.55 2017-12-22 10:53:02           T-BMP280     26.43\n",
       "2        P-BMP280   1035.54 2017-12-22 10:53:05           T-BMP280     26.44\n",
       "3        P-BMP280   1035.54 2017-12-22 10:53:08           T-BMP280     26.44\n",
       "4        P-BMP280   1035.53 2017-12-22 10:53:11           T-BMP280     26.42"
      ]
     },
     "execution_count": 25,
     "metadata": {},
     "output_type": "execute_result"
    }
   ],
   "source": [
    "newdf.head()"
   ]
  },
  {
   "cell_type": "code",
   "execution_count": 26,
   "metadata": {},
   "outputs": [
    {
     "data": {
      "text/html": [
       "<div>\n",
       "<style scoped>\n",
       "    .dataframe tbody tr th:only-of-type {\n",
       "        vertical-align: middle;\n",
       "    }\n",
       "\n",
       "    .dataframe tbody tr th {\n",
       "        vertical-align: top;\n",
       "    }\n",
       "\n",
       "    .dataframe thead th {\n",
       "        text-align: right;\n",
       "    }\n",
       "</style>\n",
       "<table border=\"1\" class=\"dataframe\">\n",
       "  <thead>\n",
       "    <tr style=\"text-align: right;\">\n",
       "      <th></th>\n",
       "      <th>pressure sensor</th>\n",
       "      <th>P-BMP280</th>\n",
       "      <th>time</th>\n",
       "      <th>temperature sensor</th>\n",
       "      <th>T-BMP280</th>\n",
       "    </tr>\n",
       "  </thead>\n",
       "  <tbody>\n",
       "    <tr>\n",
       "      <th>1504464</th>\n",
       "      <td>NaN</td>\n",
       "      <td>NaN</td>\n",
       "      <td>2018-03-13 11:40:06</td>\n",
       "      <td>T-BMP280</td>\n",
       "      <td>27.31</td>\n",
       "    </tr>\n",
       "    <tr>\n",
       "      <th>1504465</th>\n",
       "      <td>NaN</td>\n",
       "      <td>NaN</td>\n",
       "      <td>2018-03-13 11:40:27</td>\n",
       "      <td>T-BMP280</td>\n",
       "      <td>27.31</td>\n",
       "    </tr>\n",
       "    <tr>\n",
       "      <th>1504466</th>\n",
       "      <td>NaN</td>\n",
       "      <td>NaN</td>\n",
       "      <td>2018-03-13 11:40:48</td>\n",
       "      <td>T-BMP280</td>\n",
       "      <td>27.31</td>\n",
       "    </tr>\n",
       "    <tr>\n",
       "      <th>1504467</th>\n",
       "      <td>NaN</td>\n",
       "      <td>NaN</td>\n",
       "      <td>2018-03-13 11:41:09</td>\n",
       "      <td>T-BMP280</td>\n",
       "      <td>27.28</td>\n",
       "    </tr>\n",
       "    <tr>\n",
       "      <th>1504468</th>\n",
       "      <td>NaN</td>\n",
       "      <td>NaN</td>\n",
       "      <td>2018-03-13 11:41:30</td>\n",
       "      <td>T-BMP280</td>\n",
       "      <td>27.32</td>\n",
       "    </tr>\n",
       "  </tbody>\n",
       "</table>\n",
       "</div>"
      ],
      "text/plain": [
       "        pressure sensor  P-BMP280                time temperature sensor  \\\n",
       "1504464             NaN       NaN 2018-03-13 11:40:06           T-BMP280   \n",
       "1504465             NaN       NaN 2018-03-13 11:40:27           T-BMP280   \n",
       "1504466             NaN       NaN 2018-03-13 11:40:48           T-BMP280   \n",
       "1504467             NaN       NaN 2018-03-13 11:41:09           T-BMP280   \n",
       "1504468             NaN       NaN 2018-03-13 11:41:30           T-BMP280   \n",
       "\n",
       "         T-BMP280  \n",
       "1504464     27.31  \n",
       "1504465     27.31  \n",
       "1504466     27.31  \n",
       "1504467     27.28  \n",
       "1504468     27.32  "
      ]
     },
     "execution_count": 26,
     "metadata": {},
     "output_type": "execute_result"
    }
   ],
   "source": [
    "newdf.tail()"
   ]
  },
  {
   "cell_type": "code",
   "execution_count": 27,
   "metadata": {},
   "outputs": [],
   "source": [
    "newdf = newdf.reindex(columns=['time','pressure sensor','P-BMP280','temperature sensor','T-BMP280'])\n",
    "newdf = newdf[['time','pressure sensor','P-BMP280','temperature sensor','T-BMP280']]"
   ]
  },
  {
   "cell_type": "code",
   "execution_count": 28,
   "metadata": {},
   "outputs": [],
   "source": [
    "data = newdf.drop([\"pressure sensor\", \"temperature sensor\"], axis=1)"
   ]
  },
  {
   "cell_type": "code",
   "execution_count": 29,
   "metadata": {},
   "outputs": [
    {
     "data": {
      "text/html": [
       "<div>\n",
       "<style scoped>\n",
       "    .dataframe tbody tr th:only-of-type {\n",
       "        vertical-align: middle;\n",
       "    }\n",
       "\n",
       "    .dataframe tbody tr th {\n",
       "        vertical-align: top;\n",
       "    }\n",
       "\n",
       "    .dataframe thead th {\n",
       "        text-align: right;\n",
       "    }\n",
       "</style>\n",
       "<table border=\"1\" class=\"dataframe\">\n",
       "  <thead>\n",
       "    <tr style=\"text-align: right;\">\n",
       "      <th></th>\n",
       "      <th>time</th>\n",
       "      <th>P-BMP280</th>\n",
       "      <th>T-BMP280</th>\n",
       "    </tr>\n",
       "  </thead>\n",
       "  <tbody>\n",
       "    <tr>\n",
       "      <th>0</th>\n",
       "      <td>2017-12-22 10:52:59</td>\n",
       "      <td>1035.56</td>\n",
       "      <td>26.43</td>\n",
       "    </tr>\n",
       "    <tr>\n",
       "      <th>1</th>\n",
       "      <td>2017-12-22 10:53:02</td>\n",
       "      <td>1035.55</td>\n",
       "      <td>26.43</td>\n",
       "    </tr>\n",
       "    <tr>\n",
       "      <th>2</th>\n",
       "      <td>2017-12-22 10:53:05</td>\n",
       "      <td>1035.54</td>\n",
       "      <td>26.44</td>\n",
       "    </tr>\n",
       "    <tr>\n",
       "      <th>3</th>\n",
       "      <td>2017-12-22 10:53:08</td>\n",
       "      <td>1035.54</td>\n",
       "      <td>26.44</td>\n",
       "    </tr>\n",
       "    <tr>\n",
       "      <th>4</th>\n",
       "      <td>2017-12-22 10:53:11</td>\n",
       "      <td>1035.53</td>\n",
       "      <td>26.42</td>\n",
       "    </tr>\n",
       "  </tbody>\n",
       "</table>\n",
       "</div>"
      ],
      "text/plain": [
       "                 time  P-BMP280  T-BMP280\n",
       "0 2017-12-22 10:52:59   1035.56     26.43\n",
       "1 2017-12-22 10:53:02   1035.55     26.43\n",
       "2 2017-12-22 10:53:05   1035.54     26.44\n",
       "3 2017-12-22 10:53:08   1035.54     26.44\n",
       "4 2017-12-22 10:53:11   1035.53     26.42"
      ]
     },
     "execution_count": 29,
     "metadata": {},
     "output_type": "execute_result"
    }
   ],
   "source": [
    "data.head()"
   ]
  },
  {
   "cell_type": "code",
   "execution_count": 30,
   "metadata": {},
   "outputs": [
    {
     "data": {
      "text/html": [
       "<div>\n",
       "<style scoped>\n",
       "    .dataframe tbody tr th:only-of-type {\n",
       "        vertical-align: middle;\n",
       "    }\n",
       "\n",
       "    .dataframe tbody tr th {\n",
       "        vertical-align: top;\n",
       "    }\n",
       "\n",
       "    .dataframe thead th {\n",
       "        text-align: right;\n",
       "    }\n",
       "</style>\n",
       "<table border=\"1\" class=\"dataframe\">\n",
       "  <thead>\n",
       "    <tr style=\"text-align: right;\">\n",
       "      <th></th>\n",
       "      <th>time</th>\n",
       "      <th>P-BMP280</th>\n",
       "      <th>T-BMP280</th>\n",
       "    </tr>\n",
       "  </thead>\n",
       "  <tbody>\n",
       "    <tr>\n",
       "      <th>1504464</th>\n",
       "      <td>2018-03-13 11:40:06</td>\n",
       "      <td>NaN</td>\n",
       "      <td>27.31</td>\n",
       "    </tr>\n",
       "    <tr>\n",
       "      <th>1504465</th>\n",
       "      <td>2018-03-13 11:40:27</td>\n",
       "      <td>NaN</td>\n",
       "      <td>27.31</td>\n",
       "    </tr>\n",
       "    <tr>\n",
       "      <th>1504466</th>\n",
       "      <td>2018-03-13 11:40:48</td>\n",
       "      <td>NaN</td>\n",
       "      <td>27.31</td>\n",
       "    </tr>\n",
       "    <tr>\n",
       "      <th>1504467</th>\n",
       "      <td>2018-03-13 11:41:09</td>\n",
       "      <td>NaN</td>\n",
       "      <td>27.28</td>\n",
       "    </tr>\n",
       "    <tr>\n",
       "      <th>1504468</th>\n",
       "      <td>2018-03-13 11:41:30</td>\n",
       "      <td>NaN</td>\n",
       "      <td>27.32</td>\n",
       "    </tr>\n",
       "  </tbody>\n",
       "</table>\n",
       "</div>"
      ],
      "text/plain": [
       "                       time  P-BMP280  T-BMP280\n",
       "1504464 2018-03-13 11:40:06       NaN     27.31\n",
       "1504465 2018-03-13 11:40:27       NaN     27.31\n",
       "1504466 2018-03-13 11:40:48       NaN     27.31\n",
       "1504467 2018-03-13 11:41:09       NaN     27.28\n",
       "1504468 2018-03-13 11:41:30       NaN     27.32"
      ]
     },
     "execution_count": 30,
     "metadata": {},
     "output_type": "execute_result"
    }
   ],
   "source": [
    "data.tail()"
   ]
  },
  {
   "cell_type": "code",
   "execution_count": 31,
   "metadata": {},
   "outputs": [
    {
     "data": {
      "text/plain": [
       "time        1504469\n",
       "P-BMP280    1422788\n",
       "T-BMP280    1422795\n",
       "dtype: int64"
      ]
     },
     "execution_count": 31,
     "metadata": {},
     "output_type": "execute_result"
    }
   ],
   "source": [
    "data.count()"
   ]
  },
  {
   "cell_type": "code",
   "execution_count": 32,
   "metadata": {},
   "outputs": [
    {
     "data": {
      "text/html": [
       "<div>\n",
       "<style scoped>\n",
       "    .dataframe tbody tr th:only-of-type {\n",
       "        vertical-align: middle;\n",
       "    }\n",
       "\n",
       "    .dataframe tbody tr th {\n",
       "        vertical-align: top;\n",
       "    }\n",
       "\n",
       "    .dataframe thead th {\n",
       "        text-align: right;\n",
       "    }\n",
       "</style>\n",
       "<table border=\"1\" class=\"dataframe\">\n",
       "  <thead>\n",
       "    <tr style=\"text-align: right;\">\n",
       "      <th></th>\n",
       "      <th>total</th>\n",
       "      <th>percent</th>\n",
       "    </tr>\n",
       "  </thead>\n",
       "  <tbody>\n",
       "    <tr>\n",
       "      <th>time</th>\n",
       "      <td>0</td>\n",
       "      <td>0.000000</td>\n",
       "    </tr>\n",
       "    <tr>\n",
       "      <th>P-BMP280</th>\n",
       "      <td>81681</td>\n",
       "      <td>0.054292</td>\n",
       "    </tr>\n",
       "    <tr>\n",
       "      <th>T-BMP280</th>\n",
       "      <td>81674</td>\n",
       "      <td>0.054288</td>\n",
       "    </tr>\n",
       "  </tbody>\n",
       "</table>\n",
       "</div>"
      ],
      "text/plain": [
       "          total   percent\n",
       "time          0  0.000000\n",
       "P-BMP280  81681  0.054292\n",
       "T-BMP280  81674  0.054288"
      ]
     },
     "execution_count": 32,
     "metadata": {},
     "output_type": "execute_result"
    }
   ],
   "source": [
    "missingdata = pd.DataFrame(data.isna().sum()).rename(columns = {0: 'total'})\n",
    "missingdata['percent'] = missingdata['total'] / len(data)\n",
    "missingdata"
   ]
  },
  {
   "cell_type": "markdown",
   "metadata": {},
   "source": [
    "After merging the data from P-BMP280 and T-BMP280 sensor there are many missing data founded. This is maybe because the difference measurement time, so here I will try to interpolate the missing data."
   ]
  },
  {
   "cell_type": "markdown",
   "metadata": {},
   "source": [
    "Fill the NaN value on humidity value with intepolate data using time"
   ]
  },
  {
   "cell_type": "code",
   "execution_count": 33,
   "metadata": {},
   "outputs": [],
   "source": [
    "data.set_index('time',inplace=True)\n",
    "new_df = data.interpolate(method=\"time\") "
   ]
  },
  {
   "cell_type": "code",
   "execution_count": 34,
   "metadata": {},
   "outputs": [
    {
     "data": {
      "text/html": [
       "<div>\n",
       "<style scoped>\n",
       "    .dataframe tbody tr th:only-of-type {\n",
       "        vertical-align: middle;\n",
       "    }\n",
       "\n",
       "    .dataframe tbody tr th {\n",
       "        vertical-align: top;\n",
       "    }\n",
       "\n",
       "    .dataframe thead th {\n",
       "        text-align: right;\n",
       "    }\n",
       "</style>\n",
       "<table border=\"1\" class=\"dataframe\">\n",
       "  <thead>\n",
       "    <tr style=\"text-align: right;\">\n",
       "      <th></th>\n",
       "      <th>P-BMP280</th>\n",
       "      <th>T-BMP280</th>\n",
       "    </tr>\n",
       "    <tr>\n",
       "      <th>time</th>\n",
       "      <th></th>\n",
       "      <th></th>\n",
       "    </tr>\n",
       "  </thead>\n",
       "  <tbody>\n",
       "    <tr>\n",
       "      <th>2018-03-13 11:40:06</th>\n",
       "      <td>1015.934</td>\n",
       "      <td>27.31</td>\n",
       "    </tr>\n",
       "    <tr>\n",
       "      <th>2018-03-13 11:40:27</th>\n",
       "      <td>1015.958</td>\n",
       "      <td>27.31</td>\n",
       "    </tr>\n",
       "    <tr>\n",
       "      <th>2018-03-13 11:40:48</th>\n",
       "      <td>1015.930</td>\n",
       "      <td>27.31</td>\n",
       "    </tr>\n",
       "    <tr>\n",
       "      <th>2018-03-13 11:41:09</th>\n",
       "      <td>1015.892</td>\n",
       "      <td>27.28</td>\n",
       "    </tr>\n",
       "    <tr>\n",
       "      <th>2018-03-13 11:41:30</th>\n",
       "      <td>1015.936</td>\n",
       "      <td>27.32</td>\n",
       "    </tr>\n",
       "  </tbody>\n",
       "</table>\n",
       "</div>"
      ],
      "text/plain": [
       "                     P-BMP280  T-BMP280\n",
       "time                                   \n",
       "2018-03-13 11:40:06  1015.934     27.31\n",
       "2018-03-13 11:40:27  1015.958     27.31\n",
       "2018-03-13 11:40:48  1015.930     27.31\n",
       "2018-03-13 11:41:09  1015.892     27.28\n",
       "2018-03-13 11:41:30  1015.936     27.32"
      ]
     },
     "execution_count": 34,
     "metadata": {},
     "output_type": "execute_result"
    }
   ],
   "source": [
    "new_df.tail()"
   ]
  },
  {
   "cell_type": "code",
   "execution_count": 40,
   "metadata": {},
   "outputs": [
    {
     "data": {
      "text/html": [
       "<div>\n",
       "<style scoped>\n",
       "    .dataframe tbody tr th:only-of-type {\n",
       "        vertical-align: middle;\n",
       "    }\n",
       "\n",
       "    .dataframe tbody tr th {\n",
       "        vertical-align: top;\n",
       "    }\n",
       "\n",
       "    .dataframe thead th {\n",
       "        text-align: right;\n",
       "    }\n",
       "</style>\n",
       "<table border=\"1\" class=\"dataframe\">\n",
       "  <thead>\n",
       "    <tr style=\"text-align: right;\">\n",
       "      <th></th>\n",
       "      <th>total</th>\n",
       "      <th>percent</th>\n",
       "    </tr>\n",
       "  </thead>\n",
       "  <tbody>\n",
       "    <tr>\n",
       "      <th>P-BMP280</th>\n",
       "      <td>0</td>\n",
       "      <td>0.0</td>\n",
       "    </tr>\n",
       "    <tr>\n",
       "      <th>T-BMP280</th>\n",
       "      <td>0</td>\n",
       "      <td>0.0</td>\n",
       "    </tr>\n",
       "  </tbody>\n",
       "</table>\n",
       "</div>"
      ],
      "text/plain": [
       "          total  percent\n",
       "P-BMP280      0      0.0\n",
       "T-BMP280      0      0.0"
      ]
     },
     "execution_count": 40,
     "metadata": {},
     "output_type": "execute_result"
    }
   ],
   "source": [
    "missingnewdf1 = pd.DataFrame(new_df.isna().sum()).rename(columns = {0: 'total'})\n",
    "missingnewdf1['percent'] = missingnewdf1['total'] / len(new_df)\n",
    "missingnewdf1"
   ]
  },
  {
   "cell_type": "code",
   "execution_count": 41,
   "metadata": {},
   "outputs": [
    {
     "data": {
      "text/plain": [
       "P-BMP280    1504469\n",
       "T-BMP280    1504469\n",
       "dtype: int64"
      ]
     },
     "execution_count": 41,
     "metadata": {},
     "output_type": "execute_result"
    }
   ],
   "source": [
    "new_df.count()"
   ]
  },
  {
   "cell_type": "markdown",
   "metadata": {},
   "source": [
    "After interpolate and fill the data, no more missing value and I assume the data is clean"
   ]
  },
  {
   "cell_type": "markdown",
   "metadata": {},
   "source": [
    "# Visualization"
   ]
  },
  {
   "cell_type": "code",
   "execution_count": 38,
   "metadata": {},
   "outputs": [
    {
     "data": {
      "text/plain": [
       "Text(0.5,1,'Time vs Temperature')"
      ]
     },
     "execution_count": 38,
     "metadata": {},
     "output_type": "execute_result"
    },
    {
     "data": {
      "image/png": "[encoded data removed]",
      "text/plain": [
       "<Figure size 1800x1800 with 2 Axes>"
      ]
     },
     "metadata": {},
     "output_type": "display_data"
    }
   ],
   "source": [
    "%matplotlib inline\n",
    "plt.figure(figsize=(25, 25))\n",
    "plt.subplot(2,2,1)\n",
    "new_df1['T-BMP280'].plot()\n",
    "plt.title('Time vs Temperature')\n",
    "\n",
    "plt.subplot(2,2,2)\n",
    "new_df1['T-BMP280'].resample('D').mean().plot()\n",
    "plt.title('Time vs Temperature')"
   ]
  },
  {
   "cell_type": "code",
   "execution_count": 39,
   "metadata": {},
   "outputs": [
    {
     "data": {
      "text/plain": [
       "Text(0.5,1,'Time vs Pressure')"
      ]
     },
     "execution_count": 39,
     "metadata": {},
     "output_type": "execute_result"
    },
    {
     "data": {
      "image/png": "[encoded data removed]",
      "text/plain": [
       "<Figure size 1800x1800 with 2 Axes>"
      ]
     },
     "metadata": {},
     "output_type": "display_data"
    }
   ],
   "source": [
    "%matplotlib inline\n",
    "plt.figure(figsize=(25, 25))\n",
    "plt.subplot(2,2,1)\n",
    "new_df1['P-BMP280'].plot()\n",
    "plt.title('Time vs Pressure')\n",
    "\n",
    "plt.subplot(2,2,2)\n",
    "new_df1['P-BMP280'].resample('D').mean().plot()\n",
    "plt.title('Time vs Pressure')"
   ]
  },
  {
   "cell_type": "markdown",
   "metadata": {},
   "source": [
    "We can see that there are some days when there is no measurement at all "
   ]
  },
  {
   "cell_type": "code",
   "execution_count": null,
   "metadata": {},
   "outputs": [],
   "source": []
  }
 ],
 "metadata": {
  "kernelspec": {
   "display_name": "Python 3",
   "language": "python",
   "name": "python3"
  },
  "language_info": {
   "codemirror_mode": {
    "name": "ipython",
    "version": 3
   },
   "file_extension": ".py",
   "mimetype": "text/x-python",
   "name": "python",
   "nbconvert_exporter": "python",
   "pygments_lexer": "ipython3",
   "version": "3.6.5"
  }
 },
 "nbformat": 4,
 "nbformat_minor": 2
}
