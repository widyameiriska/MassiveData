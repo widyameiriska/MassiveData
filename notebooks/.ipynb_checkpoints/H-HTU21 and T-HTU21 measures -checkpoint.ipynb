{
 "cells": [
  {
   "cell_type": "markdown",
   "metadata": {},
   "source": [
    "# H-HTU21 and T-HTU21 measures "
   ]
  },
  {
   "cell_type": "markdown",
   "metadata": {},
   "source": [
    "First I will try to read the data from sensor H-DHT11 and T-DHT11 measures separately"
   ]
  },
  {
   "cell_type": "code",
   "execution_count": 114,
   "metadata": {},
   "outputs": [],
   "source": [
    "import csv\n",
    "import pandas as pd\n",
    "import numpy as np\n",
    "import json"
   ]
  },
  {
   "cell_type": "code",
   "execution_count": 115,
   "metadata": {},
   "outputs": [],
   "source": [
    "df = pd.read_csv('../data/raw/measures/H-HTU21-measures.csv')"
   ]
  },
  {
   "cell_type": "code",
   "execution_count": 116,
   "metadata": {},
   "outputs": [],
   "source": [
    "data = []\n",
    "with open('../data/raw/measures/T-HTU21-measures.json','r') as f:\n",
    "    for line in f:\n",
    "        data.append(json.loads(line))\n",
    "\n",
    "df1 = pd.DataFrame(data)"
   ]
  },
  {
   "cell_type": "code",
   "execution_count": 117,
   "metadata": {},
   "outputs": [
    {
     "data": {
      "text/html": [
       "<div>\n",
       "<style scoped>\n",
       "    .dataframe tbody tr th:only-of-type {\n",
       "        vertical-align: middle;\n",
       "    }\n",
       "\n",
       "    .dataframe tbody tr th {\n",
       "        vertical-align: top;\n",
       "    }\n",
       "\n",
       "    .dataframe thead th {\n",
       "        text-align: right;\n",
       "    }\n",
       "</style>\n",
       "<table border=\"1\" class=\"dataframe\">\n",
       "  <thead>\n",
       "    <tr style=\"text-align: right;\">\n",
       "      <th></th>\n",
       "      <th>sensor</th>\n",
       "      <th>value</th>\n",
       "      <th>time</th>\n",
       "    </tr>\n",
       "  </thead>\n",
       "  <tbody>\n",
       "    <tr>\n",
       "      <th>0</th>\n",
       "      <td>H-HTU21</td>\n",
       "      <td>28.3</td>\n",
       "      <td>2017-12-20T12:17:05Z</td>\n",
       "    </tr>\n",
       "    <tr>\n",
       "      <th>1</th>\n",
       "      <td>H-HTU21</td>\n",
       "      <td>28.2</td>\n",
       "      <td>2017-12-20T12:17:07Z</td>\n",
       "    </tr>\n",
       "    <tr>\n",
       "      <th>2</th>\n",
       "      <td>H-HTU21</td>\n",
       "      <td>28.1</td>\n",
       "      <td>2017-12-20T12:17:09Z</td>\n",
       "    </tr>\n",
       "    <tr>\n",
       "      <th>3</th>\n",
       "      <td>H-HTU21</td>\n",
       "      <td>28.2</td>\n",
       "      <td>2017-12-20T12:17:11Z</td>\n",
       "    </tr>\n",
       "    <tr>\n",
       "      <th>4</th>\n",
       "      <td>H-HTU21</td>\n",
       "      <td>28.2</td>\n",
       "      <td>2017-12-20T12:17:13Z</td>\n",
       "    </tr>\n",
       "  </tbody>\n",
       "</table>\n",
       "</div>"
      ],
      "text/plain": [
       "    sensor  value                  time\n",
       "0  H-HTU21   28.3  2017-12-20T12:17:05Z\n",
       "1  H-HTU21   28.2  2017-12-20T12:17:07Z\n",
       "2  H-HTU21   28.1  2017-12-20T12:17:09Z\n",
       "3  H-HTU21   28.2  2017-12-20T12:17:11Z\n",
       "4  H-HTU21   28.2  2017-12-20T12:17:13Z"
      ]
     },
     "execution_count": 117,
     "metadata": {},
     "output_type": "execute_result"
    }
   ],
   "source": [
    "df.head()"
   ]
  },
  {
   "cell_type": "code",
   "execution_count": 118,
   "metadata": {},
   "outputs": [
    {
     "data": {
      "text/html": [
       "<div>\n",
       "<style scoped>\n",
       "    .dataframe tbody tr th:only-of-type {\n",
       "        vertical-align: middle;\n",
       "    }\n",
       "\n",
       "    .dataframe tbody tr th {\n",
       "        vertical-align: top;\n",
       "    }\n",
       "\n",
       "    .dataframe thead th {\n",
       "        text-align: right;\n",
       "    }\n",
       "</style>\n",
       "<table border=\"1\" class=\"dataframe\">\n",
       "  <thead>\n",
       "    <tr style=\"text-align: right;\">\n",
       "      <th></th>\n",
       "      <th>sensor</th>\n",
       "      <th>value</th>\n",
       "      <th>time</th>\n",
       "    </tr>\n",
       "  </thead>\n",
       "  <tbody>\n",
       "    <tr>\n",
       "      <th>1428372</th>\n",
       "      <td>H-HTU21</td>\n",
       "      <td>30.8</td>\n",
       "      <td>2018-03-13T11:41:55Z</td>\n",
       "    </tr>\n",
       "    <tr>\n",
       "      <th>1428373</th>\n",
       "      <td>H-HTU21</td>\n",
       "      <td>30.8</td>\n",
       "      <td>2018-03-13T11:41:59Z</td>\n",
       "    </tr>\n",
       "    <tr>\n",
       "      <th>1428374</th>\n",
       "      <td>H-HTU21</td>\n",
       "      <td>30.8</td>\n",
       "      <td>2018-03-13T11:42:03Z</td>\n",
       "    </tr>\n",
       "    <tr>\n",
       "      <th>1428375</th>\n",
       "      <td>H-HTU21</td>\n",
       "      <td>31.0</td>\n",
       "      <td>2018-03-13T11:42:07Z</td>\n",
       "    </tr>\n",
       "    <tr>\n",
       "      <th>1428376</th>\n",
       "      <td>H-HTU21</td>\n",
       "      <td>33.6</td>\n",
       "      <td>2018-03-13T11:42:12Z</td>\n",
       "    </tr>\n",
       "  </tbody>\n",
       "</table>\n",
       "</div>"
      ],
      "text/plain": [
       "          sensor  value                  time\n",
       "1428372  H-HTU21   30.8  2018-03-13T11:41:55Z\n",
       "1428373  H-HTU21   30.8  2018-03-13T11:41:59Z\n",
       "1428374  H-HTU21   30.8  2018-03-13T11:42:03Z\n",
       "1428375  H-HTU21   31.0  2018-03-13T11:42:07Z\n",
       "1428376  H-HTU21   33.6  2018-03-13T11:42:12Z"
      ]
     },
     "execution_count": 118,
     "metadata": {},
     "output_type": "execute_result"
    }
   ],
   "source": [
    "df.tail()"
   ]
  },
  {
   "cell_type": "code",
   "execution_count": 119,
   "metadata": {},
   "outputs": [
    {
     "data": {
      "text/html": [
       "<div>\n",
       "<style scoped>\n",
       "    .dataframe tbody tr th:only-of-type {\n",
       "        vertical-align: middle;\n",
       "    }\n",
       "\n",
       "    .dataframe tbody tr th {\n",
       "        vertical-align: top;\n",
       "    }\n",
       "\n",
       "    .dataframe thead th {\n",
       "        text-align: right;\n",
       "    }\n",
       "</style>\n",
       "<table border=\"1\" class=\"dataframe\">\n",
       "  <thead>\n",
       "    <tr style=\"text-align: right;\">\n",
       "      <th></th>\n",
       "      <th>sensor</th>\n",
       "      <th>time</th>\n",
       "      <th>value</th>\n",
       "    </tr>\n",
       "  </thead>\n",
       "  <tbody>\n",
       "    <tr>\n",
       "      <th>0</th>\n",
       "      <td>T-HTU21</td>\n",
       "      <td>2017-12-20T12:17:05Z</td>\n",
       "      <td>25.09</td>\n",
       "    </tr>\n",
       "    <tr>\n",
       "      <th>1</th>\n",
       "      <td>T-HTU21</td>\n",
       "      <td>2017-12-20T12:17:07Z</td>\n",
       "      <td>25.09</td>\n",
       "    </tr>\n",
       "    <tr>\n",
       "      <th>2</th>\n",
       "      <td>T-HTU21</td>\n",
       "      <td>2017-12-20T12:17:09Z</td>\n",
       "      <td>25.09</td>\n",
       "    </tr>\n",
       "    <tr>\n",
       "      <th>3</th>\n",
       "      <td>T-HTU21</td>\n",
       "      <td>2017-12-20T12:17:11Z</td>\n",
       "      <td>25.09</td>\n",
       "    </tr>\n",
       "    <tr>\n",
       "      <th>4</th>\n",
       "      <td>T-HTU21</td>\n",
       "      <td>2017-12-20T12:17:13Z</td>\n",
       "      <td>25.08</td>\n",
       "    </tr>\n",
       "  </tbody>\n",
       "</table>\n",
       "</div>"
      ],
      "text/plain": [
       "    sensor                  time  value\n",
       "0  T-HTU21  2017-12-20T12:17:05Z  25.09\n",
       "1  T-HTU21  2017-12-20T12:17:07Z  25.09\n",
       "2  T-HTU21  2017-12-20T12:17:09Z  25.09\n",
       "3  T-HTU21  2017-12-20T12:17:11Z  25.09\n",
       "4  T-HTU21  2017-12-20T12:17:13Z  25.08"
      ]
     },
     "execution_count": 119,
     "metadata": {},
     "output_type": "execute_result"
    }
   ],
   "source": [
    "df1.head()"
   ]
  },
  {
   "cell_type": "code",
   "execution_count": 120,
   "metadata": {},
   "outputs": [
    {
     "data": {
      "text/html": [
       "<div>\n",
       "<style scoped>\n",
       "    .dataframe tbody tr th:only-of-type {\n",
       "        vertical-align: middle;\n",
       "    }\n",
       "\n",
       "    .dataframe tbody tr th {\n",
       "        vertical-align: top;\n",
       "    }\n",
       "\n",
       "    .dataframe thead th {\n",
       "        text-align: right;\n",
       "    }\n",
       "</style>\n",
       "<table border=\"1\" class=\"dataframe\">\n",
       "  <thead>\n",
       "    <tr style=\"text-align: right;\">\n",
       "      <th></th>\n",
       "      <th>sensor</th>\n",
       "      <th>time</th>\n",
       "      <th>value</th>\n",
       "    </tr>\n",
       "  </thead>\n",
       "  <tbody>\n",
       "    <tr>\n",
       "      <th>1428378</th>\n",
       "      <td>T-HTU21</td>\n",
       "      <td>2018-03-13T11:41:55Z</td>\n",
       "      <td>26.57</td>\n",
       "    </tr>\n",
       "    <tr>\n",
       "      <th>1428379</th>\n",
       "      <td>T-HTU21</td>\n",
       "      <td>2018-03-13T11:41:59Z</td>\n",
       "      <td>26.56</td>\n",
       "    </tr>\n",
       "    <tr>\n",
       "      <th>1428380</th>\n",
       "      <td>T-HTU21</td>\n",
       "      <td>2018-03-13T11:42:03Z</td>\n",
       "      <td>26.58</td>\n",
       "    </tr>\n",
       "    <tr>\n",
       "      <th>1428381</th>\n",
       "      <td>T-HTU21</td>\n",
       "      <td>2018-03-13T11:42:07Z</td>\n",
       "      <td>26.58</td>\n",
       "    </tr>\n",
       "    <tr>\n",
       "      <th>1428382</th>\n",
       "      <td>T-HTU21</td>\n",
       "      <td>2018-03-13T11:42:11Z</td>\n",
       "      <td>26.58</td>\n",
       "    </tr>\n",
       "  </tbody>\n",
       "</table>\n",
       "</div>"
      ],
      "text/plain": [
       "          sensor                  time  value\n",
       "1428378  T-HTU21  2018-03-13T11:41:55Z  26.57\n",
       "1428379  T-HTU21  2018-03-13T11:41:59Z  26.56\n",
       "1428380  T-HTU21  2018-03-13T11:42:03Z  26.58\n",
       "1428381  T-HTU21  2018-03-13T11:42:07Z  26.58\n",
       "1428382  T-HTU21  2018-03-13T11:42:11Z  26.58"
      ]
     },
     "execution_count": 120,
     "metadata": {},
     "output_type": "execute_result"
    }
   ],
   "source": [
    "df1.tail()"
   ]
  },
  {
   "cell_type": "code",
   "execution_count": 121,
   "metadata": {},
   "outputs": [
    {
     "data": {
      "text/plain": [
       "Index(['sensor', 'value', 'time'], dtype='object')"
      ]
     },
     "execution_count": 121,
     "metadata": {},
     "output_type": "execute_result"
    }
   ],
   "source": [
    "df.columns"
   ]
  },
  {
   "cell_type": "code",
   "execution_count": 122,
   "metadata": {},
   "outputs": [
    {
     "data": {
      "text/plain": [
       "sensor    1428377\n",
       "value     1428377\n",
       "time      1428377\n",
       "dtype: int64"
      ]
     },
     "execution_count": 122,
     "metadata": {},
     "output_type": "execute_result"
    }
   ],
   "source": [
    "df.count()"
   ]
  },
  {
   "cell_type": "code",
   "execution_count": 123,
   "metadata": {},
   "outputs": [
    {
     "data": {
      "text/plain": [
       "Index(['sensor', 'time', 'value'], dtype='object')"
      ]
     },
     "execution_count": 123,
     "metadata": {},
     "output_type": "execute_result"
    }
   ],
   "source": [
    "df1.columns"
   ]
  },
  {
   "cell_type": "code",
   "execution_count": 124,
   "metadata": {},
   "outputs": [
    {
     "data": {
      "text/plain": [
       "sensor    1428383\n",
       "time      1428383\n",
       "value     1428383\n",
       "dtype: int64"
      ]
     },
     "execution_count": 124,
     "metadata": {},
     "output_type": "execute_result"
    }
   ],
   "source": [
    "df1.count()"
   ]
  },
  {
   "cell_type": "code",
   "execution_count": 125,
   "metadata": {},
   "outputs": [
    {
     "data": {
      "text/plain": [
       "sensor    0\n",
       "value     0\n",
       "time      0\n",
       "dtype: int64"
      ]
     },
     "execution_count": 125,
     "metadata": {},
     "output_type": "execute_result"
    }
   ],
   "source": [
    "df.isnull().sum()"
   ]
  },
  {
   "cell_type": "code",
   "execution_count": 126,
   "metadata": {},
   "outputs": [
    {
     "data": {
      "text/plain": [
       "sensor     object\n",
       "value     float64\n",
       "time       object\n",
       "dtype: object"
      ]
     },
     "execution_count": 126,
     "metadata": {},
     "output_type": "execute_result"
    }
   ],
   "source": [
    "df.dtypes"
   ]
  },
  {
   "cell_type": "code",
   "execution_count": 127,
   "metadata": {},
   "outputs": [
    {
     "data": {
      "text/plain": [
       "sensor    0\n",
       "value     0\n",
       "time      0\n",
       "dtype: int64"
      ]
     },
     "execution_count": 127,
     "metadata": {},
     "output_type": "execute_result"
    }
   ],
   "source": [
    "df.isnull().sum()"
   ]
  },
  {
   "cell_type": "code",
   "execution_count": 128,
   "metadata": {},
   "outputs": [
    {
     "data": {
      "text/plain": [
       "sensor     object\n",
       "time       object\n",
       "value     float64\n",
       "dtype: object"
      ]
     },
     "execution_count": 128,
     "metadata": {},
     "output_type": "execute_result"
    }
   ],
   "source": [
    "df1.dtypes"
   ]
  },
  {
   "cell_type": "code",
   "execution_count": 129,
   "metadata": {},
   "outputs": [
    {
     "data": {
      "text/plain": [
       "sensor    0\n",
       "time      0\n",
       "value     0\n",
       "dtype: int64"
      ]
     },
     "execution_count": 129,
     "metadata": {},
     "output_type": "execute_result"
    }
   ],
   "source": [
    "df1.isnull().sum()"
   ]
  },
  {
   "cell_type": "code",
   "execution_count": 130,
   "metadata": {},
   "outputs": [
    {
     "data": {
      "text/html": [
       "<div>\n",
       "<style scoped>\n",
       "    .dataframe tbody tr th:only-of-type {\n",
       "        vertical-align: middle;\n",
       "    }\n",
       "\n",
       "    .dataframe tbody tr th {\n",
       "        vertical-align: top;\n",
       "    }\n",
       "\n",
       "    .dataframe thead th {\n",
       "        text-align: right;\n",
       "    }\n",
       "</style>\n",
       "<table border=\"1\" class=\"dataframe\">\n",
       "  <thead>\n",
       "    <tr style=\"text-align: right;\">\n",
       "      <th></th>\n",
       "      <th>value</th>\n",
       "    </tr>\n",
       "  </thead>\n",
       "  <tbody>\n",
       "    <tr>\n",
       "      <th>count</th>\n",
       "      <td>1.428377e+06</td>\n",
       "    </tr>\n",
       "    <tr>\n",
       "      <th>mean</th>\n",
       "      <td>3.434038e+01</td>\n",
       "    </tr>\n",
       "    <tr>\n",
       "      <th>std</th>\n",
       "      <td>4.954117e+00</td>\n",
       "    </tr>\n",
       "    <tr>\n",
       "      <th>min</th>\n",
       "      <td>1.970000e+01</td>\n",
       "    </tr>\n",
       "    <tr>\n",
       "      <th>25%</th>\n",
       "      <td>3.040000e+01</td>\n",
       "    </tr>\n",
       "    <tr>\n",
       "      <th>50%</th>\n",
       "      <td>3.440000e+01</td>\n",
       "    </tr>\n",
       "    <tr>\n",
       "      <th>75%</th>\n",
       "      <td>3.730000e+01</td>\n",
       "    </tr>\n",
       "    <tr>\n",
       "      <th>max</th>\n",
       "      <td>5.630000e+01</td>\n",
       "    </tr>\n",
       "  </tbody>\n",
       "</table>\n",
       "</div>"
      ],
      "text/plain": [
       "              value\n",
       "count  1.428377e+06\n",
       "mean   3.434038e+01\n",
       "std    4.954117e+00\n",
       "min    1.970000e+01\n",
       "25%    3.040000e+01\n",
       "50%    3.440000e+01\n",
       "75%    3.730000e+01\n",
       "max    5.630000e+01"
      ]
     },
     "execution_count": 130,
     "metadata": {},
     "output_type": "execute_result"
    }
   ],
   "source": [
    "df.describe()"
   ]
  },
  {
   "cell_type": "code",
   "execution_count": 131,
   "metadata": {},
   "outputs": [
    {
     "data": {
      "text/html": [
       "<div>\n",
       "<style scoped>\n",
       "    .dataframe tbody tr th:only-of-type {\n",
       "        vertical-align: middle;\n",
       "    }\n",
       "\n",
       "    .dataframe tbody tr th {\n",
       "        vertical-align: top;\n",
       "    }\n",
       "\n",
       "    .dataframe thead th {\n",
       "        text-align: right;\n",
       "    }\n",
       "</style>\n",
       "<table border=\"1\" class=\"dataframe\">\n",
       "  <thead>\n",
       "    <tr style=\"text-align: right;\">\n",
       "      <th></th>\n",
       "      <th>value</th>\n",
       "    </tr>\n",
       "  </thead>\n",
       "  <tbody>\n",
       "    <tr>\n",
       "      <th>count</th>\n",
       "      <td>1.428383e+06</td>\n",
       "    </tr>\n",
       "    <tr>\n",
       "      <th>mean</th>\n",
       "      <td>2.153985e+01</td>\n",
       "    </tr>\n",
       "    <tr>\n",
       "      <th>std</th>\n",
       "      <td>2.573268e+00</td>\n",
       "    </tr>\n",
       "    <tr>\n",
       "      <th>min</th>\n",
       "      <td>1.508000e+01</td>\n",
       "    </tr>\n",
       "    <tr>\n",
       "      <th>25%</th>\n",
       "      <td>2.026000e+01</td>\n",
       "    </tr>\n",
       "    <tr>\n",
       "      <th>50%</th>\n",
       "      <td>2.181000e+01</td>\n",
       "    </tr>\n",
       "    <tr>\n",
       "      <th>75%</th>\n",
       "      <td>2.334000e+01</td>\n",
       "    </tr>\n",
       "    <tr>\n",
       "      <th>max</th>\n",
       "      <td>2.821000e+01</td>\n",
       "    </tr>\n",
       "  </tbody>\n",
       "</table>\n",
       "</div>"
      ],
      "text/plain": [
       "              value\n",
       "count  1.428383e+06\n",
       "mean   2.153985e+01\n",
       "std    2.573268e+00\n",
       "min    1.508000e+01\n",
       "25%    2.026000e+01\n",
       "50%    2.181000e+01\n",
       "75%    2.334000e+01\n",
       "max    2.821000e+01"
      ]
     },
     "execution_count": 131,
     "metadata": {},
     "output_type": "execute_result"
    }
   ],
   "source": [
    "df1.describe()"
   ]
  },
  {
   "cell_type": "markdown",
   "metadata": {},
   "source": [
    "Convert time column into date time format"
   ]
  },
  {
   "cell_type": "code",
   "execution_count": 132,
   "metadata": {},
   "outputs": [],
   "source": [
    "df['time'] = pd.to_datetime(df['time'])\n",
    "df1['time'] = pd.to_datetime(df1['time'])"
   ]
  },
  {
   "cell_type": "code",
   "execution_count": 133,
   "metadata": {},
   "outputs": [
    {
     "name": "stdout",
     "output_type": "stream",
     "text": [
      "<class 'pandas.core.frame.DataFrame'>\n",
      "RangeIndex: 1428377 entries, 0 to 1428376\n",
      "Data columns (total 3 columns):\n",
      "sensor    1428377 non-null object\n",
      "value     1428377 non-null float64\n",
      "time      1428377 non-null datetime64[ns]\n",
      "dtypes: datetime64[ns](1), float64(1), object(1)\n",
      "memory usage: 32.7+ MB\n"
     ]
    }
   ],
   "source": [
    "df.info()"
   ]
  },
  {
   "cell_type": "code",
   "execution_count": 134,
   "metadata": {},
   "outputs": [
    {
     "name": "stdout",
     "output_type": "stream",
     "text": [
      "<class 'pandas.core.frame.DataFrame'>\n",
      "RangeIndex: 1428383 entries, 0 to 1428382\n",
      "Data columns (total 3 columns):\n",
      "sensor    1428383 non-null object\n",
      "time      1428383 non-null datetime64[ns]\n",
      "value     1428383 non-null float64\n",
      "dtypes: datetime64[ns](1), float64(1), object(1)\n",
      "memory usage: 32.7+ MB\n"
     ]
    }
   ],
   "source": [
    "df1.info()"
   ]
  },
  {
   "cell_type": "code",
   "execution_count": 135,
   "metadata": {},
   "outputs": [],
   "source": [
    "assert df.notna().all().all()\n",
    "assert df1.notna().all().all() "
   ]
  },
  {
   "cell_type": "code",
   "execution_count": 136,
   "metadata": {},
   "outputs": [
    {
     "data": {
      "text/html": [
       "<div>\n",
       "<style scoped>\n",
       "    .dataframe tbody tr th:only-of-type {\n",
       "        vertical-align: middle;\n",
       "    }\n",
       "\n",
       "    .dataframe tbody tr th {\n",
       "        vertical-align: top;\n",
       "    }\n",
       "\n",
       "    .dataframe thead th {\n",
       "        text-align: right;\n",
       "    }\n",
       "</style>\n",
       "<table border=\"1\" class=\"dataframe\">\n",
       "  <thead>\n",
       "    <tr style=\"text-align: right;\">\n",
       "      <th></th>\n",
       "      <th>total</th>\n",
       "      <th>percent</th>\n",
       "    </tr>\n",
       "  </thead>\n",
       "  <tbody>\n",
       "    <tr>\n",
       "      <th>sensor</th>\n",
       "      <td>0</td>\n",
       "      <td>0.0</td>\n",
       "    </tr>\n",
       "    <tr>\n",
       "      <th>value</th>\n",
       "      <td>0</td>\n",
       "      <td>0.0</td>\n",
       "    </tr>\n",
       "    <tr>\n",
       "      <th>time</th>\n",
       "      <td>0</td>\n",
       "      <td>0.0</td>\n",
       "    </tr>\n",
       "  </tbody>\n",
       "</table>\n",
       "</div>"
      ],
      "text/plain": [
       "        total  percent\n",
       "sensor      0      0.0\n",
       "value       0      0.0\n",
       "time        0      0.0"
      ]
     },
     "execution_count": 136,
     "metadata": {},
     "output_type": "execute_result"
    }
   ],
   "source": [
    "missingdf = pd.DataFrame(df.isna().sum()).rename(columns = {0: 'total'})\n",
    "missingdf['percent'] = missingdf['total'] / len(df)\n",
    "missingdf"
   ]
  },
  {
   "cell_type": "code",
   "execution_count": 137,
   "metadata": {},
   "outputs": [
    {
     "data": {
      "text/html": [
       "<div>\n",
       "<style scoped>\n",
       "    .dataframe tbody tr th:only-of-type {\n",
       "        vertical-align: middle;\n",
       "    }\n",
       "\n",
       "    .dataframe tbody tr th {\n",
       "        vertical-align: top;\n",
       "    }\n",
       "\n",
       "    .dataframe thead th {\n",
       "        text-align: right;\n",
       "    }\n",
       "</style>\n",
       "<table border=\"1\" class=\"dataframe\">\n",
       "  <thead>\n",
       "    <tr style=\"text-align: right;\">\n",
       "      <th></th>\n",
       "      <th>total</th>\n",
       "      <th>percent</th>\n",
       "    </tr>\n",
       "  </thead>\n",
       "  <tbody>\n",
       "    <tr>\n",
       "      <th>sensor</th>\n",
       "      <td>0</td>\n",
       "      <td>0.0</td>\n",
       "    </tr>\n",
       "    <tr>\n",
       "      <th>value</th>\n",
       "      <td>0</td>\n",
       "      <td>0.0</td>\n",
       "    </tr>\n",
       "    <tr>\n",
       "      <th>time</th>\n",
       "      <td>0</td>\n",
       "      <td>0.0</td>\n",
       "    </tr>\n",
       "  </tbody>\n",
       "</table>\n",
       "</div>"
      ],
      "text/plain": [
       "        total  percent\n",
       "sensor      0      0.0\n",
       "value       0      0.0\n",
       "time        0      0.0"
      ]
     },
     "execution_count": 137,
     "metadata": {},
     "output_type": "execute_result"
    }
   ],
   "source": [
    "missingdf1 = pd.DataFrame(df.isna().sum()).rename(columns = {0: 'total'})\n",
    "missingdf1['percent'] = missingdf1['total'] / len(df1)\n",
    "missingdf1"
   ]
  },
  {
   "cell_type": "markdown",
   "metadata": {},
   "source": [
    "No missing data and different format between data sensor T-DHT11-measures and H-DHT11-measures"
   ]
  },
  {
   "cell_type": "markdown",
   "metadata": {},
   "source": [
    "T-DHT11 measures the temperature and H-DHT11 measures the humidity. Here I try to merge the data T-DHT11-measures and H-DHT11-measures, because the measurement time is almost the same"
   ]
  },
  {
   "cell_type": "code",
   "execution_count": 138,
   "metadata": {},
   "outputs": [],
   "source": [
    "df.rename(columns={'sensor': 'humidity sensor','value' : 'humidity value'},inplace=True)"
   ]
  },
  {
   "cell_type": "code",
   "execution_count": 139,
   "metadata": {},
   "outputs": [
    {
     "data": {
      "text/html": [
       "<div>\n",
       "<style scoped>\n",
       "    .dataframe tbody tr th:only-of-type {\n",
       "        vertical-align: middle;\n",
       "    }\n",
       "\n",
       "    .dataframe tbody tr th {\n",
       "        vertical-align: top;\n",
       "    }\n",
       "\n",
       "    .dataframe thead th {\n",
       "        text-align: right;\n",
       "    }\n",
       "</style>\n",
       "<table border=\"1\" class=\"dataframe\">\n",
       "  <thead>\n",
       "    <tr style=\"text-align: right;\">\n",
       "      <th></th>\n",
       "      <th>humidity sensor</th>\n",
       "      <th>humidity value</th>\n",
       "      <th>time</th>\n",
       "    </tr>\n",
       "  </thead>\n",
       "  <tbody>\n",
       "    <tr>\n",
       "      <th>0</th>\n",
       "      <td>H-HTU21</td>\n",
       "      <td>28.3</td>\n",
       "      <td>2017-12-20 12:17:05</td>\n",
       "    </tr>\n",
       "    <tr>\n",
       "      <th>1</th>\n",
       "      <td>H-HTU21</td>\n",
       "      <td>28.2</td>\n",
       "      <td>2017-12-20 12:17:07</td>\n",
       "    </tr>\n",
       "    <tr>\n",
       "      <th>2</th>\n",
       "      <td>H-HTU21</td>\n",
       "      <td>28.1</td>\n",
       "      <td>2017-12-20 12:17:09</td>\n",
       "    </tr>\n",
       "    <tr>\n",
       "      <th>3</th>\n",
       "      <td>H-HTU21</td>\n",
       "      <td>28.2</td>\n",
       "      <td>2017-12-20 12:17:11</td>\n",
       "    </tr>\n",
       "    <tr>\n",
       "      <th>4</th>\n",
       "      <td>H-HTU21</td>\n",
       "      <td>28.2</td>\n",
       "      <td>2017-12-20 12:17:13</td>\n",
       "    </tr>\n",
       "  </tbody>\n",
       "</table>\n",
       "</div>"
      ],
      "text/plain": [
       "  humidity sensor  humidity value                time\n",
       "0         H-HTU21            28.3 2017-12-20 12:17:05\n",
       "1         H-HTU21            28.2 2017-12-20 12:17:07\n",
       "2         H-HTU21            28.1 2017-12-20 12:17:09\n",
       "3         H-HTU21            28.2 2017-12-20 12:17:11\n",
       "4         H-HTU21            28.2 2017-12-20 12:17:13"
      ]
     },
     "execution_count": 139,
     "metadata": {},
     "output_type": "execute_result"
    }
   ],
   "source": [
    "df.head()"
   ]
  },
  {
   "cell_type": "code",
   "execution_count": 140,
   "metadata": {},
   "outputs": [],
   "source": [
    "df1.rename(columns={'sensor': 'temperature sensor','value' : 'temperature value'},inplace=True)"
   ]
  },
  {
   "cell_type": "code",
   "execution_count": 141,
   "metadata": {},
   "outputs": [
    {
     "data": {
      "text/html": [
       "<div>\n",
       "<style scoped>\n",
       "    .dataframe tbody tr th:only-of-type {\n",
       "        vertical-align: middle;\n",
       "    }\n",
       "\n",
       "    .dataframe tbody tr th {\n",
       "        vertical-align: top;\n",
       "    }\n",
       "\n",
       "    .dataframe thead th {\n",
       "        text-align: right;\n",
       "    }\n",
       "</style>\n",
       "<table border=\"1\" class=\"dataframe\">\n",
       "  <thead>\n",
       "    <tr style=\"text-align: right;\">\n",
       "      <th></th>\n",
       "      <th>temperature sensor</th>\n",
       "      <th>time</th>\n",
       "      <th>temperature value</th>\n",
       "    </tr>\n",
       "  </thead>\n",
       "  <tbody>\n",
       "    <tr>\n",
       "      <th>0</th>\n",
       "      <td>T-HTU21</td>\n",
       "      <td>2017-12-20 12:17:05</td>\n",
       "      <td>25.09</td>\n",
       "    </tr>\n",
       "    <tr>\n",
       "      <th>1</th>\n",
       "      <td>T-HTU21</td>\n",
       "      <td>2017-12-20 12:17:07</td>\n",
       "      <td>25.09</td>\n",
       "    </tr>\n",
       "    <tr>\n",
       "      <th>2</th>\n",
       "      <td>T-HTU21</td>\n",
       "      <td>2017-12-20 12:17:09</td>\n",
       "      <td>25.09</td>\n",
       "    </tr>\n",
       "    <tr>\n",
       "      <th>3</th>\n",
       "      <td>T-HTU21</td>\n",
       "      <td>2017-12-20 12:17:11</td>\n",
       "      <td>25.09</td>\n",
       "    </tr>\n",
       "    <tr>\n",
       "      <th>4</th>\n",
       "      <td>T-HTU21</td>\n",
       "      <td>2017-12-20 12:17:13</td>\n",
       "      <td>25.08</td>\n",
       "    </tr>\n",
       "  </tbody>\n",
       "</table>\n",
       "</div>"
      ],
      "text/plain": [
       "  temperature sensor                time  temperature value\n",
       "0            T-HTU21 2017-12-20 12:17:05              25.09\n",
       "1            T-HTU21 2017-12-20 12:17:07              25.09\n",
       "2            T-HTU21 2017-12-20 12:17:09              25.09\n",
       "3            T-HTU21 2017-12-20 12:17:11              25.09\n",
       "4            T-HTU21 2017-12-20 12:17:13              25.08"
      ]
     },
     "execution_count": 141,
     "metadata": {},
     "output_type": "execute_result"
    }
   ],
   "source": [
    "df1.head()"
   ]
  },
  {
   "cell_type": "code",
   "execution_count": 142,
   "metadata": {},
   "outputs": [],
   "source": [
    "newdf =  pd.merge(df, df1, on='time', how='outer')"
   ]
  },
  {
   "cell_type": "code",
   "execution_count": 143,
   "metadata": {},
   "outputs": [
    {
     "data": {
      "text/html": [
       "<div>\n",
       "<style scoped>\n",
       "    .dataframe tbody tr th:only-of-type {\n",
       "        vertical-align: middle;\n",
       "    }\n",
       "\n",
       "    .dataframe tbody tr th {\n",
       "        vertical-align: top;\n",
       "    }\n",
       "\n",
       "    .dataframe thead th {\n",
       "        text-align: right;\n",
       "    }\n",
       "</style>\n",
       "<table border=\"1\" class=\"dataframe\">\n",
       "  <thead>\n",
       "    <tr style=\"text-align: right;\">\n",
       "      <th></th>\n",
       "      <th>humidity sensor</th>\n",
       "      <th>humidity value</th>\n",
       "      <th>time</th>\n",
       "      <th>temperature sensor</th>\n",
       "      <th>temperature value</th>\n",
       "    </tr>\n",
       "  </thead>\n",
       "  <tbody>\n",
       "    <tr>\n",
       "      <th>0</th>\n",
       "      <td>H-HTU21</td>\n",
       "      <td>28.3</td>\n",
       "      <td>2017-12-20 12:17:05</td>\n",
       "      <td>T-HTU21</td>\n",
       "      <td>25.09</td>\n",
       "    </tr>\n",
       "    <tr>\n",
       "      <th>1</th>\n",
       "      <td>H-HTU21</td>\n",
       "      <td>28.2</td>\n",
       "      <td>2017-12-20 12:17:07</td>\n",
       "      <td>T-HTU21</td>\n",
       "      <td>25.09</td>\n",
       "    </tr>\n",
       "    <tr>\n",
       "      <th>2</th>\n",
       "      <td>H-HTU21</td>\n",
       "      <td>28.1</td>\n",
       "      <td>2017-12-20 12:17:09</td>\n",
       "      <td>T-HTU21</td>\n",
       "      <td>25.09</td>\n",
       "    </tr>\n",
       "    <tr>\n",
       "      <th>3</th>\n",
       "      <td>H-HTU21</td>\n",
       "      <td>28.2</td>\n",
       "      <td>2017-12-20 12:17:11</td>\n",
       "      <td>T-HTU21</td>\n",
       "      <td>25.09</td>\n",
       "    </tr>\n",
       "    <tr>\n",
       "      <th>4</th>\n",
       "      <td>H-HTU21</td>\n",
       "      <td>28.2</td>\n",
       "      <td>2017-12-20 12:17:13</td>\n",
       "      <td>T-HTU21</td>\n",
       "      <td>25.08</td>\n",
       "    </tr>\n",
       "  </tbody>\n",
       "</table>\n",
       "</div>"
      ],
      "text/plain": [
       "  humidity sensor  humidity value                time temperature sensor  \\\n",
       "0         H-HTU21            28.3 2017-12-20 12:17:05            T-HTU21   \n",
       "1         H-HTU21            28.2 2017-12-20 12:17:07            T-HTU21   \n",
       "2         H-HTU21            28.1 2017-12-20 12:17:09            T-HTU21   \n",
       "3         H-HTU21            28.2 2017-12-20 12:17:11            T-HTU21   \n",
       "4         H-HTU21            28.2 2017-12-20 12:17:13            T-HTU21   \n",
       "\n",
       "   temperature value  \n",
       "0              25.09  \n",
       "1              25.09  \n",
       "2              25.09  \n",
       "3              25.09  \n",
       "4              25.08  "
      ]
     },
     "execution_count": 143,
     "metadata": {},
     "output_type": "execute_result"
    }
   ],
   "source": [
    "newdf.head()"
   ]
  },
  {
   "cell_type": "code",
   "execution_count": 144,
   "metadata": {},
   "outputs": [
    {
     "data": {
      "text/html": [
       "<div>\n",
       "<style scoped>\n",
       "    .dataframe tbody tr th:only-of-type {\n",
       "        vertical-align: middle;\n",
       "    }\n",
       "\n",
       "    .dataframe tbody tr th {\n",
       "        vertical-align: top;\n",
       "    }\n",
       "\n",
       "    .dataframe thead th {\n",
       "        text-align: right;\n",
       "    }\n",
       "</style>\n",
       "<table border=\"1\" class=\"dataframe\">\n",
       "  <thead>\n",
       "    <tr style=\"text-align: right;\">\n",
       "      <th></th>\n",
       "      <th>humidity sensor</th>\n",
       "      <th>humidity value</th>\n",
       "      <th>time</th>\n",
       "      <th>temperature sensor</th>\n",
       "      <th>temperature value</th>\n",
       "    </tr>\n",
       "  </thead>\n",
       "  <tbody>\n",
       "    <tr>\n",
       "      <th>1510100</th>\n",
       "      <td>NaN</td>\n",
       "      <td>NaN</td>\n",
       "      <td>2018-03-13 11:39:02</td>\n",
       "      <td>T-HTU21</td>\n",
       "      <td>26.53</td>\n",
       "    </tr>\n",
       "    <tr>\n",
       "      <th>1510101</th>\n",
       "      <td>NaN</td>\n",
       "      <td>NaN</td>\n",
       "      <td>2018-03-13 11:39:23</td>\n",
       "      <td>T-HTU21</td>\n",
       "      <td>26.54</td>\n",
       "    </tr>\n",
       "    <tr>\n",
       "      <th>1510102</th>\n",
       "      <td>NaN</td>\n",
       "      <td>NaN</td>\n",
       "      <td>2018-03-13 11:40:47</td>\n",
       "      <td>T-HTU21</td>\n",
       "      <td>26.53</td>\n",
       "    </tr>\n",
       "    <tr>\n",
       "      <th>1510103</th>\n",
       "      <td>NaN</td>\n",
       "      <td>NaN</td>\n",
       "      <td>2018-03-13 11:41:50</td>\n",
       "      <td>T-HTU21</td>\n",
       "      <td>26.56</td>\n",
       "    </tr>\n",
       "    <tr>\n",
       "      <th>1510104</th>\n",
       "      <td>NaN</td>\n",
       "      <td>NaN</td>\n",
       "      <td>2018-03-13 11:42:11</td>\n",
       "      <td>T-HTU21</td>\n",
       "      <td>26.58</td>\n",
       "    </tr>\n",
       "  </tbody>\n",
       "</table>\n",
       "</div>"
      ],
      "text/plain": [
       "        humidity sensor  humidity value                time  \\\n",
       "1510100             NaN             NaN 2018-03-13 11:39:02   \n",
       "1510101             NaN             NaN 2018-03-13 11:39:23   \n",
       "1510102             NaN             NaN 2018-03-13 11:40:47   \n",
       "1510103             NaN             NaN 2018-03-13 11:41:50   \n",
       "1510104             NaN             NaN 2018-03-13 11:42:11   \n",
       "\n",
       "        temperature sensor  temperature value  \n",
       "1510100            T-HTU21              26.53  \n",
       "1510101            T-HTU21              26.54  \n",
       "1510102            T-HTU21              26.53  \n",
       "1510103            T-HTU21              26.56  \n",
       "1510104            T-HTU21              26.58  "
      ]
     },
     "execution_count": 144,
     "metadata": {},
     "output_type": "execute_result"
    }
   ],
   "source": [
    "newdf.tail()"
   ]
  },
  {
   "cell_type": "code",
   "execution_count": 145,
   "metadata": {},
   "outputs": [],
   "source": [
    "newdf = newdf.reindex(columns=['time','humidity sensor','humidity value','temperature sensor','temperature value'])\n",
    "newdf = newdf[['time','humidity sensor','humidity value','temperature sensor','temperature value']]"
   ]
  },
  {
   "cell_type": "code",
   "execution_count": 146,
   "metadata": {},
   "outputs": [
    {
     "data": {
      "text/html": [
       "<div>\n",
       "<style scoped>\n",
       "    .dataframe tbody tr th:only-of-type {\n",
       "        vertical-align: middle;\n",
       "    }\n",
       "\n",
       "    .dataframe tbody tr th {\n",
       "        vertical-align: top;\n",
       "    }\n",
       "\n",
       "    .dataframe thead th {\n",
       "        text-align: right;\n",
       "    }\n",
       "</style>\n",
       "<table border=\"1\" class=\"dataframe\">\n",
       "  <thead>\n",
       "    <tr style=\"text-align: right;\">\n",
       "      <th></th>\n",
       "      <th>time</th>\n",
       "      <th>humidity sensor</th>\n",
       "      <th>humidity value</th>\n",
       "      <th>temperature sensor</th>\n",
       "      <th>temperature value</th>\n",
       "    </tr>\n",
       "  </thead>\n",
       "  <tbody>\n",
       "    <tr>\n",
       "      <th>0</th>\n",
       "      <td>2017-12-20 12:17:05</td>\n",
       "      <td>H-HTU21</td>\n",
       "      <td>28.3</td>\n",
       "      <td>T-HTU21</td>\n",
       "      <td>25.09</td>\n",
       "    </tr>\n",
       "    <tr>\n",
       "      <th>1</th>\n",
       "      <td>2017-12-20 12:17:07</td>\n",
       "      <td>H-HTU21</td>\n",
       "      <td>28.2</td>\n",
       "      <td>T-HTU21</td>\n",
       "      <td>25.09</td>\n",
       "    </tr>\n",
       "    <tr>\n",
       "      <th>2</th>\n",
       "      <td>2017-12-20 12:17:09</td>\n",
       "      <td>H-HTU21</td>\n",
       "      <td>28.1</td>\n",
       "      <td>T-HTU21</td>\n",
       "      <td>25.09</td>\n",
       "    </tr>\n",
       "    <tr>\n",
       "      <th>3</th>\n",
       "      <td>2017-12-20 12:17:11</td>\n",
       "      <td>H-HTU21</td>\n",
       "      <td>28.2</td>\n",
       "      <td>T-HTU21</td>\n",
       "      <td>25.09</td>\n",
       "    </tr>\n",
       "    <tr>\n",
       "      <th>4</th>\n",
       "      <td>2017-12-20 12:17:13</td>\n",
       "      <td>H-HTU21</td>\n",
       "      <td>28.2</td>\n",
       "      <td>T-HTU21</td>\n",
       "      <td>25.08</td>\n",
       "    </tr>\n",
       "  </tbody>\n",
       "</table>\n",
       "</div>"
      ],
      "text/plain": [
       "                 time humidity sensor  humidity value temperature sensor  \\\n",
       "0 2017-12-20 12:17:05         H-HTU21            28.3            T-HTU21   \n",
       "1 2017-12-20 12:17:07         H-HTU21            28.2            T-HTU21   \n",
       "2 2017-12-20 12:17:09         H-HTU21            28.1            T-HTU21   \n",
       "3 2017-12-20 12:17:11         H-HTU21            28.2            T-HTU21   \n",
       "4 2017-12-20 12:17:13         H-HTU21            28.2            T-HTU21   \n",
       "\n",
       "   temperature value  \n",
       "0              25.09  \n",
       "1              25.09  \n",
       "2              25.09  \n",
       "3              25.09  \n",
       "4              25.08  "
      ]
     },
     "execution_count": 146,
     "metadata": {},
     "output_type": "execute_result"
    }
   ],
   "source": [
    "newdf.head()"
   ]
  },
  {
   "cell_type": "code",
   "execution_count": 147,
   "metadata": {},
   "outputs": [
    {
     "data": {
      "text/html": [
       "<div>\n",
       "<style scoped>\n",
       "    .dataframe tbody tr th:only-of-type {\n",
       "        vertical-align: middle;\n",
       "    }\n",
       "\n",
       "    .dataframe tbody tr th {\n",
       "        vertical-align: top;\n",
       "    }\n",
       "\n",
       "    .dataframe thead th {\n",
       "        text-align: right;\n",
       "    }\n",
       "</style>\n",
       "<table border=\"1\" class=\"dataframe\">\n",
       "  <thead>\n",
       "    <tr style=\"text-align: right;\">\n",
       "      <th></th>\n",
       "      <th>time</th>\n",
       "      <th>humidity sensor</th>\n",
       "      <th>humidity value</th>\n",
       "      <th>temperature sensor</th>\n",
       "      <th>temperature value</th>\n",
       "    </tr>\n",
       "  </thead>\n",
       "  <tbody>\n",
       "    <tr>\n",
       "      <th>1510100</th>\n",
       "      <td>2018-03-13 11:39:02</td>\n",
       "      <td>NaN</td>\n",
       "      <td>NaN</td>\n",
       "      <td>T-HTU21</td>\n",
       "      <td>26.53</td>\n",
       "    </tr>\n",
       "    <tr>\n",
       "      <th>1510101</th>\n",
       "      <td>2018-03-13 11:39:23</td>\n",
       "      <td>NaN</td>\n",
       "      <td>NaN</td>\n",
       "      <td>T-HTU21</td>\n",
       "      <td>26.54</td>\n",
       "    </tr>\n",
       "    <tr>\n",
       "      <th>1510102</th>\n",
       "      <td>2018-03-13 11:40:47</td>\n",
       "      <td>NaN</td>\n",
       "      <td>NaN</td>\n",
       "      <td>T-HTU21</td>\n",
       "      <td>26.53</td>\n",
       "    </tr>\n",
       "    <tr>\n",
       "      <th>1510103</th>\n",
       "      <td>2018-03-13 11:41:50</td>\n",
       "      <td>NaN</td>\n",
       "      <td>NaN</td>\n",
       "      <td>T-HTU21</td>\n",
       "      <td>26.56</td>\n",
       "    </tr>\n",
       "    <tr>\n",
       "      <th>1510104</th>\n",
       "      <td>2018-03-13 11:42:11</td>\n",
       "      <td>NaN</td>\n",
       "      <td>NaN</td>\n",
       "      <td>T-HTU21</td>\n",
       "      <td>26.58</td>\n",
       "    </tr>\n",
       "  </tbody>\n",
       "</table>\n",
       "</div>"
      ],
      "text/plain": [
       "                       time humidity sensor  humidity value  \\\n",
       "1510100 2018-03-13 11:39:02             NaN             NaN   \n",
       "1510101 2018-03-13 11:39:23             NaN             NaN   \n",
       "1510102 2018-03-13 11:40:47             NaN             NaN   \n",
       "1510103 2018-03-13 11:41:50             NaN             NaN   \n",
       "1510104 2018-03-13 11:42:11             NaN             NaN   \n",
       "\n",
       "        temperature sensor  temperature value  \n",
       "1510100            T-HTU21              26.53  \n",
       "1510101            T-HTU21              26.54  \n",
       "1510102            T-HTU21              26.53  \n",
       "1510103            T-HTU21              26.56  \n",
       "1510104            T-HTU21              26.58  "
      ]
     },
     "execution_count": 147,
     "metadata": {},
     "output_type": "execute_result"
    }
   ],
   "source": [
    "newdf.tail()"
   ]
  },
  {
   "cell_type": "code",
   "execution_count": 148,
   "metadata": {},
   "outputs": [
    {
     "data": {
      "text/plain": [
       "time                  1510105\n",
       "humidity sensor       1428377\n",
       "humidity value        1428377\n",
       "temperature sensor    1428383\n",
       "temperature value     1428383\n",
       "dtype: int64"
      ]
     },
     "execution_count": 148,
     "metadata": {},
     "output_type": "execute_result"
    }
   ],
   "source": [
    "newdf.count()"
   ]
  },
  {
   "cell_type": "code",
   "execution_count": 149,
   "metadata": {},
   "outputs": [
    {
     "data": {
      "text/html": [
       "<div>\n",
       "<style scoped>\n",
       "    .dataframe tbody tr th:only-of-type {\n",
       "        vertical-align: middle;\n",
       "    }\n",
       "\n",
       "    .dataframe tbody tr th {\n",
       "        vertical-align: top;\n",
       "    }\n",
       "\n",
       "    .dataframe thead th {\n",
       "        text-align: right;\n",
       "    }\n",
       "</style>\n",
       "<table border=\"1\" class=\"dataframe\">\n",
       "  <thead>\n",
       "    <tr style=\"text-align: right;\">\n",
       "      <th></th>\n",
       "      <th>total</th>\n",
       "      <th>percent</th>\n",
       "    </tr>\n",
       "  </thead>\n",
       "  <tbody>\n",
       "    <tr>\n",
       "      <th>time</th>\n",
       "      <td>0</td>\n",
       "      <td>0.000000</td>\n",
       "    </tr>\n",
       "    <tr>\n",
       "      <th>humidity sensor</th>\n",
       "      <td>81728</td>\n",
       "      <td>0.054121</td>\n",
       "    </tr>\n",
       "    <tr>\n",
       "      <th>humidity value</th>\n",
       "      <td>81728</td>\n",
       "      <td>0.054121</td>\n",
       "    </tr>\n",
       "    <tr>\n",
       "      <th>temperature sensor</th>\n",
       "      <td>81722</td>\n",
       "      <td>0.054117</td>\n",
       "    </tr>\n",
       "    <tr>\n",
       "      <th>temperature value</th>\n",
       "      <td>81722</td>\n",
       "      <td>0.054117</td>\n",
       "    </tr>\n",
       "  </tbody>\n",
       "</table>\n",
       "</div>"
      ],
      "text/plain": [
       "                    total   percent\n",
       "time                    0  0.000000\n",
       "humidity sensor     81728  0.054121\n",
       "humidity value      81728  0.054121\n",
       "temperature sensor  81722  0.054117\n",
       "temperature value   81722  0.054117"
      ]
     },
     "execution_count": 149,
     "metadata": {},
     "output_type": "execute_result"
    }
   ],
   "source": [
    "missingnewdf = pd.DataFrame(newdf.isna().sum()).rename(columns = {0: 'total'})\n",
    "missingnewdf['percent'] = missingnewdf['total'] / len(newdf)\n",
    "missingnewdf"
   ]
  },
  {
   "cell_type": "markdown",
   "metadata": {},
   "source": [
    "After merging the data from H-DHT11 and T-DHT11 sensor there are many missing data founded. This is maybe because the difference measurement time, so here I will try to interpolate the missing data."
   ]
  },
  {
   "cell_type": "markdown",
   "metadata": {},
   "source": [
    "Fill the NaN value on humidity value with intepolate data using time"
   ]
  },
  {
   "cell_type": "code",
   "execution_count": 150,
   "metadata": {},
   "outputs": [],
   "source": [
    "newdf.set_index('time',inplace=True)\n",
    "new_df = newdf.interpolate(method=\"time\") "
   ]
  },
  {
   "cell_type": "code",
   "execution_count": 153,
   "metadata": {},
   "outputs": [
    {
     "data": {
      "text/html": [
       "<div>\n",
       "<style scoped>\n",
       "    .dataframe tbody tr th:only-of-type {\n",
       "        vertical-align: middle;\n",
       "    }\n",
       "\n",
       "    .dataframe tbody tr th {\n",
       "        vertical-align: top;\n",
       "    }\n",
       "\n",
       "    .dataframe thead th {\n",
       "        text-align: right;\n",
       "    }\n",
       "</style>\n",
       "<table border=\"1\" class=\"dataframe\">\n",
       "  <thead>\n",
       "    <tr style=\"text-align: right;\">\n",
       "      <th></th>\n",
       "      <th>humidity sensor</th>\n",
       "      <th>humidity value</th>\n",
       "      <th>temperature sensor</th>\n",
       "      <th>temperature value</th>\n",
       "    </tr>\n",
       "    <tr>\n",
       "      <th>time</th>\n",
       "      <th></th>\n",
       "      <th></th>\n",
       "      <th></th>\n",
       "      <th></th>\n",
       "    </tr>\n",
       "  </thead>\n",
       "  <tbody>\n",
       "    <tr>\n",
       "      <th>2018-03-13 11:39:02</th>\n",
       "      <td>NaN</td>\n",
       "      <td>30.80</td>\n",
       "      <td>T-HTU21</td>\n",
       "      <td>26.53</td>\n",
       "    </tr>\n",
       "    <tr>\n",
       "      <th>2018-03-13 11:39:23</th>\n",
       "      <td>NaN</td>\n",
       "      <td>30.80</td>\n",
       "      <td>T-HTU21</td>\n",
       "      <td>26.54</td>\n",
       "    </tr>\n",
       "    <tr>\n",
       "      <th>2018-03-13 11:40:47</th>\n",
       "      <td>NaN</td>\n",
       "      <td>31.04</td>\n",
       "      <td>T-HTU21</td>\n",
       "      <td>26.53</td>\n",
       "    </tr>\n",
       "    <tr>\n",
       "      <th>2018-03-13 11:41:50</th>\n",
       "      <td>NaN</td>\n",
       "      <td>30.90</td>\n",
       "      <td>T-HTU21</td>\n",
       "      <td>26.56</td>\n",
       "    </tr>\n",
       "    <tr>\n",
       "      <th>2018-03-13 11:42:11</th>\n",
       "      <td>NaN</td>\n",
       "      <td>33.08</td>\n",
       "      <td>T-HTU21</td>\n",
       "      <td>26.58</td>\n",
       "    </tr>\n",
       "  </tbody>\n",
       "</table>\n",
       "</div>"
      ],
      "text/plain": [
       "                    humidity sensor  humidity value temperature sensor  \\\n",
       "time                                                                     \n",
       "2018-03-13 11:39:02             NaN           30.80            T-HTU21   \n",
       "2018-03-13 11:39:23             NaN           30.80            T-HTU21   \n",
       "2018-03-13 11:40:47             NaN           31.04            T-HTU21   \n",
       "2018-03-13 11:41:50             NaN           30.90            T-HTU21   \n",
       "2018-03-13 11:42:11             NaN           33.08            T-HTU21   \n",
       "\n",
       "                     temperature value  \n",
       "time                                    \n",
       "2018-03-13 11:39:02              26.53  \n",
       "2018-03-13 11:39:23              26.54  \n",
       "2018-03-13 11:40:47              26.53  \n",
       "2018-03-13 11:41:50              26.56  \n",
       "2018-03-13 11:42:11              26.58  "
      ]
     },
     "execution_count": 153,
     "metadata": {},
     "output_type": "execute_result"
    }
   ],
   "source": [
    "new_df.tail()"
   ]
  },
  {
   "cell_type": "markdown",
   "metadata": {},
   "source": [
    "Humidity sensor still have NaN value and we will try to use another method to fill in the NaN data"
   ]
  },
  {
   "cell_type": "code",
   "execution_count": 155,
   "metadata": {},
   "outputs": [
    {
     "data": {
      "text/html": [
       "<div>\n",
       "<style scoped>\n",
       "    .dataframe tbody tr th:only-of-type {\n",
       "        vertical-align: middle;\n",
       "    }\n",
       "\n",
       "    .dataframe tbody tr th {\n",
       "        vertical-align: top;\n",
       "    }\n",
       "\n",
       "    .dataframe thead th {\n",
       "        text-align: right;\n",
       "    }\n",
       "</style>\n",
       "<table border=\"1\" class=\"dataframe\">\n",
       "  <thead>\n",
       "    <tr style=\"text-align: right;\">\n",
       "      <th></th>\n",
       "      <th>humidity sensor</th>\n",
       "      <th>humidity value</th>\n",
       "      <th>temperature sensor</th>\n",
       "      <th>temperature value</th>\n",
       "    </tr>\n",
       "    <tr>\n",
       "      <th>time</th>\n",
       "      <th></th>\n",
       "      <th></th>\n",
       "      <th></th>\n",
       "      <th></th>\n",
       "    </tr>\n",
       "  </thead>\n",
       "  <tbody>\n",
       "    <tr>\n",
       "      <th>2018-03-13 11:39:02</th>\n",
       "      <td>H-HTU21</td>\n",
       "      <td>30.80</td>\n",
       "      <td>T-HTU21</td>\n",
       "      <td>26.53</td>\n",
       "    </tr>\n",
       "    <tr>\n",
       "      <th>2018-03-13 11:39:23</th>\n",
       "      <td>H-HTU21</td>\n",
       "      <td>30.80</td>\n",
       "      <td>T-HTU21</td>\n",
       "      <td>26.54</td>\n",
       "    </tr>\n",
       "    <tr>\n",
       "      <th>2018-03-13 11:40:47</th>\n",
       "      <td>H-HTU21</td>\n",
       "      <td>31.04</td>\n",
       "      <td>T-HTU21</td>\n",
       "      <td>26.53</td>\n",
       "    </tr>\n",
       "    <tr>\n",
       "      <th>2018-03-13 11:41:50</th>\n",
       "      <td>H-HTU21</td>\n",
       "      <td>30.90</td>\n",
       "      <td>T-HTU21</td>\n",
       "      <td>26.56</td>\n",
       "    </tr>\n",
       "    <tr>\n",
       "      <th>2018-03-13 11:42:11</th>\n",
       "      <td>H-HTU21</td>\n",
       "      <td>33.08</td>\n",
       "      <td>T-HTU21</td>\n",
       "      <td>26.58</td>\n",
       "    </tr>\n",
       "  </tbody>\n",
       "</table>\n",
       "</div>"
      ],
      "text/plain": [
       "                    humidity sensor  humidity value temperature sensor  \\\n",
       "time                                                                     \n",
       "2018-03-13 11:39:02         H-HTU21           30.80            T-HTU21   \n",
       "2018-03-13 11:39:23         H-HTU21           30.80            T-HTU21   \n",
       "2018-03-13 11:40:47         H-HTU21           31.04            T-HTU21   \n",
       "2018-03-13 11:41:50         H-HTU21           30.90            T-HTU21   \n",
       "2018-03-13 11:42:11         H-HTU21           33.08            T-HTU21   \n",
       "\n",
       "                     temperature value  \n",
       "time                                    \n",
       "2018-03-13 11:39:02              26.53  \n",
       "2018-03-13 11:39:23              26.54  \n",
       "2018-03-13 11:40:47              26.53  \n",
       "2018-03-13 11:41:50              26.56  \n",
       "2018-03-13 11:42:11              26.58  "
      ]
     },
     "execution_count": 155,
     "metadata": {},
     "output_type": "execute_result"
    }
   ],
   "source": [
    "new_df1 = new_df.fillna(method=\"ffill\")\n",
    "new_df1.tail()"
   ]
  },
  {
   "cell_type": "code",
   "execution_count": 156,
   "metadata": {},
   "outputs": [
    {
     "data": {
      "text/html": [
       "<div>\n",
       "<style scoped>\n",
       "    .dataframe tbody tr th:only-of-type {\n",
       "        vertical-align: middle;\n",
       "    }\n",
       "\n",
       "    .dataframe tbody tr th {\n",
       "        vertical-align: top;\n",
       "    }\n",
       "\n",
       "    .dataframe thead th {\n",
       "        text-align: right;\n",
       "    }\n",
       "</style>\n",
       "<table border=\"1\" class=\"dataframe\">\n",
       "  <thead>\n",
       "    <tr style=\"text-align: right;\">\n",
       "      <th></th>\n",
       "      <th>total</th>\n",
       "      <th>percent</th>\n",
       "    </tr>\n",
       "  </thead>\n",
       "  <tbody>\n",
       "    <tr>\n",
       "      <th>time</th>\n",
       "      <td>0</td>\n",
       "      <td>0.0</td>\n",
       "    </tr>\n",
       "    <tr>\n",
       "      <th>humidity sensor</th>\n",
       "      <td>0</td>\n",
       "      <td>0.0</td>\n",
       "    </tr>\n",
       "    <tr>\n",
       "      <th>humidity value</th>\n",
       "      <td>0</td>\n",
       "      <td>0.0</td>\n",
       "    </tr>\n",
       "    <tr>\n",
       "      <th>temperature sensor</th>\n",
       "      <td>0</td>\n",
       "      <td>0.0</td>\n",
       "    </tr>\n",
       "    <tr>\n",
       "      <th>temperature value</th>\n",
       "      <td>0</td>\n",
       "      <td>0.0</td>\n",
       "    </tr>\n",
       "  </tbody>\n",
       "</table>\n",
       "</div>"
      ],
      "text/plain": [
       "                    total  percent\n",
       "time                    0      0.0\n",
       "humidity sensor         0      0.0\n",
       "humidity value          0      0.0\n",
       "temperature sensor      0      0.0\n",
       "temperature value       0      0.0"
      ]
     },
     "execution_count": 156,
     "metadata": {},
     "output_type": "execute_result"
    }
   ],
   "source": [
    "missingnewdf1 = pd.DataFrame(filldf.isna().sum()).rename(columns = {0: 'total'})\n",
    "missingnewdf1['percent'] = missingnewdf1['total'] / len(filldf)\n",
    "missingnewdf1"
   ]
  },
  {
   "cell_type": "markdown",
   "metadata": {},
   "source": [
    "After interpolate the data no more missing value and I assume the data is clean"
   ]
  },
  {
   "cell_type": "code",
   "execution_count": 157,
   "metadata": {},
   "outputs": [
    {
     "data": {
      "text/plain": [
       "humidity sensor       1510105\n",
       "humidity value        1510105\n",
       "temperature sensor    1510105\n",
       "temperature value     1510105\n",
       "dtype: int64"
      ]
     },
     "execution_count": 157,
     "metadata": {},
     "output_type": "execute_result"
    }
   ],
   "source": [
    "new_df1.count()"
   ]
  },
  {
   "cell_type": "code",
   "execution_count": null,
   "metadata": {},
   "outputs": [],
   "source": []
  }
 ],
 "metadata": {
  "kernelspec": {
   "display_name": "Python 3",
   "language": "python",
   "name": "python3"
  },
  "language_info": {
   "codemirror_mode": {
    "name": "ipython",
    "version": 3
   },
   "file_extension": ".py",
   "mimetype": "text/x-python",
   "name": "python",
   "nbconvert_exporter": "python",
   "pygments_lexer": "ipython3",
   "version": "3.6.5"
  }
 },
 "nbformat": 4,
 "nbformat_minor": 2
}
