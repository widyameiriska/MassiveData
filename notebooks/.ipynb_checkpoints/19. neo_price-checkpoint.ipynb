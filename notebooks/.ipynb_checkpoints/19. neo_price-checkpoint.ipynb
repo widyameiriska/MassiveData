{
 "cells": [
  {
   "cell_type": "markdown",
   "metadata": {},
   "source": [
    "# Neo Price"
   ]
  },
  {
   "cell_type": "markdown",
   "metadata": {},
   "source": [
    "by: WIdya Meiriska"
   ]
  },
  {
   "cell_type": "markdown",
   "metadata": {},
   "source": [
    "### 1. Read Dataset"
   ]
  },
  {
   "cell_type": "code",
   "execution_count": 2,
   "metadata": {},
   "outputs": [],
   "source": [
    "import csv\n",
    "import pandas as pd\n",
    "import numpy as np"
   ]
  },
  {
   "cell_type": "code",
   "execution_count": 3,
   "metadata": {},
   "outputs": [],
   "source": [
    "df = pd.read_csv('../data/raw/bitcoin/neo_price.csv',parse_dates = ['Date'])"
   ]
  },
  {
   "cell_type": "code",
   "execution_count": 4,
   "metadata": {},
   "outputs": [
    {
     "data": {
      "text/html": [
       "<div>\n",
       "<style scoped>\n",
       "    .dataframe tbody tr th:only-of-type {\n",
       "        vertical-align: middle;\n",
       "    }\n",
       "\n",
       "    .dataframe tbody tr th {\n",
       "        vertical-align: top;\n",
       "    }\n",
       "\n",
       "    .dataframe thead th {\n",
       "        text-align: right;\n",
       "    }\n",
       "</style>\n",
       "<table border=\"1\" class=\"dataframe\">\n",
       "  <thead>\n",
       "    <tr style=\"text-align: right;\">\n",
       "      <th></th>\n",
       "      <th>Date</th>\n",
       "      <th>Open</th>\n",
       "      <th>High</th>\n",
       "      <th>Low</th>\n",
       "      <th>Close</th>\n",
       "      <th>Volume</th>\n",
       "      <th>Market Cap</th>\n",
       "    </tr>\n",
       "  </thead>\n",
       "  <tbody>\n",
       "    <tr>\n",
       "      <th>357</th>\n",
       "      <td>2016-09-13</td>\n",
       "      <td>0.374469</td>\n",
       "      <td>0.375092</td>\n",
       "      <td>0.301766</td>\n",
       "      <td>0.309509</td>\n",
       "      <td>3,337</td>\n",
       "      <td>-</td>\n",
       "    </tr>\n",
       "    <tr>\n",
       "      <th>358</th>\n",
       "      <td>2016-09-12</td>\n",
       "      <td>0.376312</td>\n",
       "      <td>0.376671</td>\n",
       "      <td>0.360443</td>\n",
       "      <td>0.374598</td>\n",
       "      <td>1,116</td>\n",
       "      <td>-</td>\n",
       "    </tr>\n",
       "    <tr>\n",
       "      <th>359</th>\n",
       "      <td>2016-09-11</td>\n",
       "      <td>0.390948</td>\n",
       "      <td>0.398459</td>\n",
       "      <td>0.372790</td>\n",
       "      <td>0.376150</td>\n",
       "      <td>879</td>\n",
       "      <td>-</td>\n",
       "    </tr>\n",
       "    <tr>\n",
       "      <th>360</th>\n",
       "      <td>2016-09-10</td>\n",
       "      <td>0.558536</td>\n",
       "      <td>0.559143</td>\n",
       "      <td>0.370960</td>\n",
       "      <td>0.391001</td>\n",
       "      <td>811</td>\n",
       "      <td>-</td>\n",
       "    </tr>\n",
       "    <tr>\n",
       "      <th>361</th>\n",
       "      <td>2016-09-09</td>\n",
       "      <td>0.181483</td>\n",
       "      <td>0.558951</td>\n",
       "      <td>0.181357</td>\n",
       "      <td>0.558478</td>\n",
       "      <td>1,349</td>\n",
       "      <td>-</td>\n",
       "    </tr>\n",
       "  </tbody>\n",
       "</table>\n",
       "</div>"
      ],
      "text/plain": [
       "          Date      Open      High       Low     Close Volume Market Cap\n",
       "357 2016-09-13  0.374469  0.375092  0.301766  0.309509  3,337          -\n",
       "358 2016-09-12  0.376312  0.376671  0.360443  0.374598  1,116          -\n",
       "359 2016-09-11  0.390948  0.398459  0.372790  0.376150    879          -\n",
       "360 2016-09-10  0.558536  0.559143  0.370960  0.391001    811          -\n",
       "361 2016-09-09  0.181483  0.558951  0.181357  0.558478  1,349          -"
      ]
     },
     "execution_count": 4,
     "metadata": {},
     "output_type": "execute_result"
    }
   ],
   "source": [
    "df.tail()"
   ]
  },
  {
   "cell_type": "markdown",
   "metadata": {},
   "source": [
    "### 2. Data Investigation"
   ]
  },
  {
   "cell_type": "code",
   "execution_count": 5,
   "metadata": {},
   "outputs": [
    {
     "data": {
      "text/plain": [
       "Index(['Date', 'Open', 'High', 'Low', 'Close', 'Volume', 'Market Cap'], dtype='object')"
      ]
     },
     "execution_count": 5,
     "metadata": {},
     "output_type": "execute_result"
    }
   ],
   "source": [
    "df.columns"
   ]
  },
  {
   "cell_type": "code",
   "execution_count": 6,
   "metadata": {},
   "outputs": [
    {
     "data": {
      "text/plain": [
       "Date          362\n",
       "Open          362\n",
       "High          362\n",
       "Low           362\n",
       "Close         362\n",
       "Volume        362\n",
       "Market Cap    362\n",
       "dtype: int64"
      ]
     },
     "execution_count": 6,
     "metadata": {},
     "output_type": "execute_result"
    }
   ],
   "source": [
    "df.count()"
   ]
  },
  {
   "cell_type": "code",
   "execution_count": 7,
   "metadata": {},
   "outputs": [
    {
     "data": {
      "text/plain": [
       "Date          datetime64[ns]\n",
       "Open                 float64\n",
       "High                 float64\n",
       "Low                  float64\n",
       "Close                float64\n",
       "Volume                object\n",
       "Market Cap            object\n",
       "dtype: object"
      ]
     },
     "execution_count": 7,
     "metadata": {},
     "output_type": "execute_result"
    }
   ],
   "source": [
    "df.dtypes"
   ]
  },
  {
   "cell_type": "markdown",
   "metadata": {},
   "source": [
    "### There are missing data here and there are several data which have different format. Some of the data do not use number format"
   ]
  },
  {
   "cell_type": "code",
   "execution_count": 8,
   "metadata": {},
   "outputs": [],
   "source": [
    "df['Volume'] = df['Volume'].apply(lambda x: float(str(x).replace(',',''))) \n",
    "df['Market Cap'] = df['Market Cap'].replace('-', 'NaN')\n",
    "df['Market Cap'] = df['Market Cap'].apply(lambda x: float(str(x).replace(',',''))) "
   ]
  },
  {
   "cell_type": "code",
   "execution_count": 9,
   "metadata": {},
   "outputs": [
    {
     "name": "stdout",
     "output_type": "stream",
     "text": [
      "<class 'pandas.core.frame.DataFrame'>\n",
      "RangeIndex: 362 entries, 0 to 361\n",
      "Data columns (total 7 columns):\n",
      "Date          362 non-null datetime64[ns]\n",
      "Open          362 non-null float64\n",
      "High          362 non-null float64\n",
      "Low           362 non-null float64\n",
      "Close         362 non-null float64\n",
      "Volume        362 non-null float64\n",
      "Market Cap    315 non-null float64\n",
      "dtypes: datetime64[ns](1), float64(6)\n",
      "memory usage: 19.9 KB\n"
     ]
    }
   ],
   "source": [
    "df.info()"
   ]
  },
  {
   "cell_type": "code",
   "execution_count": 10,
   "metadata": {},
   "outputs": [
    {
     "data": {
      "text/html": [
       "<div>\n",
       "<style scoped>\n",
       "    .dataframe tbody tr th:only-of-type {\n",
       "        vertical-align: middle;\n",
       "    }\n",
       "\n",
       "    .dataframe tbody tr th {\n",
       "        vertical-align: top;\n",
       "    }\n",
       "\n",
       "    .dataframe thead th {\n",
       "        text-align: right;\n",
       "    }\n",
       "</style>\n",
       "<table border=\"1\" class=\"dataframe\">\n",
       "  <thead>\n",
       "    <tr style=\"text-align: right;\">\n",
       "      <th></th>\n",
       "      <th>total</th>\n",
       "      <th>percent</th>\n",
       "    </tr>\n",
       "  </thead>\n",
       "  <tbody>\n",
       "    <tr>\n",
       "      <th>Date</th>\n",
       "      <td>0</td>\n",
       "      <td>0.000000</td>\n",
       "    </tr>\n",
       "    <tr>\n",
       "      <th>Open</th>\n",
       "      <td>0</td>\n",
       "      <td>0.000000</td>\n",
       "    </tr>\n",
       "    <tr>\n",
       "      <th>High</th>\n",
       "      <td>0</td>\n",
       "      <td>0.000000</td>\n",
       "    </tr>\n",
       "    <tr>\n",
       "      <th>Low</th>\n",
       "      <td>0</td>\n",
       "      <td>0.000000</td>\n",
       "    </tr>\n",
       "    <tr>\n",
       "      <th>Close</th>\n",
       "      <td>0</td>\n",
       "      <td>0.000000</td>\n",
       "    </tr>\n",
       "    <tr>\n",
       "      <th>Volume</th>\n",
       "      <td>0</td>\n",
       "      <td>0.000000</td>\n",
       "    </tr>\n",
       "    <tr>\n",
       "      <th>Market Cap</th>\n",
       "      <td>47</td>\n",
       "      <td>0.129834</td>\n",
       "    </tr>\n",
       "  </tbody>\n",
       "</table>\n",
       "</div>"
      ],
      "text/plain": [
       "            total   percent\n",
       "Date            0  0.000000\n",
       "Open            0  0.000000\n",
       "High            0  0.000000\n",
       "Low             0  0.000000\n",
       "Close           0  0.000000\n",
       "Volume          0  0.000000\n",
       "Market Cap     47  0.129834"
      ]
     },
     "execution_count": 10,
     "metadata": {},
     "output_type": "execute_result"
    }
   ],
   "source": [
    "missingdf = pd.DataFrame(df.isna().sum()).rename(columns = {0: 'total'})\n",
    "missingdf['percent'] = missingdf['total'] / len(df)\n",
    "missingdf"
   ]
  },
  {
   "cell_type": "markdown",
   "metadata": {},
   "source": [
    "I try to fill in the missing value by interpolated the data"
   ]
  },
  {
   "cell_type": "code",
   "execution_count": 12,
   "metadata": {},
   "outputs": [
    {
     "data": {
      "text/plain": [
       "Open          1.000000\n",
       "High          0.992478\n",
       "Low           0.995025\n",
       "Close         0.990857\n",
       "Volume        0.747026\n",
       "Market Cap    1.000000\n",
       "Name: Market Cap, dtype: float64"
      ]
     },
     "execution_count": 12,
     "metadata": {},
     "output_type": "execute_result"
    }
   ],
   "source": [
    "# Lets see the correlation between each column\n",
    "correlation = df.corr(method=\"pearson\")\n",
    "correlation['Market Cap']"
   ]
  },
  {
   "cell_type": "code",
   "execution_count": 21,
   "metadata": {},
   "outputs": [
    {
     "data": {
      "text/plain": [
       "<function matplotlib.pyplot.show(*args, **kw)>"
      ]
     },
     "execution_count": 21,
     "metadata": {},
     "output_type": "execute_result"
    },
    {
     "data": {
      "image/png": "[encoded data removed]",
      "text/plain": [
       "<Figure size 1800x1800 with 1 Axes>"
      ]
     },
     "metadata": {},
     "output_type": "display_data"
    }
   ],
   "source": [
    "#Plot data to see the relation between each column\n",
    "import matplotlib.pyplot as plt\n",
    "plt.figure(figsize=(25, 25))\n",
    "O = df['Open']\n",
    "MC = df['Market Cap']\n",
    "plt.subplot(5,5,5)\n",
    "plt.scatter(MC, O)\n",
    "plt.title('Open vs Market Cap')\n",
    "\n",
    "plt.show"
   ]
  },
  {
   "cell_type": "markdown",
   "metadata": {},
   "source": [
    "To fill the NaN value I try to interpolate the data using linear method using value from Open column. Because from the information above we can see that Market Cap has the closest correlation with Open."
   ]
  },
  {
   "cell_type": "code",
   "execution_count": 13,
   "metadata": {},
   "outputs": [],
   "source": [
    "from sklearn import linear_model\n",
    "\n",
    "model = linear_model.LinearRegression()\n",
    "Open  = df[['Open']].iloc[0:314]\n",
    "Market_Cap = df['Market Cap'].iloc[0:314]"
   ]
  },
  {
   "cell_type": "code",
   "execution_count": 14,
   "metadata": {},
   "outputs": [
    {
     "data": {
      "text/plain": [
       "LinearRegression(copy_X=True, fit_intercept=True, n_jobs=1, normalize=False)"
      ]
     },
     "execution_count": 14,
     "metadata": {},
     "output_type": "execute_result"
    }
   ],
   "source": [
    "#Train model \n",
    "model.fit(Open, Market_Cap)"
   ]
  },
  {
   "cell_type": "code",
   "execution_count": 15,
   "metadata": {},
   "outputs": [
    {
     "data": {
      "text/plain": [
       "0.9999999752642066"
      ]
     },
     "execution_count": 15,
     "metadata": {},
     "output_type": "execute_result"
    }
   ],
   "source": [
    "#The model score almost 1 so that indicate the model is near to the truth\n",
    "model.score(Open, Market_Cap)"
   ]
  },
  {
   "cell_type": "markdown",
   "metadata": {},
   "source": [
    "Here I make a new column Market Cap Predict which contains Market Cap with no NaN value"
   ]
  },
  {
   "cell_type": "code",
   "execution_count": 16,
   "metadata": {},
   "outputs": [
    {
     "data": {
      "text/html": [
       "<div>\n",
       "<style scoped>\n",
       "    .dataframe tbody tr th:only-of-type {\n",
       "        vertical-align: middle;\n",
       "    }\n",
       "\n",
       "    .dataframe tbody tr th {\n",
       "        vertical-align: top;\n",
       "    }\n",
       "\n",
       "    .dataframe thead th {\n",
       "        text-align: right;\n",
       "    }\n",
       "</style>\n",
       "<table border=\"1\" class=\"dataframe\">\n",
       "  <thead>\n",
       "    <tr style=\"text-align: right;\">\n",
       "      <th></th>\n",
       "      <th>Date</th>\n",
       "      <th>Open</th>\n",
       "      <th>High</th>\n",
       "      <th>Low</th>\n",
       "      <th>Close</th>\n",
       "      <th>Volume</th>\n",
       "      <th>Market Cap</th>\n",
       "      <th>Market Cap Predict</th>\n",
       "    </tr>\n",
       "  </thead>\n",
       "  <tbody>\n",
       "    <tr>\n",
       "      <th>357</th>\n",
       "      <td>2016-09-13</td>\n",
       "      <td>0.374469</td>\n",
       "      <td>0.375092</td>\n",
       "      <td>0.301766</td>\n",
       "      <td>0.309509</td>\n",
       "      <td>3337.0</td>\n",
       "      <td>NaN</td>\n",
       "      <td>1.872041e+07</td>\n",
       "    </tr>\n",
       "    <tr>\n",
       "      <th>358</th>\n",
       "      <td>2016-09-12</td>\n",
       "      <td>0.376312</td>\n",
       "      <td>0.376671</td>\n",
       "      <td>0.360443</td>\n",
       "      <td>0.374598</td>\n",
       "      <td>1116.0</td>\n",
       "      <td>NaN</td>\n",
       "      <td>1.881256e+07</td>\n",
       "    </tr>\n",
       "    <tr>\n",
       "      <th>359</th>\n",
       "      <td>2016-09-11</td>\n",
       "      <td>0.390948</td>\n",
       "      <td>0.398459</td>\n",
       "      <td>0.372790</td>\n",
       "      <td>0.376150</td>\n",
       "      <td>879.0</td>\n",
       "      <td>NaN</td>\n",
       "      <td>1.954437e+07</td>\n",
       "    </tr>\n",
       "    <tr>\n",
       "      <th>360</th>\n",
       "      <td>2016-09-10</td>\n",
       "      <td>0.558536</td>\n",
       "      <td>0.559143</td>\n",
       "      <td>0.370960</td>\n",
       "      <td>0.391001</td>\n",
       "      <td>811.0</td>\n",
       "      <td>NaN</td>\n",
       "      <td>2.792390e+07</td>\n",
       "    </tr>\n",
       "    <tr>\n",
       "      <th>361</th>\n",
       "      <td>2016-09-09</td>\n",
       "      <td>0.181483</td>\n",
       "      <td>0.558951</td>\n",
       "      <td>0.181357</td>\n",
       "      <td>0.558478</td>\n",
       "      <td>1349.0</td>\n",
       "      <td>NaN</td>\n",
       "      <td>9.070967e+06</td>\n",
       "    </tr>\n",
       "  </tbody>\n",
       "</table>\n",
       "</div>"
      ],
      "text/plain": [
       "          Date      Open      High       Low     Close  Volume  Market Cap  \\\n",
       "357 2016-09-13  0.374469  0.375092  0.301766  0.309509  3337.0         NaN   \n",
       "358 2016-09-12  0.376312  0.376671  0.360443  0.374598  1116.0         NaN   \n",
       "359 2016-09-11  0.390948  0.398459  0.372790  0.376150   879.0         NaN   \n",
       "360 2016-09-10  0.558536  0.559143  0.370960  0.391001   811.0         NaN   \n",
       "361 2016-09-09  0.181483  0.558951  0.181357  0.558478  1349.0         NaN   \n",
       "\n",
       "     Market Cap Predict  \n",
       "357        1.872041e+07  \n",
       "358        1.881256e+07  \n",
       "359        1.954437e+07  \n",
       "360        2.792390e+07  \n",
       "361        9.070967e+06  "
      ]
     },
     "execution_count": 16,
     "metadata": {},
     "output_type": "execute_result"
    }
   ],
   "source": [
    "#Add a new column which is filled the missing data from model fit\n",
    "open = df[['Open']]\n",
    "Market_Cap_Predict = model.predict(open)\n",
    "df['Market Cap Predict'] = Market_Cap_Predict\n",
    "df.tail()"
   ]
  },
  {
   "cell_type": "code",
   "execution_count": 17,
   "metadata": {},
   "outputs": [
    {
     "data": {
      "text/plain": [
       "Date                  362\n",
       "Open                  362\n",
       "High                  362\n",
       "Low                   362\n",
       "Close                 362\n",
       "Volume                362\n",
       "Market Cap            315\n",
       "Market Cap Predict    362\n",
       "dtype: int64"
      ]
     },
     "execution_count": 17,
     "metadata": {},
     "output_type": "execute_result"
    }
   ],
   "source": [
    "df.count()"
   ]
  },
  {
   "cell_type": "code",
   "execution_count": 18,
   "metadata": {},
   "outputs": [
    {
     "data": {
      "text/html": [
       "<div>\n",
       "<style scoped>\n",
       "    .dataframe tbody tr th:only-of-type {\n",
       "        vertical-align: middle;\n",
       "    }\n",
       "\n",
       "    .dataframe tbody tr th {\n",
       "        vertical-align: top;\n",
       "    }\n",
       "\n",
       "    .dataframe thead th {\n",
       "        text-align: right;\n",
       "    }\n",
       "</style>\n",
       "<table border=\"1\" class=\"dataframe\">\n",
       "  <thead>\n",
       "    <tr style=\"text-align: right;\">\n",
       "      <th></th>\n",
       "      <th>Open</th>\n",
       "      <th>High</th>\n",
       "      <th>Low</th>\n",
       "      <th>Close</th>\n",
       "      <th>Volume</th>\n",
       "      <th>Market Cap</th>\n",
       "      <th>Market Cap Predict</th>\n",
       "    </tr>\n",
       "  </thead>\n",
       "  <tbody>\n",
       "    <tr>\n",
       "      <th>count</th>\n",
       "      <td>362.000000</td>\n",
       "      <td>362.000000</td>\n",
       "      <td>362.000000</td>\n",
       "      <td>362.000000</td>\n",
       "      <td>3.620000e+02</td>\n",
       "      <td>3.150000e+02</td>\n",
       "      <td>3.620000e+02</td>\n",
       "    </tr>\n",
       "    <tr>\n",
       "      <th>mean</th>\n",
       "      <td>4.172486</td>\n",
       "      <td>4.562649</td>\n",
       "      <td>3.760576</td>\n",
       "      <td>4.233630</td>\n",
       "      <td>1.910023e+07</td>\n",
       "      <td>2.380155e+08</td>\n",
       "      <td>2.086241e+08</td>\n",
       "    </tr>\n",
       "    <tr>\n",
       "      <th>std</th>\n",
       "      <td>9.946756</td>\n",
       "      <td>10.752224</td>\n",
       "      <td>8.971467</td>\n",
       "      <td>9.990614</td>\n",
       "      <td>5.516568e+07</td>\n",
       "      <td>5.269704e+08</td>\n",
       "      <td>4.973452e+08</td>\n",
       "    </tr>\n",
       "    <tr>\n",
       "      <th>min</th>\n",
       "      <td>0.080197</td>\n",
       "      <td>0.085211</td>\n",
       "      <td>0.072287</td>\n",
       "      <td>0.080181</td>\n",
       "      <td>1.560000e+02</td>\n",
       "      <td>5.292100e+06</td>\n",
       "      <td>4.006591e+06</td>\n",
       "    </tr>\n",
       "    <tr>\n",
       "      <th>25%</th>\n",
       "      <td>0.139660</td>\n",
       "      <td>0.146120</td>\n",
       "      <td>0.132966</td>\n",
       "      <td>0.139955</td>\n",
       "      <td>2.075275e+04</td>\n",
       "      <td>6.824825e+06</td>\n",
       "      <td>6.979798e+06</td>\n",
       "    </tr>\n",
       "    <tr>\n",
       "      <th>50%</th>\n",
       "      <td>0.189495</td>\n",
       "      <td>0.196152</td>\n",
       "      <td>0.179913</td>\n",
       "      <td>0.189814</td>\n",
       "      <td>1.633035e+05</td>\n",
       "      <td>9.234250e+06</td>\n",
       "      <td>9.471573e+06</td>\n",
       "    </tr>\n",
       "    <tr>\n",
       "      <th>75%</th>\n",
       "      <td>1.355000</td>\n",
       "      <td>1.542500</td>\n",
       "      <td>1.242500</td>\n",
       "      <td>1.357500</td>\n",
       "      <td>7.408840e+06</td>\n",
       "      <td>2.205580e+08</td>\n",
       "      <td>6.774769e+07</td>\n",
       "    </tr>\n",
       "    <tr>\n",
       "      <th>max</th>\n",
       "      <td>47.630000</td>\n",
       "      <td>52.630000</td>\n",
       "      <td>44.790000</td>\n",
       "      <td>47.490000</td>\n",
       "      <td>4.486540e+08</td>\n",
       "      <td>2.381360e+09</td>\n",
       "      <td>2.381532e+09</td>\n",
       "    </tr>\n",
       "  </tbody>\n",
       "</table>\n",
       "</div>"
      ],
      "text/plain": [
       "             Open        High         Low       Close        Volume  \\\n",
       "count  362.000000  362.000000  362.000000  362.000000  3.620000e+02   \n",
       "mean     4.172486    4.562649    3.760576    4.233630  1.910023e+07   \n",
       "std      9.946756   10.752224    8.971467    9.990614  5.516568e+07   \n",
       "min      0.080197    0.085211    0.072287    0.080181  1.560000e+02   \n",
       "25%      0.139660    0.146120    0.132966    0.139955  2.075275e+04   \n",
       "50%      0.189495    0.196152    0.179913    0.189814  1.633035e+05   \n",
       "75%      1.355000    1.542500    1.242500    1.357500  7.408840e+06   \n",
       "max     47.630000   52.630000   44.790000   47.490000  4.486540e+08   \n",
       "\n",
       "         Market Cap  Market Cap Predict  \n",
       "count  3.150000e+02        3.620000e+02  \n",
       "mean   2.380155e+08        2.086241e+08  \n",
       "std    5.269704e+08        4.973452e+08  \n",
       "min    5.292100e+06        4.006591e+06  \n",
       "25%    6.824825e+06        6.979798e+06  \n",
       "50%    9.234250e+06        9.471573e+06  \n",
       "75%    2.205580e+08        6.774769e+07  \n",
       "max    2.381360e+09        2.381532e+09  "
      ]
     },
     "execution_count": 18,
     "metadata": {},
     "output_type": "execute_result"
    }
   ],
   "source": [
    "df.describe()"
   ]
  },
  {
   "cell_type": "markdown",
   "metadata": {},
   "source": [
    "#### Now the data is clean, no null value and has same format"
   ]
  },
  {
   "cell_type": "markdown",
   "metadata": {},
   "source": [
    "### 3. Data Visualization"
   ]
  },
  {
   "cell_type": "code",
   "execution_count": 19,
   "metadata": {},
   "outputs": [],
   "source": [
    "# Set Date as it's index\n",
    "df.set_index('Date', inplace = True )"
   ]
  },
  {
   "cell_type": "code",
   "execution_count": 23,
   "metadata": {},
   "outputs": [
    {
     "data": {
      "text/plain": [
       "Text(0.5,1,'Date vs Market Cap Predict')"
      ]
     },
     "execution_count": 23,
     "metadata": {},
     "output_type": "execute_result"
    },
    {
     "data": {
      "image/png": "[encoded data removed]",
      "text/plain": [
       "<Figure size 1800x1800 with 6 Axes>"
      ]
     },
     "metadata": {},
     "output_type": "display_data"
    }
   ],
   "source": [
    "# Visualization the average of Open based on time (Week)\n",
    "%matplotlib inline\n",
    "plt.figure(figsize=(25, 25))\n",
    "\n",
    "plt.subplot(3,3,1)\n",
    "plt.ylabel('Open')\n",
    "df.Open.plot()\n",
    "plt.title('Date vs Open')\n",
    "\n",
    "plt.subplot(3,3,2)\n",
    "plt.ylabel('Low')\n",
    "df.Low.plot()\n",
    "plt.title('Date vs Low')\n",
    "\n",
    "plt.subplot(3,3,3)\n",
    "plt.ylabel('High')\n",
    "df.High.plot()\n",
    "plt.title('Date vs High')\n",
    "\n",
    "plt.subplot(3,3,4)\n",
    "plt.ylabel('Close')\n",
    "df.Close.plot()\n",
    "plt.title('Date vs Close')\n",
    "\n",
    "plt.subplot(3,3,6)\n",
    "plt.ylabel('Volume')\n",
    "df['Volume'].plot()\n",
    "plt.title('Date vs Volume')\n",
    "\n",
    "plt.subplot(3,3,5)\n",
    "plt.ylabel('Market Cap Predict')\n",
    "df['Market Cap Predict'].plot()\n",
    "plt.title('Date vs Market Cap Predict')\n"
   ]
  },
  {
   "cell_type": "code",
   "execution_count": null,
   "metadata": {},
   "outputs": [],
   "source": []
  }
 ],
 "metadata": {
  "kernelspec": {
   "display_name": "Python 3",
   "language": "python",
   "name": "python3"
  },
  "language_info": {
   "codemirror_mode": {
    "name": "ipython",
    "version": 3
   },
   "file_extension": ".py",
   "mimetype": "text/x-python",
   "name": "python",
   "nbconvert_exporter": "python",
   "pygments_lexer": "ipython3",
   "version": "3.6.5"
  }
 },
 "nbformat": 4,
 "nbformat_minor": 2
}
