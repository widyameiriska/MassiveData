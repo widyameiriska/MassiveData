{
 "cells": [
  {
   "cell_type": "markdown",
   "metadata": {},
   "source": [
    "# Iota Price"
   ]
  },
  {
   "cell_type": "code",
   "execution_count": 1,
   "metadata": {},
   "outputs": [],
   "source": [
    "import csv\n",
    "import pandas as pd\n",
    "import numpy as np"
   ]
  },
  {
   "cell_type": "code",
   "execution_count": 2,
   "metadata": {},
   "outputs": [],
   "source": [
    "df = pd.read_csv('../data/raw/bitcoin/iota_price.csv')"
   ]
  },
  {
   "cell_type": "code",
   "execution_count": 3,
   "metadata": {},
   "outputs": [
    {
     "data": {
      "text/html": [
       "<div>\n",
       "<style scoped>\n",
       "    .dataframe tbody tr th:only-of-type {\n",
       "        vertical-align: middle;\n",
       "    }\n",
       "\n",
       "    .dataframe tbody tr th {\n",
       "        vertical-align: top;\n",
       "    }\n",
       "\n",
       "    .dataframe thead th {\n",
       "        text-align: right;\n",
       "    }\n",
       "</style>\n",
       "<table border=\"1\" class=\"dataframe\">\n",
       "  <thead>\n",
       "    <tr style=\"text-align: right;\">\n",
       "      <th></th>\n",
       "      <th>Date</th>\n",
       "      <th>Open</th>\n",
       "      <th>High</th>\n",
       "      <th>Low</th>\n",
       "      <th>Close</th>\n",
       "      <th>Volume</th>\n",
       "      <th>Market Cap</th>\n",
       "    </tr>\n",
       "  </thead>\n",
       "  <tbody>\n",
       "    <tr>\n",
       "      <th>80</th>\n",
       "      <td>Jun 17, 2017</td>\n",
       "      <td>0.426762</td>\n",
       "      <td>0.444205</td>\n",
       "      <td>0.414139</td>\n",
       "      <td>0.419906</td>\n",
       "      <td>3,100,660</td>\n",
       "      <td>1,186,200,000</td>\n",
       "    </tr>\n",
       "    <tr>\n",
       "      <th>81</th>\n",
       "      <td>Jun 16, 2017</td>\n",
       "      <td>0.353285</td>\n",
       "      <td>0.448249</td>\n",
       "      <td>0.309852</td>\n",
       "      <td>0.410757</td>\n",
       "      <td>6,920,690</td>\n",
       "      <td>981,966,000</td>\n",
       "    </tr>\n",
       "    <tr>\n",
       "      <th>82</th>\n",
       "      <td>Jun 15, 2017</td>\n",
       "      <td>0.528284</td>\n",
       "      <td>0.543165</td>\n",
       "      <td>0.300365</td>\n",
       "      <td>0.363661</td>\n",
       "      <td>10,300,400</td>\n",
       "      <td>1,468,380,000</td>\n",
       "    </tr>\n",
       "    <tr>\n",
       "      <th>83</th>\n",
       "      <td>Jun 14, 2017</td>\n",
       "      <td>0.592347</td>\n",
       "      <td>0.606196</td>\n",
       "      <td>0.495745</td>\n",
       "      <td>0.528916</td>\n",
       "      <td>14,194,900</td>\n",
       "      <td>1,646,450,000</td>\n",
       "    </tr>\n",
       "    <tr>\n",
       "      <th>84</th>\n",
       "      <td>Jun 13, 2017</td>\n",
       "      <td>0.638503</td>\n",
       "      <td>0.652862</td>\n",
       "      <td>0.533910</td>\n",
       "      <td>0.590255</td>\n",
       "      <td>25,425,600</td>\n",
       "      <td>1,774,740,000</td>\n",
       "    </tr>\n",
       "  </tbody>\n",
       "</table>\n",
       "</div>"
      ],
      "text/plain": [
       "            Date      Open      High       Low     Close      Volume  \\\n",
       "80  Jun 17, 2017  0.426762  0.444205  0.414139  0.419906   3,100,660   \n",
       "81  Jun 16, 2017  0.353285  0.448249  0.309852  0.410757   6,920,690   \n",
       "82  Jun 15, 2017  0.528284  0.543165  0.300365  0.363661  10,300,400   \n",
       "83  Jun 14, 2017  0.592347  0.606196  0.495745  0.528916  14,194,900   \n",
       "84  Jun 13, 2017  0.638503  0.652862  0.533910  0.590255  25,425,600   \n",
       "\n",
       "       Market Cap  \n",
       "80  1,186,200,000  \n",
       "81    981,966,000  \n",
       "82  1,468,380,000  \n",
       "83  1,646,450,000  \n",
       "84  1,774,740,000  "
      ]
     },
     "execution_count": 3,
     "metadata": {},
     "output_type": "execute_result"
    }
   ],
   "source": [
    "df.tail()"
   ]
  },
  {
   "cell_type": "code",
   "execution_count": 4,
   "metadata": {},
   "outputs": [
    {
     "data": {
      "text/plain": [
       "Index(['Date', 'Open', 'High', 'Low', 'Close', 'Volume', 'Market Cap'], dtype='object')"
      ]
     },
     "execution_count": 4,
     "metadata": {},
     "output_type": "execute_result"
    }
   ],
   "source": [
    "df.columns"
   ]
  },
  {
   "cell_type": "code",
   "execution_count": 5,
   "metadata": {},
   "outputs": [
    {
     "data": {
      "text/plain": [
       "Date          85\n",
       "Open          85\n",
       "High          85\n",
       "Low           85\n",
       "Close         85\n",
       "Volume        85\n",
       "Market Cap    85\n",
       "dtype: int64"
      ]
     },
     "execution_count": 5,
     "metadata": {},
     "output_type": "execute_result"
    }
   ],
   "source": [
    "df.count()"
   ]
  },
  {
   "cell_type": "code",
   "execution_count": 6,
   "metadata": {},
   "outputs": [
    {
     "data": {
      "text/plain": [
       "Date           object\n",
       "Open          float64\n",
       "High          float64\n",
       "Low           float64\n",
       "Close         float64\n",
       "Volume         object\n",
       "Market Cap     object\n",
       "dtype: object"
      ]
     },
     "execution_count": 6,
     "metadata": {},
     "output_type": "execute_result"
    }
   ],
   "source": [
    "df.dtypes"
   ]
  },
  {
   "cell_type": "markdown",
   "metadata": {},
   "source": [
    "There is no missing data here and there are several data which have different format. Some of the data do not use number format"
   ]
  },
  {
   "cell_type": "code",
   "execution_count": 9,
   "metadata": {},
   "outputs": [],
   "source": [
    "df['Volume'] = df['Volume'].apply(lambda x: float(str(x).replace(',',''))) \n",
    "df['Market Cap'] = df['Market Cap'].apply(lambda x: float(str(x).replace(',',''))) "
   ]
  },
  {
   "cell_type": "markdown",
   "metadata": {},
   "source": [
    "Convert time column into date time format"
   ]
  },
  {
   "cell_type": "code",
   "execution_count": 12,
   "metadata": {},
   "outputs": [],
   "source": [
    "df['Date'] = pd.to_datetime(df['Date'])"
   ]
  },
  {
   "cell_type": "code",
   "execution_count": 13,
   "metadata": {},
   "outputs": [
    {
     "name": "stdout",
     "output_type": "stream",
     "text": [
      "<class 'pandas.core.frame.DataFrame'>\n",
      "RangeIndex: 85 entries, 0 to 84\n",
      "Data columns (total 7 columns):\n",
      "Date          85 non-null datetime64[ns]\n",
      "Open          85 non-null float64\n",
      "High          85 non-null float64\n",
      "Low           85 non-null float64\n",
      "Close         85 non-null float64\n",
      "Volume        85 non-null float64\n",
      "Market Cap    85 non-null float64\n",
      "dtypes: datetime64[ns](1), float64(6)\n",
      "memory usage: 4.7 KB\n"
     ]
    }
   ],
   "source": [
    "df.info()"
   ]
  },
  {
   "cell_type": "code",
   "execution_count": 14,
   "metadata": {},
   "outputs": [
    {
     "data": {
      "text/html": [
       "<div>\n",
       "<style scoped>\n",
       "    .dataframe tbody tr th:only-of-type {\n",
       "        vertical-align: middle;\n",
       "    }\n",
       "\n",
       "    .dataframe tbody tr th {\n",
       "        vertical-align: top;\n",
       "    }\n",
       "\n",
       "    .dataframe thead th {\n",
       "        text-align: right;\n",
       "    }\n",
       "</style>\n",
       "<table border=\"1\" class=\"dataframe\">\n",
       "  <thead>\n",
       "    <tr style=\"text-align: right;\">\n",
       "      <th></th>\n",
       "      <th>Date</th>\n",
       "      <th>Open</th>\n",
       "      <th>High</th>\n",
       "      <th>Low</th>\n",
       "      <th>Close</th>\n",
       "      <th>Volume</th>\n",
       "      <th>Market Cap</th>\n",
       "    </tr>\n",
       "  </thead>\n",
       "  <tbody>\n",
       "    <tr>\n",
       "      <th>80</th>\n",
       "      <td>2017-06-17</td>\n",
       "      <td>0.426762</td>\n",
       "      <td>0.444205</td>\n",
       "      <td>0.414139</td>\n",
       "      <td>0.419906</td>\n",
       "      <td>3100660.0</td>\n",
       "      <td>1.186200e+09</td>\n",
       "    </tr>\n",
       "    <tr>\n",
       "      <th>81</th>\n",
       "      <td>2017-06-16</td>\n",
       "      <td>0.353285</td>\n",
       "      <td>0.448249</td>\n",
       "      <td>0.309852</td>\n",
       "      <td>0.410757</td>\n",
       "      <td>6920690.0</td>\n",
       "      <td>9.819660e+08</td>\n",
       "    </tr>\n",
       "    <tr>\n",
       "      <th>82</th>\n",
       "      <td>2017-06-15</td>\n",
       "      <td>0.528284</td>\n",
       "      <td>0.543165</td>\n",
       "      <td>0.300365</td>\n",
       "      <td>0.363661</td>\n",
       "      <td>10300400.0</td>\n",
       "      <td>1.468380e+09</td>\n",
       "    </tr>\n",
       "    <tr>\n",
       "      <th>83</th>\n",
       "      <td>2017-06-14</td>\n",
       "      <td>0.592347</td>\n",
       "      <td>0.606196</td>\n",
       "      <td>0.495745</td>\n",
       "      <td>0.528916</td>\n",
       "      <td>14194900.0</td>\n",
       "      <td>1.646450e+09</td>\n",
       "    </tr>\n",
       "    <tr>\n",
       "      <th>84</th>\n",
       "      <td>2017-06-13</td>\n",
       "      <td>0.638503</td>\n",
       "      <td>0.652862</td>\n",
       "      <td>0.533910</td>\n",
       "      <td>0.590255</td>\n",
       "      <td>25425600.0</td>\n",
       "      <td>1.774740e+09</td>\n",
       "    </tr>\n",
       "  </tbody>\n",
       "</table>\n",
       "</div>"
      ],
      "text/plain": [
       "         Date      Open      High       Low     Close      Volume  \\\n",
       "80 2017-06-17  0.426762  0.444205  0.414139  0.419906   3100660.0   \n",
       "81 2017-06-16  0.353285  0.448249  0.309852  0.410757   6920690.0   \n",
       "82 2017-06-15  0.528284  0.543165  0.300365  0.363661  10300400.0   \n",
       "83 2017-06-14  0.592347  0.606196  0.495745  0.528916  14194900.0   \n",
       "84 2017-06-13  0.638503  0.652862  0.533910  0.590255  25425600.0   \n",
       "\n",
       "      Market Cap  \n",
       "80  1.186200e+09  \n",
       "81  9.819660e+08  \n",
       "82  1.468380e+09  \n",
       "83  1.646450e+09  \n",
       "84  1.774740e+09  "
      ]
     },
     "execution_count": 14,
     "metadata": {},
     "output_type": "execute_result"
    }
   ],
   "source": [
    "df.tail()"
   ]
  },
  {
   "cell_type": "code",
   "execution_count": 15,
   "metadata": {},
   "outputs": [
    {
     "data": {
      "text/html": [
       "<div>\n",
       "<style scoped>\n",
       "    .dataframe tbody tr th:only-of-type {\n",
       "        vertical-align: middle;\n",
       "    }\n",
       "\n",
       "    .dataframe tbody tr th {\n",
       "        vertical-align: top;\n",
       "    }\n",
       "\n",
       "    .dataframe thead th {\n",
       "        text-align: right;\n",
       "    }\n",
       "</style>\n",
       "<table border=\"1\" class=\"dataframe\">\n",
       "  <thead>\n",
       "    <tr style=\"text-align: right;\">\n",
       "      <th></th>\n",
       "      <th>total</th>\n",
       "      <th>percent</th>\n",
       "    </tr>\n",
       "  </thead>\n",
       "  <tbody>\n",
       "    <tr>\n",
       "      <th>Date</th>\n",
       "      <td>0</td>\n",
       "      <td>0.0</td>\n",
       "    </tr>\n",
       "    <tr>\n",
       "      <th>Open</th>\n",
       "      <td>0</td>\n",
       "      <td>0.0</td>\n",
       "    </tr>\n",
       "    <tr>\n",
       "      <th>High</th>\n",
       "      <td>0</td>\n",
       "      <td>0.0</td>\n",
       "    </tr>\n",
       "    <tr>\n",
       "      <th>Low</th>\n",
       "      <td>0</td>\n",
       "      <td>0.0</td>\n",
       "    </tr>\n",
       "    <tr>\n",
       "      <th>Close</th>\n",
       "      <td>0</td>\n",
       "      <td>0.0</td>\n",
       "    </tr>\n",
       "    <tr>\n",
       "      <th>Volume</th>\n",
       "      <td>0</td>\n",
       "      <td>0.0</td>\n",
       "    </tr>\n",
       "    <tr>\n",
       "      <th>Market Cap</th>\n",
       "      <td>0</td>\n",
       "      <td>0.0</td>\n",
       "    </tr>\n",
       "  </tbody>\n",
       "</table>\n",
       "</div>"
      ],
      "text/plain": [
       "            total  percent\n",
       "Date            0      0.0\n",
       "Open            0      0.0\n",
       "High            0      0.0\n",
       "Low             0      0.0\n",
       "Close           0      0.0\n",
       "Volume          0      0.0\n",
       "Market Cap      0      0.0"
      ]
     },
     "execution_count": 15,
     "metadata": {},
     "output_type": "execute_result"
    }
   ],
   "source": [
    "missingdf = pd.DataFrame(df.isna().sum()).rename(columns = {0: 'total'})\n",
    "missingdf['percent'] = missingdf['total'] / len(df)\n",
    "missingdf"
   ]
  },
  {
   "cell_type": "code",
   "execution_count": 17,
   "metadata": {},
   "outputs": [
    {
     "data": {
      "text/plain": [
       "<function matplotlib.pyplot.show(*args, **kw)>"
      ]
     },
     "execution_count": 17,
     "metadata": {},
     "output_type": "execute_result"
    },
    {
     "data": {
      "image/png": "[encoded data removed]",
      "text/plain": [
       "<Figure size 1800x1800 with 5 Axes>"
      ]
     },
     "metadata": {},
     "output_type": "display_data"
    }
   ],
   "source": [
    "#Plot data to see the relation between each column\n",
    "import matplotlib.pyplot as plt\n",
    "plt.figure(figsize=(25, 25))\n",
    "O = df['Open']\n",
    "H = df['High']\n",
    "L = df['Low']\n",
    "C = df['Close']\n",
    "V = df['Volume']\n",
    "MC = df['Market Cap']\n",
    "\n",
    "plt.subplot(5,5,1)\n",
    "plt.scatter(O, MC)\n",
    "plt.title('Open vs Market Cap')\n",
    "\n",
    "plt.subplot(5,5,2)\n",
    "plt.scatter(H, MC)\n",
    "plt.title('High vs Market Cap')\n",
    "\n",
    "plt.subplot(5,5,3)\n",
    "plt.scatter(L, MC)\n",
    "plt.title('Low vs Market Cap')\n",
    "\n",
    "plt.subplot(5,5,4)\n",
    "plt.scatter(C, MC)\n",
    "plt.title('Close vs Market Cap')\n",
    "\n",
    "plt.subplot(5,5,5)\n",
    "plt.scatter(V, MC)\n",
    "plt.title('Volume vs Market Cap')\n",
    "\n",
    "plt.show"
   ]
  },
  {
   "cell_type": "markdown",
   "metadata": {},
   "source": [
    "The data is clean, no null value and has same format"
   ]
  },
  {
   "cell_type": "code",
   "execution_count": null,
   "metadata": {},
   "outputs": [],
   "source": []
  }
 ],
 "metadata": {
  "kernelspec": {
   "display_name": "Python 3",
   "language": "python",
   "name": "python3"
  },
  "language_info": {
   "codemirror_mode": {
    "name": "ipython",
    "version": 3
   },
   "file_extension": ".py",
   "mimetype": "text/x-python",
   "name": "python",
   "nbconvert_exporter": "python",
   "pygments_lexer": "ipython3",
   "version": "3.6.5"
  }
 },
 "nbformat": 4,
 "nbformat_minor": 2
}
