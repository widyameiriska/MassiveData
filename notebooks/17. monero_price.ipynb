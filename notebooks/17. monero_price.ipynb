{
 "cells": [
  {
   "cell_type": "markdown",
   "metadata": {},
   "source": [
    "# Monero Price"
   ]
  },
  {
   "cell_type": "markdown",
   "metadata": {},
   "source": [
    "by: Widya Meiriska"
   ]
  },
  {
   "cell_type": "markdown",
   "metadata": {},
   "source": [
    "### 1. Read Dataset"
   ]
  },
  {
   "cell_type": "code",
   "execution_count": 6,
   "metadata": {},
   "outputs": [],
   "source": [
    "import csv\n",
    "import pandas as pd\n",
    "import numpy as np"
   ]
  },
  {
   "cell_type": "code",
   "execution_count": 7,
   "metadata": {},
   "outputs": [],
   "source": [
    "df = pd.read_csv('../data/raw/bitcoin/monero_price.csv',parse_dates = ['Date'])"
   ]
  },
  {
   "cell_type": "code",
   "execution_count": 8,
   "metadata": {},
   "outputs": [
    {
     "data": {
      "text/html": [
       "<div>\n",
       "<style scoped>\n",
       "    .dataframe tbody tr th:only-of-type {\n",
       "        vertical-align: middle;\n",
       "    }\n",
       "\n",
       "    .dataframe tbody tr th {\n",
       "        vertical-align: top;\n",
       "    }\n",
       "\n",
       "    .dataframe thead th {\n",
       "        text-align: right;\n",
       "    }\n",
       "</style>\n",
       "<table border=\"1\" class=\"dataframe\">\n",
       "  <thead>\n",
       "    <tr style=\"text-align: right;\">\n",
       "      <th></th>\n",
       "      <th>Date</th>\n",
       "      <th>Open</th>\n",
       "      <th>High</th>\n",
       "      <th>Low</th>\n",
       "      <th>Close</th>\n",
       "      <th>Volume</th>\n",
       "      <th>Market Cap</th>\n",
       "    </tr>\n",
       "  </thead>\n",
       "  <tbody>\n",
       "    <tr>\n",
       "      <th>1198</th>\n",
       "      <td>2014-05-25</td>\n",
       "      <td>4.04</td>\n",
       "      <td>4.04</td>\n",
       "      <td>2.80</td>\n",
       "      <td>3.14</td>\n",
       "      <td>283545</td>\n",
       "      <td>3774890</td>\n",
       "    </tr>\n",
       "    <tr>\n",
       "      <th>1199</th>\n",
       "      <td>2014-05-24</td>\n",
       "      <td>2.92</td>\n",
       "      <td>4.01</td>\n",
       "      <td>2.62</td>\n",
       "      <td>3.70</td>\n",
       "      <td>248028</td>\n",
       "      <td>2653720</td>\n",
       "    </tr>\n",
       "    <tr>\n",
       "      <th>1200</th>\n",
       "      <td>2014-05-23</td>\n",
       "      <td>2.05</td>\n",
       "      <td>3.43</td>\n",
       "      <td>2.05</td>\n",
       "      <td>2.96</td>\n",
       "      <td>266852</td>\n",
       "      <td>1816200</td>\n",
       "    </tr>\n",
       "    <tr>\n",
       "      <th>1201</th>\n",
       "      <td>2014-05-22</td>\n",
       "      <td>1.59</td>\n",
       "      <td>2.19</td>\n",
       "      <td>1.36</td>\n",
       "      <td>2.10</td>\n",
       "      <td>132918</td>\n",
       "      <td>1371470</td>\n",
       "    </tr>\n",
       "    <tr>\n",
       "      <th>1202</th>\n",
       "      <td>2014-05-21</td>\n",
       "      <td>2.47</td>\n",
       "      <td>2.65</td>\n",
       "      <td>1.23</td>\n",
       "      <td>1.60</td>\n",
       "      <td>246540</td>\n",
       "      <td>2079640</td>\n",
       "    </tr>\n",
       "  </tbody>\n",
       "</table>\n",
       "</div>"
      ],
      "text/plain": [
       "           Date  Open  High   Low  Close  Volume  Market Cap\n",
       "1198 2014-05-25  4.04  4.04  2.80   3.14  283545     3774890\n",
       "1199 2014-05-24  2.92  4.01  2.62   3.70  248028     2653720\n",
       "1200 2014-05-23  2.05  3.43  2.05   2.96  266852     1816200\n",
       "1201 2014-05-22  1.59  2.19  1.36   2.10  132918     1371470\n",
       "1202 2014-05-21  2.47  2.65  1.23   1.60  246540     2079640"
      ]
     },
     "execution_count": 8,
     "metadata": {},
     "output_type": "execute_result"
    }
   ],
   "source": [
    "df.tail()"
   ]
  },
  {
   "cell_type": "markdown",
   "metadata": {},
   "source": [
    "### 2. Data Investigation"
   ]
  },
  {
   "cell_type": "code",
   "execution_count": 9,
   "metadata": {},
   "outputs": [
    {
     "data": {
      "text/plain": [
       "Index(['Date', 'Open', 'High', 'Low', 'Close', 'Volume', 'Market Cap'], dtype='object')"
      ]
     },
     "execution_count": 9,
     "metadata": {},
     "output_type": "execute_result"
    }
   ],
   "source": [
    "df.columns"
   ]
  },
  {
   "cell_type": "code",
   "execution_count": 10,
   "metadata": {},
   "outputs": [
    {
     "data": {
      "text/plain": [
       "Date          1203\n",
       "Open          1203\n",
       "High          1203\n",
       "Low           1203\n",
       "Close         1203\n",
       "Volume        1203\n",
       "Market Cap    1203\n",
       "dtype: int64"
      ]
     },
     "execution_count": 10,
     "metadata": {},
     "output_type": "execute_result"
    }
   ],
   "source": [
    "df.count()"
   ]
  },
  {
   "cell_type": "code",
   "execution_count": 11,
   "metadata": {},
   "outputs": [
    {
     "data": {
      "text/plain": [
       "Date          datetime64[ns]\n",
       "Open                 float64\n",
       "High                 float64\n",
       "Low                  float64\n",
       "Close                float64\n",
       "Volume                 int64\n",
       "Market Cap             int64\n",
       "dtype: object"
      ]
     },
     "execution_count": 11,
     "metadata": {},
     "output_type": "execute_result"
    }
   ],
   "source": [
    "df.dtypes"
   ]
  },
  {
   "cell_type": "markdown",
   "metadata": {},
   "source": [
    "#### There is no missing data here different format"
   ]
  },
  {
   "cell_type": "code",
   "execution_count": 12,
   "metadata": {},
   "outputs": [
    {
     "name": "stdout",
     "output_type": "stream",
     "text": [
      "<class 'pandas.core.frame.DataFrame'>\n",
      "RangeIndex: 1203 entries, 0 to 1202\n",
      "Data columns (total 7 columns):\n",
      "Date          1203 non-null datetime64[ns]\n",
      "Open          1203 non-null float64\n",
      "High          1203 non-null float64\n",
      "Low           1203 non-null float64\n",
      "Close         1203 non-null float64\n",
      "Volume        1203 non-null int64\n",
      "Market Cap    1203 non-null int64\n",
      "dtypes: datetime64[ns](1), float64(4), int64(2)\n",
      "memory usage: 65.9 KB\n"
     ]
    }
   ],
   "source": [
    "df.info()"
   ]
  },
  {
   "cell_type": "code",
   "execution_count": 13,
   "metadata": {},
   "outputs": [
    {
     "data": {
      "text/html": [
       "<div>\n",
       "<style scoped>\n",
       "    .dataframe tbody tr th:only-of-type {\n",
       "        vertical-align: middle;\n",
       "    }\n",
       "\n",
       "    .dataframe tbody tr th {\n",
       "        vertical-align: top;\n",
       "    }\n",
       "\n",
       "    .dataframe thead th {\n",
       "        text-align: right;\n",
       "    }\n",
       "</style>\n",
       "<table border=\"1\" class=\"dataframe\">\n",
       "  <thead>\n",
       "    <tr style=\"text-align: right;\">\n",
       "      <th></th>\n",
       "      <th>total</th>\n",
       "      <th>percent</th>\n",
       "    </tr>\n",
       "  </thead>\n",
       "  <tbody>\n",
       "    <tr>\n",
       "      <th>Date</th>\n",
       "      <td>0</td>\n",
       "      <td>0.0</td>\n",
       "    </tr>\n",
       "    <tr>\n",
       "      <th>Open</th>\n",
       "      <td>0</td>\n",
       "      <td>0.0</td>\n",
       "    </tr>\n",
       "    <tr>\n",
       "      <th>High</th>\n",
       "      <td>0</td>\n",
       "      <td>0.0</td>\n",
       "    </tr>\n",
       "    <tr>\n",
       "      <th>Low</th>\n",
       "      <td>0</td>\n",
       "      <td>0.0</td>\n",
       "    </tr>\n",
       "    <tr>\n",
       "      <th>Close</th>\n",
       "      <td>0</td>\n",
       "      <td>0.0</td>\n",
       "    </tr>\n",
       "    <tr>\n",
       "      <th>Volume</th>\n",
       "      <td>0</td>\n",
       "      <td>0.0</td>\n",
       "    </tr>\n",
       "    <tr>\n",
       "      <th>Market Cap</th>\n",
       "      <td>0</td>\n",
       "      <td>0.0</td>\n",
       "    </tr>\n",
       "  </tbody>\n",
       "</table>\n",
       "</div>"
      ],
      "text/plain": [
       "            total  percent\n",
       "Date            0      0.0\n",
       "Open            0      0.0\n",
       "High            0      0.0\n",
       "Low             0      0.0\n",
       "Close           0      0.0\n",
       "Volume          0      0.0\n",
       "Market Cap      0      0.0"
      ]
     },
     "execution_count": 13,
     "metadata": {},
     "output_type": "execute_result"
    }
   ],
   "source": [
    "missingdf = pd.DataFrame(df.isna().sum()).rename(columns = {0: 'total'})\n",
    "missingdf['percent'] = missingdf['total'] / len(df)\n",
    "missingdf"
   ]
  },
  {
   "cell_type": "code",
   "execution_count": 14,
   "metadata": {},
   "outputs": [
    {
     "data": {
      "text/plain": [
       "Date          1203\n",
       "Open          1203\n",
       "High          1203\n",
       "Low           1203\n",
       "Close         1203\n",
       "Volume        1203\n",
       "Market Cap    1203\n",
       "dtype: int64"
      ]
     },
     "execution_count": 14,
     "metadata": {},
     "output_type": "execute_result"
    }
   ],
   "source": [
    "df.count()"
   ]
  },
  {
   "cell_type": "code",
   "execution_count": 15,
   "metadata": {},
   "outputs": [
    {
     "data": {
      "text/html": [
       "<div>\n",
       "<style scoped>\n",
       "    .dataframe tbody tr th:only-of-type {\n",
       "        vertical-align: middle;\n",
       "    }\n",
       "\n",
       "    .dataframe tbody tr th {\n",
       "        vertical-align: top;\n",
       "    }\n",
       "\n",
       "    .dataframe thead th {\n",
       "        text-align: right;\n",
       "    }\n",
       "</style>\n",
       "<table border=\"1\" class=\"dataframe\">\n",
       "  <thead>\n",
       "    <tr style=\"text-align: right;\">\n",
       "      <th></th>\n",
       "      <th>Open</th>\n",
       "      <th>High</th>\n",
       "      <th>Low</th>\n",
       "      <th>Close</th>\n",
       "      <th>Volume</th>\n",
       "      <th>Market Cap</th>\n",
       "    </tr>\n",
       "  </thead>\n",
       "  <tbody>\n",
       "    <tr>\n",
       "      <th>count</th>\n",
       "      <td>1203.000000</td>\n",
       "      <td>1203.000000</td>\n",
       "      <td>1203.000000</td>\n",
       "      <td>1203.000000</td>\n",
       "      <td>1.203000e+03</td>\n",
       "      <td>1.203000e+03</td>\n",
       "    </tr>\n",
       "    <tr>\n",
       "      <th>mean</th>\n",
       "      <td>8.569395</td>\n",
       "      <td>9.154209</td>\n",
       "      <td>8.106735</td>\n",
       "      <td>8.663258</td>\n",
       "      <td>4.844432e+06</td>\n",
       "      <td>1.189434e+08</td>\n",
       "    </tr>\n",
       "    <tr>\n",
       "      <th>std</th>\n",
       "      <td>17.749751</td>\n",
       "      <td>19.112540</td>\n",
       "      <td>16.622019</td>\n",
       "      <td>18.029172</td>\n",
       "      <td>1.831849e+07</td>\n",
       "      <td>2.655690e+08</td>\n",
       "    </tr>\n",
       "    <tr>\n",
       "      <th>min</th>\n",
       "      <td>0.220121</td>\n",
       "      <td>0.251757</td>\n",
       "      <td>0.212967</td>\n",
       "      <td>0.223522</td>\n",
       "      <td>7.900000e+03</td>\n",
       "      <td>1.260140e+06</td>\n",
       "    </tr>\n",
       "    <tr>\n",
       "      <th>25%</th>\n",
       "      <td>0.509520</td>\n",
       "      <td>0.538536</td>\n",
       "      <td>0.492051</td>\n",
       "      <td>0.507895</td>\n",
       "      <td>3.570800e+04</td>\n",
       "      <td>4.203825e+06</td>\n",
       "    </tr>\n",
       "    <tr>\n",
       "      <th>50%</th>\n",
       "      <td>1.240000</td>\n",
       "      <td>1.340000</td>\n",
       "      <td>1.140000</td>\n",
       "      <td>1.240000</td>\n",
       "      <td>1.324030e+05</td>\n",
       "      <td>6.374590e+06</td>\n",
       "    </tr>\n",
       "    <tr>\n",
       "      <th>75%</th>\n",
       "      <td>8.280000</td>\n",
       "      <td>8.555000</td>\n",
       "      <td>7.840000</td>\n",
       "      <td>8.290000</td>\n",
       "      <td>3.031370e+06</td>\n",
       "      <td>1.090735e+08</td>\n",
       "    </tr>\n",
       "    <tr>\n",
       "      <th>max</th>\n",
       "      <td>144.240000</td>\n",
       "      <td>154.580000</td>\n",
       "      <td>136.490000</td>\n",
       "      <td>145.400000</td>\n",
       "      <td>3.018430e+08</td>\n",
       "      <td>2.163850e+09</td>\n",
       "    </tr>\n",
       "  </tbody>\n",
       "</table>\n",
       "</div>"
      ],
      "text/plain": [
       "              Open         High          Low        Close        Volume  \\\n",
       "count  1203.000000  1203.000000  1203.000000  1203.000000  1.203000e+03   \n",
       "mean      8.569395     9.154209     8.106735     8.663258  4.844432e+06   \n",
       "std      17.749751    19.112540    16.622019    18.029172  1.831849e+07   \n",
       "min       0.220121     0.251757     0.212967     0.223522  7.900000e+03   \n",
       "25%       0.509520     0.538536     0.492051     0.507895  3.570800e+04   \n",
       "50%       1.240000     1.340000     1.140000     1.240000  1.324030e+05   \n",
       "75%       8.280000     8.555000     7.840000     8.290000  3.031370e+06   \n",
       "max     144.240000   154.580000   136.490000   145.400000  3.018430e+08   \n",
       "\n",
       "         Market Cap  \n",
       "count  1.203000e+03  \n",
       "mean   1.189434e+08  \n",
       "std    2.655690e+08  \n",
       "min    1.260140e+06  \n",
       "25%    4.203825e+06  \n",
       "50%    6.374590e+06  \n",
       "75%    1.090735e+08  \n",
       "max    2.163850e+09  "
      ]
     },
     "execution_count": 15,
     "metadata": {},
     "output_type": "execute_result"
    }
   ],
   "source": [
    "df.describe()"
   ]
  },
  {
   "cell_type": "markdown",
   "metadata": {},
   "source": [
    "#### The data is clean, no null value and has same format"
   ]
  },
  {
   "cell_type": "markdown",
   "metadata": {},
   "source": [
    "### 3. Data Visualization"
   ]
  },
  {
   "cell_type": "code",
   "execution_count": 16,
   "metadata": {},
   "outputs": [],
   "source": [
    "# Set Date as it's index\n",
    "df.set_index('Date', inplace = True )"
   ]
  },
  {
   "cell_type": "code",
   "execution_count": 18,
   "metadata": {},
   "outputs": [
    {
     "data": {
      "text/plain": [
       "Text(0.5,1,'Date vs Volume')"
      ]
     },
     "execution_count": 18,
     "metadata": {},
     "output_type": "execute_result"
    },
    {
     "data": {
      "image/png": "[encoded data removed]",
      "text/plain": [
       "<Figure size 1800x1800 with 6 Axes>"
      ]
     },
     "metadata": {},
     "output_type": "display_data"
    }
   ],
   "source": [
    "# Visualization the average of Open based on time (Week)\n",
    "import matplotlib.pyplot as plt\n",
    "%matplotlib inline\n",
    "plt.figure(figsize=(25, 25))\n",
    "\n",
    "plt.subplot(3,3,1)\n",
    "plt.ylabel('Open')\n",
    "df.Open.plot()\n",
    "plt.title('Date vs Open')\n",
    "\n",
    "plt.subplot(3,3,2)\n",
    "plt.ylabel('Low')\n",
    "df.Low.plot()\n",
    "plt.title('Date vs Low')\n",
    "\n",
    "plt.subplot(3,3,3)\n",
    "plt.ylabel('High')\n",
    "df.High.plot()\n",
    "plt.title('Date vs High')\n",
    "\n",
    "plt.subplot(3,3,4)\n",
    "plt.ylabel('Close')\n",
    "df.Close.plot()\n",
    "plt.title('Date vs Close')\n",
    "\n",
    "plt.subplot(3,3,5)\n",
    "plt.ylabel('Market Cap')\n",
    "df['Market Cap'].plot()\n",
    "plt.title('Date vs Market Cap')\n",
    "\n",
    "plt.subplot(3,3,6)\n",
    "plt.ylabel('Volume')\n",
    "df['Volume'].plot()\n",
    "plt.title('Date vs Volume')"
   ]
  },
  {
   "cell_type": "code",
   "execution_count": null,
   "metadata": {},
   "outputs": [],
   "source": []
  }
 ],
 "metadata": {
  "kernelspec": {
   "display_name": "Python 3",
   "language": "python",
   "name": "python3"
  },
  "language_info": {
   "codemirror_mode": {
    "name": "ipython",
    "version": 3
   },
   "file_extension": ".py",
   "mimetype": "text/x-python",
   "name": "python",
   "nbconvert_exporter": "python",
   "pygments_lexer": "ipython3",
   "version": "3.6.5"
  }
 },
 "nbformat": 4,
 "nbformat_minor": 2
}
