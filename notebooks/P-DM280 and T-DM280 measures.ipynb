{
 "cells": [
  {
   "cell_type": "markdown",
   "metadata": {},
   "source": [
    "# H-HTU21 and T-HTU21 measures "
   ]
  },
  {
   "cell_type": "code",
   "execution_count": 1,
   "metadata": {},
   "outputs": [],
   "source": [
    "import pandas as pd\n",
    "import numpy as np\n",
    "import json"
   ]
  },
  {
   "cell_type": "code",
   "execution_count": 4,
   "metadata": {},
   "outputs": [],
   "source": [
    "data = []\n",
    "with open('../data/raw/measures/P-DM280-measures.json','r') as f:\n",
    "    for line in f:\n",
    "        data.append(json.loads(line))\n",
    "\n",
    "df = pd.DataFrame(data)"
   ]
  },
  {
   "cell_type": "code",
   "execution_count": 5,
   "metadata": {},
   "outputs": [],
   "source": [
    "data = []\n",
    "with open('../data/raw/measures/T-DM280-measures.json','r') as f:\n",
    "    for line in f:\n",
    "        data.append(json.loads(line))\n",
    "\n",
    "df1 = pd.DataFrame(data)"
   ]
  },
  {
   "cell_type": "code",
   "execution_count": 6,
   "metadata": {},
   "outputs": [
    {
     "data": {
      "text/html": [
       "<div>\n",
       "<style scoped>\n",
       "    .dataframe tbody tr th:only-of-type {\n",
       "        vertical-align: middle;\n",
       "    }\n",
       "\n",
       "    .dataframe tbody tr th {\n",
       "        vertical-align: top;\n",
       "    }\n",
       "\n",
       "    .dataframe thead th {\n",
       "        text-align: right;\n",
       "    }\n",
       "</style>\n",
       "<table border=\"1\" class=\"dataframe\">\n",
       "  <thead>\n",
       "    <tr style=\"text-align: right;\">\n",
       "      <th></th>\n",
       "      <th>sensor</th>\n",
       "      <th>time</th>\n",
       "      <th>value</th>\n",
       "    </tr>\n",
       "  </thead>\n",
       "  <tbody>\n",
       "    <tr>\n",
       "      <th>0</th>\n",
       "      <td>P-DM280</td>\n",
       "      <td>2017-12-22T10:51:32Z</td>\n",
       "      <td>1040.00</td>\n",
       "    </tr>\n",
       "    <tr>\n",
       "      <th>1</th>\n",
       "      <td>P-DM280</td>\n",
       "      <td>2017-12-22T10:51:35Z</td>\n",
       "      <td>1040.00</td>\n",
       "    </tr>\n",
       "    <tr>\n",
       "      <th>2</th>\n",
       "      <td>P-DM280</td>\n",
       "      <td>2017-12-22T10:51:38Z</td>\n",
       "      <td>1039.97</td>\n",
       "    </tr>\n",
       "    <tr>\n",
       "      <th>3</th>\n",
       "      <td>P-DM280</td>\n",
       "      <td>2017-12-22T10:51:41Z</td>\n",
       "      <td>1039.95</td>\n",
       "    </tr>\n",
       "  </tbody>\n",
       "</table>\n",
       "</div>"
      ],
      "text/plain": [
       "    sensor                  time    value\n",
       "0  P-DM280  2017-12-22T10:51:32Z  1040.00\n",
       "1  P-DM280  2017-12-22T10:51:35Z  1040.00\n",
       "2  P-DM280  2017-12-22T10:51:38Z  1039.97\n",
       "3  P-DM280  2017-12-22T10:51:41Z  1039.95"
      ]
     },
     "execution_count": 6,
     "metadata": {},
     "output_type": "execute_result"
    }
   ],
   "source": [
    "df.head()"
   ]
  },
  {
   "cell_type": "code",
   "execution_count": 7,
   "metadata": {},
   "outputs": [
    {
     "data": {
      "text/html": [
       "<div>\n",
       "<style scoped>\n",
       "    .dataframe tbody tr th:only-of-type {\n",
       "        vertical-align: middle;\n",
       "    }\n",
       "\n",
       "    .dataframe tbody tr th {\n",
       "        vertical-align: top;\n",
       "    }\n",
       "\n",
       "    .dataframe thead th {\n",
       "        text-align: right;\n",
       "    }\n",
       "</style>\n",
       "<table border=\"1\" class=\"dataframe\">\n",
       "  <thead>\n",
       "    <tr style=\"text-align: right;\">\n",
       "      <th></th>\n",
       "      <th>sensor</th>\n",
       "      <th>time</th>\n",
       "      <th>value</th>\n",
       "    </tr>\n",
       "  </thead>\n",
       "  <tbody>\n",
       "    <tr>\n",
       "      <th>0</th>\n",
       "      <td>T-DM280</td>\n",
       "      <td>2017-12-22T10:51:31Z</td>\n",
       "      <td>26.43</td>\n",
       "    </tr>\n",
       "    <tr>\n",
       "      <th>1</th>\n",
       "      <td>T-DM280</td>\n",
       "      <td>2017-12-22T10:51:35Z</td>\n",
       "      <td>26.43</td>\n",
       "    </tr>\n",
       "    <tr>\n",
       "      <th>2</th>\n",
       "      <td>T-DM280</td>\n",
       "      <td>2017-12-22T10:51:38Z</td>\n",
       "      <td>26.45</td>\n",
       "    </tr>\n",
       "    <tr>\n",
       "      <th>3</th>\n",
       "      <td>T-DM280</td>\n",
       "      <td>2017-12-22T10:51:41Z</td>\n",
       "      <td>26.45</td>\n",
       "    </tr>\n",
       "  </tbody>\n",
       "</table>\n",
       "</div>"
      ],
      "text/plain": [
       "    sensor                  time  value\n",
       "0  T-DM280  2017-12-22T10:51:31Z  26.43\n",
       "1  T-DM280  2017-12-22T10:51:35Z  26.43\n",
       "2  T-DM280  2017-12-22T10:51:38Z  26.45\n",
       "3  T-DM280  2017-12-22T10:51:41Z  26.45"
      ]
     },
     "execution_count": 7,
     "metadata": {},
     "output_type": "execute_result"
    }
   ],
   "source": [
    "df1.head()"
   ]
  },
  {
   "cell_type": "code",
   "execution_count": 10,
   "metadata": {},
   "outputs": [
    {
     "data": {
      "text/plain": [
       "sensor    4\n",
       "time      4\n",
       "value     4\n",
       "dtype: int64"
      ]
     },
     "execution_count": 10,
     "metadata": {},
     "output_type": "execute_result"
    }
   ],
   "source": [
    "df.count()"
   ]
  },
  {
   "cell_type": "code",
   "execution_count": 11,
   "metadata": {},
   "outputs": [
    {
     "data": {
      "text/plain": [
       "sensor    4\n",
       "time      4\n",
       "value     4\n",
       "dtype: int64"
      ]
     },
     "execution_count": 11,
     "metadata": {},
     "output_type": "execute_result"
    }
   ],
   "source": [
    "df1.count()"
   ]
  },
  {
   "cell_type": "code",
   "execution_count": 12,
   "metadata": {},
   "outputs": [
    {
     "data": {
      "text/plain": [
       "sensor     object\n",
       "time       object\n",
       "value     float64\n",
       "dtype: object"
      ]
     },
     "execution_count": 12,
     "metadata": {},
     "output_type": "execute_result"
    }
   ],
   "source": [
    "df.dtypes"
   ]
  },
  {
   "cell_type": "code",
   "execution_count": 13,
   "metadata": {},
   "outputs": [
    {
     "data": {
      "text/plain": [
       "sensor     object\n",
       "time       object\n",
       "value     float64\n",
       "dtype: object"
      ]
     },
     "execution_count": 13,
     "metadata": {},
     "output_type": "execute_result"
    }
   ],
   "source": [
    "df1.dtypes"
   ]
  },
  {
   "cell_type": "code",
   "execution_count": 14,
   "metadata": {},
   "outputs": [
    {
     "data": {
      "text/plain": [
       "sensor    0\n",
       "time      0\n",
       "value     0\n",
       "dtype: int64"
      ]
     },
     "execution_count": 14,
     "metadata": {},
     "output_type": "execute_result"
    }
   ],
   "source": [
    "df.isnull().sum()"
   ]
  },
  {
   "cell_type": "code",
   "execution_count": 15,
   "metadata": {},
   "outputs": [
    {
     "data": {
      "text/plain": [
       "sensor    0\n",
       "time      0\n",
       "value     0\n",
       "dtype: int64"
      ]
     },
     "execution_count": 15,
     "metadata": {},
     "output_type": "execute_result"
    }
   ],
   "source": [
    "df1.isnull().sum()"
   ]
  },
  {
   "cell_type": "markdown",
   "metadata": {},
   "source": [
    "Convert time column into date time format"
   ]
  },
  {
   "cell_type": "code",
   "execution_count": 16,
   "metadata": {},
   "outputs": [],
   "source": [
    "df['time'] = pd.to_datetime(df['time'])\n",
    "df1['time'] = pd.to_datetime(df1['time'])"
   ]
  },
  {
   "cell_type": "code",
   "execution_count": 17,
   "metadata": {},
   "outputs": [
    {
     "name": "stdout",
     "output_type": "stream",
     "text": [
      "<class 'pandas.core.frame.DataFrame'>\n",
      "RangeIndex: 4 entries, 0 to 3\n",
      "Data columns (total 3 columns):\n",
      "sensor    4 non-null object\n",
      "time      4 non-null datetime64[ns]\n",
      "value     4 non-null float64\n",
      "dtypes: datetime64[ns](1), float64(1), object(1)\n",
      "memory usage: 176.0+ bytes\n"
     ]
    }
   ],
   "source": [
    "df.info()"
   ]
  },
  {
   "cell_type": "code",
   "execution_count": 18,
   "metadata": {},
   "outputs": [
    {
     "name": "stdout",
     "output_type": "stream",
     "text": [
      "<class 'pandas.core.frame.DataFrame'>\n",
      "RangeIndex: 4 entries, 0 to 3\n",
      "Data columns (total 3 columns):\n",
      "sensor    4 non-null object\n",
      "time      4 non-null datetime64[ns]\n",
      "value     4 non-null float64\n",
      "dtypes: datetime64[ns](1), float64(1), object(1)\n",
      "memory usage: 176.0+ bytes\n"
     ]
    }
   ],
   "source": [
    "df1.info()"
   ]
  },
  {
   "cell_type": "markdown",
   "metadata": {},
   "source": [
    "No missing data and different format between data sensor P-DM280-measures and T-DM280-measures"
   ]
  },
  {
   "cell_type": "markdown",
   "metadata": {},
   "source": [
    "T-DM280 measures the temperature and P-DM280 measures the pressure. Here I try to merge the data P-DM280 and T-DM280-measures, because the measurement time is almost the same"
   ]
  },
  {
   "cell_type": "code",
   "execution_count": 19,
   "metadata": {},
   "outputs": [],
   "source": [
    "df.rename(columns={'sensor': 'pressure sensor','value' : 'pressure value'},inplace=True)\n",
    "df1.rename(columns={'sensor': 'temperature sensor','value' : 'temperature value'},inplace=True)"
   ]
  },
  {
   "cell_type": "code",
   "execution_count": 20,
   "metadata": {},
   "outputs": [
    {
     "data": {
      "text/html": [
       "<div>\n",
       "<style scoped>\n",
       "    .dataframe tbody tr th:only-of-type {\n",
       "        vertical-align: middle;\n",
       "    }\n",
       "\n",
       "    .dataframe tbody tr th {\n",
       "        vertical-align: top;\n",
       "    }\n",
       "\n",
       "    .dataframe thead th {\n",
       "        text-align: right;\n",
       "    }\n",
       "</style>\n",
       "<table border=\"1\" class=\"dataframe\">\n",
       "  <thead>\n",
       "    <tr style=\"text-align: right;\">\n",
       "      <th></th>\n",
       "      <th>pressure sensor</th>\n",
       "      <th>time</th>\n",
       "      <th>pressure value</th>\n",
       "    </tr>\n",
       "  </thead>\n",
       "  <tbody>\n",
       "    <tr>\n",
       "      <th>0</th>\n",
       "      <td>P-DM280</td>\n",
       "      <td>2017-12-22 10:51:32</td>\n",
       "      <td>1040.00</td>\n",
       "    </tr>\n",
       "    <tr>\n",
       "      <th>1</th>\n",
       "      <td>P-DM280</td>\n",
       "      <td>2017-12-22 10:51:35</td>\n",
       "      <td>1040.00</td>\n",
       "    </tr>\n",
       "    <tr>\n",
       "      <th>2</th>\n",
       "      <td>P-DM280</td>\n",
       "      <td>2017-12-22 10:51:38</td>\n",
       "      <td>1039.97</td>\n",
       "    </tr>\n",
       "    <tr>\n",
       "      <th>3</th>\n",
       "      <td>P-DM280</td>\n",
       "      <td>2017-12-22 10:51:41</td>\n",
       "      <td>1039.95</td>\n",
       "    </tr>\n",
       "  </tbody>\n",
       "</table>\n",
       "</div>"
      ],
      "text/plain": [
       "  pressure sensor                time  pressure value\n",
       "0         P-DM280 2017-12-22 10:51:32         1040.00\n",
       "1         P-DM280 2017-12-22 10:51:35         1040.00\n",
       "2         P-DM280 2017-12-22 10:51:38         1039.97\n",
       "3         P-DM280 2017-12-22 10:51:41         1039.95"
      ]
     },
     "execution_count": 20,
     "metadata": {},
     "output_type": "execute_result"
    }
   ],
   "source": [
    "df.head()"
   ]
  },
  {
   "cell_type": "code",
   "execution_count": 21,
   "metadata": {},
   "outputs": [
    {
     "data": {
      "text/html": [
       "<div>\n",
       "<style scoped>\n",
       "    .dataframe tbody tr th:only-of-type {\n",
       "        vertical-align: middle;\n",
       "    }\n",
       "\n",
       "    .dataframe tbody tr th {\n",
       "        vertical-align: top;\n",
       "    }\n",
       "\n",
       "    .dataframe thead th {\n",
       "        text-align: right;\n",
       "    }\n",
       "</style>\n",
       "<table border=\"1\" class=\"dataframe\">\n",
       "  <thead>\n",
       "    <tr style=\"text-align: right;\">\n",
       "      <th></th>\n",
       "      <th>temperature sensor</th>\n",
       "      <th>time</th>\n",
       "      <th>temperature value</th>\n",
       "    </tr>\n",
       "  </thead>\n",
       "  <tbody>\n",
       "    <tr>\n",
       "      <th>0</th>\n",
       "      <td>T-DM280</td>\n",
       "      <td>2017-12-22 10:51:31</td>\n",
       "      <td>26.43</td>\n",
       "    </tr>\n",
       "    <tr>\n",
       "      <th>1</th>\n",
       "      <td>T-DM280</td>\n",
       "      <td>2017-12-22 10:51:35</td>\n",
       "      <td>26.43</td>\n",
       "    </tr>\n",
       "    <tr>\n",
       "      <th>2</th>\n",
       "      <td>T-DM280</td>\n",
       "      <td>2017-12-22 10:51:38</td>\n",
       "      <td>26.45</td>\n",
       "    </tr>\n",
       "    <tr>\n",
       "      <th>3</th>\n",
       "      <td>T-DM280</td>\n",
       "      <td>2017-12-22 10:51:41</td>\n",
       "      <td>26.45</td>\n",
       "    </tr>\n",
       "  </tbody>\n",
       "</table>\n",
       "</div>"
      ],
      "text/plain": [
       "  temperature sensor                time  temperature value\n",
       "0            T-DM280 2017-12-22 10:51:31              26.43\n",
       "1            T-DM280 2017-12-22 10:51:35              26.43\n",
       "2            T-DM280 2017-12-22 10:51:38              26.45\n",
       "3            T-DM280 2017-12-22 10:51:41              26.45"
      ]
     },
     "execution_count": 21,
     "metadata": {},
     "output_type": "execute_result"
    }
   ],
   "source": [
    "df1.head()"
   ]
  },
  {
   "cell_type": "code",
   "execution_count": 22,
   "metadata": {},
   "outputs": [],
   "source": [
    "newdf =  pd.merge(df, df1, on='time', how='outer')"
   ]
  },
  {
   "cell_type": "code",
   "execution_count": 23,
   "metadata": {},
   "outputs": [
    {
     "data": {
      "text/html": [
       "<div>\n",
       "<style scoped>\n",
       "    .dataframe tbody tr th:only-of-type {\n",
       "        vertical-align: middle;\n",
       "    }\n",
       "\n",
       "    .dataframe tbody tr th {\n",
       "        vertical-align: top;\n",
       "    }\n",
       "\n",
       "    .dataframe thead th {\n",
       "        text-align: right;\n",
       "    }\n",
       "</style>\n",
       "<table border=\"1\" class=\"dataframe\">\n",
       "  <thead>\n",
       "    <tr style=\"text-align: right;\">\n",
       "      <th></th>\n",
       "      <th>pressure sensor</th>\n",
       "      <th>time</th>\n",
       "      <th>pressure value</th>\n",
       "      <th>temperature sensor</th>\n",
       "      <th>temperature value</th>\n",
       "    </tr>\n",
       "  </thead>\n",
       "  <tbody>\n",
       "    <tr>\n",
       "      <th>0</th>\n",
       "      <td>P-DM280</td>\n",
       "      <td>2017-12-22 10:51:32</td>\n",
       "      <td>1040.00</td>\n",
       "      <td>NaN</td>\n",
       "      <td>NaN</td>\n",
       "    </tr>\n",
       "    <tr>\n",
       "      <th>1</th>\n",
       "      <td>P-DM280</td>\n",
       "      <td>2017-12-22 10:51:35</td>\n",
       "      <td>1040.00</td>\n",
       "      <td>T-DM280</td>\n",
       "      <td>26.43</td>\n",
       "    </tr>\n",
       "    <tr>\n",
       "      <th>2</th>\n",
       "      <td>P-DM280</td>\n",
       "      <td>2017-12-22 10:51:38</td>\n",
       "      <td>1039.97</td>\n",
       "      <td>T-DM280</td>\n",
       "      <td>26.45</td>\n",
       "    </tr>\n",
       "    <tr>\n",
       "      <th>3</th>\n",
       "      <td>P-DM280</td>\n",
       "      <td>2017-12-22 10:51:41</td>\n",
       "      <td>1039.95</td>\n",
       "      <td>T-DM280</td>\n",
       "      <td>26.45</td>\n",
       "    </tr>\n",
       "    <tr>\n",
       "      <th>4</th>\n",
       "      <td>NaN</td>\n",
       "      <td>2017-12-22 10:51:31</td>\n",
       "      <td>NaN</td>\n",
       "      <td>T-DM280</td>\n",
       "      <td>26.43</td>\n",
       "    </tr>\n",
       "  </tbody>\n",
       "</table>\n",
       "</div>"
      ],
      "text/plain": [
       "  pressure sensor                time  pressure value temperature sensor  \\\n",
       "0         P-DM280 2017-12-22 10:51:32         1040.00                NaN   \n",
       "1         P-DM280 2017-12-22 10:51:35         1040.00            T-DM280   \n",
       "2         P-DM280 2017-12-22 10:51:38         1039.97            T-DM280   \n",
       "3         P-DM280 2017-12-22 10:51:41         1039.95            T-DM280   \n",
       "4             NaN 2017-12-22 10:51:31             NaN            T-DM280   \n",
       "\n",
       "   temperature value  \n",
       "0                NaN  \n",
       "1              26.43  \n",
       "2              26.45  \n",
       "3              26.45  \n",
       "4              26.43  "
      ]
     },
     "execution_count": 23,
     "metadata": {},
     "output_type": "execute_result"
    }
   ],
   "source": [
    "newdf.head()"
   ]
  },
  {
   "cell_type": "code",
   "execution_count": 26,
   "metadata": {},
   "outputs": [
    {
     "data": {
      "text/html": [
       "<div>\n",
       "<style scoped>\n",
       "    .dataframe tbody tr th:only-of-type {\n",
       "        vertical-align: middle;\n",
       "    }\n",
       "\n",
       "    .dataframe tbody tr th {\n",
       "        vertical-align: top;\n",
       "    }\n",
       "\n",
       "    .dataframe thead th {\n",
       "        text-align: right;\n",
       "    }\n",
       "</style>\n",
       "<table border=\"1\" class=\"dataframe\">\n",
       "  <thead>\n",
       "    <tr style=\"text-align: right;\">\n",
       "      <th></th>\n",
       "      <th>time</th>\n",
       "      <th>pressure sensor</th>\n",
       "      <th>pressure value</th>\n",
       "      <th>temperature sensor</th>\n",
       "      <th>temperature value</th>\n",
       "    </tr>\n",
       "  </thead>\n",
       "  <tbody>\n",
       "    <tr>\n",
       "      <th>0</th>\n",
       "      <td>2017-12-22 10:51:32</td>\n",
       "      <td>P-DM280</td>\n",
       "      <td>1040.00</td>\n",
       "      <td>NaN</td>\n",
       "      <td>NaN</td>\n",
       "    </tr>\n",
       "    <tr>\n",
       "      <th>1</th>\n",
       "      <td>2017-12-22 10:51:35</td>\n",
       "      <td>P-DM280</td>\n",
       "      <td>1040.00</td>\n",
       "      <td>T-DM280</td>\n",
       "      <td>26.43</td>\n",
       "    </tr>\n",
       "    <tr>\n",
       "      <th>2</th>\n",
       "      <td>2017-12-22 10:51:38</td>\n",
       "      <td>P-DM280</td>\n",
       "      <td>1039.97</td>\n",
       "      <td>T-DM280</td>\n",
       "      <td>26.45</td>\n",
       "    </tr>\n",
       "    <tr>\n",
       "      <th>3</th>\n",
       "      <td>2017-12-22 10:51:41</td>\n",
       "      <td>P-DM280</td>\n",
       "      <td>1039.95</td>\n",
       "      <td>T-DM280</td>\n",
       "      <td>26.45</td>\n",
       "    </tr>\n",
       "    <tr>\n",
       "      <th>4</th>\n",
       "      <td>2017-12-22 10:51:31</td>\n",
       "      <td>NaN</td>\n",
       "      <td>NaN</td>\n",
       "      <td>T-DM280</td>\n",
       "      <td>26.43</td>\n",
       "    </tr>\n",
       "  </tbody>\n",
       "</table>\n",
       "</div>"
      ],
      "text/plain": [
       "                 time pressure sensor  pressure value temperature sensor  \\\n",
       "0 2017-12-22 10:51:32         P-DM280         1040.00                NaN   \n",
       "1 2017-12-22 10:51:35         P-DM280         1040.00            T-DM280   \n",
       "2 2017-12-22 10:51:38         P-DM280         1039.97            T-DM280   \n",
       "3 2017-12-22 10:51:41         P-DM280         1039.95            T-DM280   \n",
       "4 2017-12-22 10:51:31             NaN             NaN            T-DM280   \n",
       "\n",
       "   temperature value  \n",
       "0                NaN  \n",
       "1              26.43  \n",
       "2              26.45  \n",
       "3              26.45  \n",
       "4              26.43  "
      ]
     },
     "execution_count": 26,
     "metadata": {},
     "output_type": "execute_result"
    }
   ],
   "source": [
    "newdf = newdf.reindex(columns=['time','pressure sensor','pressure value','temperature sensor','temperature value'])\n",
    "newdf = newdf[['time','pressure sensor','pressure value','temperature sensor','temperature value']]\n",
    "newdf.head()"
   ]
  },
  {
   "cell_type": "code",
   "execution_count": 27,
   "metadata": {},
   "outputs": [
    {
     "data": {
      "text/plain": [
       "time                  5\n",
       "pressure sensor       4\n",
       "pressure value        4\n",
       "temperature sensor    4\n",
       "temperature value     4\n",
       "dtype: int64"
      ]
     },
     "execution_count": 27,
     "metadata": {},
     "output_type": "execute_result"
    }
   ],
   "source": [
    "newdf.count()"
   ]
  },
  {
   "cell_type": "code",
   "execution_count": 28,
   "metadata": {},
   "outputs": [
    {
     "data": {
      "text/html": [
       "<div>\n",
       "<style scoped>\n",
       "    .dataframe tbody tr th:only-of-type {\n",
       "        vertical-align: middle;\n",
       "    }\n",
       "\n",
       "    .dataframe tbody tr th {\n",
       "        vertical-align: top;\n",
       "    }\n",
       "\n",
       "    .dataframe thead th {\n",
       "        text-align: right;\n",
       "    }\n",
       "</style>\n",
       "<table border=\"1\" class=\"dataframe\">\n",
       "  <thead>\n",
       "    <tr style=\"text-align: right;\">\n",
       "      <th></th>\n",
       "      <th>total</th>\n",
       "      <th>percent</th>\n",
       "    </tr>\n",
       "  </thead>\n",
       "  <tbody>\n",
       "    <tr>\n",
       "      <th>time</th>\n",
       "      <td>0</td>\n",
       "      <td>0.0</td>\n",
       "    </tr>\n",
       "    <tr>\n",
       "      <th>pressure sensor</th>\n",
       "      <td>1</td>\n",
       "      <td>0.2</td>\n",
       "    </tr>\n",
       "    <tr>\n",
       "      <th>pressure value</th>\n",
       "      <td>1</td>\n",
       "      <td>0.2</td>\n",
       "    </tr>\n",
       "    <tr>\n",
       "      <th>temperature sensor</th>\n",
       "      <td>1</td>\n",
       "      <td>0.2</td>\n",
       "    </tr>\n",
       "    <tr>\n",
       "      <th>temperature value</th>\n",
       "      <td>1</td>\n",
       "      <td>0.2</td>\n",
       "    </tr>\n",
       "  </tbody>\n",
       "</table>\n",
       "</div>"
      ],
      "text/plain": [
       "                    total  percent\n",
       "time                    0      0.0\n",
       "pressure sensor         1      0.2\n",
       "pressure value          1      0.2\n",
       "temperature sensor      1      0.2\n",
       "temperature value       1      0.2"
      ]
     },
     "execution_count": 28,
     "metadata": {},
     "output_type": "execute_result"
    }
   ],
   "source": [
    "missingnewdf = pd.DataFrame(newdf.isna().sum()).rename(columns = {0: 'total'})\n",
    "missingnewdf['percent'] = missingnewdf['total'] / len(newdf)\n",
    "missingnewdf"
   ]
  },
  {
   "cell_type": "markdown",
   "metadata": {},
   "source": [
    "After merging the data from P-DM280 and T-DM280 sensor there are many missing data founded. This is maybe because the difference measurement time, so here I will try to interpolate the missing data."
   ]
  },
  {
   "cell_type": "markdown",
   "metadata": {},
   "source": [
    "Fill the NaN value on pressure and temperature value with intepolate data using time"
   ]
  },
  {
   "cell_type": "code",
   "execution_count": 29,
   "metadata": {},
   "outputs": [],
   "source": [
    "newdf.set_index('time',inplace=True)\n",
    "new_df = newdf.interpolate(method=\"time\") "
   ]
  },
  {
   "cell_type": "code",
   "execution_count": 30,
   "metadata": {},
   "outputs": [
    {
     "data": {
      "text/html": [
       "<div>\n",
       "<style scoped>\n",
       "    .dataframe tbody tr th:only-of-type {\n",
       "        vertical-align: middle;\n",
       "    }\n",
       "\n",
       "    .dataframe tbody tr th {\n",
       "        vertical-align: top;\n",
       "    }\n",
       "\n",
       "    .dataframe thead th {\n",
       "        text-align: right;\n",
       "    }\n",
       "</style>\n",
       "<table border=\"1\" class=\"dataframe\">\n",
       "  <thead>\n",
       "    <tr style=\"text-align: right;\">\n",
       "      <th></th>\n",
       "      <th>pressure sensor</th>\n",
       "      <th>pressure value</th>\n",
       "      <th>temperature sensor</th>\n",
       "      <th>temperature value</th>\n",
       "    </tr>\n",
       "    <tr>\n",
       "      <th>time</th>\n",
       "      <th></th>\n",
       "      <th></th>\n",
       "      <th></th>\n",
       "      <th></th>\n",
       "    </tr>\n",
       "  </thead>\n",
       "  <tbody>\n",
       "    <tr>\n",
       "      <th>2017-12-22 10:51:32</th>\n",
       "      <td>P-DM280</td>\n",
       "      <td>1040.00</td>\n",
       "      <td>NaN</td>\n",
       "      <td>NaN</td>\n",
       "    </tr>\n",
       "    <tr>\n",
       "      <th>2017-12-22 10:51:35</th>\n",
       "      <td>P-DM280</td>\n",
       "      <td>1040.00</td>\n",
       "      <td>T-DM280</td>\n",
       "      <td>26.43</td>\n",
       "    </tr>\n",
       "    <tr>\n",
       "      <th>2017-12-22 10:51:38</th>\n",
       "      <td>P-DM280</td>\n",
       "      <td>1039.97</td>\n",
       "      <td>T-DM280</td>\n",
       "      <td>26.45</td>\n",
       "    </tr>\n",
       "    <tr>\n",
       "      <th>2017-12-22 10:51:41</th>\n",
       "      <td>P-DM280</td>\n",
       "      <td>1039.95</td>\n",
       "      <td>T-DM280</td>\n",
       "      <td>26.45</td>\n",
       "    </tr>\n",
       "    <tr>\n",
       "      <th>2017-12-22 10:51:31</th>\n",
       "      <td>NaN</td>\n",
       "      <td>1040.00</td>\n",
       "      <td>T-DM280</td>\n",
       "      <td>26.43</td>\n",
       "    </tr>\n",
       "  </tbody>\n",
       "</table>\n",
       "</div>"
      ],
      "text/plain": [
       "                    pressure sensor  pressure value temperature sensor  \\\n",
       "time                                                                     \n",
       "2017-12-22 10:51:32         P-DM280         1040.00                NaN   \n",
       "2017-12-22 10:51:35         P-DM280         1040.00            T-DM280   \n",
       "2017-12-22 10:51:38         P-DM280         1039.97            T-DM280   \n",
       "2017-12-22 10:51:41         P-DM280         1039.95            T-DM280   \n",
       "2017-12-22 10:51:31             NaN         1040.00            T-DM280   \n",
       "\n",
       "                     temperature value  \n",
       "time                                    \n",
       "2017-12-22 10:51:32                NaN  \n",
       "2017-12-22 10:51:35              26.43  \n",
       "2017-12-22 10:51:38              26.45  \n",
       "2017-12-22 10:51:41              26.45  \n",
       "2017-12-22 10:51:31              26.43  "
      ]
     },
     "execution_count": 30,
     "metadata": {},
     "output_type": "execute_result"
    }
   ],
   "source": [
    "new_df.tail()"
   ]
  },
  {
   "cell_type": "markdown",
   "metadata": {},
   "source": [
    "There are several data that is NaN, so let's try another method of fill"
   ]
  },
  {
   "cell_type": "code",
   "execution_count": 31,
   "metadata": {},
   "outputs": [
    {
     "data": {
      "text/html": [
       "<div>\n",
       "<style scoped>\n",
       "    .dataframe tbody tr th:only-of-type {\n",
       "        vertical-align: middle;\n",
       "    }\n",
       "\n",
       "    .dataframe tbody tr th {\n",
       "        vertical-align: top;\n",
       "    }\n",
       "\n",
       "    .dataframe thead th {\n",
       "        text-align: right;\n",
       "    }\n",
       "</style>\n",
       "<table border=\"1\" class=\"dataframe\">\n",
       "  <thead>\n",
       "    <tr style=\"text-align: right;\">\n",
       "      <th></th>\n",
       "      <th>pressure sensor</th>\n",
       "      <th>pressure value</th>\n",
       "      <th>temperature sensor</th>\n",
       "      <th>temperature value</th>\n",
       "    </tr>\n",
       "    <tr>\n",
       "      <th>time</th>\n",
       "      <th></th>\n",
       "      <th></th>\n",
       "      <th></th>\n",
       "      <th></th>\n",
       "    </tr>\n",
       "  </thead>\n",
       "  <tbody>\n",
       "    <tr>\n",
       "      <th>2017-12-22 10:51:32</th>\n",
       "      <td>P-DM280</td>\n",
       "      <td>1040.00</td>\n",
       "      <td>T-DM280</td>\n",
       "      <td>26.43</td>\n",
       "    </tr>\n",
       "    <tr>\n",
       "      <th>2017-12-22 10:51:35</th>\n",
       "      <td>P-DM280</td>\n",
       "      <td>1040.00</td>\n",
       "      <td>T-DM280</td>\n",
       "      <td>26.43</td>\n",
       "    </tr>\n",
       "    <tr>\n",
       "      <th>2017-12-22 10:51:38</th>\n",
       "      <td>P-DM280</td>\n",
       "      <td>1039.97</td>\n",
       "      <td>T-DM280</td>\n",
       "      <td>26.45</td>\n",
       "    </tr>\n",
       "    <tr>\n",
       "      <th>2017-12-22 10:51:41</th>\n",
       "      <td>P-DM280</td>\n",
       "      <td>1039.95</td>\n",
       "      <td>T-DM280</td>\n",
       "      <td>26.45</td>\n",
       "    </tr>\n",
       "    <tr>\n",
       "      <th>2017-12-22 10:51:31</th>\n",
       "      <td>NaN</td>\n",
       "      <td>1040.00</td>\n",
       "      <td>T-DM280</td>\n",
       "      <td>26.43</td>\n",
       "    </tr>\n",
       "  </tbody>\n",
       "</table>\n",
       "</div>"
      ],
      "text/plain": [
       "                    pressure sensor  pressure value temperature sensor  \\\n",
       "time                                                                     \n",
       "2017-12-22 10:51:32         P-DM280         1040.00            T-DM280   \n",
       "2017-12-22 10:51:35         P-DM280         1040.00            T-DM280   \n",
       "2017-12-22 10:51:38         P-DM280         1039.97            T-DM280   \n",
       "2017-12-22 10:51:41         P-DM280         1039.95            T-DM280   \n",
       "2017-12-22 10:51:31             NaN         1040.00            T-DM280   \n",
       "\n",
       "                     temperature value  \n",
       "time                                    \n",
       "2017-12-22 10:51:32              26.43  \n",
       "2017-12-22 10:51:35              26.43  \n",
       "2017-12-22 10:51:38              26.45  \n",
       "2017-12-22 10:51:41              26.45  \n",
       "2017-12-22 10:51:31              26.43  "
      ]
     },
     "execution_count": 31,
     "metadata": {},
     "output_type": "execute_result"
    }
   ],
   "source": [
    "new_df1 = new_df.fillna(method=\"bfill\")\n",
    "new_df1.tail()"
   ]
  },
  {
   "cell_type": "code",
   "execution_count": 35,
   "metadata": {},
   "outputs": [
    {
     "data": {
      "text/html": [
       "<div>\n",
       "<style scoped>\n",
       "    .dataframe tbody tr th:only-of-type {\n",
       "        vertical-align: middle;\n",
       "    }\n",
       "\n",
       "    .dataframe tbody tr th {\n",
       "        vertical-align: top;\n",
       "    }\n",
       "\n",
       "    .dataframe thead th {\n",
       "        text-align: right;\n",
       "    }\n",
       "</style>\n",
       "<table border=\"1\" class=\"dataframe\">\n",
       "  <thead>\n",
       "    <tr style=\"text-align: right;\">\n",
       "      <th></th>\n",
       "      <th>pressure sensor</th>\n",
       "      <th>pressure value</th>\n",
       "      <th>temperature sensor</th>\n",
       "      <th>temperature value</th>\n",
       "    </tr>\n",
       "    <tr>\n",
       "      <th>time</th>\n",
       "      <th></th>\n",
       "      <th></th>\n",
       "      <th></th>\n",
       "      <th></th>\n",
       "    </tr>\n",
       "  </thead>\n",
       "  <tbody>\n",
       "    <tr>\n",
       "      <th>2017-12-22 10:51:32</th>\n",
       "      <td>P-DM280</td>\n",
       "      <td>1040.00</td>\n",
       "      <td>T-DM280</td>\n",
       "      <td>26.43</td>\n",
       "    </tr>\n",
       "    <tr>\n",
       "      <th>2017-12-22 10:51:35</th>\n",
       "      <td>P-DM280</td>\n",
       "      <td>1040.00</td>\n",
       "      <td>T-DM280</td>\n",
       "      <td>26.43</td>\n",
       "    </tr>\n",
       "    <tr>\n",
       "      <th>2017-12-22 10:51:38</th>\n",
       "      <td>P-DM280</td>\n",
       "      <td>1039.97</td>\n",
       "      <td>T-DM280</td>\n",
       "      <td>26.45</td>\n",
       "    </tr>\n",
       "    <tr>\n",
       "      <th>2017-12-22 10:51:41</th>\n",
       "      <td>P-DM280</td>\n",
       "      <td>1039.95</td>\n",
       "      <td>T-DM280</td>\n",
       "      <td>26.45</td>\n",
       "    </tr>\n",
       "    <tr>\n",
       "      <th>2017-12-22 10:51:31</th>\n",
       "      <td>P-DM280</td>\n",
       "      <td>1040.00</td>\n",
       "      <td>T-DM280</td>\n",
       "      <td>26.43</td>\n",
       "    </tr>\n",
       "  </tbody>\n",
       "</table>\n",
       "</div>"
      ],
      "text/plain": [
       "                    pressure sensor  pressure value temperature sensor  \\\n",
       "time                                                                     \n",
       "2017-12-22 10:51:32         P-DM280         1040.00            T-DM280   \n",
       "2017-12-22 10:51:35         P-DM280         1040.00            T-DM280   \n",
       "2017-12-22 10:51:38         P-DM280         1039.97            T-DM280   \n",
       "2017-12-22 10:51:41         P-DM280         1039.95            T-DM280   \n",
       "2017-12-22 10:51:31         P-DM280         1040.00            T-DM280   \n",
       "\n",
       "                     temperature value  \n",
       "time                                    \n",
       "2017-12-22 10:51:32              26.43  \n",
       "2017-12-22 10:51:35              26.43  \n",
       "2017-12-22 10:51:38              26.45  \n",
       "2017-12-22 10:51:41              26.45  \n",
       "2017-12-22 10:51:31              26.43  "
      ]
     },
     "execution_count": 35,
     "metadata": {},
     "output_type": "execute_result"
    }
   ],
   "source": [
    "new_df2 = new_df1.fillna(method=\"ffill\")\n",
    "new_df2.tail()"
   ]
  },
  {
   "cell_type": "code",
   "execution_count": 36,
   "metadata": {},
   "outputs": [
    {
     "data": {
      "text/plain": [
       "pressure sensor       5\n",
       "pressure value        5\n",
       "temperature sensor    5\n",
       "temperature value     5\n",
       "dtype: int64"
      ]
     },
     "execution_count": 36,
     "metadata": {},
     "output_type": "execute_result"
    }
   ],
   "source": [
    "new_df2.count()"
   ]
  },
  {
   "cell_type": "markdown",
   "metadata": {},
   "source": [
    "After interpolate the data no more missing value and I assume the data is clean"
   ]
  },
  {
   "cell_type": "code",
   "execution_count": null,
   "metadata": {},
   "outputs": [],
   "source": []
  }
 ],
 "metadata": {
  "kernelspec": {
   "display_name": "Python 3",
   "language": "python",
   "name": "python3"
  },
  "language_info": {
   "codemirror_mode": {
    "name": "ipython",
    "version": 3
   },
   "file_extension": ".py",
   "mimetype": "text/x-python",
   "name": "python",
   "nbconvert_exporter": "python",
   "pygments_lexer": "ipython3",
   "version": "3.6.5"
  }
 },
 "nbformat": 4,
 "nbformat_minor": 2
}
