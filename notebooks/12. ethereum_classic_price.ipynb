{
 "cells": [
  {
   "cell_type": "markdown",
   "metadata": {},
   "source": [
    "# Ethereum Classic Price"
   ]
  },
  {
   "cell_type": "markdown",
   "metadata": {},
   "source": [
    "by: Widya Meiriska"
   ]
  },
  {
   "cell_type": "markdown",
   "metadata": {},
   "source": [
    "### 1. Read Dataset"
   ]
  },
  {
   "cell_type": "code",
   "execution_count": 6,
   "metadata": {},
   "outputs": [],
   "source": [
    "import csv\n",
    "import pandas as pd\n",
    "import numpy as np"
   ]
  },
  {
   "cell_type": "code",
   "execution_count": 7,
   "metadata": {},
   "outputs": [],
   "source": [
    "df = pd.read_csv('../data/raw/bitcoin/ethereum_classic_price.csv', parse_dates = ['Date'])"
   ]
  },
  {
   "cell_type": "code",
   "execution_count": 8,
   "metadata": {},
   "outputs": [
    {
     "data": {
      "text/html": [
       "<div>\n",
       "<style scoped>\n",
       "    .dataframe tbody tr th:only-of-type {\n",
       "        vertical-align: middle;\n",
       "    }\n",
       "\n",
       "    .dataframe tbody tr th {\n",
       "        vertical-align: top;\n",
       "    }\n",
       "\n",
       "    .dataframe thead th {\n",
       "        text-align: right;\n",
       "    }\n",
       "</style>\n",
       "<table border=\"1\" class=\"dataframe\">\n",
       "  <thead>\n",
       "    <tr style=\"text-align: right;\">\n",
       "      <th></th>\n",
       "      <th>Date</th>\n",
       "      <th>Open</th>\n",
       "      <th>High</th>\n",
       "      <th>Low</th>\n",
       "      <th>Close</th>\n",
       "      <th>Volume</th>\n",
       "      <th>Market Cap</th>\n",
       "    </tr>\n",
       "  </thead>\n",
       "  <tbody>\n",
       "    <tr>\n",
       "      <th>404</th>\n",
       "      <td>2016-07-28</td>\n",
       "      <td>1.560000</td>\n",
       "      <td>1.920000</td>\n",
       "      <td>1.370000</td>\n",
       "      <td>1.730000</td>\n",
       "      <td>40,291,300</td>\n",
       "      <td>128,530,000</td>\n",
       "    </tr>\n",
       "    <tr>\n",
       "      <th>405</th>\n",
       "      <td>2016-07-27</td>\n",
       "      <td>2.460000</td>\n",
       "      <td>2.460000</td>\n",
       "      <td>1.260000</td>\n",
       "      <td>1.600000</td>\n",
       "      <td>62,645,700</td>\n",
       "      <td>202,315,000</td>\n",
       "    </tr>\n",
       "    <tr>\n",
       "      <th>406</th>\n",
       "      <td>2016-07-26</td>\n",
       "      <td>0.604737</td>\n",
       "      <td>2.850000</td>\n",
       "      <td>0.600358</td>\n",
       "      <td>2.550000</td>\n",
       "      <td>103,066,000</td>\n",
       "      <td>49,768,300</td>\n",
       "    </tr>\n",
       "    <tr>\n",
       "      <th>407</th>\n",
       "      <td>2016-07-25</td>\n",
       "      <td>0.931993</td>\n",
       "      <td>0.932862</td>\n",
       "      <td>0.452446</td>\n",
       "      <td>0.602402</td>\n",
       "      <td>9,308,400</td>\n",
       "      <td>76,700,600</td>\n",
       "    </tr>\n",
       "    <tr>\n",
       "      <th>408</th>\n",
       "      <td>2016-07-24</td>\n",
       "      <td>0.752345</td>\n",
       "      <td>0.959354</td>\n",
       "      <td>0.737342</td>\n",
       "      <td>0.928814</td>\n",
       "      <td>17,769,300</td>\n",
       "      <td>-</td>\n",
       "    </tr>\n",
       "  </tbody>\n",
       "</table>\n",
       "</div>"
      ],
      "text/plain": [
       "          Date      Open      High       Low     Close       Volume  \\\n",
       "404 2016-07-28  1.560000  1.920000  1.370000  1.730000   40,291,300   \n",
       "405 2016-07-27  2.460000  2.460000  1.260000  1.600000   62,645,700   \n",
       "406 2016-07-26  0.604737  2.850000  0.600358  2.550000  103,066,000   \n",
       "407 2016-07-25  0.931993  0.932862  0.452446  0.602402    9,308,400   \n",
       "408 2016-07-24  0.752345  0.959354  0.737342  0.928814   17,769,300   \n",
       "\n",
       "      Market Cap  \n",
       "404  128,530,000  \n",
       "405  202,315,000  \n",
       "406   49,768,300  \n",
       "407   76,700,600  \n",
       "408            -  "
      ]
     },
     "execution_count": 8,
     "metadata": {},
     "output_type": "execute_result"
    }
   ],
   "source": [
    "df.tail()"
   ]
  },
  {
   "cell_type": "markdown",
   "metadata": {},
   "source": [
    "### 2. Data Investigation"
   ]
  },
  {
   "cell_type": "code",
   "execution_count": 9,
   "metadata": {},
   "outputs": [
    {
     "data": {
      "text/plain": [
       "Index(['Date', 'Open', 'High', 'Low', 'Close', 'Volume', 'Market Cap'], dtype='object')"
      ]
     },
     "execution_count": 9,
     "metadata": {},
     "output_type": "execute_result"
    }
   ],
   "source": [
    "df.columns"
   ]
  },
  {
   "cell_type": "code",
   "execution_count": 10,
   "metadata": {},
   "outputs": [
    {
     "data": {
      "text/plain": [
       "Date          409\n",
       "Open          409\n",
       "High          409\n",
       "Low           409\n",
       "Close         409\n",
       "Volume        409\n",
       "Market Cap    409\n",
       "dtype: int64"
      ]
     },
     "execution_count": 10,
     "metadata": {},
     "output_type": "execute_result"
    }
   ],
   "source": [
    "df.count()"
   ]
  },
  {
   "cell_type": "code",
   "execution_count": 11,
   "metadata": {},
   "outputs": [
    {
     "data": {
      "text/plain": [
       "Date          datetime64[ns]\n",
       "Open                 float64\n",
       "High                 float64\n",
       "Low                  float64\n",
       "Close                float64\n",
       "Volume                object\n",
       "Market Cap            object\n",
       "dtype: object"
      ]
     },
     "execution_count": 11,
     "metadata": {},
     "output_type": "execute_result"
    }
   ],
   "source": [
    "df.dtypes"
   ]
  },
  {
   "cell_type": "markdown",
   "metadata": {},
   "source": [
    "#### There is a missing data here and there are several data which have different format. Some of the data do not use number format"
   ]
  },
  {
   "cell_type": "code",
   "execution_count": 12,
   "metadata": {},
   "outputs": [],
   "source": [
    "# Change object to format number, and replace '-' to 'NaN'\n",
    "df['Volume'] = df['Volume'].apply(lambda x: float(str(x).replace(',',''))) \n",
    "df['Market Cap'] = df['Market Cap'].replace('-', 'NaN')\n",
    "df['Market Cap'] = df['Market Cap'].apply(lambda x: float(str(x).replace(',',''))) "
   ]
  },
  {
   "cell_type": "code",
   "execution_count": 13,
   "metadata": {},
   "outputs": [
    {
     "data": {
      "text/html": [
       "<div>\n",
       "<style scoped>\n",
       "    .dataframe tbody tr th:only-of-type {\n",
       "        vertical-align: middle;\n",
       "    }\n",
       "\n",
       "    .dataframe tbody tr th {\n",
       "        vertical-align: top;\n",
       "    }\n",
       "\n",
       "    .dataframe thead th {\n",
       "        text-align: right;\n",
       "    }\n",
       "</style>\n",
       "<table border=\"1\" class=\"dataframe\">\n",
       "  <thead>\n",
       "    <tr style=\"text-align: right;\">\n",
       "      <th></th>\n",
       "      <th>Date</th>\n",
       "      <th>Open</th>\n",
       "      <th>High</th>\n",
       "      <th>Low</th>\n",
       "      <th>Close</th>\n",
       "      <th>Volume</th>\n",
       "      <th>Market Cap</th>\n",
       "    </tr>\n",
       "  </thead>\n",
       "  <tbody>\n",
       "    <tr>\n",
       "      <th>404</th>\n",
       "      <td>2016-07-28</td>\n",
       "      <td>1.560000</td>\n",
       "      <td>1.920000</td>\n",
       "      <td>1.370000</td>\n",
       "      <td>1.730000</td>\n",
       "      <td>40291300.0</td>\n",
       "      <td>128530000.0</td>\n",
       "    </tr>\n",
       "    <tr>\n",
       "      <th>405</th>\n",
       "      <td>2016-07-27</td>\n",
       "      <td>2.460000</td>\n",
       "      <td>2.460000</td>\n",
       "      <td>1.260000</td>\n",
       "      <td>1.600000</td>\n",
       "      <td>62645700.0</td>\n",
       "      <td>202315000.0</td>\n",
       "    </tr>\n",
       "    <tr>\n",
       "      <th>406</th>\n",
       "      <td>2016-07-26</td>\n",
       "      <td>0.604737</td>\n",
       "      <td>2.850000</td>\n",
       "      <td>0.600358</td>\n",
       "      <td>2.550000</td>\n",
       "      <td>103066000.0</td>\n",
       "      <td>49768300.0</td>\n",
       "    </tr>\n",
       "    <tr>\n",
       "      <th>407</th>\n",
       "      <td>2016-07-25</td>\n",
       "      <td>0.931993</td>\n",
       "      <td>0.932862</td>\n",
       "      <td>0.452446</td>\n",
       "      <td>0.602402</td>\n",
       "      <td>9308400.0</td>\n",
       "      <td>76700600.0</td>\n",
       "    </tr>\n",
       "    <tr>\n",
       "      <th>408</th>\n",
       "      <td>2016-07-24</td>\n",
       "      <td>0.752345</td>\n",
       "      <td>0.959354</td>\n",
       "      <td>0.737342</td>\n",
       "      <td>0.928814</td>\n",
       "      <td>17769300.0</td>\n",
       "      <td>NaN</td>\n",
       "    </tr>\n",
       "  </tbody>\n",
       "</table>\n",
       "</div>"
      ],
      "text/plain": [
       "          Date      Open      High       Low     Close       Volume  \\\n",
       "404 2016-07-28  1.560000  1.920000  1.370000  1.730000   40291300.0   \n",
       "405 2016-07-27  2.460000  2.460000  1.260000  1.600000   62645700.0   \n",
       "406 2016-07-26  0.604737  2.850000  0.600358  2.550000  103066000.0   \n",
       "407 2016-07-25  0.931993  0.932862  0.452446  0.602402    9308400.0   \n",
       "408 2016-07-24  0.752345  0.959354  0.737342  0.928814   17769300.0   \n",
       "\n",
       "      Market Cap  \n",
       "404  128530000.0  \n",
       "405  202315000.0  \n",
       "406   49768300.0  \n",
       "407   76700600.0  \n",
       "408          NaN  "
      ]
     },
     "execution_count": 13,
     "metadata": {},
     "output_type": "execute_result"
    }
   ],
   "source": [
    "df.tail()"
   ]
  },
  {
   "cell_type": "code",
   "execution_count": 14,
   "metadata": {},
   "outputs": [
    {
     "data": {
      "text/plain": [
       "Date          409\n",
       "Open          409\n",
       "High          409\n",
       "Low           409\n",
       "Close         409\n",
       "Volume        409\n",
       "Market Cap    408\n",
       "dtype: int64"
      ]
     },
     "execution_count": 14,
     "metadata": {},
     "output_type": "execute_result"
    }
   ],
   "source": [
    "df.count()"
   ]
  },
  {
   "cell_type": "code",
   "execution_count": 20,
   "metadata": {},
   "outputs": [
    {
     "data": {
      "text/html": [
       "<div>\n",
       "<style scoped>\n",
       "    .dataframe tbody tr th:only-of-type {\n",
       "        vertical-align: middle;\n",
       "    }\n",
       "\n",
       "    .dataframe tbody tr th {\n",
       "        vertical-align: top;\n",
       "    }\n",
       "\n",
       "    .dataframe thead th {\n",
       "        text-align: right;\n",
       "    }\n",
       "</style>\n",
       "<table border=\"1\" class=\"dataframe\">\n",
       "  <thead>\n",
       "    <tr style=\"text-align: right;\">\n",
       "      <th></th>\n",
       "      <th>total</th>\n",
       "      <th>percent</th>\n",
       "    </tr>\n",
       "  </thead>\n",
       "  <tbody>\n",
       "    <tr>\n",
       "      <th>Date</th>\n",
       "      <td>0</td>\n",
       "      <td>0.000000</td>\n",
       "    </tr>\n",
       "    <tr>\n",
       "      <th>Open</th>\n",
       "      <td>0</td>\n",
       "      <td>0.000000</td>\n",
       "    </tr>\n",
       "    <tr>\n",
       "      <th>High</th>\n",
       "      <td>0</td>\n",
       "      <td>0.000000</td>\n",
       "    </tr>\n",
       "    <tr>\n",
       "      <th>Low</th>\n",
       "      <td>0</td>\n",
       "      <td>0.000000</td>\n",
       "    </tr>\n",
       "    <tr>\n",
       "      <th>Close</th>\n",
       "      <td>0</td>\n",
       "      <td>0.000000</td>\n",
       "    </tr>\n",
       "    <tr>\n",
       "      <th>Volume</th>\n",
       "      <td>0</td>\n",
       "      <td>0.000000</td>\n",
       "    </tr>\n",
       "    <tr>\n",
       "      <th>Market Cap</th>\n",
       "      <td>1</td>\n",
       "      <td>0.002445</td>\n",
       "    </tr>\n",
       "  </tbody>\n",
       "</table>\n",
       "</div>"
      ],
      "text/plain": [
       "            total   percent\n",
       "Date            0  0.000000\n",
       "Open            0  0.000000\n",
       "High            0  0.000000\n",
       "Low             0  0.000000\n",
       "Close           0  0.000000\n",
       "Volume          0  0.000000\n",
       "Market Cap      1  0.002445"
      ]
     },
     "execution_count": 20,
     "metadata": {},
     "output_type": "execute_result"
    }
   ],
   "source": [
    "missingdf = pd.DataFrame(df.isna().sum()).rename(columns = {0: 'total'})\n",
    "missingdf['percent'] = missingdf['total'] / len(df)\n",
    "missingdf"
   ]
  },
  {
   "cell_type": "markdown",
   "metadata": {},
   "source": [
    "I try to fill in the missing value by interpolated the data"
   ]
  },
  {
   "cell_type": "code",
   "execution_count": 16,
   "metadata": {},
   "outputs": [
    {
     "data": {
      "text/plain": [
       "Open          0.999885\n",
       "High          0.994373\n",
       "Low           0.997050\n",
       "Close         0.993213\n",
       "Volume        0.685504\n",
       "Market Cap    1.000000\n",
       "Name: Market Cap, dtype: float64"
      ]
     },
     "execution_count": 16,
     "metadata": {},
     "output_type": "execute_result"
    }
   ],
   "source": [
    "# Lets see the correlation between each column\n",
    "correlation = df.corr(method=\"pearson\")\n",
    "correlation['Market Cap']"
   ]
  },
  {
   "cell_type": "code",
   "execution_count": 18,
   "metadata": {},
   "outputs": [
    {
     "data": {
      "text/plain": [
       "<function matplotlib.pyplot.show(*args, **kw)>"
      ]
     },
     "execution_count": 18,
     "metadata": {},
     "output_type": "execute_result"
    },
    {
     "data": {
      "image/png": "[encoded data removed]",
      "text/plain": [
       "<Figure size 1800x1800 with 1 Axes>"
      ]
     },
     "metadata": {},
     "output_type": "display_data"
    }
   ],
   "source": [
    "#Plot data to see the relation between each column\n",
    "import matplotlib.pyplot as plt\n",
    "plt.figure(figsize=(25, 25))\n",
    "O = df['Open']\n",
    "MC = df['Market Cap']\n",
    "plt.subplot(5,5,5)\n",
    "plt.scatter(MC, O)\n",
    "plt.title('Open vs Market Cap')\n",
    "\n",
    "plt.show"
   ]
  },
  {
   "cell_type": "markdown",
   "metadata": {},
   "source": [
    "To fill the NaN value I try to interpolate the data using linear method using value from Open column. Because from the information above we can see that Market Cap has the closest correlation with Open."
   ]
  },
  {
   "cell_type": "code",
   "execution_count": 19,
   "metadata": {},
   "outputs": [
    {
     "name": "stdout",
     "output_type": "stream",
     "text": [
      "<class 'pandas.core.frame.DataFrame'>\n",
      "RangeIndex: 409 entries, 0 to 408\n",
      "Data columns (total 7 columns):\n",
      "Date          409 non-null datetime64[ns]\n",
      "Open          409 non-null float64\n",
      "High          409 non-null float64\n",
      "Low           409 non-null float64\n",
      "Close         409 non-null float64\n",
      "Volume        409 non-null float64\n",
      "Market Cap    408 non-null float64\n",
      "dtypes: datetime64[ns](1), float64(6)\n",
      "memory usage: 22.4 KB\n"
     ]
    }
   ],
   "source": [
    "df.info()"
   ]
  },
  {
   "cell_type": "code",
   "execution_count": 22,
   "metadata": {},
   "outputs": [],
   "source": [
    "from sklearn import linear_model\n",
    "\n",
    "model = linear_model.LinearRegression()\n",
    "Open  = df[['Open']].iloc[0:407]\n",
    "Market_Cap = df['Market Cap'].iloc[0:407]"
   ]
  },
  {
   "cell_type": "code",
   "execution_count": 23,
   "metadata": {},
   "outputs": [
    {
     "data": {
      "text/plain": [
       "LinearRegression(copy_X=True, fit_intercept=True, n_jobs=1, normalize=False)"
      ]
     },
     "execution_count": 23,
     "metadata": {},
     "output_type": "execute_result"
    }
   ],
   "source": [
    "#Train model \n",
    "model.fit(Open, Market_Cap)"
   ]
  },
  {
   "cell_type": "code",
   "execution_count": 24,
   "metadata": {},
   "outputs": [
    {
     "data": {
      "text/plain": [
       "0.99976948194746"
      ]
     },
     "execution_count": 24,
     "metadata": {},
     "output_type": "execute_result"
    }
   ],
   "source": [
    "#The model score almost 1 so that indicate the model is near to the truth\n",
    "model.score(Open, Market_Cap)"
   ]
  },
  {
   "cell_type": "markdown",
   "metadata": {},
   "source": [
    "Here I make a new column Market Cap Predict which contains Market Cap with no NaN value"
   ]
  },
  {
   "cell_type": "code",
   "execution_count": 25,
   "metadata": {},
   "outputs": [
    {
     "data": {
      "text/html": [
       "<div>\n",
       "<style scoped>\n",
       "    .dataframe tbody tr th:only-of-type {\n",
       "        vertical-align: middle;\n",
       "    }\n",
       "\n",
       "    .dataframe tbody tr th {\n",
       "        vertical-align: top;\n",
       "    }\n",
       "\n",
       "    .dataframe thead th {\n",
       "        text-align: right;\n",
       "    }\n",
       "</style>\n",
       "<table border=\"1\" class=\"dataframe\">\n",
       "  <thead>\n",
       "    <tr style=\"text-align: right;\">\n",
       "      <th></th>\n",
       "      <th>Date</th>\n",
       "      <th>Open</th>\n",
       "      <th>High</th>\n",
       "      <th>Low</th>\n",
       "      <th>Close</th>\n",
       "      <th>Volume</th>\n",
       "      <th>Market Cap</th>\n",
       "      <th>Market Cap Predict</th>\n",
       "    </tr>\n",
       "  </thead>\n",
       "  <tbody>\n",
       "    <tr>\n",
       "      <th>404</th>\n",
       "      <td>2016-07-28</td>\n",
       "      <td>1.560000</td>\n",
       "      <td>1.920000</td>\n",
       "      <td>1.370000</td>\n",
       "      <td>1.730000</td>\n",
       "      <td>40291300.0</td>\n",
       "      <td>128530000.0</td>\n",
       "      <td>1.365646e+08</td>\n",
       "    </tr>\n",
       "    <tr>\n",
       "      <th>405</th>\n",
       "      <td>2016-07-27</td>\n",
       "      <td>2.460000</td>\n",
       "      <td>2.460000</td>\n",
       "      <td>1.260000</td>\n",
       "      <td>1.600000</td>\n",
       "      <td>62645700.0</td>\n",
       "      <td>202315000.0</td>\n",
       "      <td>2.211221e+08</td>\n",
       "    </tr>\n",
       "    <tr>\n",
       "      <th>406</th>\n",
       "      <td>2016-07-26</td>\n",
       "      <td>0.604737</td>\n",
       "      <td>2.850000</td>\n",
       "      <td>0.600358</td>\n",
       "      <td>2.550000</td>\n",
       "      <td>103066000.0</td>\n",
       "      <td>49768300.0</td>\n",
       "      <td>4.681504e+07</td>\n",
       "    </tr>\n",
       "    <tr>\n",
       "      <th>407</th>\n",
       "      <td>2016-07-25</td>\n",
       "      <td>0.931993</td>\n",
       "      <td>0.932862</td>\n",
       "      <td>0.452446</td>\n",
       "      <td>0.602402</td>\n",
       "      <td>9308400.0</td>\n",
       "      <td>76700600.0</td>\n",
       "      <td>7.756163e+07</td>\n",
       "    </tr>\n",
       "    <tr>\n",
       "      <th>408</th>\n",
       "      <td>2016-07-24</td>\n",
       "      <td>0.752345</td>\n",
       "      <td>0.959354</td>\n",
       "      <td>0.737342</td>\n",
       "      <td>0.928814</td>\n",
       "      <td>17769300.0</td>\n",
       "      <td>NaN</td>\n",
       "      <td>6.068322e+07</td>\n",
       "    </tr>\n",
       "  </tbody>\n",
       "</table>\n",
       "</div>"
      ],
      "text/plain": [
       "          Date      Open      High       Low     Close       Volume  \\\n",
       "404 2016-07-28  1.560000  1.920000  1.370000  1.730000   40291300.0   \n",
       "405 2016-07-27  2.460000  2.460000  1.260000  1.600000   62645700.0   \n",
       "406 2016-07-26  0.604737  2.850000  0.600358  2.550000  103066000.0   \n",
       "407 2016-07-25  0.931993  0.932862  0.452446  0.602402    9308400.0   \n",
       "408 2016-07-24  0.752345  0.959354  0.737342  0.928814   17769300.0   \n",
       "\n",
       "      Market Cap  Market Cap Predict  \n",
       "404  128530000.0        1.365646e+08  \n",
       "405  202315000.0        2.211221e+08  \n",
       "406   49768300.0        4.681504e+07  \n",
       "407   76700600.0        7.756163e+07  \n",
       "408          NaN        6.068322e+07  "
      ]
     },
     "execution_count": 25,
     "metadata": {},
     "output_type": "execute_result"
    }
   ],
   "source": [
    "#Add a new column which is filled the missing data from model fit\n",
    "open = df[['Open']]\n",
    "Market_Cap_Predict = model.predict(open)\n",
    "df['Market Cap Predict'] = Market_Cap_Predict\n",
    "df.tail()"
   ]
  },
  {
   "cell_type": "code",
   "execution_count": 26,
   "metadata": {},
   "outputs": [
    {
     "data": {
      "text/plain": [
       "Date                  409\n",
       "Open                  409\n",
       "High                  409\n",
       "Low                   409\n",
       "Close                 409\n",
       "Volume                409\n",
       "Market Cap            408\n",
       "Market Cap Predict    409\n",
       "dtype: int64"
      ]
     },
     "execution_count": 26,
     "metadata": {},
     "output_type": "execute_result"
    }
   ],
   "source": [
    "df.count()"
   ]
  },
  {
   "cell_type": "code",
   "execution_count": 27,
   "metadata": {},
   "outputs": [
    {
     "data": {
      "text/html": [
       "<div>\n",
       "<style scoped>\n",
       "    .dataframe tbody tr th:only-of-type {\n",
       "        vertical-align: middle;\n",
       "    }\n",
       "\n",
       "    .dataframe tbody tr th {\n",
       "        vertical-align: top;\n",
       "    }\n",
       "\n",
       "    .dataframe thead th {\n",
       "        text-align: right;\n",
       "    }\n",
       "</style>\n",
       "<table border=\"1\" class=\"dataframe\">\n",
       "  <thead>\n",
       "    <tr style=\"text-align: right;\">\n",
       "      <th></th>\n",
       "      <th>Open</th>\n",
       "      <th>High</th>\n",
       "      <th>Low</th>\n",
       "      <th>Close</th>\n",
       "      <th>Volume</th>\n",
       "      <th>Market Cap</th>\n",
       "      <th>Market Cap Predict</th>\n",
       "    </tr>\n",
       "  </thead>\n",
       "  <tbody>\n",
       "    <tr>\n",
       "      <th>count</th>\n",
       "      <td>409.000000</td>\n",
       "      <td>409.000000</td>\n",
       "      <td>409.000000</td>\n",
       "      <td>409.000000</td>\n",
       "      <td>4.090000e+02</td>\n",
       "      <td>4.080000e+02</td>\n",
       "      <td>4.090000e+02</td>\n",
       "    </tr>\n",
       "    <tr>\n",
       "      <th>mean</th>\n",
       "      <td>5.775844</td>\n",
       "      <td>6.094761</td>\n",
       "      <td>5.475332</td>\n",
       "      <td>5.812246</td>\n",
       "      <td>4.833992e+07</td>\n",
       "      <td>5.338094e+08</td>\n",
       "      <td>5.326547e+08</td>\n",
       "    </tr>\n",
       "    <tr>\n",
       "      <th>std</th>\n",
       "      <td>6.794953</td>\n",
       "      <td>7.170771</td>\n",
       "      <td>6.398472</td>\n",
       "      <td>6.806962</td>\n",
       "      <td>1.008472e+08</td>\n",
       "      <td>6.388339e+08</td>\n",
       "      <td>6.384044e+08</td>\n",
       "    </tr>\n",
       "    <tr>\n",
       "      <th>min</th>\n",
       "      <td>0.604737</td>\n",
       "      <td>0.766068</td>\n",
       "      <td>0.452446</td>\n",
       "      <td>0.602402</td>\n",
       "      <td>2.673670e+05</td>\n",
       "      <td>4.976830e+07</td>\n",
       "      <td>4.681504e+07</td>\n",
       "    </tr>\n",
       "    <tr>\n",
       "      <th>25%</th>\n",
       "      <td>1.210000</td>\n",
       "      <td>1.240000</td>\n",
       "      <td>1.170000</td>\n",
       "      <td>1.210000</td>\n",
       "      <td>1.366170e+06</td>\n",
       "      <td>1.045622e+08</td>\n",
       "      <td>1.036811e+08</td>\n",
       "    </tr>\n",
       "    <tr>\n",
       "      <th>50%</th>\n",
       "      <td>1.610000</td>\n",
       "      <td>1.740000</td>\n",
       "      <td>1.440000</td>\n",
       "      <td>1.610000</td>\n",
       "      <td>5.549740e+06</td>\n",
       "      <td>1.358010e+08</td>\n",
       "      <td>1.412622e+08</td>\n",
       "    </tr>\n",
       "    <tr>\n",
       "      <th>75%</th>\n",
       "      <td>13.690000</td>\n",
       "      <td>14.110000</td>\n",
       "      <td>12.250000</td>\n",
       "      <td>13.810000</td>\n",
       "      <td>5.243400e+07</td>\n",
       "      <td>1.294485e+09</td>\n",
       "      <td>1.276211e+09</td>\n",
       "    </tr>\n",
       "    <tr>\n",
       "      <th>max</th>\n",
       "      <td>23.030000</td>\n",
       "      <td>24.620000</td>\n",
       "      <td>21.970000</td>\n",
       "      <td>23.270000</td>\n",
       "      <td>8.214400e+08</td>\n",
       "      <td>2.135600e+09</td>\n",
       "      <td>2.153730e+09</td>\n",
       "    </tr>\n",
       "  </tbody>\n",
       "</table>\n",
       "</div>"
      ],
      "text/plain": [
       "             Open        High         Low       Close        Volume  \\\n",
       "count  409.000000  409.000000  409.000000  409.000000  4.090000e+02   \n",
       "mean     5.775844    6.094761    5.475332    5.812246  4.833992e+07   \n",
       "std      6.794953    7.170771    6.398472    6.806962  1.008472e+08   \n",
       "min      0.604737    0.766068    0.452446    0.602402  2.673670e+05   \n",
       "25%      1.210000    1.240000    1.170000    1.210000  1.366170e+06   \n",
       "50%      1.610000    1.740000    1.440000    1.610000  5.549740e+06   \n",
       "75%     13.690000   14.110000   12.250000   13.810000  5.243400e+07   \n",
       "max     23.030000   24.620000   21.970000   23.270000  8.214400e+08   \n",
       "\n",
       "         Market Cap  Market Cap Predict  \n",
       "count  4.080000e+02        4.090000e+02  \n",
       "mean   5.338094e+08        5.326547e+08  \n",
       "std    6.388339e+08        6.384044e+08  \n",
       "min    4.976830e+07        4.681504e+07  \n",
       "25%    1.045622e+08        1.036811e+08  \n",
       "50%    1.358010e+08        1.412622e+08  \n",
       "75%    1.294485e+09        1.276211e+09  \n",
       "max    2.135600e+09        2.153730e+09  "
      ]
     },
     "execution_count": 27,
     "metadata": {},
     "output_type": "execute_result"
    }
   ],
   "source": [
    "# Get the statistical information\n",
    "df.describe()"
   ]
  },
  {
   "cell_type": "markdown",
   "metadata": {},
   "source": [
    "#### Now the data is clean, no null value and has same format"
   ]
  },
  {
   "cell_type": "markdown",
   "metadata": {},
   "source": [
    "### 3. Data Visualization"
   ]
  },
  {
   "cell_type": "code",
   "execution_count": 28,
   "metadata": {},
   "outputs": [],
   "source": [
    "# Set Date as it's index\n",
    "df.set_index('Date', inplace = True )"
   ]
  },
  {
   "cell_type": "code",
   "execution_count": 29,
   "metadata": {},
   "outputs": [
    {
     "data": {
      "text/plain": [
       "Text(0.5,1,'Date vs Market Cap Predict')"
      ]
     },
     "execution_count": 29,
     "metadata": {},
     "output_type": "execute_result"
    },
    {
     "data": {
      "image/png": "[encoded data removed]",
      "text/plain": [
       "<Figure size 1800x1800 with 6 Axes>"
      ]
     },
     "metadata": {},
     "output_type": "display_data"
    }
   ],
   "source": [
    "# Visualization the average of Open based on time (Week)\n",
    "%matplotlib inline\n",
    "plt.figure(figsize=(25, 25))\n",
    "\n",
    "plt.subplot(3,3,1)\n",
    "plt.ylabel('Open')\n",
    "df.Open.plot()\n",
    "plt.title('Date vs Open')\n",
    "\n",
    "plt.subplot(3,3,2)\n",
    "plt.ylabel('Low')\n",
    "df.Low.plot()\n",
    "plt.title('Date vs Low')\n",
    "\n",
    "plt.subplot(3,3,3)\n",
    "plt.ylabel('High')\n",
    "df.High.plot()\n",
    "plt.title('Date vs High')\n",
    "\n",
    "plt.subplot(3,3,4)\n",
    "plt.ylabel('Close')\n",
    "df.Close.plot()\n",
    "plt.title('Date vs Close')\n",
    "\n",
    "plt.subplot(3,3,5)\n",
    "plt.ylabel('Volume')\n",
    "df.Volume.plot()\n",
    "plt.title('Date vs Volume')\n",
    "\n",
    "plt.subplot(3,3,6)\n",
    "plt.ylabel('Market Cap Predict')\n",
    "df['Market Cap Predict'].plot()\n",
    "plt.title('Date vs Market Cap Predict')"
   ]
  },
  {
   "cell_type": "code",
   "execution_count": null,
   "metadata": {},
   "outputs": [],
   "source": []
  }
 ],
 "metadata": {
  "kernelspec": {
   "display_name": "Python 3",
   "language": "python",
   "name": "python3"
  },
  "language_info": {
   "codemirror_mode": {
    "name": "ipython",
    "version": 3
   },
   "file_extension": ".py",
   "mimetype": "text/x-python",
   "name": "python",
   "nbconvert_exporter": "python",
   "pygments_lexer": "ipython3",
   "version": "3.6.5"
  }
 },
 "nbformat": 4,
 "nbformat_minor": 2
}
