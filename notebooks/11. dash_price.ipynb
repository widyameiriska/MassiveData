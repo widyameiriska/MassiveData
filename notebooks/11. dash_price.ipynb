{
 "cells": [
  {
   "cell_type": "markdown",
   "metadata": {},
   "source": [
    "# Dash Price"
   ]
  },
  {
   "cell_type": "markdown",
   "metadata": {},
   "source": [
    "by: Widya Meiriska"
   ]
  },
  {
   "cell_type": "markdown",
   "metadata": {},
   "source": [
    "### 1. Read Dataset"
   ]
  },
  {
   "cell_type": "code",
   "execution_count": 2,
   "metadata": {},
   "outputs": [],
   "source": [
    "import csv\n",
    "import pandas as pd\n",
    "import numpy as np"
   ]
  },
  {
   "cell_type": "code",
   "execution_count": 8,
   "metadata": {},
   "outputs": [],
   "source": [
    "df = pd.read_csv('../data/raw/bitcoin/dash_price.csv', parse_dates = ['Date'])"
   ]
  },
  {
   "cell_type": "code",
   "execution_count": 9,
   "metadata": {},
   "outputs": [
    {
     "data": {
      "text/html": [
       "<div>\n",
       "<style scoped>\n",
       "    .dataframe tbody tr th:only-of-type {\n",
       "        vertical-align: middle;\n",
       "    }\n",
       "\n",
       "    .dataframe tbody tr th {\n",
       "        vertical-align: top;\n",
       "    }\n",
       "\n",
       "    .dataframe thead th {\n",
       "        text-align: right;\n",
       "    }\n",
       "</style>\n",
       "<table border=\"1\" class=\"dataframe\">\n",
       "  <thead>\n",
       "    <tr style=\"text-align: right;\">\n",
       "      <th></th>\n",
       "      <th>Date</th>\n",
       "      <th>Open</th>\n",
       "      <th>High</th>\n",
       "      <th>Low</th>\n",
       "      <th>Close</th>\n",
       "      <th>Volume</th>\n",
       "      <th>Market Cap</th>\n",
       "    </tr>\n",
       "  </thead>\n",
       "  <tbody>\n",
       "    <tr>\n",
       "      <th>1295</th>\n",
       "      <td>2014-02-18</td>\n",
       "      <td>1.180000</td>\n",
       "      <td>1.500000</td>\n",
       "      <td>0.841751</td>\n",
       "      <td>1.040000</td>\n",
       "      <td>160,779</td>\n",
       "      <td>3,960,320</td>\n",
       "    </tr>\n",
       "    <tr>\n",
       "      <th>1296</th>\n",
       "      <td>2014-02-17</td>\n",
       "      <td>0.406039</td>\n",
       "      <td>1.500000</td>\n",
       "      <td>0.402588</td>\n",
       "      <td>1.450000</td>\n",
       "      <td>178,618</td>\n",
       "      <td>1,360,260</td>\n",
       "    </tr>\n",
       "    <tr>\n",
       "      <th>1297</th>\n",
       "      <td>2014-02-16</td>\n",
       "      <td>0.325840</td>\n",
       "      <td>0.459833</td>\n",
       "      <td>0.310345</td>\n",
       "      <td>0.406976</td>\n",
       "      <td>28,017</td>\n",
       "      <td>1,085,280</td>\n",
       "    </tr>\n",
       "    <tr>\n",
       "      <th>1298</th>\n",
       "      <td>2014-02-15</td>\n",
       "      <td>0.331111</td>\n",
       "      <td>0.354461</td>\n",
       "      <td>0.219434</td>\n",
       "      <td>0.314865</td>\n",
       "      <td>21,119</td>\n",
       "      <td>1,092,120</td>\n",
       "    </tr>\n",
       "    <tr>\n",
       "      <th>1299</th>\n",
       "      <td>2014-02-14</td>\n",
       "      <td>0.213899</td>\n",
       "      <td>0.378883</td>\n",
       "      <td>0.213899</td>\n",
       "      <td>0.374024</td>\n",
       "      <td>15,422</td>\n",
       "      <td>702,537</td>\n",
       "    </tr>\n",
       "  </tbody>\n",
       "</table>\n",
       "</div>"
      ],
      "text/plain": [
       "           Date      Open      High       Low     Close   Volume Market Cap\n",
       "1295 2014-02-18  1.180000  1.500000  0.841751  1.040000  160,779  3,960,320\n",
       "1296 2014-02-17  0.406039  1.500000  0.402588  1.450000  178,618  1,360,260\n",
       "1297 2014-02-16  0.325840  0.459833  0.310345  0.406976   28,017  1,085,280\n",
       "1298 2014-02-15  0.331111  0.354461  0.219434  0.314865   21,119  1,092,120\n",
       "1299 2014-02-14  0.213899  0.378883  0.213899  0.374024   15,422    702,537"
      ]
     },
     "execution_count": 9,
     "metadata": {},
     "output_type": "execute_result"
    }
   ],
   "source": [
    "df.tail()"
   ]
  },
  {
   "cell_type": "markdown",
   "metadata": {},
   "source": [
    "### 2. Data Investigation"
   ]
  },
  {
   "cell_type": "code",
   "execution_count": 10,
   "metadata": {},
   "outputs": [
    {
     "data": {
      "text/plain": [
       "Index(['Date', 'Open', 'High', 'Low', 'Close', 'Volume', 'Market Cap'], dtype='object')"
      ]
     },
     "execution_count": 10,
     "metadata": {},
     "output_type": "execute_result"
    }
   ],
   "source": [
    "df.columns"
   ]
  },
  {
   "cell_type": "code",
   "execution_count": 11,
   "metadata": {},
   "outputs": [
    {
     "data": {
      "text/plain": [
       "Date          1300\n",
       "Open          1300\n",
       "High          1300\n",
       "Low           1300\n",
       "Close         1300\n",
       "Volume        1300\n",
       "Market Cap    1300\n",
       "dtype: int64"
      ]
     },
     "execution_count": 11,
     "metadata": {},
     "output_type": "execute_result"
    }
   ],
   "source": [
    "df.count()"
   ]
  },
  {
   "cell_type": "code",
   "execution_count": 12,
   "metadata": {},
   "outputs": [
    {
     "data": {
      "text/plain": [
       "Date          datetime64[ns]\n",
       "Open                 float64\n",
       "High                 float64\n",
       "Low                  float64\n",
       "Close                float64\n",
       "Volume                object\n",
       "Market Cap            object\n",
       "dtype: object"
      ]
     },
     "execution_count": 12,
     "metadata": {},
     "output_type": "execute_result"
    }
   ],
   "source": [
    "df.dtypes"
   ]
  },
  {
   "cell_type": "markdown",
   "metadata": {},
   "source": [
    "#### There is no missing data here but there are several data which have different format. Some of the data do not use number format."
   ]
  },
  {
   "cell_type": "code",
   "execution_count": 13,
   "metadata": {},
   "outputs": [],
   "source": [
    "# Change object to format number\n",
    "df['Volume'] = df['Volume'].apply(lambda x: float(str(x).replace(',',''))) \n",
    "df['Market Cap'] = df['Market Cap'].apply(lambda x: float(str(x).replace(',',''))) "
   ]
  },
  {
   "cell_type": "code",
   "execution_count": 14,
   "metadata": {},
   "outputs": [
    {
     "name": "stdout",
     "output_type": "stream",
     "text": [
      "<class 'pandas.core.frame.DataFrame'>\n",
      "RangeIndex: 1300 entries, 0 to 1299\n",
      "Data columns (total 7 columns):\n",
      "Date          1300 non-null datetime64[ns]\n",
      "Open          1300 non-null float64\n",
      "High          1300 non-null float64\n",
      "Low           1300 non-null float64\n",
      "Close         1300 non-null float64\n",
      "Volume        1300 non-null float64\n",
      "Market Cap    1300 non-null float64\n",
      "dtypes: datetime64[ns](1), float64(6)\n",
      "memory usage: 71.2 KB\n"
     ]
    }
   ],
   "source": [
    "df.info()"
   ]
  },
  {
   "cell_type": "code",
   "execution_count": 11,
   "metadata": {},
   "outputs": [
    {
     "data": {
      "text/plain": [
       "Date          0\n",
       "Open          0\n",
       "High          0\n",
       "Low           0\n",
       "Close         0\n",
       "Volume        0\n",
       "Market Cap    0\n",
       "dtype: int64"
      ]
     },
     "execution_count": 11,
     "metadata": {},
     "output_type": "execute_result"
    }
   ],
   "source": [
    "df.isnull().sum()"
   ]
  },
  {
   "cell_type": "code",
   "execution_count": 13,
   "metadata": {},
   "outputs": [
    {
     "data": {
      "text/html": [
       "<div>\n",
       "<style scoped>\n",
       "    .dataframe tbody tr th:only-of-type {\n",
       "        vertical-align: middle;\n",
       "    }\n",
       "\n",
       "    .dataframe tbody tr th {\n",
       "        vertical-align: top;\n",
       "    }\n",
       "\n",
       "    .dataframe thead th {\n",
       "        text-align: right;\n",
       "    }\n",
       "</style>\n",
       "<table border=\"1\" class=\"dataframe\">\n",
       "  <thead>\n",
       "    <tr style=\"text-align: right;\">\n",
       "      <th></th>\n",
       "      <th>Date</th>\n",
       "      <th>Open</th>\n",
       "      <th>High</th>\n",
       "      <th>Low</th>\n",
       "      <th>Close</th>\n",
       "      <th>Volume</th>\n",
       "      <th>Market Cap</th>\n",
       "    </tr>\n",
       "  </thead>\n",
       "  <tbody>\n",
       "    <tr>\n",
       "      <th>1295</th>\n",
       "      <td>2014-02-18</td>\n",
       "      <td>1.180000</td>\n",
       "      <td>1.500000</td>\n",
       "      <td>0.841751</td>\n",
       "      <td>1.040000</td>\n",
       "      <td>160779.0</td>\n",
       "      <td>3960320.0</td>\n",
       "    </tr>\n",
       "    <tr>\n",
       "      <th>1296</th>\n",
       "      <td>2014-02-17</td>\n",
       "      <td>0.406039</td>\n",
       "      <td>1.500000</td>\n",
       "      <td>0.402588</td>\n",
       "      <td>1.450000</td>\n",
       "      <td>178618.0</td>\n",
       "      <td>1360260.0</td>\n",
       "    </tr>\n",
       "    <tr>\n",
       "      <th>1297</th>\n",
       "      <td>2014-02-16</td>\n",
       "      <td>0.325840</td>\n",
       "      <td>0.459833</td>\n",
       "      <td>0.310345</td>\n",
       "      <td>0.406976</td>\n",
       "      <td>28017.0</td>\n",
       "      <td>1085280.0</td>\n",
       "    </tr>\n",
       "    <tr>\n",
       "      <th>1298</th>\n",
       "      <td>2014-02-15</td>\n",
       "      <td>0.331111</td>\n",
       "      <td>0.354461</td>\n",
       "      <td>0.219434</td>\n",
       "      <td>0.314865</td>\n",
       "      <td>21119.0</td>\n",
       "      <td>1092120.0</td>\n",
       "    </tr>\n",
       "    <tr>\n",
       "      <th>1299</th>\n",
       "      <td>2014-02-14</td>\n",
       "      <td>0.213899</td>\n",
       "      <td>0.378883</td>\n",
       "      <td>0.213899</td>\n",
       "      <td>0.374024</td>\n",
       "      <td>15422.0</td>\n",
       "      <td>702537.0</td>\n",
       "    </tr>\n",
       "  </tbody>\n",
       "</table>\n",
       "</div>"
      ],
      "text/plain": [
       "           Date      Open      High       Low     Close    Volume  Market Cap\n",
       "1295 2014-02-18  1.180000  1.500000  0.841751  1.040000  160779.0   3960320.0\n",
       "1296 2014-02-17  0.406039  1.500000  0.402588  1.450000  178618.0   1360260.0\n",
       "1297 2014-02-16  0.325840  0.459833  0.310345  0.406976   28017.0   1085280.0\n",
       "1298 2014-02-15  0.331111  0.354461  0.219434  0.314865   21119.0   1092120.0\n",
       "1299 2014-02-14  0.213899  0.378883  0.213899  0.374024   15422.0    702537.0"
      ]
     },
     "execution_count": 13,
     "metadata": {},
     "output_type": "execute_result"
    }
   ],
   "source": [
    "df.tail()"
   ]
  },
  {
   "cell_type": "code",
   "execution_count": 12,
   "metadata": {},
   "outputs": [
    {
     "data": {
      "text/html": [
       "<div>\n",
       "<style scoped>\n",
       "    .dataframe tbody tr th:only-of-type {\n",
       "        vertical-align: middle;\n",
       "    }\n",
       "\n",
       "    .dataframe tbody tr th {\n",
       "        vertical-align: top;\n",
       "    }\n",
       "\n",
       "    .dataframe thead th {\n",
       "        text-align: right;\n",
       "    }\n",
       "</style>\n",
       "<table border=\"1\" class=\"dataframe\">\n",
       "  <thead>\n",
       "    <tr style=\"text-align: right;\">\n",
       "      <th></th>\n",
       "      <th>total</th>\n",
       "      <th>percent</th>\n",
       "    </tr>\n",
       "  </thead>\n",
       "  <tbody>\n",
       "    <tr>\n",
       "      <th>Date</th>\n",
       "      <td>0</td>\n",
       "      <td>0.0</td>\n",
       "    </tr>\n",
       "    <tr>\n",
       "      <th>Open</th>\n",
       "      <td>0</td>\n",
       "      <td>0.0</td>\n",
       "    </tr>\n",
       "    <tr>\n",
       "      <th>High</th>\n",
       "      <td>0</td>\n",
       "      <td>0.0</td>\n",
       "    </tr>\n",
       "    <tr>\n",
       "      <th>Low</th>\n",
       "      <td>0</td>\n",
       "      <td>0.0</td>\n",
       "    </tr>\n",
       "    <tr>\n",
       "      <th>Close</th>\n",
       "      <td>0</td>\n",
       "      <td>0.0</td>\n",
       "    </tr>\n",
       "    <tr>\n",
       "      <th>Volume</th>\n",
       "      <td>0</td>\n",
       "      <td>0.0</td>\n",
       "    </tr>\n",
       "    <tr>\n",
       "      <th>Market Cap</th>\n",
       "      <td>0</td>\n",
       "      <td>0.0</td>\n",
       "    </tr>\n",
       "  </tbody>\n",
       "</table>\n",
       "</div>"
      ],
      "text/plain": [
       "            total  percent\n",
       "Date            0      0.0\n",
       "Open            0      0.0\n",
       "High            0      0.0\n",
       "Low             0      0.0\n",
       "Close           0      0.0\n",
       "Volume          0      0.0\n",
       "Market Cap      0      0.0"
      ]
     },
     "execution_count": 12,
     "metadata": {},
     "output_type": "execute_result"
    }
   ],
   "source": [
    "# Cek missing data\n",
    "missingdf = pd.DataFrame(df.isna().sum()).rename(columns = {0: 'total'})\n",
    "missingdf['percent'] = missingdf['total'] / len(df)\n",
    "missingdf"
   ]
  },
  {
   "cell_type": "code",
   "execution_count": 15,
   "metadata": {},
   "outputs": [
    {
     "data": {
      "text/html": [
       "<div>\n",
       "<style scoped>\n",
       "    .dataframe tbody tr th:only-of-type {\n",
       "        vertical-align: middle;\n",
       "    }\n",
       "\n",
       "    .dataframe tbody tr th {\n",
       "        vertical-align: top;\n",
       "    }\n",
       "\n",
       "    .dataframe thead th {\n",
       "        text-align: right;\n",
       "    }\n",
       "</style>\n",
       "<table border=\"1\" class=\"dataframe\">\n",
       "  <thead>\n",
       "    <tr style=\"text-align: right;\">\n",
       "      <th></th>\n",
       "      <th>Open</th>\n",
       "      <th>High</th>\n",
       "      <th>Low</th>\n",
       "      <th>Close</th>\n",
       "      <th>Volume</th>\n",
       "      <th>Market Cap</th>\n",
       "    </tr>\n",
       "  </thead>\n",
       "  <tbody>\n",
       "    <tr>\n",
       "      <th>count</th>\n",
       "      <td>1300.000000</td>\n",
       "      <td>1300.000000</td>\n",
       "      <td>1300.000000</td>\n",
       "      <td>1300.000000</td>\n",
       "      <td>1.300000e+03</td>\n",
       "      <td>1.300000e+03</td>\n",
       "    </tr>\n",
       "    <tr>\n",
       "      <th>mean</th>\n",
       "      <td>25.991675</td>\n",
       "      <td>27.493179</td>\n",
       "      <td>24.832110</td>\n",
       "      <td>26.235612</td>\n",
       "      <td>6.241615e+06</td>\n",
       "      <td>1.860709e+08</td>\n",
       "    </tr>\n",
       "    <tr>\n",
       "      <th>std</th>\n",
       "      <td>58.357573</td>\n",
       "      <td>61.685784</td>\n",
       "      <td>55.730453</td>\n",
       "      <td>58.913160</td>\n",
       "      <td>1.833914e+07</td>\n",
       "      <td>4.366053e+08</td>\n",
       "    </tr>\n",
       "    <tr>\n",
       "      <th>min</th>\n",
       "      <td>0.213899</td>\n",
       "      <td>0.354461</td>\n",
       "      <td>0.213899</td>\n",
       "      <td>0.314865</td>\n",
       "      <td>9.604000e+03</td>\n",
       "      <td>7.025370e+05</td>\n",
       "    </tr>\n",
       "    <tr>\n",
       "      <th>25%</th>\n",
       "      <td>2.550000</td>\n",
       "      <td>2.717500</td>\n",
       "      <td>2.440000</td>\n",
       "      <td>2.557500</td>\n",
       "      <td>7.173700e+04</td>\n",
       "      <td>1.409845e+07</td>\n",
       "    </tr>\n",
       "    <tr>\n",
       "      <th>50%</th>\n",
       "      <td>4.605000</td>\n",
       "      <td>5.095000</td>\n",
       "      <td>4.250000</td>\n",
       "      <td>4.605000</td>\n",
       "      <td>2.424410e+05</td>\n",
       "      <td>2.574805e+07</td>\n",
       "    </tr>\n",
       "    <tr>\n",
       "      <th>75%</th>\n",
       "      <td>11.092500</td>\n",
       "      <td>11.542500</td>\n",
       "      <td>10.542500</td>\n",
       "      <td>11.102500</td>\n",
       "      <td>1.140588e+06</td>\n",
       "      <td>7.024395e+07</td>\n",
       "    </tr>\n",
       "    <tr>\n",
       "      <th>max</th>\n",
       "      <td>400.420000</td>\n",
       "      <td>409.770000</td>\n",
       "      <td>376.340000</td>\n",
       "      <td>399.850000</td>\n",
       "      <td>2.674150e+08</td>\n",
       "      <td>3.009530e+09</td>\n",
       "    </tr>\n",
       "  </tbody>\n",
       "</table>\n",
       "</div>"
      ],
      "text/plain": [
       "              Open         High          Low        Close        Volume  \\\n",
       "count  1300.000000  1300.000000  1300.000000  1300.000000  1.300000e+03   \n",
       "mean     25.991675    27.493179    24.832110    26.235612  6.241615e+06   \n",
       "std      58.357573    61.685784    55.730453    58.913160  1.833914e+07   \n",
       "min       0.213899     0.354461     0.213899     0.314865  9.604000e+03   \n",
       "25%       2.550000     2.717500     2.440000     2.557500  7.173700e+04   \n",
       "50%       4.605000     5.095000     4.250000     4.605000  2.424410e+05   \n",
       "75%      11.092500    11.542500    10.542500    11.102500  1.140588e+06   \n",
       "max     400.420000   409.770000   376.340000   399.850000  2.674150e+08   \n",
       "\n",
       "         Market Cap  \n",
       "count  1.300000e+03  \n",
       "mean   1.860709e+08  \n",
       "std    4.366053e+08  \n",
       "min    7.025370e+05  \n",
       "25%    1.409845e+07  \n",
       "50%    2.574805e+07  \n",
       "75%    7.024395e+07  \n",
       "max    3.009530e+09  "
      ]
     },
     "execution_count": 15,
     "metadata": {},
     "output_type": "execute_result"
    }
   ],
   "source": [
    "df.describe()"
   ]
  },
  {
   "cell_type": "markdown",
   "metadata": {},
   "source": [
    "#### The data is clean no null value and has same format"
   ]
  },
  {
   "cell_type": "markdown",
   "metadata": {},
   "source": [
    "### 3. Data Visualization"
   ]
  },
  {
   "cell_type": "code",
   "execution_count": 16,
   "metadata": {},
   "outputs": [],
   "source": [
    "# Set Date as it's index\n",
    "df.set_index('Date', inplace = True )"
   ]
  },
  {
   "cell_type": "code",
   "execution_count": 17,
   "metadata": {},
   "outputs": [
    {
     "data": {
      "text/plain": [
       "Text(0.5,1,'Date vs Market Cap')"
      ]
     },
     "execution_count": 17,
     "metadata": {},
     "output_type": "execute_result"
    },
    {
     "data": {
      "image/png": "[encoded data removed]",
      "text/plain": [
       "<Figure size 1800x1800 with 6 Axes>"
      ]
     },
     "metadata": {},
     "output_type": "display_data"
    }
   ],
   "source": [
    "# Visualization the average of Open based on time (Week)\n",
    "import matplotlib.pyplot as plt\n",
    "%matplotlib inline\n",
    "plt.figure(figsize=(25, 25))\n",
    "\n",
    "plt.subplot(3,3,1)\n",
    "plt.ylabel('Open')\n",
    "df.Open.plot()\n",
    "plt.title('Date vs Open')\n",
    "\n",
    "plt.subplot(3,3,2)\n",
    "plt.ylabel('Low')\n",
    "df.Low.plot()\n",
    "plt.title('Date vs Low')\n",
    "\n",
    "plt.subplot(3,3,3)\n",
    "plt.ylabel('High')\n",
    "df.High.plot()\n",
    "plt.title('Date vs High')\n",
    "\n",
    "plt.subplot(3,3,4)\n",
    "plt.ylabel('Close')\n",
    "df.Close.plot()\n",
    "plt.title('Date vs Close')\n",
    "\n",
    "plt.subplot(3,3,5)\n",
    "plt.ylabel('Volume')\n",
    "df.Volume.plot()\n",
    "plt.title('Date vs Volume')\n",
    "\n",
    "plt.subplot(3,3,6)\n",
    "plt.ylabel('Market Cap')\n",
    "df['Market Cap'].plot()\n",
    "plt.title('Date vs Market Cap')"
   ]
  },
  {
   "cell_type": "code",
   "execution_count": null,
   "metadata": {},
   "outputs": [],
   "source": []
  }
 ],
 "metadata": {
  "kernelspec": {
   "display_name": "Python 3",
   "language": "python",
   "name": "python3"
  },
  "language_info": {
   "codemirror_mode": {
    "name": "ipython",
    "version": 3
   },
   "file_extension": ".py",
   "mimetype": "text/x-python",
   "name": "python",
   "nbconvert_exporter": "python",
   "pygments_lexer": "ipython3",
   "version": "3.6.5"
  }
 },
 "nbformat": 4,
 "nbformat_minor": 2
}
